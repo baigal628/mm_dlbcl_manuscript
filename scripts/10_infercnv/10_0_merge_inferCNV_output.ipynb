{
 "cells": [
  {
   "cell_type": "code",
   "execution_count": 2,
   "id": "8cdd5f31",
   "metadata": {
    "scrolled": true
   },
   "outputs": [
    {
     "data": {
      "text/html": [
       "'/liulab/galib/dlbcl_manuscript/scripts/10_infercnv'"
      ],
      "text/latex": [
       "'/liulab/galib/dlbcl\\_manuscript/scripts/10\\_infercnv'"
      ],
      "text/markdown": [
       "'/liulab/galib/dlbcl_manuscript/scripts/10_infercnv'"
      ],
      "text/plain": [
       "[1] \"/liulab/galib/dlbcl_manuscript/scripts/10_infercnv\""
      ]
     },
     "metadata": {},
     "output_type": "display_data"
    },
    {
     "data": {
      "text/html": [
       "<style>\n",
       ".list-inline {list-style: none; margin:0; padding: 0}\n",
       ".list-inline>li {display: inline-block}\n",
       ".list-inline>li:not(:last-child)::after {content: \"\\00b7\"; padding: 0 .5ex}\n",
       "</style>\n",
       "<ol class=list-inline><li>'#FF00FF'</li><li>'#F400F4'</li><li>'#EA00EA'</li><li>'#DF00DF'</li><li>'#D500D5'</li><li>'#CA00CA'</li><li>'#BF00BF'</li><li>'#B500B5'</li><li>'#AA00AA'</li><li>'#9F009F'</li><li>'#950095'</li><li>'#8A008A'</li><li>'#800080'</li><li>'#750075'</li><li>'#6A006A'</li><li>'#600060'</li><li>'#550055'</li><li>'#4A004A'</li><li>'#400040'</li><li>'#350035'</li><li>'#2B002B'</li><li>'#200020'</li><li>'#150015'</li><li>'#0B000B'</li><li>'#000000'</li><li>'#000000'</li><li>'#0B0B00'</li><li>'#151500'</li><li>'#202000'</li><li>'#2B2B00'</li><li>'#353500'</li><li>'#404000'</li><li>'#4A4A00'</li><li>'#555500'</li><li>'#606000'</li><li>'#6A6A00'</li><li>'#757500'</li><li>'#808000'</li><li>'#8A8A00'</li><li>'#959500'</li><li>'#9F9F00'</li><li>'#AAAA00'</li><li>'#B5B500'</li><li>'#BFBF00'</li><li>'#CACA00'</li><li>'#D4D400'</li><li>'#DFDF00'</li><li>'#EAEA00'</li><li>'#F4F400'</li><li>'#FFFF00'</li></ol>\n"
      ],
      "text/latex": [
       "\\begin{enumerate*}\n",
       "\\item '\\#FF00FF'\n",
       "\\item '\\#F400F4'\n",
       "\\item '\\#EA00EA'\n",
       "\\item '\\#DF00DF'\n",
       "\\item '\\#D500D5'\n",
       "\\item '\\#CA00CA'\n",
       "\\item '\\#BF00BF'\n",
       "\\item '\\#B500B5'\n",
       "\\item '\\#AA00AA'\n",
       "\\item '\\#9F009F'\n",
       "\\item '\\#950095'\n",
       "\\item '\\#8A008A'\n",
       "\\item '\\#800080'\n",
       "\\item '\\#750075'\n",
       "\\item '\\#6A006A'\n",
       "\\item '\\#600060'\n",
       "\\item '\\#550055'\n",
       "\\item '\\#4A004A'\n",
       "\\item '\\#400040'\n",
       "\\item '\\#350035'\n",
       "\\item '\\#2B002B'\n",
       "\\item '\\#200020'\n",
       "\\item '\\#150015'\n",
       "\\item '\\#0B000B'\n",
       "\\item '\\#000000'\n",
       "\\item '\\#000000'\n",
       "\\item '\\#0B0B00'\n",
       "\\item '\\#151500'\n",
       "\\item '\\#202000'\n",
       "\\item '\\#2B2B00'\n",
       "\\item '\\#353500'\n",
       "\\item '\\#404000'\n",
       "\\item '\\#4A4A00'\n",
       "\\item '\\#555500'\n",
       "\\item '\\#606000'\n",
       "\\item '\\#6A6A00'\n",
       "\\item '\\#757500'\n",
       "\\item '\\#808000'\n",
       "\\item '\\#8A8A00'\n",
       "\\item '\\#959500'\n",
       "\\item '\\#9F9F00'\n",
       "\\item '\\#AAAA00'\n",
       "\\item '\\#B5B500'\n",
       "\\item '\\#BFBF00'\n",
       "\\item '\\#CACA00'\n",
       "\\item '\\#D4D400'\n",
       "\\item '\\#DFDF00'\n",
       "\\item '\\#EAEA00'\n",
       "\\item '\\#F4F400'\n",
       "\\item '\\#FFFF00'\n",
       "\\end{enumerate*}\n"
      ],
      "text/markdown": [
       "1. '#FF00FF'\n",
       "2. '#F400F4'\n",
       "3. '#EA00EA'\n",
       "4. '#DF00DF'\n",
       "5. '#D500D5'\n",
       "6. '#CA00CA'\n",
       "7. '#BF00BF'\n",
       "8. '#B500B5'\n",
       "9. '#AA00AA'\n",
       "10. '#9F009F'\n",
       "11. '#950095'\n",
       "12. '#8A008A'\n",
       "13. '#800080'\n",
       "14. '#750075'\n",
       "15. '#6A006A'\n",
       "16. '#600060'\n",
       "17. '#550055'\n",
       "18. '#4A004A'\n",
       "19. '#400040'\n",
       "20. '#350035'\n",
       "21. '#2B002B'\n",
       "22. '#200020'\n",
       "23. '#150015'\n",
       "24. '#0B000B'\n",
       "25. '#000000'\n",
       "26. '#000000'\n",
       "27. '#0B0B00'\n",
       "28. '#151500'\n",
       "29. '#202000'\n",
       "30. '#2B2B00'\n",
       "31. '#353500'\n",
       "32. '#404000'\n",
       "33. '#4A4A00'\n",
       "34. '#555500'\n",
       "35. '#606000'\n",
       "36. '#6A6A00'\n",
       "37. '#757500'\n",
       "38. '#808000'\n",
       "39. '#8A8A00'\n",
       "40. '#959500'\n",
       "41. '#9F9F00'\n",
       "42. '#AAAA00'\n",
       "43. '#B5B500'\n",
       "44. '#BFBF00'\n",
       "45. '#CACA00'\n",
       "46. '#D4D400'\n",
       "47. '#DFDF00'\n",
       "48. '#EAEA00'\n",
       "49. '#F4F400'\n",
       "50. '#FFFF00'\n",
       "\n",
       "\n"
      ],
      "text/plain": [
       " [1] \"#FF00FF\" \"#F400F4\" \"#EA00EA\" \"#DF00DF\" \"#D500D5\" \"#CA00CA\" \"#BF00BF\"\n",
       " [8] \"#B500B5\" \"#AA00AA\" \"#9F009F\" \"#950095\" \"#8A008A\" \"#800080\" \"#750075\"\n",
       "[15] \"#6A006A\" \"#600060\" \"#550055\" \"#4A004A\" \"#400040\" \"#350035\" \"#2B002B\"\n",
       "[22] \"#200020\" \"#150015\" \"#0B000B\" \"#000000\" \"#000000\" \"#0B0B00\" \"#151500\"\n",
       "[29] \"#202000\" \"#2B2B00\" \"#353500\" \"#404000\" \"#4A4A00\" \"#555500\" \"#606000\"\n",
       "[36] \"#6A6A00\" \"#757500\" \"#808000\" \"#8A8A00\" \"#959500\" \"#9F9F00\" \"#AAAA00\"\n",
       "[43] \"#B5B500\" \"#BFBF00\" \"#CACA00\" \"#D4D400\" \"#DFDF00\" \"#EAEA00\" \"#F4F400\"\n",
       "[50] \"#FFFF00\""
      ]
     },
     "metadata": {},
     "output_type": "display_data"
    }
   ],
   "source": [
    "getwd()\n",
    "library(tidyverse)\n",
    "library(Seurat)\n",
    "library(here)\n",
    "library(harmony)\n",
    "library(viridis)\n",
    "library(RColorBrewer)\n",
    "library(Polychrome)\n",
    "PurpleAndYellow()\n",
    "library(ComplexHeatmap)\n",
    "library(devtools)\n",
    "library(presto)\n",
    "library(dplyr)\n",
    "library(ggplot2)\n",
    "library(ggpubr)\n",
    "setwd(\"/liulab/galib/dlbcl_manuscript/\")\n",
    "source('scripts/scplot.R')"
   ]
  },
  {
   "cell_type": "code",
   "execution_count": 3,
   "id": "4b60d77a",
   "metadata": {},
   "outputs": [],
   "source": [
    "B_cell<- readRDS(\"./data/objects/B_cell_final.rds\")"
   ]
  },
  {
   "cell_type": "code",
   "execution_count": 42,
   "id": "da67f59f",
   "metadata": {},
   "outputs": [
    {
     "data": {
      "text/html": [
       "73"
      ],
      "text/latex": [
       "73"
      ],
      "text/markdown": [
       "73"
      ],
      "text/plain": [
       "[1] 73"
      ]
     },
     "metadata": {},
     "output_type": "display_data"
    }
   ],
   "source": [
    "# number of non WT mice\n",
    "length(B_cell@meta.data  %>% filter(genotype != 'WT')  %>% pull(pool_id)  %>% unique())"
   ]
  },
  {
   "cell_type": "code",
   "execution_count": 37,
   "id": "d86704d6",
   "metadata": {},
   "outputs": [
    {
     "data": {
      "text/html": [
       "73"
      ],
      "text/latex": [
       "73"
      ],
      "text/markdown": [
       "73"
      ],
      "text/plain": [
       "[1] 73"
      ]
     },
     "metadata": {},
     "output_type": "display_data"
    }
   ],
   "source": [
    "# get sample ids from B_cell Seurat object\n",
    "# note that tumor_pool includes cd70 -/- mice\n",
    "\n",
    "tumor_pool<- list.dirs(\"/liulab/galib/mouse_scRNAseq_margaret/data/infercnv/inferCNV_out_new/\", full.names =  F,recursive = F)  %>% grep(pattern = \"^Pool\", value = T)\n",
    "Poolid_18mos<- B_cell@meta.data  %>% filter(age == \"18mos\", pool_id %in% tumor_pool)  %>% pull(pool_id)  %>% unique() \n",
    "Poolid_14mos<- B_cell@meta.data  %>% filter(age == \"14mos\", pool_id %in% tumor_pool)  %>% pull(pool_id)  %>% unique()\n",
    "Poolid_6mos<- B_cell@meta.data  %>% filter(age == \"6mos\", pool_id %in% tumor_pool)  %>% pull(pool_id)  %>% unique()\n",
    "Poolid_sick<- B_cell@meta.data  %>% filter(age == \"sick\")  %>% pull(pool_id)  %>% unique()\n",
    "Poolid_sick_new<- paste0(Poolid_sick, \"_newsick\")[paste0(Poolid_sick, \"_newsick\") %in% tumor_pool]\n",
    "c(Poolid_18mos, Poolid_14mos, Poolid_6mos, Poolid_sick_new)  %>% length()"
   ]
  },
  {
   "cell_type": "code",
   "execution_count": 47,
   "id": "b8275a1e",
   "metadata": {},
   "outputs": [],
   "source": [
    "myinpath = \"/liulab/galib/mouse_scRNAseq_margaret/data/infercnv/inferCNV_out_new/\"\n",
    "myoutpath = \"./data/infercnv/\""
   ]
  },
  {
   "cell_type": "code",
   "execution_count": 80,
   "id": "912d3c48",
   "metadata": {},
   "outputs": [],
   "source": [
    "tumor_pool<- list.dirs(myinpath, full.names =  F,recursive = F)  %>% grep(pattern = \"^Pool\", value = T)\n",
    "Poolid_18mos<- B_cell@meta.data  %>% filter(age == \"18mos\", pool_id %in% tumor_pool)  %>% pull(pool_id)  %>% unique() \n",
    "Poolid_14mos<- B_cell@meta.data  %>% filter(age == \"14mos\", pool_id %in% tumor_pool)  %>% pull(pool_id)  %>% unique()\n",
    "Poolid_6mos<- B_cell@meta.data  %>% filter(age == \"6mos\", pool_id %in% tumor_pool)  %>% pull(pool_id)  %>% unique()\n",
    "Poolid_sick<- B_cell@meta.data  %>% filter(age == \"sick\")  %>% pull(pool_id)  %>% unique()\n",
    "Poolid_sick_new<- paste0(Poolid_sick, \"_newsick\")[paste0(Poolid_sick, \"_newsick\") %in% tumor_pool]"
   ]
  },
  {
   "cell_type": "code",
   "execution_count": 87,
   "id": "dcd1809d",
   "metadata": {},
   "outputs": [
    {
     "data": {
      "text/html": [
       "<table class=\"dataframe\">\n",
       "<caption>A data.frame: 4 × 2</caption>\n",
       "<thead>\n",
       "\t<tr><th scope=col>age</th><th scope=col>n</th></tr>\n",
       "\t<tr><th scope=col>&lt;chr&gt;</th><th scope=col>&lt;int&gt;</th></tr>\n",
       "</thead>\n",
       "<tbody>\n",
       "\t<tr><td>14mos</td><td>18</td></tr>\n",
       "\t<tr><td>18mos</td><td>21</td></tr>\n",
       "\t<tr><td>6mos </td><td>18</td></tr>\n",
       "\t<tr><td>sick </td><td>16</td></tr>\n",
       "</tbody>\n",
       "</table>\n"
      ],
      "text/latex": [
       "A data.frame: 4 × 2\n",
       "\\begin{tabular}{ll}\n",
       " age & n\\\\\n",
       " <chr> & <int>\\\\\n",
       "\\hline\n",
       "\t 14mos & 18\\\\\n",
       "\t 18mos & 21\\\\\n",
       "\t 6mos  & 18\\\\\n",
       "\t sick  & 16\\\\\n",
       "\\end{tabular}\n"
      ],
      "text/markdown": [
       "\n",
       "A data.frame: 4 × 2\n",
       "\n",
       "| age &lt;chr&gt; | n &lt;int&gt; |\n",
       "|---|---|\n",
       "| 14mos | 18 |\n",
       "| 18mos | 21 |\n",
       "| 6mos  | 18 |\n",
       "| sick  | 16 |\n",
       "\n"
      ],
      "text/plain": [
       "  age   n \n",
       "1 14mos 18\n",
       "2 18mos 21\n",
       "3 6mos  18\n",
       "4 sick  16"
      ]
     },
     "metadata": {},
     "output_type": "display_data"
    },
    {
     "data": {
      "text/html": [
       "73"
      ],
      "text/latex": [
       "73"
      ],
      "text/markdown": [
       "73"
      ],
      "text/plain": [
       "[1] 73"
      ]
     },
     "metadata": {},
     "output_type": "display_data"
    },
    {
     "name": "stdout",
     "output_type": "stream",
     "text": [
      "[1] 18 21 18 16\n"
     ]
    }
   ],
   "source": [
    "B_cell@meta.data  %>% filter(genotype != 'WT')  %>% select(pool_id, genotype, age)  %>% unique()  %>% count(age)\n",
    "c(Poolid_18mos, Poolid_14mos, Poolid_6mos, Poolid_sick_new)  %>% length()\n",
    "print(c(length(Poolid_14mos), length(Poolid_18mos), length(Poolid_6mos), length(Poolid_sick_new)))"
   ]
  },
  {
   "cell_type": "markdown",
   "id": "8f2dac08",
   "metadata": {},
   "source": [
    "### concatenate matrices from individual time points"
   ]
  },
  {
   "cell_type": "code",
   "execution_count": 112,
   "id": "66a2393c",
   "metadata": {},
   "outputs": [
    {
     "name": "stderr",
     "output_type": "stream",
     "text": [
      "Done adding sample Pool105_64\n",
      "\n",
      "Done adding sample Pool105_65\n",
      "\n",
      "Done adding sample Pool105_66\n",
      "\n",
      "Done adding sample Pool105_67\n",
      "\n",
      "Done adding sample Pool105_68\n",
      "\n",
      "Done adding sample Pool105_69\n",
      "\n",
      "Done adding sample Pool105_70\n",
      "\n",
      "Done adding sample Pool105_71\n",
      "\n",
      "Done adding sample Pool105_72\n",
      "\n",
      "Done adding sample Pool105_73\n",
      "\n",
      "Done adding sample Pool105_74\n",
      "\n",
      "Done adding sample Pool105_75\n",
      "\n",
      "Done adding sample Pool105_76\n",
      "\n",
      "Done adding sample Pool106-1_53\n",
      "\n",
      "Done adding sample Pool105_78\n",
      "\n",
      "Done adding sample Pool105_79\n",
      "\n",
      "Done adding sample Pool105_80\n",
      "\n",
      "Done adding sample Pool105_89\n",
      "\n",
      "Done adding sample Pool105_90\n",
      "\n",
      "Done adding sample Pool105_91\n",
      "\n",
      "confirming matched wt cells were included.\n",
      "\n"
     ]
    },
    {
     "data": {
      "text/html": [
       "<table class=\"dataframe\">\n",
       "<caption>A data.frame: 1 × 2</caption>\n",
       "<thead>\n",
       "\t<tr><th></th><th scope=col>age</th><th scope=col>genotype</th></tr>\n",
       "\t<tr><th></th><th scope=col>&lt;chr&gt;</th><th scope=col>&lt;chr&gt;</th></tr>\n",
       "</thead>\n",
       "<tbody>\n",
       "\t<tr><th scope=row>Pool105_57-AAACCTGAGAGCTATA-1</th><td>18mos</td><td>WT</td></tr>\n",
       "</tbody>\n",
       "</table>\n"
      ],
      "text/latex": [
       "A data.frame: 1 × 2\n",
       "\\begin{tabular}{r|ll}\n",
       "  & age & genotype\\\\\n",
       "  & <chr> & <chr>\\\\\n",
       "\\hline\n",
       "\tPool105\\_57-AAACCTGAGAGCTATA-1 & 18mos & WT\\\\\n",
       "\\end{tabular}\n"
      ],
      "text/markdown": [
       "\n",
       "A data.frame: 1 × 2\n",
       "\n",
       "| <!--/--> | age &lt;chr&gt; | genotype &lt;chr&gt; |\n",
       "|---|---|---|\n",
       "| Pool105_57-AAACCTGAGAGCTATA-1 | 18mos | WT |\n",
       "\n"
      ],
      "text/plain": [
       "                              age   genotype\n",
       "Pool105_57-AAACCTGAGAGCTATA-1 18mos WT      "
      ]
     },
     "metadata": {},
     "output_type": "display_data"
    }
   ],
   "source": [
    "concat_mtx_18mos<- concat_mtx1(Poolid_18mos, inpath=myinpath)\n",
    "pool<- colnames(concat_mtx_18mos)  %>% gsub(pattern = \"-[ACGT].*\", replacement = \"\")  %>% unique()\n",
    "message('confirming matched wt cells were included.')\n",
    "B_cell@meta.data  %>% filter(pool_id %in% pool[!pool %in% Poolid_18mos]) %>% select(age, genotype)  %>% unique()\n",
    "saveRDS(concat_mtx_18mos, paste0(myoutpath, \"mtx_18mos.rds\"))"
   ]
  },
  {
   "cell_type": "code",
   "execution_count": 118,
   "id": "33b31297",
   "metadata": {
    "scrolled": true
   },
   "outputs": [
    {
     "name": "stderr",
     "output_type": "stream",
     "text": [
      "Done adding sample Pool105_40\n",
      "\n",
      "Done adding sample Pool105_41\n",
      "\n",
      "Done adding sample Pool105_42\n",
      "\n",
      "Done adding sample Pool105_43\n",
      "\n",
      "Done adding sample Pool105_44\n",
      "\n",
      "Done adding sample Pool105_45\n",
      "\n",
      "Done adding sample Pool105_46\n",
      "\n",
      "Done adding sample Pool105_47\n",
      "\n",
      "Done adding sample Pool105_48\n",
      "\n",
      "Done adding sample Pool105_49\n",
      "\n",
      "Done adding sample Pool105_50\n",
      "\n",
      "Done adding sample Pool105_51\n",
      "\n",
      "Done adding sample Pool105_52\n",
      "\n",
      "Done adding sample Pool105_53\n",
      "\n",
      "Done adding sample Pool105_54\n",
      "\n",
      "Done adding sample Pool105_55\n",
      "\n",
      "Done adding sample Pool105_56\n",
      "\n",
      "confirming matched wt cells were included.\n",
      "\n"
     ]
    },
    {
     "data": {
      "text/html": [
       "<table class=\"dataframe\">\n",
       "<caption>A data.frame: 1 × 2</caption>\n",
       "<thead>\n",
       "\t<tr><th></th><th scope=col>age</th><th scope=col>genotype</th></tr>\n",
       "\t<tr><th></th><th scope=col>&lt;chr&gt;</th><th scope=col>&lt;chr&gt;</th></tr>\n",
       "</thead>\n",
       "<tbody>\n",
       "\t<tr><th scope=row>Pool105_33-AAACCTGAGATCTGCT-1</th><td>14mos</td><td>WT</td></tr>\n",
       "</tbody>\n",
       "</table>\n"
      ],
      "text/latex": [
       "A data.frame: 1 × 2\n",
       "\\begin{tabular}{r|ll}\n",
       "  & age & genotype\\\\\n",
       "  & <chr> & <chr>\\\\\n",
       "\\hline\n",
       "\tPool105\\_33-AAACCTGAGATCTGCT-1 & 14mos & WT\\\\\n",
       "\\end{tabular}\n"
      ],
      "text/markdown": [
       "\n",
       "A data.frame: 1 × 2\n",
       "\n",
       "| <!--/--> | age &lt;chr&gt; | genotype &lt;chr&gt; |\n",
       "|---|---|---|\n",
       "| Pool105_33-AAACCTGAGATCTGCT-1 | 14mos | WT |\n",
       "\n"
      ],
      "text/plain": [
       "                              age   genotype\n",
       "Pool105_33-AAACCTGAGATCTGCT-1 14mos WT      "
      ]
     },
     "metadata": {},
     "output_type": "display_data"
    }
   ],
   "source": [
    "concat_mtx_14mos<- concat_mtx1(Poolid_14mos, inpath=myinpath)\n",
    "pool<- colnames(concat_mtx_14mos)  %>% gsub(pattern = \"-[ACGT].*\", replacement = \"\")  %>% unique()\n",
    "message('confirming matched wt cells were included.')\n",
    "B_cell@meta.data  %>% filter(pool_id %in% pool[!pool %in% Poolid_14mos]) %>% select(age, genotype)  %>% unique()\n",
    "saveRDS(concat_mtx_14mos, paste0(myoutpath, \"mtx_14mos.rds\"))"
   ]
  },
  {
   "cell_type": "code",
   "execution_count": 117,
   "id": "33a3e433",
   "metadata": {
    "scrolled": true
   },
   "outputs": [
    {
     "name": "stderr",
     "output_type": "stream",
     "text": [
      "Done adding sample Pool105_24\n",
      "\n",
      "Done adding sample Pool105_9\n",
      "\n",
      "Done adding sample Pool105_10\n",
      "\n",
      "Done adding sample Pool105_11\n",
      "\n",
      "Done adding sample Pool105_12\n",
      "\n",
      "Done adding sample Pool105_13\n",
      "\n",
      "Done adding sample Pool105_14\n",
      "\n",
      "Done adding sample Pool105_15\n",
      "\n",
      "Done adding sample Pool105_16\n",
      "\n",
      "Done adding sample Pool105_25\n",
      "\n",
      "Done adding sample Pool105_26\n",
      "\n",
      "Done adding sample Pool105_27\n",
      "\n",
      "Done adding sample Pool105_28\n",
      "\n",
      "Done adding sample Pool105_29\n",
      "\n",
      "Done adding sample Pool105_30\n",
      "\n",
      "Done adding sample Pool105_31\n",
      "\n",
      "Done adding sample Pool105_32\n",
      "\n",
      "confirming matched wt cells were included.\n",
      "\n"
     ]
    },
    {
     "data": {
      "text/html": [
       "<table class=\"dataframe\">\n",
       "<caption>A data.frame: 1 × 2</caption>\n",
       "<thead>\n",
       "\t<tr><th></th><th scope=col>age</th><th scope=col>genotype</th></tr>\n",
       "\t<tr><th></th><th scope=col>&lt;chr&gt;</th><th scope=col>&lt;chr&gt;</th></tr>\n",
       "</thead>\n",
       "<tbody>\n",
       "\t<tr><th scope=row>Pool105_17-AAACCTGCAGTAACGG-1</th><td>6mos</td><td>WT</td></tr>\n",
       "</tbody>\n",
       "</table>\n"
      ],
      "text/latex": [
       "A data.frame: 1 × 2\n",
       "\\begin{tabular}{r|ll}\n",
       "  & age & genotype\\\\\n",
       "  & <chr> & <chr>\\\\\n",
       "\\hline\n",
       "\tPool105\\_17-AAACCTGCAGTAACGG-1 & 6mos & WT\\\\\n",
       "\\end{tabular}\n"
      ],
      "text/markdown": [
       "\n",
       "A data.frame: 1 × 2\n",
       "\n",
       "| <!--/--> | age &lt;chr&gt; | genotype &lt;chr&gt; |\n",
       "|---|---|---|\n",
       "| Pool105_17-AAACCTGCAGTAACGG-1 | 6mos | WT |\n",
       "\n"
      ],
      "text/plain": [
       "                              age  genotype\n",
       "Pool105_17-AAACCTGCAGTAACGG-1 6mos WT      "
      ]
     },
     "metadata": {},
     "output_type": "display_data"
    }
   ],
   "source": [
    "concat_mtx_6mos<- concat_mtx1(Poolid_6mos, inpath=myinpath)\n",
    "pool<- colnames(concat_mtx_6mos)  %>% gsub(pattern = \"-[ACGT].*\", replacement = \"\")  %>% unique()\n",
    "message('confirming matched wt cells were included.')\n",
    "B_cell@meta.data  %>% filter(pool_id %in% pool[!pool %in% Poolid_6mos]) %>% select(age, genotype)  %>% unique()\n",
    "saveRDS(concat_mtx_6mos, paste0(myoutpath, \"mtx_6mos.rds\"))"
   ]
  },
  {
   "cell_type": "code",
   "execution_count": null,
   "id": "b2b80211",
   "metadata": {},
   "outputs": [],
   "source": [
    "concat_mtx_sick<- concat_mtx2(Poolid_sick_new, inpath=myinpath)\n",
    "pool<- colnames(concat_mtx_sick)  %>% gsub(pattern = \"-[ACGT].*\", replacement = \"\")  %>% unique()\n",
    "pool[!pool %in% (Poolid_sick_new %>% gsub(pattern = \"_newsick\", replacement = \"\"))]\n",
    "message('confirming matched wt cells were included.')\n",
    "saveRDS(concat_mtx_sick, paste0(myoutpath, \"mtx_sick.rds\"))"
   ]
  },
  {
   "cell_type": "markdown",
   "id": "b6dbe734",
   "metadata": {},
   "source": [
    "## merge all inferCNV matrices together"
   ]
  },
  {
   "cell_type": "code",
   "execution_count": 135,
   "id": "fb4e4724",
   "metadata": {},
   "outputs": [
    {
     "data": {
      "text/html": [
       "<ol>\n",
       "\t<li>4561</li>\n",
       "\t<li>4474</li>\n",
       "\t<li>4555</li>\n",
       "\t<li>4475</li>\n",
       "</ol>\n"
      ],
      "text/latex": [
       "\\begin{enumerate}\n",
       "\\item 4561\n",
       "\\item 4474\n",
       "\\item 4555\n",
       "\\item 4475\n",
       "\\end{enumerate}\n"
      ],
      "text/markdown": [
       "1. 4561\n",
       "2. 4474\n",
       "3. 4555\n",
       "4. 4475\n",
       "\n",
       "\n"
      ],
      "text/plain": [
       "[[1]]\n",
       "[1] 4561\n",
       "\n",
       "[[2]]\n",
       "[1] 4474\n",
       "\n",
       "[[3]]\n",
       "[1] 4555\n",
       "\n",
       "[[4]]\n",
       "[1] 4475\n"
      ]
     },
     "metadata": {},
     "output_type": "display_data"
    },
    {
     "data": {
      "text/html": [
       "4256"
      ],
      "text/latex": [
       "4256"
      ],
      "text/markdown": [
       "4256"
      ],
      "text/plain": [
       "[1] 4256"
      ]
     },
     "metadata": {},
     "output_type": "display_data"
    }
   ],
   "source": [
    "row1<- rownames(concat_mtx_6mos)\n",
    "row2<- rownames(concat_mtx_14mos)\n",
    "row3<- rownames(concat_mtx_18mos)\n",
    "row4<- rownames(concat_mtx_sick)\n",
    "common_genes<- Reduce(intersect, list(row1 ,row2, row3, row4))\n",
    "lapply(list(row1 ,row2, row3, row4), length)\n",
    "length(common_genes)\n",
    "all_mtx<- cbind(concat_mtx_6mos[common_genes,], concat_mtx_14mos[common_genes,],concat_mtx_18mos[common_genes,],concat_mtx_sick[common_genes,])\n",
    "saveRDS(all_mtx, \"./data/infercnv/mtx_all.rds\")"
   ]
  }
 ],
 "metadata": {
  "kernelspec": {
   "display_name": "R",
   "language": "R",
   "name": "ir"
  },
  "language_info": {
   "codemirror_mode": "r",
   "file_extension": ".r",
   "mimetype": "text/x-r-source",
   "name": "R",
   "pygments_lexer": "r",
   "version": "4.1.1"
  }
 },
 "nbformat": 4,
 "nbformat_minor": 5
}
