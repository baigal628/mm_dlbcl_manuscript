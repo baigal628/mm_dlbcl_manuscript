{
 "cells": [
  {
   "cell_type": "code",
   "execution_count": 1,
   "id": "698e7fae",
   "metadata": {
    "scrolled": true
   },
   "outputs": [
    {
     "data": {
      "text/html": [
       "'/liulab/galib/dlbcl_manuscript/scripts'"
      ],
      "text/latex": [
       "'/liulab/galib/dlbcl\\_manuscript/scripts'"
      ],
      "text/markdown": [
       "'/liulab/galib/dlbcl_manuscript/scripts'"
      ],
      "text/plain": [
       "[1] \"/liulab/galib/dlbcl_manuscript/scripts\""
      ]
     },
     "metadata": {},
     "output_type": "display_data"
    },
    {
     "name": "stderr",
     "output_type": "stream",
     "text": [
      "Warning message:\n",
      "“package ‘tidyverse’ was built under R version 4.1.3”\n",
      "── \u001b[1mAttaching packages\u001b[22m ─────────────────────────────────────── tidyverse 1.3.1 ──\n",
      "\n",
      "\u001b[32m✔\u001b[39m \u001b[34mggplot2\u001b[39m 3.3.6      \u001b[32m✔\u001b[39m \u001b[34mpurrr  \u001b[39m 0.3.4 \n",
      "\u001b[32m✔\u001b[39m \u001b[34mtibble \u001b[39m 3.1.8      \u001b[32m✔\u001b[39m \u001b[34mdplyr  \u001b[39m 1.0.10\n",
      "\u001b[32m✔\u001b[39m \u001b[34mtidyr  \u001b[39m 1.2.0      \u001b[32m✔\u001b[39m \u001b[34mstringr\u001b[39m 1.4.1 \n",
      "\u001b[32m✔\u001b[39m \u001b[34mreadr  \u001b[39m 2.1.2      \u001b[32m✔\u001b[39m \u001b[34mforcats\u001b[39m 0.5.1 \n",
      "\n",
      "Warning message:\n",
      "“package ‘tidyr’ was built under R version 4.1.2”\n",
      "Warning message:\n",
      "“package ‘readr’ was built under R version 4.1.2”\n",
      "Warning message:\n",
      "“package ‘forcats’ was built under R version 4.1.3”\n",
      "── \u001b[1mConflicts\u001b[22m ────────────────────────────────────────── tidyverse_conflicts() ──\n",
      "\u001b[31m✖\u001b[39m \u001b[34mdplyr\u001b[39m::\u001b[32mfilter()\u001b[39m masks \u001b[34mstats\u001b[39m::filter()\n",
      "\u001b[31m✖\u001b[39m \u001b[34mdplyr\u001b[39m::\u001b[32mlag()\u001b[39m    masks \u001b[34mstats\u001b[39m::lag()\n",
      "\n",
      "Attaching SeuratObject\n",
      "\n",
      "Attaching sp\n",
      "\n",
      "Warning message:\n",
      "“package ‘ComplexHeatmap’ was built under R version 4.1.3”\n",
      "Loading required package: grid\n",
      "\n",
      "========================================\n",
      "ComplexHeatmap version 2.10.0\n",
      "Bioconductor page: http://bioconductor.org/packages/ComplexHeatmap/\n",
      "Github page: https://github.com/jokergoo/ComplexHeatmap\n",
      "Documentation: http://jokergoo.github.io/ComplexHeatmap-reference\n",
      "\n",
      "If you use it in published research, please cite:\n",
      "Gu, Z. Complex heatmaps reveal patterns and correlations in multidimensional \n",
      "  genomic data. Bioinformatics 2016.\n",
      "\n",
      "The new InteractiveComplexHeatmap package can directly export static \n",
      "complex heatmaps into an interactive Shiny app with zero effort. Have a try!\n",
      "\n",
      "This message can be suppressed by:\n",
      "  suppressPackageStartupMessages(library(ComplexHeatmap))\n",
      "========================================\n",
      "\n",
      "\n",
      "Warning message:\n",
      "“package ‘circlize’ was built under R version 4.1.3”\n",
      "========================================\n",
      "circlize version 0.4.15\n",
      "CRAN page: https://cran.r-project.org/package=circlize\n",
      "Github page: https://github.com/jokergoo/circlize\n",
      "Documentation: https://jokergoo.github.io/circlize_book/book/\n",
      "\n",
      "If you use it in published research, please cite:\n",
      "Gu, Z. circlize implements and enhances circular visualization\n",
      "  in R. Bioinformatics 2014.\n",
      "\n",
      "This message can be suppressed by:\n",
      "  suppressPackageStartupMessages(library(circlize))\n",
      "========================================\n",
      "\n",
      "\n",
      "Warning message:\n",
      "“package ‘Polychrome’ was built under R version 4.1.3”\n",
      "Warning message:\n",
      "“package ‘RColorBrewer’ was built under R version 4.1.3”\n"
     ]
    }
   ],
   "source": [
    "getwd()\n",
    "setwd(\"/liulab/galib/dlbcl_manuscript/\")\n",
    "library(tidyverse)\n",
    "library(Seurat)\n",
    "library(ktplots)\n",
    "library(ComplexHeatmap)\n",
    "library(circlize)\n",
    "library(Polychrome)\n",
    "library(RColorBrewer)\n",
    "library(pals)\n",
    "library(SeuratDisk)\n",
    "source('./scripts/scplot.R')"
   ]
  },
  {
   "cell_type": "markdown",
   "id": "db8c89e9",
   "metadata": {},
   "source": [
    "## reformat data to input of cellphoneDB"
   ]
  },
  {
   "cell_type": "code",
   "execution_count": 2,
   "id": "6c0a9a32",
   "metadata": {},
   "outputs": [],
   "source": [
    "merged<- readRDS(\"./data/objects/merged/all_cells.obj\")"
   ]
  },
  {
   "cell_type": "code",
   "execution_count": null,
   "id": "b41e3011",
   "metadata": {},
   "outputs": [],
   "source": [
    "# convert mouse gene name to human gene name\n",
    "count_tbl<- merged@assays$RNA@counts\n",
    "all_genes<- rownames(count_tbl)\n",
    "mm_hs_genes<- readRDS(\"./data/cellphoneDB/GeneID_Annotation_mmu_hsa.rds\")\n",
    "mm_hs_genes$mmu_symbol<- mm_hs_genes$mmu_symbol  %>%  str_to_title()\n",
    "mm_hs_genes<- mm_hs_genes[!mm_hs_genes$mmu_symbol  %>% duplicated(),]  %>% filter(hsa_symbol != \"\")\n",
    "shared_genes<- intersect(mm_hs_genes$mmu_symbol, all_genes)\n",
    "shared_genes  %>% length()\n",
    "rownames(mm_hs_genes)<- mm_hs_genes$mmu_symbol\n",
    "table(rownames(count_tbl)== \"\")\n",
    "new_count_tbl<- count_tbl[shared_genes,]\n",
    "rownames(new_count_tbl)<- mm_hs_genes[shared_genes, \"hsa_symbol\"]\n",
    "rownames(new_count_tbl)  %>% duplicated()  %>% table()\n",
    "expr_sum<- rowSums(new_count_tbl)\n",
    "df<- data.frame(exprSum = expr_sum, idx = c(1:length(expr_sum)), genes = names(expr_sum))  %>% arrange(-exprSum)\n",
    "deduplicated_count<- new_count_tbl[df[!df$genes  %>% duplicated(),\"idx\"],]\n",
    "deduplicated_count  %>% dim()\n",
    "rownames(deduplicated_count)<- rownames(deduplicated_count)  %>% toupper()\n",
    "cellphoneDB_obj <- CreateSeuratObject(counts = deduplicated_count, project = \"cellphoneDB\")"
   ]
  },
  {
   "cell_type": "code",
   "execution_count": null,
   "id": "45829f93",
   "metadata": {},
   "outputs": [],
   "source": [
    "cd3_pos_cd4_neg<- readRDS(\"./data/objects/cd3_pos_cd4_neg/cd3_pos_cd4_neg_final.rds\")\n",
    "cd3_pos_cd8_neg<- readRDS(\"./data/objects/cd3_pos_cd8_neg/cd3_pos_cd8_neg_final.rds\")\n",
    "non_B_non_T<- readRDS(\"./data/objects/non_B_non_T/non_B_non_T_c18_subclustered.rds\")\n",
    "B_cell<- readRDS(\"./data/objects/B_cell/B_cell_annotated_add_color.rds\")"
   ]
  },
  {
   "cell_type": "code",
   "execution_count": null,
   "id": "c7c2c5eb",
   "metadata": {},
   "outputs": [],
   "source": [
    "cellphoneDB_obj$annotation = NA\n",
    "cellphoneDB_obj@meta.data[rownames(cd3_pos_cd4_neg@meta.data), \"annotation\"] = as.character(cd3_pos_cd4_neg$new_annotation)\n",
    "cellphoneDB_obj@meta.data[rownames(cd3_pos_cd8_neg@meta.data), \"annotation\"] = as.character(cd3_pos_cd8_neg$new_annotation)\n",
    "cellphoneDB_obj@meta.data[rownames(non_B_non_T@meta.data), \"annotation\"] = as.character(non_B_non_T$seurat_clusters)\n",
    "cellphoneDB_obj@meta.data[rownames(B_cell@meta.data), \"annotation\"] = as.character(B_cell$new_annotation)\n",
    "\n",
    "cellphoneDB_obj@meta.data[rownames(cd3_pos_cd4_neg@meta.data), \"space\"] = \"cd3_pos_cd4_neg\"\n",
    "cellphoneDB_obj@meta.data[rownames(cd3_pos_cd8_neg@meta.data), \"space\"] = \"cd3_pos_cd8_neg\"\n",
    "cellphoneDB_obj@meta.data[rownames(non_B_non_T@meta.data), \"space\"] = \"non_B_non_T\"\n",
    "cellphoneDB_obj@meta.data[rownames(B_cell@meta.data), \"space\"] = \"B_cell\"\n",
    "\n",
    "cellphoneDB_obj@meta.data[rownames(cd3_pos_cd4_neg@meta.data), \"genotype\"] = cd3_pos_cd4_neg$genotype\n",
    "cellphoneDB_obj@meta.data[rownames(cd3_pos_cd8_neg@meta.data), \"genotype\"] = cd3_pos_cd8_neg$genotype\n",
    "cellphoneDB_obj@meta.data[rownames(non_B_non_T@meta.data), \"genotype\"] = non_B_non_T$genotype\n",
    "cellphoneDB_obj@meta.data[rownames(B_cell@meta.data), \"genotype\"] = B_cell$genotype\n",
    "\n",
    "cellphoneDB_obj@meta.data[rownames(cd3_pos_cd4_neg@meta.data), \"age\"] = cd3_pos_cd4_neg$age\n",
    "cellphoneDB_obj@meta.data[rownames(cd3_pos_cd8_neg@meta.data), \"age\"] = cd3_pos_cd8_neg$age\n",
    "cellphoneDB_obj@meta.data[rownames(non_B_non_T@meta.data), \"age\"] = non_B_non_T$age\n",
    "cellphoneDB_obj@meta.data[rownames(B_cell@meta.data), \"age\"] = B_cell$age\n",
    "\n",
    "saveRDS(cellphoneDB_obj, file = \"./data/cellphoneDB/cellphoneDB_orig.obj\")"
   ]
  },
  {
   "cell_type": "code",
   "execution_count": null,
   "id": "bfd18d2c",
   "metadata": {},
   "outputs": [],
   "source": [
    "cellphoneDB_bcl6_6mos<- cellphoneDB_obj@meta.data  %>% filter(genotype == \"Bcl6tg/+\")  %>% filter(age == \"6mos\")  %>% rownames()\n",
    "cellphoneDB_bcl6_14mos<- cellphoneDB_obj@meta.data  %>% filter(genotype == \"Bcl6tg/+\")  %>% filter(age == \"14mos\")  %>% rownames()\n",
    "cellphoneDB_bcl6_18mos<- cellphoneDB_obj@meta.data  %>% filter(genotype == \"Bcl6tg/+\")  %>% filter(age == \"18mos\")  %>% rownames()\n",
    "cellphoneDB_bcl6_sick<- cellphoneDB_obj@meta.data  %>% filter(genotype == \"Bcl6tg/+\")  %>% filter(age == \"sick\")  %>% rownames()"
   ]
  },
  {
   "cell_type": "code",
   "execution_count": null,
   "id": "f728ec88",
   "metadata": {},
   "outputs": [],
   "source": [
    "cellphoneDB_bcl6_6mos_obj<- subset(cellphoneDB_obj, cells = cellphoneDB_bcl6_6mos)\n",
    "cellphoneDB_bcl6_14mos_obj<- subset(cellphoneDB_obj, cells = cellphoneDB_bcl6_14mos)\n",
    "cellphoneDB_bcl6_18mos_obj<- subset(cellphoneDB_obj, cells = cellphoneDB_bcl6_18mos)\n",
    "cellphoneDB_bcl6_sick_obj<- subset(cellphoneDB_obj, cells = cellphoneDB_bcl6_sick)"
   ]
  },
  {
   "cell_type": "code",
   "execution_count": null,
   "id": "d6371159",
   "metadata": {},
   "outputs": [],
   "source": [
    "write10xCounts(x = cellphoneDB_bcl6_6mos_obj@assays$RNA@counts, path = \"./data/cellphoneDB/10X_format/bcl6_6mos/\")\n",
    "write10xCounts(x = cellphoneDB_bcl6_14mos_obj@assays$RNA@counts, path = \"./data/cellphoneDB/10X_format/bcl6_14mos/\")\n",
    "write10xCounts(x = cellphoneDB_bcl6_18mos_obj@assays$RNA@counts, path = \"./data/cellphoneDB/10X_format/bcl6_18mos/\")\n",
    "write10xCounts(x = cellphoneDB_bcl6_sick_obj@assays$RNA@counts, path = \"./data/cellphoneDB/10X_format/bcl6_sick\")"
   ]
  },
  {
   "cell_type": "code",
   "execution_count": null,
   "id": "72c81d03",
   "metadata": {},
   "outputs": [],
   "source": [
    "cellphoneDB_bcl6_6mos_meta<- data.frame(Cell = rownames(cellphoneDB_bcl6_6mos_obj@meta.data), \n",
    "                                        cell_type = cellphoneDB_bcl6_6mos_obj@meta.data$new_annotation)\n",
    "cellphoneDB_bcl6_14mos_meta<- data.frame(Cell = rownames(cellphoneDB_bcl6_14mos_obj@meta.data), \n",
    "                                        cell_type = cellphoneDB_bcl6_14mos_obj@meta.data$new_annotation)\n",
    "\n",
    "cellphoneDB_bcl6_18mos_meta<- data.frame(Cell = rownames(cellphoneDB_bcl6_18mos_obj@meta.data), \n",
    "                                        cell_type = cellphoneDB_bcl6_18mos_obj@meta.data$new_annotation)\n",
    "\n",
    "cellphoneDB_bcl6_sick_meta<- data.frame(Cell = rownames(cellphoneDB_bcl6_sick_obj@meta.data), \n",
    "                                        cell_type = cellphoneDB_bcl6_sick_obj@meta.data$new_annotation)\n",
    "\n",
    "write.table(cellphoneDB_bcl6_6mos_meta, file = \"./data/cellphoneDB/10X_format/bcl6_6mos_meta.txt\", sep = \"\\t\", \n",
    "            col.names = TRUE, row.names = FALSE, quote = FALSE)\n",
    "write.table(cellphoneDB_bcl6_14mos_meta, file = \"./data/cellphoneDB/10X_format/bcl6_14mos_meta.txt\", sep = \"\\t\", \n",
    "            col.names = TRUE, row.names = FALSE, quote = FALSE)\n",
    "write.table(cellphoneDB_bcl6_18mos_meta, file = \"./data/cellphoneDB/10X_format/bcl6_18mos_meta.txt\", sep = \"\\t\", \n",
    "            col.names = TRUE, row.names = FALSE, quote = FALSE)\n",
    "write.table(cellphoneDB_bcl6_sick_meta, file = \"./data/cellphoneDB/10X_format/bcl6_sick_meta.txt\", sep = \"\\t\", \n",
    "            col.names = TRUE, row.names = FALSE, quote = FALSE)"
   ]
  },
  {
   "cell_type": "code",
   "execution_count": 2,
   "id": "8d9880cc",
   "metadata": {},
   "outputs": [],
   "source": [
    "# read bcl6 single\n",
    "ph_bcl6_6mos_pvals <- read.delim(\"./data/cellphoneDB/output/bcl6_6mos_out/pvalues.txt\", check.names = FALSE)\n",
    "ph_bcl6_6mos_means <- read.delim(\"./data/cellphoneDB/output/bcl6_6mos_out/means.txt\", check.names = FALSE)\n",
    "ph_bcl6_14mos_pvals <- read.delim(\"./data/cellphoneDB/output/bcl6_14mos_out/pvalues.txt\", check.names = FALSE)\n",
    "ph_bcl6_14mos_means <- read.delim(\"./data/cellphoneDB/output/bcl6_14mos_out/means.txt\", check.names = FALSE)\n",
    "ph_bcl6_18mos_pvals <- read.delim(\"./data/cellphoneDB/output/bcl6_18mos_out/pvalues.txt\", check.names = FALSE)\n",
    "ph_bcl6_18mos_means <- read.delim(\"./data/cellphoneDB/output/bcl6_18mos_out/means.txt\", check.names = FALSE)\n",
    "ph_bcl6_sick_pvals <- read.delim(\"./data/cellphoneDB/output/bcl6_sick_out/pvalues.txt\", check.names = FALSE)\n",
    "ph_bcl6_sick_means <- read.delim(\"./data/cellphoneDB/output/bcl6_sick_out/means.txt\", check.names = FALSE)\n",
    "\n",
    "# read bcl6 cd70 double\n",
    "ph_bcl6_double_6mos_pvals <- read.delim(\"./data/cellphoneDB/output/bcl6_double_6mos_out/pvalues.txt\", check.names = FALSE)\n",
    "ph_bcl6_double_6mos_means <- read.delim(\"./data/cellphoneDB/output/bcl6_double_6mos_out/means.txt\", check.names = FALSE)\n",
    "ph_bcl6_double_14mos_pvals <- read.delim(\"./data/cellphoneDB/output/bcl6_double_14mos_out/pvalues.txt\", check.names = FALSE)\n",
    "ph_bcl6_double_14mos_means <- read.delim(\"./data/cellphoneDB/output/bcl6_double_14mos_out/means.txt\", check.names = FALSE)\n",
    "ph_bcl6_double_18mos_pvals <- read.delim(\"./data/cellphoneDB/output/bcl6_double_18mos_out/pvalues.txt\", check.names = FALSE)\n",
    "ph_bcl6_double_18mos_means <- read.delim(\"./data/cellphoneDB/output/bcl6_double_18mos_out/means.txt\", check.names = FALSE)\n",
    "ph_bcl6_double_sick_pvals <- read.delim(\"./data/cellphoneDB/output/bcl6_double_sick_out/pvalues.txt\", check.names = FALSE)\n",
    "ph_bcl6_double_sick_means <- read.delim(\"./data/cellphoneDB/output/bcl6_double_sick_out/means.txt\", check.names = FALSE)\n",
    "\n",
    "# read wt\n",
    "ph_wt_6mos_pvals <- read.delim(\"./data/cellphoneDB/output/wt_6mos_out/pvalues.txt\", check.names = FALSE)\n",
    "ph_wt_6mos_means <- read.delim(\"./data/cellphoneDB/output/wt_6mos_out/means.txt\", check.names = FALSE)\n",
    "ph_wt_14mos_pvals <- read.delim(\"./data/cellphoneDB/output/wt_14mos_out/pvalues.txt\", check.names = FALSE)\n",
    "ph_wt_14mos_means <- read.delim(\"./data/cellphoneDB/output/wt_14mos_out/means.txt\", check.names = FALSE)\n",
    "ph_wt_18mos_pvals <- read.delim(\"./data/cellphoneDB/output/wt_18mos_out/pvalues.txt\", check.names = FALSE)\n",
    "ph_wt_18mos_means <- read.delim(\"./data/cellphoneDB/output/wt_18mos_out/means.txt\", check.names = FALSE)"
   ]
  },
  {
   "cell_type": "markdown",
   "id": "aaffe220",
   "metadata": {},
   "source": [
    "### 1. cd3_pos_cd4_neg, cd3_pos_cd8_neg, and non_B_non_T respectively with B_cell"
   ]
  },
  {
   "cell_type": "code",
   "execution_count": 3,
   "id": "46092419",
   "metadata": {},
   "outputs": [
    {
     "data": {
      "text/html": [
       "<style>\n",
       ".list-inline {list-style: none; margin:0; padding: 0}\n",
       ".list-inline>li {display: inline-block}\n",
       ".list-inline>li:not(:last-child)::after {content: \"\\00b7\"; padding: 0 .5ex}\n",
       "</style>\n",
       "<ol class=list-inline><li>'cd3_pos_cd4_neg_Cycling|B_cell_Atypical'</li><li>'cd3_pos_cd4_neg_Cycling|B_cell_Age-associated/autoimmune'</li><li>'cd3_pos_cd4_neg_Cycling|B_cell_Cycling'</li><li>'cd3_pos_cd4_neg_Cycling|B_cell_Plasmablasts'</li><li>'cd3_pos_cd4_neg_CTLs|B_cell_Atypical'</li><li>'cd3_pos_cd4_neg_CTLs|B_cell_Age-associated/autoimmune'</li><li>'cd3_pos_cd4_neg_CTLs|B_cell_Cycling'</li><li>'cd3_pos_cd4_neg_CTLs|B_cell_Plasmablasts'</li></ol>\n"
      ],
      "text/latex": [
       "\\begin{enumerate*}\n",
       "\\item 'cd3\\_pos\\_cd4\\_neg\\_Cycling\\textbar{}B\\_cell\\_Atypical'\n",
       "\\item 'cd3\\_pos\\_cd4\\_neg\\_Cycling\\textbar{}B\\_cell\\_Age-associated/autoimmune'\n",
       "\\item 'cd3\\_pos\\_cd4\\_neg\\_Cycling\\textbar{}B\\_cell\\_Cycling'\n",
       "\\item 'cd3\\_pos\\_cd4\\_neg\\_Cycling\\textbar{}B\\_cell\\_Plasmablasts'\n",
       "\\item 'cd3\\_pos\\_cd4\\_neg\\_CTLs\\textbar{}B\\_cell\\_Atypical'\n",
       "\\item 'cd3\\_pos\\_cd4\\_neg\\_CTLs\\textbar{}B\\_cell\\_Age-associated/autoimmune'\n",
       "\\item 'cd3\\_pos\\_cd4\\_neg\\_CTLs\\textbar{}B\\_cell\\_Cycling'\n",
       "\\item 'cd3\\_pos\\_cd4\\_neg\\_CTLs\\textbar{}B\\_cell\\_Plasmablasts'\n",
       "\\end{enumerate*}\n"
      ],
      "text/markdown": [
       "1. 'cd3_pos_cd4_neg_Cycling|B_cell_Atypical'\n",
       "2. 'cd3_pos_cd4_neg_Cycling|B_cell_Age-associated/autoimmune'\n",
       "3. 'cd3_pos_cd4_neg_Cycling|B_cell_Cycling'\n",
       "4. 'cd3_pos_cd4_neg_Cycling|B_cell_Plasmablasts'\n",
       "5. 'cd3_pos_cd4_neg_CTLs|B_cell_Atypical'\n",
       "6. 'cd3_pos_cd4_neg_CTLs|B_cell_Age-associated/autoimmune'\n",
       "7. 'cd3_pos_cd4_neg_CTLs|B_cell_Cycling'\n",
       "8. 'cd3_pos_cd4_neg_CTLs|B_cell_Plasmablasts'\n",
       "\n",
       "\n"
      ],
      "text/plain": [
       "[1] \"cd3_pos_cd4_neg_Cycling|B_cell_Atypical\"                 \n",
       "[2] \"cd3_pos_cd4_neg_Cycling|B_cell_Age-associated/autoimmune\"\n",
       "[3] \"cd3_pos_cd4_neg_Cycling|B_cell_Cycling\"                  \n",
       "[4] \"cd3_pos_cd4_neg_Cycling|B_cell_Plasmablasts\"             \n",
       "[5] \"cd3_pos_cd4_neg_CTLs|B_cell_Atypical\"                    \n",
       "[6] \"cd3_pos_cd4_neg_CTLs|B_cell_Age-associated/autoimmune\"   \n",
       "[7] \"cd3_pos_cd4_neg_CTLs|B_cell_Cycling\"                     \n",
       "[8] \"cd3_pos_cd4_neg_CTLs|B_cell_Plasmablasts\"                "
      ]
     },
     "metadata": {},
     "output_type": "display_data"
    },
    {
     "data": {
      "text/html": [
       "TRUE"
      ],
      "text/latex": [
       "TRUE"
      ],
      "text/markdown": [
       "TRUE"
      ],
      "text/plain": [
       "[1] TRUE"
      ]
     },
     "metadata": {},
     "output_type": "display_data"
    },
    {
     "data": {
      "text/html": [
       "<style>\n",
       ".list-inline {list-style: none; margin:0; padding: 0}\n",
       ".list-inline>li {display: inline-block}\n",
       ".list-inline>li:not(:last-child)::after {content: \"\\00b7\"; padding: 0 .5ex}\n",
       "</style>\n",
       "<ol class=list-inline><li>'B_cell_Atypical|cd3_pos_cd4_neg_Cycling'</li><li>'B_cell_Age-associated/autoimmune|cd3_pos_cd4_neg_Cycling'</li><li>'B_cell_Cycling|cd3_pos_cd4_neg_Cycling'</li><li>'B_cell_Plasmablasts|cd3_pos_cd4_neg_Cycling'</li><li>'B_cell_Atypical|cd3_pos_cd4_neg_CTLs'</li><li>'B_cell_Age-associated/autoimmune|cd3_pos_cd4_neg_CTLs'</li><li>'B_cell_Cycling|cd3_pos_cd4_neg_CTLs'</li><li>'B_cell_Plasmablasts|cd3_pos_cd4_neg_CTLs'</li></ol>\n"
      ],
      "text/latex": [
       "\\begin{enumerate*}\n",
       "\\item 'B\\_cell\\_Atypical\\textbar{}cd3\\_pos\\_cd4\\_neg\\_Cycling'\n",
       "\\item 'B\\_cell\\_Age-associated/autoimmune\\textbar{}cd3\\_pos\\_cd4\\_neg\\_Cycling'\n",
       "\\item 'B\\_cell\\_Cycling\\textbar{}cd3\\_pos\\_cd4\\_neg\\_Cycling'\n",
       "\\item 'B\\_cell\\_Plasmablasts\\textbar{}cd3\\_pos\\_cd4\\_neg\\_Cycling'\n",
       "\\item 'B\\_cell\\_Atypical\\textbar{}cd3\\_pos\\_cd4\\_neg\\_CTLs'\n",
       "\\item 'B\\_cell\\_Age-associated/autoimmune\\textbar{}cd3\\_pos\\_cd4\\_neg\\_CTLs'\n",
       "\\item 'B\\_cell\\_Cycling\\textbar{}cd3\\_pos\\_cd4\\_neg\\_CTLs'\n",
       "\\item 'B\\_cell\\_Plasmablasts\\textbar{}cd3\\_pos\\_cd4\\_neg\\_CTLs'\n",
       "\\end{enumerate*}\n"
      ],
      "text/markdown": [
       "1. 'B_cell_Atypical|cd3_pos_cd4_neg_Cycling'\n",
       "2. 'B_cell_Age-associated/autoimmune|cd3_pos_cd4_neg_Cycling'\n",
       "3. 'B_cell_Cycling|cd3_pos_cd4_neg_Cycling'\n",
       "4. 'B_cell_Plasmablasts|cd3_pos_cd4_neg_Cycling'\n",
       "5. 'B_cell_Atypical|cd3_pos_cd4_neg_CTLs'\n",
       "6. 'B_cell_Age-associated/autoimmune|cd3_pos_cd4_neg_CTLs'\n",
       "7. 'B_cell_Cycling|cd3_pos_cd4_neg_CTLs'\n",
       "8. 'B_cell_Plasmablasts|cd3_pos_cd4_neg_CTLs'\n",
       "\n",
       "\n"
      ],
      "text/plain": [
       "[1] \"B_cell_Atypical|cd3_pos_cd4_neg_Cycling\"                 \n",
       "[2] \"B_cell_Age-associated/autoimmune|cd3_pos_cd4_neg_Cycling\"\n",
       "[3] \"B_cell_Cycling|cd3_pos_cd4_neg_Cycling\"                  \n",
       "[4] \"B_cell_Plasmablasts|cd3_pos_cd4_neg_Cycling\"             \n",
       "[5] \"B_cell_Atypical|cd3_pos_cd4_neg_CTLs\"                    \n",
       "[6] \"B_cell_Age-associated/autoimmune|cd3_pos_cd4_neg_CTLs\"   \n",
       "[7] \"B_cell_Cycling|cd3_pos_cd4_neg_CTLs\"                     \n",
       "[8] \"B_cell_Plasmablasts|cd3_pos_cd4_neg_CTLs\"                "
      ]
     },
     "metadata": {},
     "output_type": "display_data"
    },
    {
     "data": {
      "text/html": [
       "TRUE"
      ],
      "text/latex": [
       "TRUE"
      ],
      "text/markdown": [
       "TRUE"
      ],
      "text/plain": [
       "[1] TRUE"
      ]
     },
     "metadata": {},
     "output_type": "display_data"
    },
    {
     "data": {
      "text/html": [
       "<style>\n",
       ".list-inline {list-style: none; margin:0; padding: 0}\n",
       ".list-inline>li {display: inline-block}\n",
       ".list-inline>li:not(:last-child)::after {content: \"\\00b7\"; padding: 0 .5ex}\n",
       "</style>\n",
       "<ol class=list-inline><li>'cd3_pos_cd8_neg_Tregs|B_cell_Atypical'</li><li>'cd3_pos_cd8_neg_Tregs|B_cell_Age-associated/autoimmune'</li><li>'cd3_pos_cd8_neg_Tregs|B_cell_Cycling'</li><li>'cd3_pos_cd8_neg_Tregs|B_cell_Plasmablasts'</li><li>'cd3_pos_cd8_neg_Follicular Tregs|B_cell_Atypical'</li><li>'cd3_pos_cd8_neg_Follicular Tregs|B_cell_Age-associated/autoimmune'</li><li>'cd3_pos_cd8_neg_Follicular Tregs|B_cell_Cycling'</li><li>'cd3_pos_cd8_neg_Follicular Tregs|B_cell_Plasmablasts'</li><li>'cd3_pos_cd8_neg_Cycling|B_cell_Atypical'</li><li>'cd3_pos_cd8_neg_Cycling|B_cell_Age-associated/autoimmune'</li><li>'cd3_pos_cd8_neg_Cycling|B_cell_Cycling'</li><li>'cd3_pos_cd8_neg_Cycling|B_cell_Plasmablasts'</li><li>'cd3_pos_cd8_neg_CTLs|B_cell_Atypical'</li><li>'cd3_pos_cd8_neg_CTLs|B_cell_Age-associated/autoimmune'</li><li>'cd3_pos_cd8_neg_CTLs|B_cell_Cycling'</li><li>'cd3_pos_cd8_neg_CTLs|B_cell_Plasmablasts'</li></ol>\n"
      ],
      "text/latex": [
       "\\begin{enumerate*}\n",
       "\\item 'cd3\\_pos\\_cd8\\_neg\\_Tregs\\textbar{}B\\_cell\\_Atypical'\n",
       "\\item 'cd3\\_pos\\_cd8\\_neg\\_Tregs\\textbar{}B\\_cell\\_Age-associated/autoimmune'\n",
       "\\item 'cd3\\_pos\\_cd8\\_neg\\_Tregs\\textbar{}B\\_cell\\_Cycling'\n",
       "\\item 'cd3\\_pos\\_cd8\\_neg\\_Tregs\\textbar{}B\\_cell\\_Plasmablasts'\n",
       "\\item 'cd3\\_pos\\_cd8\\_neg\\_Follicular Tregs\\textbar{}B\\_cell\\_Atypical'\n",
       "\\item 'cd3\\_pos\\_cd8\\_neg\\_Follicular Tregs\\textbar{}B\\_cell\\_Age-associated/autoimmune'\n",
       "\\item 'cd3\\_pos\\_cd8\\_neg\\_Follicular Tregs\\textbar{}B\\_cell\\_Cycling'\n",
       "\\item 'cd3\\_pos\\_cd8\\_neg\\_Follicular Tregs\\textbar{}B\\_cell\\_Plasmablasts'\n",
       "\\item 'cd3\\_pos\\_cd8\\_neg\\_Cycling\\textbar{}B\\_cell\\_Atypical'\n",
       "\\item 'cd3\\_pos\\_cd8\\_neg\\_Cycling\\textbar{}B\\_cell\\_Age-associated/autoimmune'\n",
       "\\item 'cd3\\_pos\\_cd8\\_neg\\_Cycling\\textbar{}B\\_cell\\_Cycling'\n",
       "\\item 'cd3\\_pos\\_cd8\\_neg\\_Cycling\\textbar{}B\\_cell\\_Plasmablasts'\n",
       "\\item 'cd3\\_pos\\_cd8\\_neg\\_CTLs\\textbar{}B\\_cell\\_Atypical'\n",
       "\\item 'cd3\\_pos\\_cd8\\_neg\\_CTLs\\textbar{}B\\_cell\\_Age-associated/autoimmune'\n",
       "\\item 'cd3\\_pos\\_cd8\\_neg\\_CTLs\\textbar{}B\\_cell\\_Cycling'\n",
       "\\item 'cd3\\_pos\\_cd8\\_neg\\_CTLs\\textbar{}B\\_cell\\_Plasmablasts'\n",
       "\\end{enumerate*}\n"
      ],
      "text/markdown": [
       "1. 'cd3_pos_cd8_neg_Tregs|B_cell_Atypical'\n",
       "2. 'cd3_pos_cd8_neg_Tregs|B_cell_Age-associated/autoimmune'\n",
       "3. 'cd3_pos_cd8_neg_Tregs|B_cell_Cycling'\n",
       "4. 'cd3_pos_cd8_neg_Tregs|B_cell_Plasmablasts'\n",
       "5. 'cd3_pos_cd8_neg_Follicular Tregs|B_cell_Atypical'\n",
       "6. 'cd3_pos_cd8_neg_Follicular Tregs|B_cell_Age-associated/autoimmune'\n",
       "7. 'cd3_pos_cd8_neg_Follicular Tregs|B_cell_Cycling'\n",
       "8. 'cd3_pos_cd8_neg_Follicular Tregs|B_cell_Plasmablasts'\n",
       "9. 'cd3_pos_cd8_neg_Cycling|B_cell_Atypical'\n",
       "10. 'cd3_pos_cd8_neg_Cycling|B_cell_Age-associated/autoimmune'\n",
       "11. 'cd3_pos_cd8_neg_Cycling|B_cell_Cycling'\n",
       "12. 'cd3_pos_cd8_neg_Cycling|B_cell_Plasmablasts'\n",
       "13. 'cd3_pos_cd8_neg_CTLs|B_cell_Atypical'\n",
       "14. 'cd3_pos_cd8_neg_CTLs|B_cell_Age-associated/autoimmune'\n",
       "15. 'cd3_pos_cd8_neg_CTLs|B_cell_Cycling'\n",
       "16. 'cd3_pos_cd8_neg_CTLs|B_cell_Plasmablasts'\n",
       "\n",
       "\n"
      ],
      "text/plain": [
       " [1] \"cd3_pos_cd8_neg_Tregs|B_cell_Atypical\"                            \n",
       " [2] \"cd3_pos_cd8_neg_Tregs|B_cell_Age-associated/autoimmune\"           \n",
       " [3] \"cd3_pos_cd8_neg_Tregs|B_cell_Cycling\"                             \n",
       " [4] \"cd3_pos_cd8_neg_Tregs|B_cell_Plasmablasts\"                        \n",
       " [5] \"cd3_pos_cd8_neg_Follicular Tregs|B_cell_Atypical\"                 \n",
       " [6] \"cd3_pos_cd8_neg_Follicular Tregs|B_cell_Age-associated/autoimmune\"\n",
       " [7] \"cd3_pos_cd8_neg_Follicular Tregs|B_cell_Cycling\"                  \n",
       " [8] \"cd3_pos_cd8_neg_Follicular Tregs|B_cell_Plasmablasts\"             \n",
       " [9] \"cd3_pos_cd8_neg_Cycling|B_cell_Atypical\"                          \n",
       "[10] \"cd3_pos_cd8_neg_Cycling|B_cell_Age-associated/autoimmune\"         \n",
       "[11] \"cd3_pos_cd8_neg_Cycling|B_cell_Cycling\"                           \n",
       "[12] \"cd3_pos_cd8_neg_Cycling|B_cell_Plasmablasts\"                      \n",
       "[13] \"cd3_pos_cd8_neg_CTLs|B_cell_Atypical\"                             \n",
       "[14] \"cd3_pos_cd8_neg_CTLs|B_cell_Age-associated/autoimmune\"            \n",
       "[15] \"cd3_pos_cd8_neg_CTLs|B_cell_Cycling\"                              \n",
       "[16] \"cd3_pos_cd8_neg_CTLs|B_cell_Plasmablasts\"                         "
      ]
     },
     "metadata": {},
     "output_type": "display_data"
    },
    {
     "data": {
      "text/html": [
       "TRUE"
      ],
      "text/latex": [
       "TRUE"
      ],
      "text/markdown": [
       "TRUE"
      ],
      "text/plain": [
       "[1] TRUE"
      ]
     },
     "metadata": {},
     "output_type": "display_data"
    },
    {
     "data": {
      "text/html": [
       "<style>\n",
       ".list-inline {list-style: none; margin:0; padding: 0}\n",
       ".list-inline>li {display: inline-block}\n",
       ".list-inline>li:not(:last-child)::after {content: \"\\00b7\"; padding: 0 .5ex}\n",
       "</style>\n",
       "<ol class=list-inline><li>'B_cell_Atypical|cd3_pos_cd8_neg_Tregs'</li><li>'B_cell_Age-associated/autoimmune|cd3_pos_cd8_neg_Tregs'</li><li>'B_cell_Cycling|cd3_pos_cd8_neg_Tregs'</li><li>'B_cell_Plasmablasts|cd3_pos_cd8_neg_Tregs'</li><li>'B_cell_Atypical|cd3_pos_cd8_neg_Follicular Tregs'</li><li>'B_cell_Age-associated/autoimmune|cd3_pos_cd8_neg_Follicular Tregs'</li><li>'B_cell_Cycling|cd3_pos_cd8_neg_Follicular Tregs'</li><li>'B_cell_Plasmablasts|cd3_pos_cd8_neg_Follicular Tregs'</li><li>'B_cell_Atypical|cd3_pos_cd8_neg_Cycling'</li><li>'B_cell_Age-associated/autoimmune|cd3_pos_cd8_neg_Cycling'</li><li>'B_cell_Cycling|cd3_pos_cd8_neg_Cycling'</li><li>'B_cell_Plasmablasts|cd3_pos_cd8_neg_Cycling'</li><li>'B_cell_Atypical|cd3_pos_cd8_neg_CTLs'</li><li>'B_cell_Age-associated/autoimmune|cd3_pos_cd8_neg_CTLs'</li><li>'B_cell_Cycling|cd3_pos_cd8_neg_CTLs'</li><li>'B_cell_Plasmablasts|cd3_pos_cd8_neg_CTLs'</li></ol>\n"
      ],
      "text/latex": [
       "\\begin{enumerate*}\n",
       "\\item 'B\\_cell\\_Atypical\\textbar{}cd3\\_pos\\_cd8\\_neg\\_Tregs'\n",
       "\\item 'B\\_cell\\_Age-associated/autoimmune\\textbar{}cd3\\_pos\\_cd8\\_neg\\_Tregs'\n",
       "\\item 'B\\_cell\\_Cycling\\textbar{}cd3\\_pos\\_cd8\\_neg\\_Tregs'\n",
       "\\item 'B\\_cell\\_Plasmablasts\\textbar{}cd3\\_pos\\_cd8\\_neg\\_Tregs'\n",
       "\\item 'B\\_cell\\_Atypical\\textbar{}cd3\\_pos\\_cd8\\_neg\\_Follicular Tregs'\n",
       "\\item 'B\\_cell\\_Age-associated/autoimmune\\textbar{}cd3\\_pos\\_cd8\\_neg\\_Follicular Tregs'\n",
       "\\item 'B\\_cell\\_Cycling\\textbar{}cd3\\_pos\\_cd8\\_neg\\_Follicular Tregs'\n",
       "\\item 'B\\_cell\\_Plasmablasts\\textbar{}cd3\\_pos\\_cd8\\_neg\\_Follicular Tregs'\n",
       "\\item 'B\\_cell\\_Atypical\\textbar{}cd3\\_pos\\_cd8\\_neg\\_Cycling'\n",
       "\\item 'B\\_cell\\_Age-associated/autoimmune\\textbar{}cd3\\_pos\\_cd8\\_neg\\_Cycling'\n",
       "\\item 'B\\_cell\\_Cycling\\textbar{}cd3\\_pos\\_cd8\\_neg\\_Cycling'\n",
       "\\item 'B\\_cell\\_Plasmablasts\\textbar{}cd3\\_pos\\_cd8\\_neg\\_Cycling'\n",
       "\\item 'B\\_cell\\_Atypical\\textbar{}cd3\\_pos\\_cd8\\_neg\\_CTLs'\n",
       "\\item 'B\\_cell\\_Age-associated/autoimmune\\textbar{}cd3\\_pos\\_cd8\\_neg\\_CTLs'\n",
       "\\item 'B\\_cell\\_Cycling\\textbar{}cd3\\_pos\\_cd8\\_neg\\_CTLs'\n",
       "\\item 'B\\_cell\\_Plasmablasts\\textbar{}cd3\\_pos\\_cd8\\_neg\\_CTLs'\n",
       "\\end{enumerate*}\n"
      ],
      "text/markdown": [
       "1. 'B_cell_Atypical|cd3_pos_cd8_neg_Tregs'\n",
       "2. 'B_cell_Age-associated/autoimmune|cd3_pos_cd8_neg_Tregs'\n",
       "3. 'B_cell_Cycling|cd3_pos_cd8_neg_Tregs'\n",
       "4. 'B_cell_Plasmablasts|cd3_pos_cd8_neg_Tregs'\n",
       "5. 'B_cell_Atypical|cd3_pos_cd8_neg_Follicular Tregs'\n",
       "6. 'B_cell_Age-associated/autoimmune|cd3_pos_cd8_neg_Follicular Tregs'\n",
       "7. 'B_cell_Cycling|cd3_pos_cd8_neg_Follicular Tregs'\n",
       "8. 'B_cell_Plasmablasts|cd3_pos_cd8_neg_Follicular Tregs'\n",
       "9. 'B_cell_Atypical|cd3_pos_cd8_neg_Cycling'\n",
       "10. 'B_cell_Age-associated/autoimmune|cd3_pos_cd8_neg_Cycling'\n",
       "11. 'B_cell_Cycling|cd3_pos_cd8_neg_Cycling'\n",
       "12. 'B_cell_Plasmablasts|cd3_pos_cd8_neg_Cycling'\n",
       "13. 'B_cell_Atypical|cd3_pos_cd8_neg_CTLs'\n",
       "14. 'B_cell_Age-associated/autoimmune|cd3_pos_cd8_neg_CTLs'\n",
       "15. 'B_cell_Cycling|cd3_pos_cd8_neg_CTLs'\n",
       "16. 'B_cell_Plasmablasts|cd3_pos_cd8_neg_CTLs'\n",
       "\n",
       "\n"
      ],
      "text/plain": [
       " [1] \"B_cell_Atypical|cd3_pos_cd8_neg_Tregs\"                            \n",
       " [2] \"B_cell_Age-associated/autoimmune|cd3_pos_cd8_neg_Tregs\"           \n",
       " [3] \"B_cell_Cycling|cd3_pos_cd8_neg_Tregs\"                             \n",
       " [4] \"B_cell_Plasmablasts|cd3_pos_cd8_neg_Tregs\"                        \n",
       " [5] \"B_cell_Atypical|cd3_pos_cd8_neg_Follicular Tregs\"                 \n",
       " [6] \"B_cell_Age-associated/autoimmune|cd3_pos_cd8_neg_Follicular Tregs\"\n",
       " [7] \"B_cell_Cycling|cd3_pos_cd8_neg_Follicular Tregs\"                  \n",
       " [8] \"B_cell_Plasmablasts|cd3_pos_cd8_neg_Follicular Tregs\"             \n",
       " [9] \"B_cell_Atypical|cd3_pos_cd8_neg_Cycling\"                          \n",
       "[10] \"B_cell_Age-associated/autoimmune|cd3_pos_cd8_neg_Cycling\"         \n",
       "[11] \"B_cell_Cycling|cd3_pos_cd8_neg_Cycling\"                           \n",
       "[12] \"B_cell_Plasmablasts|cd3_pos_cd8_neg_Cycling\"                      \n",
       "[13] \"B_cell_Atypical|cd3_pos_cd8_neg_CTLs\"                             \n",
       "[14] \"B_cell_Age-associated/autoimmune|cd3_pos_cd8_neg_CTLs\"            \n",
       "[15] \"B_cell_Cycling|cd3_pos_cd8_neg_CTLs\"                              \n",
       "[16] \"B_cell_Plasmablasts|cd3_pos_cd8_neg_CTLs\"                         "
      ]
     },
     "metadata": {},
     "output_type": "display_data"
    },
    {
     "data": {
      "text/html": [
       "TRUE"
      ],
      "text/latex": [
       "TRUE"
      ],
      "text/markdown": [
       "TRUE"
      ],
      "text/plain": [
       "[1] TRUE"
      ]
     },
     "metadata": {},
     "output_type": "display_data"
    },
    {
     "data": {
      "text/html": [
       "<style>\n",
       ".list-inline {list-style: none; margin:0; padding: 0}\n",
       ".list-inline>li {display: inline-block}\n",
       ".list-inline>li:not(:last-child)::after {content: \"\\00b7\"; padding: 0 .5ex}\n",
       "</style>\n",
       "<ol class=list-inline><li>'non_B_non_T_Macrophages|B_cell_Atypical'</li><li>'non_B_non_T_Macrophages|B_cell_Age-associated/autoimmune'</li><li>'non_B_non_T_Macrophages|B_cell_Cycling'</li><li>'non_B_non_T_Macrophages|B_cell_Plasmablasts'</li><li>'non_B_non_T_NK cells|B_cell_Atypical'</li><li>'non_B_non_T_NK cells|B_cell_Age-associated/autoimmune'</li><li>'non_B_non_T_NK cells|B_cell_Cycling'</li><li>'non_B_non_T_NK cells|B_cell_Plasmablasts'</li><li>'non_B_non_T_Cycling|B_cell_Atypical'</li><li>'non_B_non_T_Cycling|B_cell_Age-associated/autoimmune'</li><li>'non_B_non_T_Cycling|B_cell_Cycling'</li><li>'non_B_non_T_Cycling|B_cell_Plasmablasts'</li><li>'non_B_non_T_Neutrophils|B_cell_Atypical'</li><li>'non_B_non_T_Neutrophils|B_cell_Age-associated/autoimmune'</li><li>'non_B_non_T_Neutrophils|B_cell_Cycling'</li><li>'non_B_non_T_Neutrophils|B_cell_Plasmablasts'</li></ol>\n"
      ],
      "text/latex": [
       "\\begin{enumerate*}\n",
       "\\item 'non\\_B\\_non\\_T\\_Macrophages\\textbar{}B\\_cell\\_Atypical'\n",
       "\\item 'non\\_B\\_non\\_T\\_Macrophages\\textbar{}B\\_cell\\_Age-associated/autoimmune'\n",
       "\\item 'non\\_B\\_non\\_T\\_Macrophages\\textbar{}B\\_cell\\_Cycling'\n",
       "\\item 'non\\_B\\_non\\_T\\_Macrophages\\textbar{}B\\_cell\\_Plasmablasts'\n",
       "\\item 'non\\_B\\_non\\_T\\_NK cells\\textbar{}B\\_cell\\_Atypical'\n",
       "\\item 'non\\_B\\_non\\_T\\_NK cells\\textbar{}B\\_cell\\_Age-associated/autoimmune'\n",
       "\\item 'non\\_B\\_non\\_T\\_NK cells\\textbar{}B\\_cell\\_Cycling'\n",
       "\\item 'non\\_B\\_non\\_T\\_NK cells\\textbar{}B\\_cell\\_Plasmablasts'\n",
       "\\item 'non\\_B\\_non\\_T\\_Cycling\\textbar{}B\\_cell\\_Atypical'\n",
       "\\item 'non\\_B\\_non\\_T\\_Cycling\\textbar{}B\\_cell\\_Age-associated/autoimmune'\n",
       "\\item 'non\\_B\\_non\\_T\\_Cycling\\textbar{}B\\_cell\\_Cycling'\n",
       "\\item 'non\\_B\\_non\\_T\\_Cycling\\textbar{}B\\_cell\\_Plasmablasts'\n",
       "\\item 'non\\_B\\_non\\_T\\_Neutrophils\\textbar{}B\\_cell\\_Atypical'\n",
       "\\item 'non\\_B\\_non\\_T\\_Neutrophils\\textbar{}B\\_cell\\_Age-associated/autoimmune'\n",
       "\\item 'non\\_B\\_non\\_T\\_Neutrophils\\textbar{}B\\_cell\\_Cycling'\n",
       "\\item 'non\\_B\\_non\\_T\\_Neutrophils\\textbar{}B\\_cell\\_Plasmablasts'\n",
       "\\end{enumerate*}\n"
      ],
      "text/markdown": [
       "1. 'non_B_non_T_Macrophages|B_cell_Atypical'\n",
       "2. 'non_B_non_T_Macrophages|B_cell_Age-associated/autoimmune'\n",
       "3. 'non_B_non_T_Macrophages|B_cell_Cycling'\n",
       "4. 'non_B_non_T_Macrophages|B_cell_Plasmablasts'\n",
       "5. 'non_B_non_T_NK cells|B_cell_Atypical'\n",
       "6. 'non_B_non_T_NK cells|B_cell_Age-associated/autoimmune'\n",
       "7. 'non_B_non_T_NK cells|B_cell_Cycling'\n",
       "8. 'non_B_non_T_NK cells|B_cell_Plasmablasts'\n",
       "9. 'non_B_non_T_Cycling|B_cell_Atypical'\n",
       "10. 'non_B_non_T_Cycling|B_cell_Age-associated/autoimmune'\n",
       "11. 'non_B_non_T_Cycling|B_cell_Cycling'\n",
       "12. 'non_B_non_T_Cycling|B_cell_Plasmablasts'\n",
       "13. 'non_B_non_T_Neutrophils|B_cell_Atypical'\n",
       "14. 'non_B_non_T_Neutrophils|B_cell_Age-associated/autoimmune'\n",
       "15. 'non_B_non_T_Neutrophils|B_cell_Cycling'\n",
       "16. 'non_B_non_T_Neutrophils|B_cell_Plasmablasts'\n",
       "\n",
       "\n"
      ],
      "text/plain": [
       " [1] \"non_B_non_T_Macrophages|B_cell_Atypical\"                 \n",
       " [2] \"non_B_non_T_Macrophages|B_cell_Age-associated/autoimmune\"\n",
       " [3] \"non_B_non_T_Macrophages|B_cell_Cycling\"                  \n",
       " [4] \"non_B_non_T_Macrophages|B_cell_Plasmablasts\"             \n",
       " [5] \"non_B_non_T_NK cells|B_cell_Atypical\"                    \n",
       " [6] \"non_B_non_T_NK cells|B_cell_Age-associated/autoimmune\"   \n",
       " [7] \"non_B_non_T_NK cells|B_cell_Cycling\"                     \n",
       " [8] \"non_B_non_T_NK cells|B_cell_Plasmablasts\"                \n",
       " [9] \"non_B_non_T_Cycling|B_cell_Atypical\"                     \n",
       "[10] \"non_B_non_T_Cycling|B_cell_Age-associated/autoimmune\"    \n",
       "[11] \"non_B_non_T_Cycling|B_cell_Cycling\"                      \n",
       "[12] \"non_B_non_T_Cycling|B_cell_Plasmablasts\"                 \n",
       "[13] \"non_B_non_T_Neutrophils|B_cell_Atypical\"                 \n",
       "[14] \"non_B_non_T_Neutrophils|B_cell_Age-associated/autoimmune\"\n",
       "[15] \"non_B_non_T_Neutrophils|B_cell_Cycling\"                  \n",
       "[16] \"non_B_non_T_Neutrophils|B_cell_Plasmablasts\"             "
      ]
     },
     "metadata": {},
     "output_type": "display_data"
    },
    {
     "data": {
      "text/html": [
       "TRUE"
      ],
      "text/latex": [
       "TRUE"
      ],
      "text/markdown": [
       "TRUE"
      ],
      "text/plain": [
       "[1] TRUE"
      ]
     },
     "metadata": {},
     "output_type": "display_data"
    },
    {
     "data": {
      "text/html": [
       "<style>\n",
       ".list-inline {list-style: none; margin:0; padding: 0}\n",
       ".list-inline>li {display: inline-block}\n",
       ".list-inline>li:not(:last-child)::after {content: \"\\00b7\"; padding: 0 .5ex}\n",
       "</style>\n",
       "<ol class=list-inline><li>'B_cell_Atypical|non_B_non_T_Macrophages'</li><li>'B_cell_Age-associated/autoimmune|non_B_non_T_Macrophages'</li><li>'B_cell_Cycling|non_B_non_T_Macrophages'</li><li>'B_cell_Plasmablasts|non_B_non_T_Macrophages'</li><li>'B_cell_Atypical|non_B_non_T_NK cells'</li><li>'B_cell_Age-associated/autoimmune|non_B_non_T_NK cells'</li><li>'B_cell_Cycling|non_B_non_T_NK cells'</li><li>'B_cell_Plasmablasts|non_B_non_T_NK cells'</li><li>'B_cell_Atypical|non_B_non_T_Cycling'</li><li>'B_cell_Age-associated/autoimmune|non_B_non_T_Cycling'</li><li>'B_cell_Cycling|non_B_non_T_Cycling'</li><li>'B_cell_Plasmablasts|non_B_non_T_Cycling'</li><li>'B_cell_Atypical|non_B_non_T_Neutrophils'</li><li>'B_cell_Age-associated/autoimmune|non_B_non_T_Neutrophils'</li><li>'B_cell_Cycling|non_B_non_T_Neutrophils'</li><li>'B_cell_Plasmablasts|non_B_non_T_Neutrophils'</li></ol>\n"
      ],
      "text/latex": [
       "\\begin{enumerate*}\n",
       "\\item 'B\\_cell\\_Atypical\\textbar{}non\\_B\\_non\\_T\\_Macrophages'\n",
       "\\item 'B\\_cell\\_Age-associated/autoimmune\\textbar{}non\\_B\\_non\\_T\\_Macrophages'\n",
       "\\item 'B\\_cell\\_Cycling\\textbar{}non\\_B\\_non\\_T\\_Macrophages'\n",
       "\\item 'B\\_cell\\_Plasmablasts\\textbar{}non\\_B\\_non\\_T\\_Macrophages'\n",
       "\\item 'B\\_cell\\_Atypical\\textbar{}non\\_B\\_non\\_T\\_NK cells'\n",
       "\\item 'B\\_cell\\_Age-associated/autoimmune\\textbar{}non\\_B\\_non\\_T\\_NK cells'\n",
       "\\item 'B\\_cell\\_Cycling\\textbar{}non\\_B\\_non\\_T\\_NK cells'\n",
       "\\item 'B\\_cell\\_Plasmablasts\\textbar{}non\\_B\\_non\\_T\\_NK cells'\n",
       "\\item 'B\\_cell\\_Atypical\\textbar{}non\\_B\\_non\\_T\\_Cycling'\n",
       "\\item 'B\\_cell\\_Age-associated/autoimmune\\textbar{}non\\_B\\_non\\_T\\_Cycling'\n",
       "\\item 'B\\_cell\\_Cycling\\textbar{}non\\_B\\_non\\_T\\_Cycling'\n",
       "\\item 'B\\_cell\\_Plasmablasts\\textbar{}non\\_B\\_non\\_T\\_Cycling'\n",
       "\\item 'B\\_cell\\_Atypical\\textbar{}non\\_B\\_non\\_T\\_Neutrophils'\n",
       "\\item 'B\\_cell\\_Age-associated/autoimmune\\textbar{}non\\_B\\_non\\_T\\_Neutrophils'\n",
       "\\item 'B\\_cell\\_Cycling\\textbar{}non\\_B\\_non\\_T\\_Neutrophils'\n",
       "\\item 'B\\_cell\\_Plasmablasts\\textbar{}non\\_B\\_non\\_T\\_Neutrophils'\n",
       "\\end{enumerate*}\n"
      ],
      "text/markdown": [
       "1. 'B_cell_Atypical|non_B_non_T_Macrophages'\n",
       "2. 'B_cell_Age-associated/autoimmune|non_B_non_T_Macrophages'\n",
       "3. 'B_cell_Cycling|non_B_non_T_Macrophages'\n",
       "4. 'B_cell_Plasmablasts|non_B_non_T_Macrophages'\n",
       "5. 'B_cell_Atypical|non_B_non_T_NK cells'\n",
       "6. 'B_cell_Age-associated/autoimmune|non_B_non_T_NK cells'\n",
       "7. 'B_cell_Cycling|non_B_non_T_NK cells'\n",
       "8. 'B_cell_Plasmablasts|non_B_non_T_NK cells'\n",
       "9. 'B_cell_Atypical|non_B_non_T_Cycling'\n",
       "10. 'B_cell_Age-associated/autoimmune|non_B_non_T_Cycling'\n",
       "11. 'B_cell_Cycling|non_B_non_T_Cycling'\n",
       "12. 'B_cell_Plasmablasts|non_B_non_T_Cycling'\n",
       "13. 'B_cell_Atypical|non_B_non_T_Neutrophils'\n",
       "14. 'B_cell_Age-associated/autoimmune|non_B_non_T_Neutrophils'\n",
       "15. 'B_cell_Cycling|non_B_non_T_Neutrophils'\n",
       "16. 'B_cell_Plasmablasts|non_B_non_T_Neutrophils'\n",
       "\n",
       "\n"
      ],
      "text/plain": [
       " [1] \"B_cell_Atypical|non_B_non_T_Macrophages\"                 \n",
       " [2] \"B_cell_Age-associated/autoimmune|non_B_non_T_Macrophages\"\n",
       " [3] \"B_cell_Cycling|non_B_non_T_Macrophages\"                  \n",
       " [4] \"B_cell_Plasmablasts|non_B_non_T_Macrophages\"             \n",
       " [5] \"B_cell_Atypical|non_B_non_T_NK cells\"                    \n",
       " [6] \"B_cell_Age-associated/autoimmune|non_B_non_T_NK cells\"   \n",
       " [7] \"B_cell_Cycling|non_B_non_T_NK cells\"                     \n",
       " [8] \"B_cell_Plasmablasts|non_B_non_T_NK cells\"                \n",
       " [9] \"B_cell_Atypical|non_B_non_T_Cycling\"                     \n",
       "[10] \"B_cell_Age-associated/autoimmune|non_B_non_T_Cycling\"    \n",
       "[11] \"B_cell_Cycling|non_B_non_T_Cycling\"                      \n",
       "[12] \"B_cell_Plasmablasts|non_B_non_T_Cycling\"                 \n",
       "[13] \"B_cell_Atypical|non_B_non_T_Neutrophils\"                 \n",
       "[14] \"B_cell_Age-associated/autoimmune|non_B_non_T_Neutrophils\"\n",
       "[15] \"B_cell_Cycling|non_B_non_T_Neutrophils\"                  \n",
       "[16] \"B_cell_Plasmablasts|non_B_non_T_Neutrophils\"             "
      ]
     },
     "metadata": {},
     "output_type": "display_data"
    },
    {
     "data": {
      "text/html": [
       "TRUE"
      ],
      "text/latex": [
       "TRUE"
      ],
      "text/markdown": [
       "TRUE"
      ],
      "text/plain": [
       "[1] TRUE"
      ]
     },
     "metadata": {},
     "output_type": "display_data"
    }
   ],
   "source": [
    "cd3_pos_cd4_neg_clusters<- c(\"cd3_pos_cd4_neg_Cycling\", \"cd3_pos_cd4_neg_CTLs\")\n",
    "B_cell_clusters<- c(\"B_cell_Atypical\", \"B_cell_Age-associated/autoimmune\", \"B_cell_Cycling\", \"B_cell_Plasmablasts\")\n",
    "\n",
    "cd3_pos_cd4_neg_B_cell_interacts<- c()\n",
    "B_cell_cd3_pos_cd4_neg_interacts<- c()\n",
    "\n",
    "for (c1 in cd3_pos_cd4_neg_clusters){\n",
    "    for (c2 in B_cell_clusters){\n",
    "        \n",
    "        interact<- paste0(c1, \"|\", c2)\n",
    "        inverse_interact<- paste0(c2, \"|\", c1)\n",
    "        \n",
    "        cd3_pos_cd4_neg_B_cell_interacts<- c(cd3_pos_cd4_neg_B_cell_interacts, interact)\n",
    "        B_cell_cd3_pos_cd4_neg_interacts<- c(B_cell_cd3_pos_cd4_neg_interacts, inverse_interact)\n",
    "    }\n",
    "}\n",
    "\n",
    "cd3_pos_cd4_neg_B_cell_interacts\n",
    "sum(colnames(ph_wt_6mos_pvals) %in% cd3_pos_cd4_neg_B_cell_interacts) == length(cd3_pos_cd4_neg_B_cell_interacts)\n",
    "\n",
    "B_cell_cd3_pos_cd4_neg_interacts\n",
    "sum(colnames(ph_wt_6mos_pvals) %in% B_cell_cd3_pos_cd4_neg_interacts) == length(B_cell_cd3_pos_cd4_neg_interacts)\n",
    "\n",
    "cd3_pos_cd8_neg_clusters<- c(\"cd3_pos_cd8_neg_Tregs\", \"cd3_pos_cd8_neg_Follicular Tregs\", \n",
    "                             \"cd3_pos_cd8_neg_Cycling\", \"cd3_pos_cd8_neg_CTLs\")\n",
    "B_cell_clusters<- c(\"B_cell_Atypical\", \"B_cell_Age-associated/autoimmune\", \n",
    "                    \"B_cell_Cycling\", \"B_cell_Plasmablasts\")\n",
    "\n",
    "cd3_pos_cd8_neg_B_cell_interacts<- c()\n",
    "B_cell_cd3_pos_cd8_neg_interacts<- c()\n",
    "\n",
    "for (c1 in cd3_pos_cd8_neg_clusters){\n",
    "    for (c2 in B_cell_clusters){\n",
    "        \n",
    "        interact<- paste0(c1, \"|\", c2)\n",
    "        inverse_interact<- paste0(c2, \"|\", c1)\n",
    "        \n",
    "        cd3_pos_cd8_neg_B_cell_interacts<- c(cd3_pos_cd8_neg_B_cell_interacts, interact)\n",
    "        B_cell_cd3_pos_cd8_neg_interacts<- c(B_cell_cd3_pos_cd8_neg_interacts, inverse_interact)\n",
    "    }\n",
    "}\n",
    "\n",
    "cd3_pos_cd8_neg_B_cell_interacts\n",
    "# cd3_pos_cd8_neg_B_cell_interacts[!cd3_pos_cd8_neg_B_cell_interacts %in% colnames(ph_wt_6mos_pvals)]\n",
    "sum(colnames(ph_wt_6mos_pvals) %in% cd3_pos_cd8_neg_B_cell_interacts) == length(cd3_pos_cd8_neg_B_cell_interacts)\n",
    "\n",
    "B_cell_cd3_pos_cd8_neg_interacts\n",
    "sum(colnames(ph_wt_6mos_pvals) %in% B_cell_cd3_pos_cd8_neg_interacts) == length(B_cell_cd3_pos_cd8_neg_interacts)\n",
    "\n",
    "non_B_non_T_clusters<- c(\"non_B_non_T_Macrophages\", \"non_B_non_T_NK cells\", \n",
    "                             \"non_B_non_T_Cycling\", \"non_B_non_T_Neutrophils\")\n",
    "B_cell_clusters<- c(\"B_cell_Atypical\", \"B_cell_Age-associated/autoimmune\", \n",
    "                    \"B_cell_Cycling\", \"B_cell_Plasmablasts\")\n",
    "\n",
    "non_B_non_T_B_cell_interacts<- c()\n",
    "B_cell_non_B_non_T_interacts<- c()\n",
    "\n",
    "for (c1 in non_B_non_T_clusters){\n",
    "    for (c2 in B_cell_clusters){\n",
    "        \n",
    "        interact<- paste0(c1, \"|\", c2)\n",
    "        inverse_interact<- paste0(c2, \"|\", c1)\n",
    "        \n",
    "        non_B_non_T_B_cell_interacts<- c(non_B_non_T_B_cell_interacts, interact)\n",
    "        B_cell_non_B_non_T_interacts<- c(B_cell_non_B_non_T_interacts, inverse_interact)\n",
    "    }\n",
    "}\n",
    "\n",
    "non_B_non_T_B_cell_interacts\n",
    "# non_B_non_T_B_cell_interacts[!non_B_non_T_B_cell_interacts %in% colnames(ph_wt_6mos_pvals)]\n",
    "sum(colnames(ph_wt_6mos_pvals) %in% non_B_non_T_B_cell_interacts) == length(non_B_non_T_B_cell_interacts)\n",
    "\n",
    "B_cell_non_B_non_T_interacts\n",
    "sum(colnames(ph_wt_6mos_pvals) %in% B_cell_non_B_non_T_interacts) == length(B_cell_non_B_non_T_interacts)"
   ]
  },
  {
   "cell_type": "code",
   "execution_count": 6,
   "id": "a9aff883",
   "metadata": {},
   "outputs": [
    {
     "name": "stderr",
     "output_type": "stream",
     "text": [
      "total number of intersections considered: 43\n",
      "\n",
      "6 mos...\n",
      "\n",
      "14 mos...\n",
      "\n",
      "18 mos...\n",
      "\n",
      "Generating count matrix...\n",
      "\n",
      "Generating pvalue matrix...\n",
      "\n",
      "output unscaled data\n",
      "\n",
      "total number of intersections considered: 50\n",
      "\n",
      "6 mos...\n",
      "\n",
      "14 mos...\n",
      "\n",
      "18 mos...\n",
      "\n",
      "Generating count matrix...\n",
      "\n",
      "Generating pvalue matrix...\n",
      "\n",
      "output unscaled data\n",
      "\n",
      "total number of intersections considered: 57\n",
      "\n",
      "6 mos...\n",
      "\n",
      "14 mos...\n",
      "\n",
      "18 mos...\n",
      "\n",
      "Generating count matrix...\n",
      "\n",
      "Generating pvalue matrix...\n",
      "\n",
      "output unscaled data\n",
      "\n",
      "total number of intersections considered: 57\n",
      "\n",
      "6 mos...\n",
      "\n",
      "14 mos...\n",
      "\n",
      "18 mos...\n",
      "\n",
      "Generating count matrix...\n",
      "\n",
      "Generating pvalue matrix...\n",
      "\n",
      "output unscaled data\n",
      "\n",
      "total number of intersections considered: 73\n",
      "\n",
      "6 mos...\n",
      "\n",
      "14 mos...\n",
      "\n",
      "18 mos...\n",
      "\n",
      "Generating count matrix...\n",
      "\n",
      "Generating pvalue matrix...\n",
      "\n",
      "output unscaled data\n",
      "\n",
      "total number of intersections considered: 79\n",
      "\n",
      "6 mos...\n",
      "\n",
      "14 mos...\n",
      "\n",
      "18 mos...\n",
      "\n",
      "Generating count matrix...\n",
      "\n",
      "Generating pvalue matrix...\n",
      "\n",
      "output unscaled data\n",
      "\n"
     ]
    }
   ],
   "source": [
    "cd3_pos_cd4_neg_B_cell_mtx_bcl6 = build_cpdb_mtx_noSick(cols = cd3_pos_cd4_neg_B_cell_interacts,\n",
    "                                            scaled = FALSE,\n",
    "                                            sig.cellpairs = 3,\n",
    "                                            sig.timepoint = 1, \n",
    "                                            group_name = \"_bcl6\",\n",
    "                                            ph_6mos_pvals = ph_bcl6_6mos_pvals,\n",
    "                                            ph_6mos_means = ph_bcl6_6mos_means,\n",
    "                                            ph_14mos_pvals = ph_bcl6_14mos_pvals,\n",
    "                                            ph_14mos_means = ph_bcl6_14mos_means,\n",
    "                                            ph_18mos_pvals = ph_bcl6_18mos_pvals,\n",
    "                                            ph_18mos_means = ph_bcl6_18mos_means)\n",
    "\n",
    "B_cell_cd3_pos_cd4_neg_mtx_bcl6 = build_cpdb_mtx_noSick(cols = B_cell_cd3_pos_cd4_neg_interacts,\n",
    "                                            scaled = FALSE,\n",
    "                                            sig.cellpairs = 3,\n",
    "                                            sig.timepoint = 1, \n",
    "                                            group_name = \"_bcl6\",\n",
    "                                            ph_6mos_pvals = ph_bcl6_6mos_pvals,\n",
    "                                            ph_6mos_means = ph_bcl6_6mos_means,\n",
    "                                            ph_14mos_pvals = ph_bcl6_14mos_pvals,\n",
    "                                            ph_14mos_means = ph_bcl6_14mos_means,\n",
    "                                            ph_18mos_pvals = ph_bcl6_18mos_pvals,\n",
    "                                            ph_18mos_means = ph_bcl6_18mos_means)\n",
    "\n",
    "cd3_pos_cd8_neg_B_cell_mtx_bcl6 = build_cpdb_mtx_noSick(cols = cd3_pos_cd8_neg_B_cell_interacts,\n",
    "                                            scaled = FALSE,\n",
    "                                            sig.cellpairs = 3,\n",
    "                                            sig.timepoint = 1,  \n",
    "                                            group_name = \"_bcl6\",\n",
    "                                            ph_6mos_pvals = ph_bcl6_6mos_pvals,\n",
    "                                            ph_6mos_means = ph_bcl6_6mos_means,\n",
    "                                            ph_14mos_pvals = ph_bcl6_14mos_pvals,\n",
    "                                            ph_14mos_means = ph_bcl6_14mos_means,\n",
    "                                            ph_18mos_pvals = ph_bcl6_18mos_pvals,\n",
    "                                            ph_18mos_means = ph_bcl6_18mos_means)\n",
    "\n",
    "B_cell_cd3_pos_cd8_neg_mtx_bcl6 = build_cpdb_mtx_noSick(cols = B_cell_cd3_pos_cd8_neg_interacts, \n",
    "                                            scaled = FALSE,\n",
    "                                            sig.cellpairs = 3,\n",
    "                                            sig.timepoint = 1,  \n",
    "                                            group_name = \"_bcl6\",\n",
    "                                            ph_6mos_pvals = ph_bcl6_6mos_pvals,\n",
    "                                            ph_6mos_means = ph_bcl6_6mos_means,\n",
    "                                            ph_14mos_pvals = ph_bcl6_14mos_pvals,\n",
    "                                            ph_14mos_means = ph_bcl6_14mos_means,\n",
    "                                            ph_18mos_pvals = ph_bcl6_18mos_pvals,\n",
    "                                            ph_18mos_means = ph_bcl6_18mos_means)\n",
    "\n",
    "non_B_non_T_B_cell_mtx_bcl6 = build_cpdb_mtx_noSick(cols = non_B_non_T_B_cell_interacts,\n",
    "                                            scaled = FALSE,\n",
    "                                            sig.cellpairs = 3,\n",
    "                                            sig.timepoint = 1, \n",
    "                                            group_name = \"_bcl6\",\n",
    "                                            ph_6mos_pvals = ph_bcl6_6mos_pvals,\n",
    "                                            ph_6mos_means = ph_bcl6_6mos_means,\n",
    "                                            ph_14mos_pvals = ph_bcl6_14mos_pvals,\n",
    "                                            ph_14mos_means = ph_bcl6_14mos_means,\n",
    "                                            ph_18mos_pvals = ph_bcl6_18mos_pvals,\n",
    "                                            ph_18mos_means = ph_bcl6_18mos_means)\n",
    "\n",
    "B_cell_non_B_non_T_mtx_bcl6 = build_cpdb_mtx_noSick(cols = B_cell_non_B_non_T_interacts,\n",
    "                                            scaled = FALSE,\n",
    "                                            sig.cellpairs = 3,\n",
    "                                            sig.timepoint = 1, \n",
    "                                            group_name = \"_bcl6\",\n",
    "                                            ph_6mos_pvals = ph_bcl6_6mos_pvals,\n",
    "                                            ph_6mos_means = ph_bcl6_6mos_means,\n",
    "                                            ph_14mos_pvals = ph_bcl6_14mos_pvals,\n",
    "                                            ph_14mos_means = ph_bcl6_14mos_means,\n",
    "                                            ph_18mos_pvals = ph_bcl6_18mos_pvals,\n",
    "                                            ph_18mos_means = ph_bcl6_18mos_means)"
   ]
  },
  {
   "cell_type": "code",
   "execution_count": 7,
   "id": "77fbb02b",
   "metadata": {},
   "outputs": [
    {
     "name": "stderr",
     "output_type": "stream",
     "text": [
      "total number of intersections considered: 40\n",
      "\n",
      "6 mos...\n",
      "\n",
      "14 mos...\n",
      "\n",
      "18 mos...\n",
      "\n",
      "Generating count matrix...\n",
      "\n",
      "Generating pvalue matrix...\n",
      "\n",
      "output unscaled data\n",
      "\n",
      "total number of intersections considered: 44\n",
      "\n",
      "6 mos...\n",
      "\n",
      "14 mos...\n",
      "\n",
      "18 mos...\n",
      "\n",
      "Generating count matrix...\n",
      "\n",
      "Generating pvalue matrix...\n",
      "\n",
      "output unscaled data\n",
      "\n",
      "total number of intersections considered: 55\n",
      "\n",
      "6 mos...\n",
      "\n",
      "14 mos...\n",
      "\n",
      "18 mos...\n",
      "\n",
      "Generating count matrix...\n",
      "\n",
      "Generating pvalue matrix...\n",
      "\n",
      "output unscaled data\n",
      "\n",
      "total number of intersections considered: 61\n",
      "\n",
      "6 mos...\n",
      "\n",
      "14 mos...\n",
      "\n",
      "18 mos...\n",
      "\n",
      "Generating count matrix...\n",
      "\n",
      "Generating pvalue matrix...\n",
      "\n",
      "output unscaled data\n",
      "\n",
      "total number of intersections considered: 67\n",
      "\n",
      "6 mos...\n",
      "\n",
      "14 mos...\n",
      "\n",
      "18 mos...\n",
      "\n",
      "Generating count matrix...\n",
      "\n",
      "Generating pvalue matrix...\n",
      "\n",
      "output unscaled data\n",
      "\n",
      "total number of intersections considered: 81\n",
      "\n",
      "6 mos...\n",
      "\n",
      "14 mos...\n",
      "\n",
      "18 mos...\n",
      "\n",
      "Generating count matrix...\n",
      "\n",
      "Generating pvalue matrix...\n",
      "\n",
      "output unscaled data\n",
      "\n"
     ]
    }
   ],
   "source": [
    "cd3_pos_cd4_neg_B_cell_mtx_bcl6_double = build_cpdb_mtx_noSick(cols = cd3_pos_cd4_neg_B_cell_interacts,\n",
    "                                            scaled = FALSE,\n",
    "                                            group_name = \"_bcl6_double\",\n",
    "                                            sig.cellpairs = 3,\n",
    "                                            sig.timepoint = 1, \n",
    "                                            ph_6mos_pvals = ph_bcl6_double_6mos_pvals,\n",
    "                                            ph_6mos_means = ph_bcl6_double_6mos_means,\n",
    "                                            ph_14mos_pvals = ph_bcl6_double_14mos_pvals,\n",
    "                                            ph_14mos_means = ph_bcl6_double_14mos_means,\n",
    "                                            ph_18mos_pvals = ph_bcl6_double_18mos_pvals,\n",
    "                                            ph_18mos_means = ph_bcl6_double_18mos_means)\n",
    "\n",
    "B_cell_cd3_pos_cd4_neg_mtx_bcl6_double = build_cpdb_mtx_noSick(cols = B_cell_cd3_pos_cd4_neg_interacts,\n",
    "                                            scaled = FALSE,            \n",
    "                                            group_name = \"_bcl6_double\",\n",
    "                                            sig.cellpairs = 3,\n",
    "                                            sig.timepoint = 1, \n",
    "                                            ph_6mos_pvals = ph_bcl6_double_6mos_pvals,\n",
    "                                            ph_6mos_means = ph_bcl6_double_6mos_means,\n",
    "                                            ph_14mos_pvals = ph_bcl6_double_14mos_pvals,\n",
    "                                            ph_14mos_means = ph_bcl6_double_14mos_means,\n",
    "                                            ph_18mos_pvals = ph_bcl6_double_18mos_pvals,\n",
    "                                            ph_18mos_means = ph_bcl6_double_18mos_means)\n",
    "\n",
    "cd3_pos_cd8_neg_B_cell_mtx_bcl6_double = build_cpdb_mtx_noSick(cols = cd3_pos_cd8_neg_B_cell_interacts,\n",
    "                                            scaled = FALSE,\n",
    "                                            group_name = \"_bcl6_double\",\n",
    "                                            sig.cellpairs = 3,\n",
    "                                            sig.timepoint = 1, \n",
    "                                            ph_6mos_pvals = ph_bcl6_double_6mos_pvals,\n",
    "                                            ph_6mos_means = ph_bcl6_double_6mos_means,\n",
    "                                            ph_14mos_pvals = ph_bcl6_double_14mos_pvals,\n",
    "                                            ph_14mos_means = ph_bcl6_double_14mos_means,\n",
    "                                            ph_18mos_pvals = ph_bcl6_double_18mos_pvals,\n",
    "                                            ph_18mos_means = ph_bcl6_double_18mos_means)\n",
    "\n",
    "B_cell_cd3_pos_cd8_neg_mtx_bcl6_double = build_cpdb_mtx_noSick(cols = B_cell_cd3_pos_cd8_neg_interacts, \n",
    "                                            scaled = FALSE,\n",
    "                                            group_name = \"_bcl6_double\",\n",
    "                                            sig.cellpairs = 3,\n",
    "                                            sig.timepoint = 1, \n",
    "                                            ph_6mos_pvals = ph_bcl6_double_6mos_pvals,\n",
    "                                            ph_6mos_means = ph_bcl6_double_6mos_means,\n",
    "                                            ph_14mos_pvals = ph_bcl6_double_14mos_pvals,\n",
    "                                            ph_14mos_means = ph_bcl6_double_14mos_means,\n",
    "                                            ph_18mos_pvals = ph_bcl6_double_18mos_pvals,\n",
    "                                            ph_18mos_means = ph_bcl6_double_18mos_means)\n",
    "\n",
    "non_B_non_T_B_cell_mtx_bcl6_double = build_cpdb_mtx_noSick(cols = non_B_non_T_B_cell_interacts,\n",
    "                                            scaled = FALSE,\n",
    "                                            group_name = \"_bcl6_double\",\n",
    "                                            sig.cellpairs = 3,\n",
    "                                            sig.timepoint = 1, \n",
    "                                            ph_6mos_pvals = ph_bcl6_double_6mos_pvals,\n",
    "                                            ph_6mos_means = ph_bcl6_double_6mos_means,\n",
    "                                            ph_14mos_pvals = ph_bcl6_double_14mos_pvals,\n",
    "                                            ph_14mos_means = ph_bcl6_double_14mos_means,\n",
    "                                            ph_18mos_pvals = ph_bcl6_double_18mos_pvals,\n",
    "                                            ph_18mos_means = ph_bcl6_double_18mos_means)\n",
    "\n",
    "B_cell_non_B_non_T_mtx_bcl6_double = build_cpdb_mtx_noSick(cols = B_cell_non_B_non_T_interacts,\n",
    "                                            scaled = FALSE,\n",
    "                                            group_name = \"_bcl6_double\",\n",
    "                                            sig.cellpairs = 3,\n",
    "                                            sig.timepoint = 1, \n",
    "                                            ph_6mos_pvals = ph_bcl6_double_6mos_pvals,\n",
    "                                            ph_6mos_means = ph_bcl6_double_6mos_means,\n",
    "                                            ph_14mos_pvals = ph_bcl6_double_14mos_pvals,\n",
    "                                            ph_14mos_means = ph_bcl6_double_14mos_means,\n",
    "                                            ph_18mos_pvals = ph_bcl6_double_18mos_pvals,\n",
    "                                            ph_18mos_means = ph_bcl6_double_18mos_means)"
   ]
  },
  {
   "cell_type": "code",
   "execution_count": 8,
   "id": "fd48d5a6",
   "metadata": {},
   "outputs": [
    {
     "name": "stderr",
     "output_type": "stream",
     "text": [
      "total number of intersections considered: 37\n",
      "\n",
      "6 mos...\n",
      "\n",
      "14 mos...\n",
      "\n",
      "18 mos...\n",
      "\n",
      "Generating count matrix...\n",
      "\n",
      "Generating pvalue matrix...\n",
      "\n",
      "output unscaled data\n",
      "\n",
      "total number of intersections considered: 34\n",
      "\n",
      "6 mos...\n",
      "\n",
      "14 mos...\n",
      "\n",
      "18 mos...\n",
      "\n",
      "Generating count matrix...\n",
      "\n",
      "Generating pvalue matrix...\n",
      "\n",
      "output unscaled data\n",
      "\n",
      "total number of intersections considered: 59\n",
      "\n",
      "6 mos...\n",
      "\n",
      "14 mos...\n",
      "\n",
      "18 mos...\n",
      "\n",
      "Generating count matrix...\n",
      "\n",
      "Generating pvalue matrix...\n",
      "\n",
      "output unscaled data\n",
      "\n",
      "total number of intersections considered: 51\n",
      "\n",
      "6 mos...\n",
      "\n",
      "14 mos...\n",
      "\n",
      "18 mos...\n",
      "\n",
      "Generating count matrix...\n",
      "\n",
      "Generating pvalue matrix...\n",
      "\n",
      "output unscaled data\n",
      "\n",
      "total number of intersections considered: 62\n",
      "\n",
      "6 mos...\n",
      "\n",
      "14 mos...\n",
      "\n",
      "18 mos...\n",
      "\n",
      "Generating count matrix...\n",
      "\n",
      "Generating pvalue matrix...\n",
      "\n",
      "output unscaled data\n",
      "\n",
      "total number of intersections considered: 69\n",
      "\n",
      "6 mos...\n",
      "\n",
      "14 mos...\n",
      "\n",
      "18 mos...\n",
      "\n",
      "Generating count matrix...\n",
      "\n",
      "Generating pvalue matrix...\n",
      "\n",
      "output unscaled data\n",
      "\n"
     ]
    }
   ],
   "source": [
    "cd3_pos_cd4_neg_B_cell_mtx_wt = build_cpdb_mtx_wt(cols = cd3_pos_cd4_neg_B_cell_interacts,\n",
    "                                            scaled = FALSE,\n",
    "                                            group_name = \"_wt\",\n",
    "                                            sig.cellpairs = 3,\n",
    "                                            sig.timepoint = 1, \n",
    "                                            ph_6mos_pvals = ph_wt_6mos_pvals,\n",
    "                                            ph_6mos_means = ph_wt_6mos_means,\n",
    "                                            ph_14mos_pvals = ph_wt_14mos_pvals,\n",
    "                                            ph_14mos_means = ph_wt_14mos_means,\n",
    "                                            ph_18mos_pvals = ph_wt_18mos_pvals,\n",
    "                                            ph_18mos_means = ph_wt_18mos_means)\n",
    "\n",
    "B_cell_cd3_pos_cd4_neg_mtx_wt = build_cpdb_mtx_wt(cols = B_cell_cd3_pos_cd4_neg_interacts,\n",
    "                                            scaled = FALSE,            \n",
    "                                            group_name = \"_wt\",\n",
    "                                            sig.cellpairs = 3,\n",
    "                                            sig.timepoint = 1, \n",
    "                                            ph_6mos_pvals = ph_wt_6mos_pvals,\n",
    "                                            ph_6mos_means = ph_wt_6mos_means,\n",
    "                                            ph_14mos_pvals = ph_wt_14mos_pvals,\n",
    "                                            ph_14mos_means = ph_wt_14mos_means,\n",
    "                                            ph_18mos_pvals = ph_wt_18mos_pvals,\n",
    "                                            ph_18mos_means = ph_wt_18mos_means)\n",
    "\n",
    "cd3_pos_cd8_neg_B_cell_mtx_wt = build_cpdb_mtx_wt(cols = cd3_pos_cd8_neg_B_cell_interacts,\n",
    "                                            scaled = FALSE,\n",
    "                                            group_name = \"_wt\",\n",
    "                                            sig.cellpairs = 3,\n",
    "                                            sig.timepoint = 1, \n",
    "                                            ph_6mos_pvals = ph_wt_6mos_pvals,\n",
    "                                            ph_6mos_means = ph_wt_6mos_means,\n",
    "                                            ph_14mos_pvals = ph_wt_14mos_pvals,\n",
    "                                            ph_14mos_means = ph_wt_14mos_means,\n",
    "                                            ph_18mos_pvals = ph_wt_18mos_pvals,\n",
    "                                            ph_18mos_means = ph_wt_18mos_means)\n",
    "\n",
    "B_cell_cd3_pos_cd8_neg_mtx_wt = build_cpdb_mtx_wt(cols = B_cell_cd3_pos_cd8_neg_interacts, \n",
    "                                            scaled = FALSE,\n",
    "                                            group_name = \"_wt\",\n",
    "                                            sig.cellpairs = 3,\n",
    "                                            sig.timepoint = 1, \n",
    "                                            ph_6mos_pvals = ph_wt_6mos_pvals,\n",
    "                                            ph_6mos_means = ph_wt_6mos_means,\n",
    "                                            ph_14mos_pvals = ph_wt_14mos_pvals,\n",
    "                                            ph_14mos_means = ph_wt_14mos_means,\n",
    "                                            ph_18mos_pvals = ph_wt_18mos_pvals,\n",
    "                                            ph_18mos_means = ph_wt_18mos_means)\n",
    "\n",
    "non_B_non_T_B_cell_mtx_wt = build_cpdb_mtx_wt(cols = non_B_non_T_B_cell_interacts,\n",
    "                                            scaled = FALSE,\n",
    "                                            group_name = \"_wt\",\n",
    "                                            sig.cellpairs = 3,\n",
    "                                            sig.timepoint = 1, \n",
    "                                            ph_6mos_pvals = ph_wt_6mos_pvals,\n",
    "                                            ph_6mos_means = ph_wt_6mos_means,\n",
    "                                            ph_14mos_pvals = ph_wt_14mos_pvals,\n",
    "                                            ph_14mos_means = ph_wt_14mos_means,\n",
    "                                            ph_18mos_pvals = ph_wt_18mos_pvals,\n",
    "                                            ph_18mos_means = ph_wt_18mos_means)\n",
    "\n",
    "B_cell_non_B_non_T_mtx_wt = build_cpdb_mtx_wt(cols = B_cell_non_B_non_T_interacts,\n",
    "                                            scaled = FALSE,\n",
    "                                            group_name = \"_wt\",\n",
    "                                            sig.cellpairs = 3,\n",
    "                                            sig.timepoint = 1, \n",
    "                                            ph_6mos_pvals = ph_wt_6mos_pvals,\n",
    "                                            ph_6mos_means = ph_wt_6mos_means,\n",
    "                                            ph_14mos_pvals = ph_wt_14mos_pvals,\n",
    "                                            ph_14mos_means = ph_wt_14mos_means,\n",
    "                                            ph_18mos_pvals = ph_wt_18mos_pvals,\n",
    "                                            ph_18mos_means = ph_wt_18mos_means)"
   ]
  },
  {
   "cell_type": "code",
   "execution_count": 9,
   "id": "87fe3c6f",
   "metadata": {},
   "outputs": [
    {
     "name": "stderr",
     "output_type": "stream",
     "text": [
      "wt...\n",
      "\n",
      "bcl6...\n",
      "\n",
      "bcl6 double...\n",
      "\n"
     ]
    },
    {
     "name": "stdout",
     "output_type": "stream",
     "text": [
      "[1] NA NA\n"
     ]
    },
    {
     "name": "stderr",
     "output_type": "stream",
     "text": [
      "TRUE\n",
      "\n",
      "scaling the count matrix\n",
      "\n",
      "wt...\n",
      "\n",
      "bcl6...\n",
      "\n",
      "bcl6 double...\n",
      "\n"
     ]
    },
    {
     "name": "stdout",
     "output_type": "stream",
     "text": [
      "[1] NA NA\n"
     ]
    },
    {
     "name": "stderr",
     "output_type": "stream",
     "text": [
      "TRUE\n",
      "\n",
      "scaling the count matrix\n",
      "\n",
      "wt...\n",
      "\n",
      "bcl6...\n",
      "\n",
      "bcl6 double...\n",
      "\n"
     ]
    },
    {
     "name": "stdout",
     "output_type": "stream",
     "text": [
      "[1] NA NA\n"
     ]
    },
    {
     "name": "stderr",
     "output_type": "stream",
     "text": [
      "TRUE\n",
      "\n",
      "scaling the count matrix\n",
      "\n",
      "wt...\n",
      "\n",
      "bcl6...\n",
      "\n",
      "bcl6 double...\n",
      "\n"
     ]
    },
    {
     "name": "stdout",
     "output_type": "stream",
     "text": [
      "[1] NA NA\n"
     ]
    },
    {
     "name": "stderr",
     "output_type": "stream",
     "text": [
      "TRUE\n",
      "\n",
      "scaling the count matrix\n",
      "\n",
      "wt...\n",
      "\n",
      "bcl6...\n",
      "\n",
      "bcl6 double...\n",
      "\n"
     ]
    },
    {
     "name": "stdout",
     "output_type": "stream",
     "text": [
      "[1] NA NA\n"
     ]
    },
    {
     "name": "stderr",
     "output_type": "stream",
     "text": [
      "TRUE\n",
      "\n",
      "scaling the count matrix\n",
      "\n",
      "wt...\n",
      "\n",
      "bcl6...\n",
      "\n",
      "bcl6 double...\n",
      "\n"
     ]
    },
    {
     "name": "stdout",
     "output_type": "stream",
     "text": [
      "[1] NA NA\n"
     ]
    },
    {
     "name": "stderr",
     "output_type": "stream",
     "text": [
      "TRUE\n",
      "\n",
      "scaling the count matrix\n",
      "\n"
     ]
    }
   ],
   "source": [
    "B_cell_cd3_pos_cd4_neg_mtx<- merge_mtx(B_cell_cd3_pos_cd4_neg_mtx_wt, B_cell_cd3_pos_cd4_neg_mtx_bcl6, B_cell_cd3_pos_cd4_neg_mtx_bcl6_double)\n",
    "cd3_pos_cd4_neg_B_cell_mtx<- merge_mtx(cd3_pos_cd4_neg_B_cell_mtx_wt, cd3_pos_cd4_neg_B_cell_mtx_bcl6, cd3_pos_cd4_neg_B_cell_mtx_bcl6_double)\n",
    "cd3_pos_cd8_neg_B_cell_mtx<- merge_mtx(cd3_pos_cd8_neg_B_cell_mtx_wt, cd3_pos_cd8_neg_B_cell_mtx_bcl6, cd3_pos_cd8_neg_B_cell_mtx_bcl6_double)\n",
    "B_cell_cd3_pos_cd8_neg_mtx<- merge_mtx(B_cell_cd3_pos_cd8_neg_mtx_wt, B_cell_cd3_pos_cd8_neg_mtx_bcl6, B_cell_cd3_pos_cd8_neg_mtx_bcl6_double)\n",
    "non_B_non_T_B_cell_mtx<- merge_mtx(non_B_non_T_B_cell_mtx_wt, non_B_non_T_B_cell_mtx_bcl6, non_B_non_T_B_cell_mtx_bcl6_double)\n",
    "B_cell_non_B_non_T_mtx<- merge_mtx(B_cell_non_B_non_T_mtx_wt, B_cell_non_B_non_T_mtx_bcl6, B_cell_non_B_non_T_mtx_bcl6_double)"
   ]
  },
  {
   "cell_type": "code",
   "execution_count": 10,
   "id": "d5be1f11",
   "metadata": {},
   "outputs": [
    {
     "name": "stderr",
     "output_type": "stream",
     "text": [
      "quantile: -1.02568803899899-0.3030335929096032.02713324952887\n",
      "\n"
     ]
    },
    {
     "name": "stdout",
     "output_type": "stream",
     "text": [
      "genotype\n",
      "       bcl6 bcl6_double          wt \n",
      "         24          24          24 \n",
      "age\n",
      "06mos 14mos 18mos \n",
      "   24    24    24 \n"
     ]
    },
    {
     "name": "stderr",
     "output_type": "stream",
     "text": [
      "quantile: -1.0114373317163-0.2699414299742481.82002626915613\n",
      "\n"
     ]
    },
    {
     "name": "stdout",
     "output_type": "stream",
     "text": [
      "genotype\n",
      "       bcl6 bcl6_double          wt \n",
      "         24          24          24 \n",
      "age\n",
      "06mos 14mos 18mos \n",
      "   24    24    24 \n"
     ]
    },
    {
     "name": "stderr",
     "output_type": "stream",
     "text": [
      "quantile: -1.00433280491095-0.3096263534901981.97975820031048\n",
      "\n"
     ]
    },
    {
     "name": "stdout",
     "output_type": "stream",
     "text": [
      "genotype\n",
      "       bcl6 bcl6_double          wt \n",
      "         48          48          48 \n",
      "age\n",
      "06mos 14mos 18mos \n",
      "   48    48    48 \n"
     ]
    },
    {
     "name": "stderr",
     "output_type": "stream",
     "text": [
      "quantile: -1.01284634378634-0.3528670170462131.92804129100636\n",
      "\n"
     ]
    },
    {
     "name": "stdout",
     "output_type": "stream",
     "text": [
      "genotype\n",
      "       bcl6 bcl6_double          wt \n",
      "         48          48          48 \n",
      "age\n",
      "06mos 14mos 18mos \n",
      "   48    48    48 \n"
     ]
    },
    {
     "name": "stderr",
     "output_type": "stream",
     "text": [
      "quantile: -0.964996104106395-0.3767683762323031.9393665901289\n",
      "\n"
     ]
    },
    {
     "name": "stdout",
     "output_type": "stream",
     "text": [
      "genotype\n",
      "       bcl6 bcl6_double          wt \n",
      "         48          48          48 \n",
      "age\n",
      "06mos 14mos 18mos \n",
      "   48    48    48 \n"
     ]
    },
    {
     "name": "stderr",
     "output_type": "stream",
     "text": [
      "quantile: -1.05823977548783-0.2915225257341511.90054094070601\n",
      "\n"
     ]
    },
    {
     "name": "stdout",
     "output_type": "stream",
     "text": [
      "genotype\n",
      "       bcl6 bcl6_double          wt \n",
      "         48          48          48 \n",
      "age\n",
      "06mos 14mos 18mos \n",
      "   48    48    48 \n"
     ]
    }
   ],
   "source": [
    "hp1 = plt_cpdb_dotplot(exp_mtx = cd3_pos_cd4_neg_B_cell_mtx$exp_mtx, \n",
    "                       pval_mtx = cd3_pos_cd4_neg_B_cell_mtx$pval_mtx)\n",
    "hp2 = plt_cpdb_dotplot(exp_mtx = B_cell_cd3_pos_cd4_neg_mtx$exp_mtx, \n",
    "                       pval_mtx = B_cell_cd3_pos_cd4_neg_mtx$pval_mtx)\n",
    "\n",
    "hp3 = plt_cpdb_dotplot(exp_mtx = cd3_pos_cd8_neg_B_cell_mtx$exp_mtx, \n",
    "                       pval_mtx = cd3_pos_cd8_neg_B_cell_mtx$pval_mtx)\n",
    "hp4 = plt_cpdb_dotplot(exp_mtx = B_cell_cd3_pos_cd8_neg_mtx$exp_mtx, \n",
    "                       pval_mtx = B_cell_cd3_pos_cd8_neg_mtx$pval_mtx)\n",
    "\n",
    "hp5 = plt_cpdb_dotplot(exp_mtx = non_B_non_T_B_cell_mtx$exp_mtx, \n",
    "                       pval_mtx = non_B_non_T_B_cell_mtx$pval_mtx)\n",
    "\n",
    "hp6 = plt_cpdb_dotplot(exp_mtx = B_cell_non_B_non_T_mtx$exp_mtx, \n",
    "                       pval_mtx = B_cell_non_B_non_T_mtx$pval_mtx)"
   ]
  },
  {
   "cell_type": "code",
   "execution_count": 12,
   "id": "f6baa89c",
   "metadata": {},
   "outputs": [],
   "source": [
    "legend_dot_size = unit(1.5,\"mm\")\n",
    "lgd = Legend(labels = c(0, 1, 2, 3, 4, 5),\n",
    "         title = \"-logPvalue\",\n",
    "         type = \"points\",\n",
    "         graphics = list(\n",
    "            function(x, y, w, h) grid.circle(x, y, r= sqrt(0/5) * legend_dot_size,\n",
    "                                            gp = gpar(fill = \"black\")),\n",
    "            function(x, y, w, h) grid.circle(x, y, r= sqrt(1/5) * legend_dot_size,\n",
    "                                            gp = gpar(fill = \"black\")),\n",
    "            function(x, y, w, h) grid.circle(x, y, r= sqrt(2/5) * legend_dot_size,\n",
    "                                            gp = gpar(fill = \"black\")),\n",
    "            function(x, y, w, h) grid.circle(x, y, r= sqrt(3/5) * legend_dot_size,\n",
    "                                            gp = gpar(fill = \"black\")),\n",
    "            function(x, y, w, h) grid.circle(x, y, r= sqrt(4/5) * legend_dot_size,\n",
    "                                            gp = gpar(fill = \"black\")),\n",
    "            function(x, y, w, h) grid.circle(x, y, r= sqrt(5/5) * legend_dot_size,\n",
    "                                            gp = gpar(fill = \"black\"))            \n",
    "                    )\n",
    "             )"
   ]
  },
  {
   "cell_type": "code",
   "execution_count": 13,
   "id": "9dab65e4",
   "metadata": {},
   "outputs": [
    {
     "data": {
      "text/html": [
       "<strong>png:</strong> 2"
      ],
      "text/latex": [
       "\\textbf{png:} 2"
      ],
      "text/markdown": [
       "**png:** 2"
      ],
      "text/plain": [
       "png \n",
       "  2 "
      ]
     },
     "metadata": {},
     "output_type": "display_data"
    },
    {
     "data": {
      "text/html": [
       "<strong>png:</strong> 2"
      ],
      "text/latex": [
       "\\textbf{png:} 2"
      ],
      "text/markdown": [
       "**png:** 2"
      ],
      "text/plain": [
       "png \n",
       "  2 "
      ]
     },
     "metadata": {},
     "output_type": "display_data"
    },
    {
     "data": {
      "text/html": [
       "<strong>png:</strong> 2"
      ],
      "text/latex": [
       "\\textbf{png:} 2"
      ],
      "text/markdown": [
       "**png:** 2"
      ],
      "text/plain": [
       "png \n",
       "  2 "
      ]
     },
     "metadata": {},
     "output_type": "display_data"
    },
    {
     "data": {
      "text/html": [
       "<strong>png:</strong> 2"
      ],
      "text/latex": [
       "\\textbf{png:} 2"
      ],
      "text/markdown": [
       "**png:** 2"
      ],
      "text/plain": [
       "png \n",
       "  2 "
      ]
     },
     "metadata": {},
     "output_type": "display_data"
    },
    {
     "data": {
      "text/html": [
       "<strong>png:</strong> 2"
      ],
      "text/latex": [
       "\\textbf{png:} 2"
      ],
      "text/markdown": [
       "**png:** 2"
      ],
      "text/plain": [
       "png \n",
       "  2 "
      ]
     },
     "metadata": {},
     "output_type": "display_data"
    },
    {
     "data": {
      "text/html": [
       "<strong>png:</strong> 2"
      ],
      "text/latex": [
       "\\textbf{png:} 2"
      ],
      "text/markdown": [
       "**png:** 2"
      ],
      "text/plain": [
       "png \n",
       "  2 "
      ]
     },
     "metadata": {},
     "output_type": "display_data"
    }
   ],
   "source": [
    "pdf(\"./results/figures/9_Dotplot_cd3_pos_cd4_neg_B_cell_wt_bcl6_and_bcl6_double_cell3_time1_genotype1.pdf\", width = 26, height = 15)\n",
    "draw(hp1, annotation_legend_list = lgd, ht_gap = unit(1, \"cm\"))\n",
    "dev.off()\n",
    "\n",
    "pdf(\"./results/figures/9_Dotplot_B_cell_cd3_pos_cd4_neg_wt_bcl6_and_bcl6_double_cell3_time1_genotype1.pdf\", width = 26, height = 15)\n",
    "draw(hp2, annotation_legend_list = lgd, ht_gap = unit(1, \"cm\"))\n",
    "dev.off()\n",
    "\n",
    "pdf(\"./results/figures/9_Dotplot_cd3_pos_cd8_neg_B_cell_wt_bcl6_and_bcl6_double_cell3_time1_genotype1.pdf\", width = 26, height = 15)\n",
    "draw(hp3, annotation_legend_list = lgd, ht_gap = unit(1, \"cm\"))\n",
    "dev.off()\n",
    "\n",
    "pdf(\"./results/figures/9_Dotplot_B_cell_cd3_pos_cd8_neg_wt_bcl6_and_bcl6_double_cell3_time1_genotype1.pdf\", width = 26, height = 15)\n",
    "draw(hp4, annotation_legend_list = lgd, ht_gap = unit(1, \"cm\"))\n",
    "dev.off()\n",
    "\n",
    "pdf(\"./results/figures/9_Dotplot_non_B_non_T_B_cell_wt_bcl6_and_bcl6_double_cell3_time1_genotype1.pdf\", width = 26, height = 15)\n",
    "draw(hp5, annotation_legend_list = lgd, ht_gap = unit(1, \"cm\"))\n",
    "dev.off()\n",
    "\n",
    "pdf(\"./results/figures/9_Dotplot_B_cell_non_B_non_T_wt_bcl6_and_bcl6_double_cell3_time1_genotype1.pdf\", width = 26, height = 15)\n",
    "draw(hp6, annotation_legend_list = lgd, ht_gap = unit(1, \"cm\"))\n",
    "dev.off()"
   ]
  },
  {
   "cell_type": "markdown",
   "id": "f072cb89",
   "metadata": {},
   "source": [
    "### 2. Between non_B non_T and Cd3_pos"
   ]
  },
  {
   "cell_type": "code",
   "execution_count": 14,
   "id": "3c3c7f99",
   "metadata": {},
   "outputs": [
    {
     "data": {
      "text/html": [
       "<style>\n",
       ".list-inline {list-style: none; margin:0; padding: 0}\n",
       ".list-inline>li {display: inline-block}\n",
       ".list-inline>li:not(:last-child)::after {content: \"\\00b7\"; padding: 0 .5ex}\n",
       "</style>\n",
       "<ol class=list-inline><li>'non_B_non_T_Neutrophils|cd3_pos_cd4_neg_Cycling'</li><li>'non_B_non_T_Neutrophils|cd3_pos_cd4_neg_CTLs'</li><li>'non_B_non_T_Macrophages|cd3_pos_cd4_neg_Cycling'</li><li>'non_B_non_T_Macrophages|cd3_pos_cd4_neg_CTLs'</li><li>'non_B_non_T_Cycling|cd3_pos_cd4_neg_Cycling'</li><li>'non_B_non_T_Cycling|cd3_pos_cd4_neg_CTLs'</li></ol>\n"
      ],
      "text/latex": [
       "\\begin{enumerate*}\n",
       "\\item 'non\\_B\\_non\\_T\\_Neutrophils\\textbar{}cd3\\_pos\\_cd4\\_neg\\_Cycling'\n",
       "\\item 'non\\_B\\_non\\_T\\_Neutrophils\\textbar{}cd3\\_pos\\_cd4\\_neg\\_CTLs'\n",
       "\\item 'non\\_B\\_non\\_T\\_Macrophages\\textbar{}cd3\\_pos\\_cd4\\_neg\\_Cycling'\n",
       "\\item 'non\\_B\\_non\\_T\\_Macrophages\\textbar{}cd3\\_pos\\_cd4\\_neg\\_CTLs'\n",
       "\\item 'non\\_B\\_non\\_T\\_Cycling\\textbar{}cd3\\_pos\\_cd4\\_neg\\_Cycling'\n",
       "\\item 'non\\_B\\_non\\_T\\_Cycling\\textbar{}cd3\\_pos\\_cd4\\_neg\\_CTLs'\n",
       "\\end{enumerate*}\n"
      ],
      "text/markdown": [
       "1. 'non_B_non_T_Neutrophils|cd3_pos_cd4_neg_Cycling'\n",
       "2. 'non_B_non_T_Neutrophils|cd3_pos_cd4_neg_CTLs'\n",
       "3. 'non_B_non_T_Macrophages|cd3_pos_cd4_neg_Cycling'\n",
       "4. 'non_B_non_T_Macrophages|cd3_pos_cd4_neg_CTLs'\n",
       "5. 'non_B_non_T_Cycling|cd3_pos_cd4_neg_Cycling'\n",
       "6. 'non_B_non_T_Cycling|cd3_pos_cd4_neg_CTLs'\n",
       "\n",
       "\n"
      ],
      "text/plain": [
       "[1] \"non_B_non_T_Neutrophils|cd3_pos_cd4_neg_Cycling\"\n",
       "[2] \"non_B_non_T_Neutrophils|cd3_pos_cd4_neg_CTLs\"   \n",
       "[3] \"non_B_non_T_Macrophages|cd3_pos_cd4_neg_Cycling\"\n",
       "[4] \"non_B_non_T_Macrophages|cd3_pos_cd4_neg_CTLs\"   \n",
       "[5] \"non_B_non_T_Cycling|cd3_pos_cd4_neg_Cycling\"    \n",
       "[6] \"non_B_non_T_Cycling|cd3_pos_cd4_neg_CTLs\"       "
      ]
     },
     "metadata": {},
     "output_type": "display_data"
    },
    {
     "data": {
      "text/html": [
       "TRUE"
      ],
      "text/latex": [
       "TRUE"
      ],
      "text/markdown": [
       "TRUE"
      ],
      "text/plain": [
       "[1] TRUE"
      ]
     },
     "metadata": {},
     "output_type": "display_data"
    },
    {
     "data": {
      "text/html": [
       "<style>\n",
       ".list-inline {list-style: none; margin:0; padding: 0}\n",
       ".list-inline>li {display: inline-block}\n",
       ".list-inline>li:not(:last-child)::after {content: \"\\00b7\"; padding: 0 .5ex}\n",
       "</style>\n",
       "<ol class=list-inline><li>'cd3_pos_cd4_neg_Cycling|non_B_non_T_Neutrophils'</li><li>'cd3_pos_cd4_neg_CTLs|non_B_non_T_Neutrophils'</li><li>'cd3_pos_cd4_neg_Cycling|non_B_non_T_Macrophages'</li><li>'cd3_pos_cd4_neg_CTLs|non_B_non_T_Macrophages'</li><li>'cd3_pos_cd4_neg_Cycling|non_B_non_T_Cycling'</li><li>'cd3_pos_cd4_neg_CTLs|non_B_non_T_Cycling'</li></ol>\n"
      ],
      "text/latex": [
       "\\begin{enumerate*}\n",
       "\\item 'cd3\\_pos\\_cd4\\_neg\\_Cycling\\textbar{}non\\_B\\_non\\_T\\_Neutrophils'\n",
       "\\item 'cd3\\_pos\\_cd4\\_neg\\_CTLs\\textbar{}non\\_B\\_non\\_T\\_Neutrophils'\n",
       "\\item 'cd3\\_pos\\_cd4\\_neg\\_Cycling\\textbar{}non\\_B\\_non\\_T\\_Macrophages'\n",
       "\\item 'cd3\\_pos\\_cd4\\_neg\\_CTLs\\textbar{}non\\_B\\_non\\_T\\_Macrophages'\n",
       "\\item 'cd3\\_pos\\_cd4\\_neg\\_Cycling\\textbar{}non\\_B\\_non\\_T\\_Cycling'\n",
       "\\item 'cd3\\_pos\\_cd4\\_neg\\_CTLs\\textbar{}non\\_B\\_non\\_T\\_Cycling'\n",
       "\\end{enumerate*}\n"
      ],
      "text/markdown": [
       "1. 'cd3_pos_cd4_neg_Cycling|non_B_non_T_Neutrophils'\n",
       "2. 'cd3_pos_cd4_neg_CTLs|non_B_non_T_Neutrophils'\n",
       "3. 'cd3_pos_cd4_neg_Cycling|non_B_non_T_Macrophages'\n",
       "4. 'cd3_pos_cd4_neg_CTLs|non_B_non_T_Macrophages'\n",
       "5. 'cd3_pos_cd4_neg_Cycling|non_B_non_T_Cycling'\n",
       "6. 'cd3_pos_cd4_neg_CTLs|non_B_non_T_Cycling'\n",
       "\n",
       "\n"
      ],
      "text/plain": [
       "[1] \"cd3_pos_cd4_neg_Cycling|non_B_non_T_Neutrophils\"\n",
       "[2] \"cd3_pos_cd4_neg_CTLs|non_B_non_T_Neutrophils\"   \n",
       "[3] \"cd3_pos_cd4_neg_Cycling|non_B_non_T_Macrophages\"\n",
       "[4] \"cd3_pos_cd4_neg_CTLs|non_B_non_T_Macrophages\"   \n",
       "[5] \"cd3_pos_cd4_neg_Cycling|non_B_non_T_Cycling\"    \n",
       "[6] \"cd3_pos_cd4_neg_CTLs|non_B_non_T_Cycling\"       "
      ]
     },
     "metadata": {},
     "output_type": "display_data"
    },
    {
     "data": {
      "text/html": [
       "TRUE"
      ],
      "text/latex": [
       "TRUE"
      ],
      "text/markdown": [
       "TRUE"
      ],
      "text/plain": [
       "[1] TRUE"
      ]
     },
     "metadata": {},
     "output_type": "display_data"
    },
    {
     "data": {
      "text/html": [
       "<style>\n",
       ".list-inline {list-style: none; margin:0; padding: 0}\n",
       ".list-inline>li {display: inline-block}\n",
       ".list-inline>li:not(:last-child)::after {content: \"\\00b7\"; padding: 0 .5ex}\n",
       "</style>\n",
       "<ol class=list-inline><li>'non_B_non_T_Neutrophils|cd3_pos_cd8_neg_Tregs'</li><li>'non_B_non_T_Neutrophils|cd3_pos_cd8_neg_Follicular Tregs'</li><li>'non_B_non_T_Neutrophils|cd3_pos_cd8_neg_Cycling'</li><li>'non_B_non_T_Neutrophils|cd3_pos_cd8_neg_CTLs'</li><li>'non_B_non_T_Macrophages|cd3_pos_cd8_neg_Tregs'</li><li>'non_B_non_T_Macrophages|cd3_pos_cd8_neg_Follicular Tregs'</li><li>'non_B_non_T_Macrophages|cd3_pos_cd8_neg_Cycling'</li><li>'non_B_non_T_Macrophages|cd3_pos_cd8_neg_CTLs'</li><li>'non_B_non_T_Cycling|cd3_pos_cd8_neg_Tregs'</li><li>'non_B_non_T_Cycling|cd3_pos_cd8_neg_Follicular Tregs'</li><li>'non_B_non_T_Cycling|cd3_pos_cd8_neg_Cycling'</li><li>'non_B_non_T_Cycling|cd3_pos_cd8_neg_CTLs'</li></ol>\n"
      ],
      "text/latex": [
       "\\begin{enumerate*}\n",
       "\\item 'non\\_B\\_non\\_T\\_Neutrophils\\textbar{}cd3\\_pos\\_cd8\\_neg\\_Tregs'\n",
       "\\item 'non\\_B\\_non\\_T\\_Neutrophils\\textbar{}cd3\\_pos\\_cd8\\_neg\\_Follicular Tregs'\n",
       "\\item 'non\\_B\\_non\\_T\\_Neutrophils\\textbar{}cd3\\_pos\\_cd8\\_neg\\_Cycling'\n",
       "\\item 'non\\_B\\_non\\_T\\_Neutrophils\\textbar{}cd3\\_pos\\_cd8\\_neg\\_CTLs'\n",
       "\\item 'non\\_B\\_non\\_T\\_Macrophages\\textbar{}cd3\\_pos\\_cd8\\_neg\\_Tregs'\n",
       "\\item 'non\\_B\\_non\\_T\\_Macrophages\\textbar{}cd3\\_pos\\_cd8\\_neg\\_Follicular Tregs'\n",
       "\\item 'non\\_B\\_non\\_T\\_Macrophages\\textbar{}cd3\\_pos\\_cd8\\_neg\\_Cycling'\n",
       "\\item 'non\\_B\\_non\\_T\\_Macrophages\\textbar{}cd3\\_pos\\_cd8\\_neg\\_CTLs'\n",
       "\\item 'non\\_B\\_non\\_T\\_Cycling\\textbar{}cd3\\_pos\\_cd8\\_neg\\_Tregs'\n",
       "\\item 'non\\_B\\_non\\_T\\_Cycling\\textbar{}cd3\\_pos\\_cd8\\_neg\\_Follicular Tregs'\n",
       "\\item 'non\\_B\\_non\\_T\\_Cycling\\textbar{}cd3\\_pos\\_cd8\\_neg\\_Cycling'\n",
       "\\item 'non\\_B\\_non\\_T\\_Cycling\\textbar{}cd3\\_pos\\_cd8\\_neg\\_CTLs'\n",
       "\\end{enumerate*}\n"
      ],
      "text/markdown": [
       "1. 'non_B_non_T_Neutrophils|cd3_pos_cd8_neg_Tregs'\n",
       "2. 'non_B_non_T_Neutrophils|cd3_pos_cd8_neg_Follicular Tregs'\n",
       "3. 'non_B_non_T_Neutrophils|cd3_pos_cd8_neg_Cycling'\n",
       "4. 'non_B_non_T_Neutrophils|cd3_pos_cd8_neg_CTLs'\n",
       "5. 'non_B_non_T_Macrophages|cd3_pos_cd8_neg_Tregs'\n",
       "6. 'non_B_non_T_Macrophages|cd3_pos_cd8_neg_Follicular Tregs'\n",
       "7. 'non_B_non_T_Macrophages|cd3_pos_cd8_neg_Cycling'\n",
       "8. 'non_B_non_T_Macrophages|cd3_pos_cd8_neg_CTLs'\n",
       "9. 'non_B_non_T_Cycling|cd3_pos_cd8_neg_Tregs'\n",
       "10. 'non_B_non_T_Cycling|cd3_pos_cd8_neg_Follicular Tregs'\n",
       "11. 'non_B_non_T_Cycling|cd3_pos_cd8_neg_Cycling'\n",
       "12. 'non_B_non_T_Cycling|cd3_pos_cd8_neg_CTLs'\n",
       "\n",
       "\n"
      ],
      "text/plain": [
       " [1] \"non_B_non_T_Neutrophils|cd3_pos_cd8_neg_Tregs\"           \n",
       " [2] \"non_B_non_T_Neutrophils|cd3_pos_cd8_neg_Follicular Tregs\"\n",
       " [3] \"non_B_non_T_Neutrophils|cd3_pos_cd8_neg_Cycling\"         \n",
       " [4] \"non_B_non_T_Neutrophils|cd3_pos_cd8_neg_CTLs\"            \n",
       " [5] \"non_B_non_T_Macrophages|cd3_pos_cd8_neg_Tregs\"           \n",
       " [6] \"non_B_non_T_Macrophages|cd3_pos_cd8_neg_Follicular Tregs\"\n",
       " [7] \"non_B_non_T_Macrophages|cd3_pos_cd8_neg_Cycling\"         \n",
       " [8] \"non_B_non_T_Macrophages|cd3_pos_cd8_neg_CTLs\"            \n",
       " [9] \"non_B_non_T_Cycling|cd3_pos_cd8_neg_Tregs\"               \n",
       "[10] \"non_B_non_T_Cycling|cd3_pos_cd8_neg_Follicular Tregs\"    \n",
       "[11] \"non_B_non_T_Cycling|cd3_pos_cd8_neg_Cycling\"             \n",
       "[12] \"non_B_non_T_Cycling|cd3_pos_cd8_neg_CTLs\"                "
      ]
     },
     "metadata": {},
     "output_type": "display_data"
    },
    {
     "data": {
      "text/html": [
       "TRUE"
      ],
      "text/latex": [
       "TRUE"
      ],
      "text/markdown": [
       "TRUE"
      ],
      "text/plain": [
       "[1] TRUE"
      ]
     },
     "metadata": {},
     "output_type": "display_data"
    },
    {
     "data": {
      "text/html": [
       "<style>\n",
       ".list-inline {list-style: none; margin:0; padding: 0}\n",
       ".list-inline>li {display: inline-block}\n",
       ".list-inline>li:not(:last-child)::after {content: \"\\00b7\"; padding: 0 .5ex}\n",
       "</style>\n",
       "<ol class=list-inline><li>'cd3_pos_cd8_neg_Tregs|non_B_non_T_Neutrophils'</li><li>'cd3_pos_cd8_neg_Follicular Tregs|non_B_non_T_Neutrophils'</li><li>'cd3_pos_cd8_neg_Cycling|non_B_non_T_Neutrophils'</li><li>'cd3_pos_cd8_neg_CTLs|non_B_non_T_Neutrophils'</li><li>'cd3_pos_cd8_neg_Tregs|non_B_non_T_Macrophages'</li><li>'cd3_pos_cd8_neg_Follicular Tregs|non_B_non_T_Macrophages'</li><li>'cd3_pos_cd8_neg_Cycling|non_B_non_T_Macrophages'</li><li>'cd3_pos_cd8_neg_CTLs|non_B_non_T_Macrophages'</li><li>'cd3_pos_cd8_neg_Tregs|non_B_non_T_Cycling'</li><li>'cd3_pos_cd8_neg_Follicular Tregs|non_B_non_T_Cycling'</li><li>'cd3_pos_cd8_neg_Cycling|non_B_non_T_Cycling'</li><li>'cd3_pos_cd8_neg_CTLs|non_B_non_T_Cycling'</li></ol>\n"
      ],
      "text/latex": [
       "\\begin{enumerate*}\n",
       "\\item 'cd3\\_pos\\_cd8\\_neg\\_Tregs\\textbar{}non\\_B\\_non\\_T\\_Neutrophils'\n",
       "\\item 'cd3\\_pos\\_cd8\\_neg\\_Follicular Tregs\\textbar{}non\\_B\\_non\\_T\\_Neutrophils'\n",
       "\\item 'cd3\\_pos\\_cd8\\_neg\\_Cycling\\textbar{}non\\_B\\_non\\_T\\_Neutrophils'\n",
       "\\item 'cd3\\_pos\\_cd8\\_neg\\_CTLs\\textbar{}non\\_B\\_non\\_T\\_Neutrophils'\n",
       "\\item 'cd3\\_pos\\_cd8\\_neg\\_Tregs\\textbar{}non\\_B\\_non\\_T\\_Macrophages'\n",
       "\\item 'cd3\\_pos\\_cd8\\_neg\\_Follicular Tregs\\textbar{}non\\_B\\_non\\_T\\_Macrophages'\n",
       "\\item 'cd3\\_pos\\_cd8\\_neg\\_Cycling\\textbar{}non\\_B\\_non\\_T\\_Macrophages'\n",
       "\\item 'cd3\\_pos\\_cd8\\_neg\\_CTLs\\textbar{}non\\_B\\_non\\_T\\_Macrophages'\n",
       "\\item 'cd3\\_pos\\_cd8\\_neg\\_Tregs\\textbar{}non\\_B\\_non\\_T\\_Cycling'\n",
       "\\item 'cd3\\_pos\\_cd8\\_neg\\_Follicular Tregs\\textbar{}non\\_B\\_non\\_T\\_Cycling'\n",
       "\\item 'cd3\\_pos\\_cd8\\_neg\\_Cycling\\textbar{}non\\_B\\_non\\_T\\_Cycling'\n",
       "\\item 'cd3\\_pos\\_cd8\\_neg\\_CTLs\\textbar{}non\\_B\\_non\\_T\\_Cycling'\n",
       "\\end{enumerate*}\n"
      ],
      "text/markdown": [
       "1. 'cd3_pos_cd8_neg_Tregs|non_B_non_T_Neutrophils'\n",
       "2. 'cd3_pos_cd8_neg_Follicular Tregs|non_B_non_T_Neutrophils'\n",
       "3. 'cd3_pos_cd8_neg_Cycling|non_B_non_T_Neutrophils'\n",
       "4. 'cd3_pos_cd8_neg_CTLs|non_B_non_T_Neutrophils'\n",
       "5. 'cd3_pos_cd8_neg_Tregs|non_B_non_T_Macrophages'\n",
       "6. 'cd3_pos_cd8_neg_Follicular Tregs|non_B_non_T_Macrophages'\n",
       "7. 'cd3_pos_cd8_neg_Cycling|non_B_non_T_Macrophages'\n",
       "8. 'cd3_pos_cd8_neg_CTLs|non_B_non_T_Macrophages'\n",
       "9. 'cd3_pos_cd8_neg_Tregs|non_B_non_T_Cycling'\n",
       "10. 'cd3_pos_cd8_neg_Follicular Tregs|non_B_non_T_Cycling'\n",
       "11. 'cd3_pos_cd8_neg_Cycling|non_B_non_T_Cycling'\n",
       "12. 'cd3_pos_cd8_neg_CTLs|non_B_non_T_Cycling'\n",
       "\n",
       "\n"
      ],
      "text/plain": [
       " [1] \"cd3_pos_cd8_neg_Tregs|non_B_non_T_Neutrophils\"           \n",
       " [2] \"cd3_pos_cd8_neg_Follicular Tregs|non_B_non_T_Neutrophils\"\n",
       " [3] \"cd3_pos_cd8_neg_Cycling|non_B_non_T_Neutrophils\"         \n",
       " [4] \"cd3_pos_cd8_neg_CTLs|non_B_non_T_Neutrophils\"            \n",
       " [5] \"cd3_pos_cd8_neg_Tregs|non_B_non_T_Macrophages\"           \n",
       " [6] \"cd3_pos_cd8_neg_Follicular Tregs|non_B_non_T_Macrophages\"\n",
       " [7] \"cd3_pos_cd8_neg_Cycling|non_B_non_T_Macrophages\"         \n",
       " [8] \"cd3_pos_cd8_neg_CTLs|non_B_non_T_Macrophages\"            \n",
       " [9] \"cd3_pos_cd8_neg_Tregs|non_B_non_T_Cycling\"               \n",
       "[10] \"cd3_pos_cd8_neg_Follicular Tregs|non_B_non_T_Cycling\"    \n",
       "[11] \"cd3_pos_cd8_neg_Cycling|non_B_non_T_Cycling\"             \n",
       "[12] \"cd3_pos_cd8_neg_CTLs|non_B_non_T_Cycling\"                "
      ]
     },
     "metadata": {},
     "output_type": "display_data"
    },
    {
     "data": {
      "text/html": [
       "TRUE"
      ],
      "text/latex": [
       "TRUE"
      ],
      "text/markdown": [
       "TRUE"
      ],
      "text/plain": [
       "[1] TRUE"
      ]
     },
     "metadata": {},
     "output_type": "display_data"
    }
   ],
   "source": [
    "non_B_non_T_clusters<- c(\"non_B_non_T_Macrophages\", \"non_B_non_T_NK cells\", \n",
    "                             \"non_B_non_T_Cycling\", \"non_B_non_T_Neutrophils\")\n",
    "non_B_non_T_clusters_otherThree<- non_B_non_T_clusters[c(4,1,3)]\n",
    "non_B_non_T_clusters_NK<- non_B_non_T_clusters[2]\n",
    "\n",
    "cd3_pos_cd4_neg_clusters<- c(\"cd3_pos_cd4_neg_Cycling\", \"cd3_pos_cd4_neg_CTLs\")\n",
    "cd3_pos_cd8_neg_clusters<- c(\"cd3_pos_cd8_neg_Tregs\", \"cd3_pos_cd8_neg_Follicular Tregs\", \n",
    "                             \"cd3_pos_cd8_neg_Cycling\", \"cd3_pos_cd8_neg_CTLs\")\n",
    "\n",
    "# neutrophils, macrophages, cycling VS cd3_pos_cd4_neg\n",
    "\n",
    "non_B_non_T_clusters_otherThree_cd3_pos_cd4_neg_interacts<- c()\n",
    "cd3_pos_cd4_neg_non_B_non_T_clusters_otherThree_interacts<- c()\n",
    "\n",
    "\n",
    "for (c1 in non_B_non_T_clusters_otherThree){\n",
    "    for (c2 in cd3_pos_cd4_neg_clusters){\n",
    "        \n",
    "        interact<- paste0(c1, \"|\", c2)\n",
    "        inverse_interact<- paste0(c2, \"|\", c1)\n",
    "        \n",
    "        non_B_non_T_clusters_otherThree_cd3_pos_cd4_neg_interacts<- c(non_B_non_T_clusters_otherThree_cd3_pos_cd4_neg_interacts, interact)\n",
    "        cd3_pos_cd4_neg_non_B_non_T_clusters_otherThree_interacts<- c(cd3_pos_cd4_neg_non_B_non_T_clusters_otherThree_interacts, inverse_interact)\n",
    "    }\n",
    "}\n",
    "\n",
    "non_B_non_T_clusters_otherThree_cd3_pos_cd4_neg_interacts\n",
    "sum(colnames(ph_wt_6mos_pvals) %in% non_B_non_T_clusters_otherThree_cd3_pos_cd4_neg_interacts) == length(non_B_non_T_clusters_otherThree_cd3_pos_cd4_neg_interacts)\n",
    "\n",
    "cd3_pos_cd4_neg_non_B_non_T_clusters_otherThree_interacts\n",
    "sum(colnames(ph_wt_6mos_pvals) %in% cd3_pos_cd4_neg_non_B_non_T_clusters_otherThree_interacts) == length(cd3_pos_cd4_neg_non_B_non_T_clusters_otherThree_interacts)\n",
    "\n",
    "# neutrophils, macrophages, cycling VS cd3_pos_cd8_neg\n",
    "\n",
    "non_B_non_T_clusters_otherThree_cd3_pos_cd8_neg_interacts<- c()\n",
    "cd3_pos_cd8_neg_non_B_non_T_clusters_otherThree_interacts<- c()\n",
    "\n",
    "\n",
    "for (c1 in non_B_non_T_clusters_otherThree){\n",
    "    for (c2 in cd3_pos_cd8_neg_clusters){\n",
    "        \n",
    "        interact<- paste0(c1, \"|\", c2)\n",
    "        inverse_interact<- paste0(c2, \"|\", c1)\n",
    "        \n",
    "        non_B_non_T_clusters_otherThree_cd3_pos_cd8_neg_interacts<- c(non_B_non_T_clusters_otherThree_cd3_pos_cd8_neg_interacts, interact)\n",
    "        cd3_pos_cd8_neg_non_B_non_T_clusters_otherThree_interacts<- c(cd3_pos_cd8_neg_non_B_non_T_clusters_otherThree_interacts, inverse_interact)\n",
    "    }\n",
    "}\n",
    "\n",
    "non_B_non_T_clusters_otherThree_cd3_pos_cd8_neg_interacts\n",
    "sum(colnames(ph_wt_6mos_pvals) %in% non_B_non_T_clusters_otherThree_cd3_pos_cd8_neg_interacts) == length(non_B_non_T_clusters_otherThree_cd3_pos_cd8_neg_interacts)\n",
    "\n",
    "cd3_pos_cd8_neg_non_B_non_T_clusters_otherThree_interacts\n",
    "sum(colnames(ph_wt_6mos_pvals) %in% cd3_pos_cd8_neg_non_B_non_T_clusters_otherThree_interacts) == length(cd3_pos_cd8_neg_non_B_non_T_clusters_otherThree_interacts)\n"
   ]
  },
  {
   "cell_type": "code",
   "execution_count": 15,
   "id": "71e3488a",
   "metadata": {},
   "outputs": [
    {
     "name": "stderr",
     "output_type": "stream",
     "text": [
      "total number of intersections considered: 93\n",
      "\n",
      "6 mos...\n",
      "\n",
      "14 mos...\n",
      "\n",
      "18 mos...\n",
      "\n",
      "sick...\n",
      "\n",
      "Generating count matrix...\n",
      "\n",
      "Generating pvalue matrix...\n",
      "\n",
      "output unscaled data\n",
      "\n",
      "total number of intersections considered: 92\n",
      "\n",
      "6 mos...\n",
      "\n",
      "14 mos...\n",
      "\n",
      "18 mos...\n",
      "\n",
      "sick...\n",
      "\n",
      "Generating count matrix...\n",
      "\n",
      "Generating pvalue matrix...\n",
      "\n",
      "output unscaled data\n",
      "\n",
      "total number of intersections considered: 78\n",
      "\n",
      "6 mos...\n",
      "\n",
      "14 mos...\n",
      "\n",
      "18 mos...\n",
      "\n",
      "sick...\n",
      "\n",
      "Generating count matrix...\n",
      "\n",
      "Generating pvalue matrix...\n",
      "\n",
      "output unscaled data\n",
      "\n",
      "total number of intersections considered: 83\n",
      "\n",
      "6 mos...\n",
      "\n",
      "14 mos...\n",
      "\n",
      "18 mos...\n",
      "\n",
      "sick...\n",
      "\n",
      "Generating count matrix...\n",
      "\n",
      "Generating pvalue matrix...\n",
      "\n",
      "output unscaled data\n",
      "\n",
      "total number of intersections considered: 83\n",
      "\n",
      "6 mos...\n",
      "\n",
      "14 mos...\n",
      "\n",
      "18 mos...\n",
      "\n",
      "Generating count matrix...\n",
      "\n",
      "Generating pvalue matrix...\n",
      "\n",
      "output unscaled data\n",
      "\n",
      "total number of intersections considered: 76\n",
      "\n",
      "6 mos...\n",
      "\n",
      "14 mos...\n",
      "\n",
      "18 mos...\n",
      "\n",
      "Generating count matrix...\n",
      "\n",
      "Generating pvalue matrix...\n",
      "\n",
      "output unscaled data\n",
      "\n"
     ]
    }
   ],
   "source": [
    "non_B_non_T_cd3_pos_cd4_neg_mtx_bcl6 = build_cpdb_mtx(cols = non_B_non_T_clusters_otherThree_cd3_pos_cd4_neg_interacts,\n",
    "                                            scaled = FALSE,\n",
    "                                            sig.cellpairs = 1,\n",
    "                                            sig.timepoint = 1, \n",
    "                                            group_name = \"_bcl6\",\n",
    "                                            ph_6mos_pvals = ph_bcl6_6mos_pvals,\n",
    "                                            ph_6mos_means = ph_bcl6_6mos_means,\n",
    "                                            ph_14mos_pvals = ph_bcl6_14mos_pvals,\n",
    "                                            ph_14mos_means = ph_bcl6_14mos_means,\n",
    "                                            ph_18mos_pvals = ph_bcl6_18mos_pvals,\n",
    "                                            ph_18mos_means = ph_bcl6_18mos_means,\n",
    "                                            ph_sick_pvals = ph_bcl6_sick_pvals,\n",
    "                                            ph_sick_means = ph_bcl6_sick_means)\n",
    "\n",
    "cd3_pos_cd4_neg_non_B_non_T_mtx_bcl6 = build_cpdb_mtx(cols = cd3_pos_cd4_neg_non_B_non_T_clusters_otherThree_interacts,\n",
    "                                            scaled = FALSE,\n",
    "                                            sig.cellpairs = 1,\n",
    "                                            sig.timepoint = 1, \n",
    "                                            group_name = \"_bcl6\",\n",
    "                                            ph_6mos_pvals = ph_bcl6_6mos_pvals,\n",
    "                                            ph_6mos_means = ph_bcl6_6mos_means,\n",
    "                                            ph_14mos_pvals = ph_bcl6_14mos_pvals,\n",
    "                                            ph_14mos_means = ph_bcl6_14mos_means,\n",
    "                                            ph_18mos_pvals = ph_bcl6_18mos_pvals,\n",
    "                                            ph_18mos_means = ph_bcl6_18mos_means,\n",
    "                                            ph_sick_pvals = ph_bcl6_sick_pvals,\n",
    "                                            ph_sick_means = ph_bcl6_sick_means)\n",
    "\n",
    "\n",
    "non_B_non_T_cd3_pos_cd4_neg_mtx_bcl6_double = build_cpdb_mtx(cols = non_B_non_T_clusters_otherThree_cd3_pos_cd4_neg_interacts,\n",
    "                                            scaled = FALSE,\n",
    "                                            group_name = \"_bcl6_double\",\n",
    "                                            sig.cellpairs = 1,\n",
    "                                            sig.timepoint = 1, \n",
    "                                            ph_6mos_pvals = ph_bcl6_double_6mos_pvals,\n",
    "                                            ph_6mos_means = ph_bcl6_double_6mos_means,\n",
    "                                            ph_14mos_pvals = ph_bcl6_double_14mos_pvals,\n",
    "                                            ph_14mos_means = ph_bcl6_double_14mos_means,\n",
    "                                            ph_18mos_pvals = ph_bcl6_double_18mos_pvals,\n",
    "                                            ph_18mos_means = ph_bcl6_double_18mos_means,\n",
    "                                            ph_sick_pvals = ph_bcl6_double_sick_pvals,\n",
    "                                            ph_sick_means = ph_bcl6_double_sick_means)\n",
    "\n",
    "cd3_pos_cd4_neg_non_B_non_T_mtx_bcl6_double = build_cpdb_mtx(cols = cd3_pos_cd4_neg_non_B_non_T_clusters_otherThree_interacts,\n",
    "                                            scaled = FALSE,\n",
    "                                            group_name = \"_bcl6_double\",\n",
    "                                            sig.cellpairs = 1,\n",
    "                                            sig.timepoint = 1, \n",
    "                                            ph_6mos_pvals = ph_bcl6_double_6mos_pvals,\n",
    "                                            ph_6mos_means = ph_bcl6_double_6mos_means,\n",
    "                                            ph_14mos_pvals = ph_bcl6_double_14mos_pvals,\n",
    "                                            ph_14mos_means = ph_bcl6_double_14mos_means,\n",
    "                                            ph_18mos_pvals = ph_bcl6_double_18mos_pvals,\n",
    "                                            ph_18mos_means = ph_bcl6_double_18mos_means,\n",
    "                                            ph_sick_pvals = ph_bcl6_double_sick_pvals,\n",
    "                                            ph_sick_means = ph_bcl6_double_sick_means)\n",
    "\n",
    "non_B_non_T_cd3_pos_cd4_neg_mtx_wt = build_cpdb_mtx_wt(cols = non_B_non_T_clusters_otherThree_cd3_pos_cd4_neg_interacts,\n",
    "                                            scaled = FALSE,\n",
    "                                            group_name = \"_wt\",\n",
    "                                            sig.cellpairs = 1,\n",
    "                                            sig.timepoint = 1, \n",
    "                                            ph_6mos_pvals = ph_wt_6mos_pvals,\n",
    "                                            ph_6mos_means = ph_wt_6mos_means,\n",
    "                                            ph_14mos_pvals = ph_wt_14mos_pvals,\n",
    "                                            ph_14mos_means = ph_wt_14mos_means,\n",
    "                                            ph_18mos_pvals = ph_wt_18mos_pvals,\n",
    "                                            ph_18mos_means = ph_wt_18mos_means)\n",
    "\n",
    "cd3_pos_cd4_neg_non_B_non_T_mtx_wt = build_cpdb_mtx_wt(cols = cd3_pos_cd4_neg_non_B_non_T_clusters_otherThree_interacts,\n",
    "                                            scaled = FALSE,\n",
    "                                            group_name = \"_wt\",\n",
    "                                            sig.cellpairs = 1,\n",
    "                                            sig.timepoint = 1, \n",
    "                                            ph_6mos_pvals = ph_wt_6mos_pvals,\n",
    "                                            ph_6mos_means = ph_wt_6mos_means,\n",
    "                                            ph_14mos_pvals = ph_wt_14mos_pvals,\n",
    "                                            ph_14mos_means = ph_wt_14mos_means,\n",
    "                                            ph_18mos_pvals = ph_wt_18mos_pvals,\n",
    "                                            ph_18mos_means = ph_wt_18mos_means)"
   ]
  },
  {
   "cell_type": "code",
   "execution_count": 38,
   "id": "516a1fbf",
   "metadata": {},
   "outputs": [],
   "source": [
    "plt_cpdb_dotplot<- function(exp_mtx, pval_mtx, dt.size = 1.5, \n",
    "                            column_title = \"merged\"){\n",
    "    \n",
    "    col_len = ncol(exp_mtx)/11\n",
    "    \n",
    "    message(\"quantile: \", c(quantile(exp_mtx, 0.1), quantile(exp_mtx, 0.5), quantile(exp_mtx, 0.95)))\n",
    "\n",
    "    col_fun = circlize::colorRamp2(c(-1.5, 0, 1.5), c(\"#440154FF\", \"#238A8DFF\", \"#FDE725FF\"))\n",
    "\n",
    "    fact = gsub(\"06mos.*|14mos.*|18mos.*|sick.*\", \"\", colnames(exp_mtx))\n",
    "    dend = cluster_between_groups(exp_mtx, fact)\n",
    "    \n",
    "    legend_dot_size = unit(dt.size,\"mm\")\n",
    "    \n",
    "    lgd = Legend(labels = c(0, 1, 2, 3, 4, 5),\n",
    "                 title = \"-logPvalue\",\n",
    "                 type = \"points\",\n",
    "                 graphics = list(\n",
    "                    function(x, y, w, h) grid.circle(x, y, r= sqrt(0/5) * legend_dot_size,\n",
    "                                                    gp = gpar(fill = \"black\")),\n",
    "                    function(x, y, w, h) grid.circle(x, y, r= sqrt(1/5) * legend_dot_size,\n",
    "                                                    gp = gpar(fill = \"black\")),\n",
    "                    function(x, y, w, h) grid.circle(x, y, r= sqrt(2/5) * legend_dot_size,\n",
    "                                                    gp = gpar(fill = \"black\")),\n",
    "                    function(x, y, w, h) grid.circle(x, y, r= sqrt(3/5) * legend_dot_size,\n",
    "                                                    gp = gpar(fill = \"black\")),\n",
    "                    function(x, y, w, h) grid.circle(x, y, r= sqrt(4/5) * legend_dot_size,\n",
    "                                                    gp = gpar(fill = \"black\")),\n",
    "                    function(x, y, w, h) grid.circle(x, y, r= sqrt(5/5) * legend_dot_size,\n",
    "                                                    gp = gpar(fill = \"black\"))            \n",
    "                            )\n",
    "                     )\n",
    "\n",
    "    layer_fun_dot = function(j, i, x, y, w, h, fill){\n",
    "        grid.rect(x = x, y = y, width = w, height = h, \n",
    "                  gp = gpar(col = NA, fill = NA))\n",
    "\n",
    "        grid.circle(x=x, y=y, r=sqrt(pindex(pval_mtx, i, j)/5) * legend_dot_size,\n",
    "                    gp = gpar(fill = col_fun(pindex(exp_mtx, i, j)), col = NA))\n",
    "    }\n",
    "    \n",
    "    clusterID =  gsub(\"_06mos.*|_14mos.*|_18mos.*|_sick.*\", \"\", colnames(exp_mtx))\n",
    "    genotype = paste0(\"bcl\", gsub(pattern = \".*bcl|.*wt\", replacement = \"\", x = colnames(exp_mtx)))\n",
    "    genotype[genotype=='bcl'] = 'wt'\n",
    "    age = rep(rep(c(\"06mos\", \"14mos\", \"18mos\", \"sick\"), times = c(3,3,3,2)), ncol(exp_mtx)/11)\n",
    "    \n",
    "    message(table(genotype))\n",
    "    message(table(age))\n",
    "    anno_df = data.frame(clusterID = clusterID, genotype = genotype, age = age)\n",
    "    \n",
    "    # clusterID_cols\n",
    "    clusterID_cols= kelly(n = length(unique(clusterID)) +2)[-c(1,2)] %>% unname()\n",
    "    clusterID_cols = setNames(clusterID_cols, unique(clusterID))\n",
    "    # age_cols\n",
    "    age_cols = brewer.pal(4, \"Dark2\")\n",
    "    age_cols = setNames(age_cols, c(\"06mos\", \"14mos\", \"18mos\", \"sick\"))\n",
    "    \n",
    "    genotype_cols = brewer.pal(5, \"Set1\")[c(1,3,5)]\n",
    "    genotype_cols = setNames(genotype_cols, c(\"wt\", \"bcl6\", \"bcl6_double\"))\n",
    "    \n",
    "    col_list = list(clusterID = clusterID_cols, genotype = genotype_cols, age = age_cols)\n",
    "\n",
    "    column_ha <- HeatmapAnnotation(\n",
    "        clusterID = clusterID, age = age, genotype = genotype, col = col_list,\n",
    "        annotation_legend_param = list(clusterID = list(title = \"annotation\"),\n",
    "                                       age = list(title = \"age\"),\n",
    "                                       genotype = list(title = \"genotype\")), show_annotation_name = TRUE)\n",
    "    \n",
    "    dotplot<- Heatmap(exp_mtx, \n",
    "        name = \"meanExpr\",\n",
    "        column_title = column_title,\n",
    "        column_names_side = \"top\",\n",
    "        column_title_side = \"bottom\",\n",
    "        show_column_names = FALSE,\n",
    "        column_names_gp = gpar(fontsize = 10),\n",
    "        column_title_gp = gpar(fontsize = 12),\n",
    "        cluster_columns = dend,\n",
    "        column_split = col_len,\n",
    "        rect_gp = gpar(type = \"none\"),\n",
    "        layer_fun = layer_fun_dot,\n",
    "        col = col_fun,\n",
    "        row_km = 6,\n",
    "        row_names_gp = gpar(fontsize = 8),\n",
    "        top_annotation = column_ha,\n",
    "        border = \"black\",\n",
    "        show_row_dend =FALSE,\n",
    "        show_column_dend = FALSE)\n",
    "        \n",
    "    return(dotplot)\n",
    "    \n",
    "}\n",
    "\n",
    "legend_dot_size = unit(1.5,\"mm\")\n",
    "lgd = Legend(labels = c(0, 1, 2, 3, 4, 5),\n",
    "         title = \"-logPvalue\",\n",
    "         type = \"points\",\n",
    "         graphics = list(\n",
    "            function(x, y, w, h) grid.circle(x, y, r= sqrt(0/5) * legend_dot_size,\n",
    "                                            gp = gpar(fill = \"black\")),\n",
    "            function(x, y, w, h) grid.circle(x, y, r= sqrt(1/5) * legend_dot_size,\n",
    "                                            gp = gpar(fill = \"black\")),\n",
    "            function(x, y, w, h) grid.circle(x, y, r= sqrt(2/5) * legend_dot_size,\n",
    "                                            gp = gpar(fill = \"black\")),\n",
    "            function(x, y, w, h) grid.circle(x, y, r= sqrt(3/5) * legend_dot_size,\n",
    "                                            gp = gpar(fill = \"black\")),\n",
    "            function(x, y, w, h) grid.circle(x, y, r= sqrt(4/5) * legend_dot_size,\n",
    "                                            gp = gpar(fill = \"black\")),\n",
    "            function(x, y, w, h) grid.circle(x, y, r= sqrt(5/5) * legend_dot_size,\n",
    "                                            gp = gpar(fill = \"black\"))            \n",
    "                    )\n",
    "             )"
   ]
  },
  {
   "cell_type": "code",
   "execution_count": 39,
   "id": "861d897e",
   "metadata": {},
   "outputs": [
    {
     "name": "stderr",
     "output_type": "stream",
     "text": [
      "wt...\n",
      "\n",
      "bcl6...\n",
      "\n",
      "bcl6 double...\n",
      "\n"
     ]
    },
    {
     "name": "stdout",
     "output_type": "stream",
     "text": [
      "[1] NA NA\n"
     ]
    },
    {
     "name": "stderr",
     "output_type": "stream",
     "text": [
      "TRUE\n",
      "\n",
      "scaling the count matrix\n",
      "\n",
      "wt...\n",
      "\n",
      "bcl6...\n",
      "\n",
      "bcl6 double...\n",
      "\n"
     ]
    },
    {
     "name": "stdout",
     "output_type": "stream",
     "text": [
      "[1] NA NA\n"
     ]
    },
    {
     "name": "stderr",
     "output_type": "stream",
     "text": [
      "TRUE\n",
      "\n",
      "scaling the count matrix\n",
      "\n",
      "quantile: -0.942737492906109-0.2738629066512381.84663170051678\n",
      "\n",
      "242418\n",
      "\n",
      "18181812\n",
      "\n",
      "quantile: -0.966148648524009-0.3139667595125751.9995816117058\n",
      "\n",
      "242418\n",
      "\n",
      "18181812\n",
      "\n"
     ]
    },
    {
     "data": {
      "text/html": [
       "<strong>png:</strong> 2"
      ],
      "text/latex": [
       "\\textbf{png:} 2"
      ],
      "text/markdown": [
       "**png:** 2"
      ],
      "text/plain": [
       "png \n",
       "  2 "
      ]
     },
     "metadata": {},
     "output_type": "display_data"
    },
    {
     "data": {
      "text/html": [
       "<strong>png:</strong> 2"
      ],
      "text/latex": [
       "\\textbf{png:} 2"
      ],
      "text/markdown": [
       "**png:** 2"
      ],
      "text/plain": [
       "png \n",
       "  2 "
      ]
     },
     "metadata": {},
     "output_type": "display_data"
    }
   ],
   "source": [
    "non_B_non_T_cd3_pos_cd4_neg_mtx<- merge_mtx(non_B_non_T_cd3_pos_cd4_neg_mtx_wt, non_B_non_T_cd3_pos_cd4_neg_mtx_bcl6, non_B_non_T_cd3_pos_cd4_neg_mtx_bcl6_double)\n",
    "cd3_pos_cd4_neg_non_B_non_T_mtx<- merge_mtx(cd3_pos_cd4_neg_non_B_non_T_mtx_wt, cd3_pos_cd4_neg_non_B_non_T_mtx_bcl6, cd3_pos_cd4_neg_non_B_non_T_mtx_bcl6_double)\n",
    "\n",
    "hp7 = plt_cpdb_dotplot(exp_mtx = non_B_non_T_cd3_pos_cd4_neg_mtx$exp_mtx, \n",
    "                       pval_mtx = non_B_non_T_cd3_pos_cd4_neg_mtx$pval_mtx)\n",
    "\n",
    "hp8 = plt_cpdb_dotplot(exp_mtx = cd3_pos_cd4_neg_non_B_non_T_mtx$exp_mtx, \n",
    "                       pval_mtx = cd3_pos_cd4_neg_non_B_non_T_mtx$pval_mtx)\n",
    "\n",
    "pdf(\"./results/figures/9_Dotplot_non_B_non_T_cd3_pos_cd4_neg_wt_bcl6_and_bcl6_double_cell1_time1_genotype1.pdf\", width = 15, height = 12)\n",
    "draw(hp7, annotation_legend_list = lgd, ht_gap = unit(1, \"cm\"))\n",
    "dev.off()\n",
    "\n",
    "pdf(\"./results/figures/9_Dotplot_cd3_pos_cd4_neg_non_B_non_T_wt_bcl6_and_bcl6_double_cell1_time1_genotype1.pdf\", width = 15, height = 12)\n",
    "draw(hp8, annotation_legend_list = lgd, ht_gap = unit(1, \"cm\"))\n",
    "dev.off()"
   ]
  },
  {
   "cell_type": "code",
   "execution_count": 24,
   "id": "7c883269",
   "metadata": {},
   "outputs": [
    {
     "name": "stderr",
     "output_type": "stream",
     "text": [
      "total number of intersections considered: 109\n",
      "\n",
      "6 mos...\n",
      "\n",
      "14 mos...\n",
      "\n",
      "18 mos...\n",
      "\n",
      "sick...\n",
      "\n",
      "Generating count matrix...\n",
      "\n",
      "Generating pvalue matrix...\n",
      "\n",
      "output unscaled data\n",
      "\n",
      "total number of intersections considered: 117\n",
      "\n",
      "6 mos...\n",
      "\n",
      "14 mos...\n",
      "\n",
      "18 mos...\n",
      "\n",
      "sick...\n",
      "\n",
      "Generating count matrix...\n",
      "\n",
      "Generating pvalue matrix...\n",
      "\n",
      "output unscaled data\n",
      "\n",
      "total number of intersections considered: 105\n",
      "\n",
      "6 mos...\n",
      "\n",
      "14 mos...\n",
      "\n",
      "18 mos...\n",
      "\n",
      "sick...\n",
      "\n",
      "Generating count matrix...\n",
      "\n",
      "Generating pvalue matrix...\n",
      "\n",
      "output unscaled data\n",
      "\n",
      "total number of intersections considered: 118\n",
      "\n",
      "6 mos...\n",
      "\n",
      "14 mos...\n",
      "\n",
      "18 mos...\n",
      "\n",
      "sick...\n",
      "\n",
      "Generating count matrix...\n",
      "\n",
      "Generating pvalue matrix...\n",
      "\n",
      "output unscaled data\n",
      "\n",
      "total number of intersections considered: 88\n",
      "\n",
      "6 mos...\n",
      "\n",
      "14 mos...\n",
      "\n",
      "18 mos...\n",
      "\n",
      "Generating count matrix...\n",
      "\n",
      "Generating pvalue matrix...\n",
      "\n",
      "output unscaled data\n",
      "\n",
      "total number of intersections considered: 91\n",
      "\n",
      "6 mos...\n",
      "\n",
      "14 mos...\n",
      "\n",
      "18 mos...\n",
      "\n",
      "Generating count matrix...\n",
      "\n",
      "Generating pvalue matrix...\n",
      "\n",
      "output unscaled data\n",
      "\n"
     ]
    }
   ],
   "source": [
    "non_B_non_T_cd3_pos_cd8_neg_mtx_bcl6 = build_cpdb_mtx(cols = non_B_non_T_clusters_otherThree_cd3_pos_cd8_neg_interacts,\n",
    "                                            scaled = FALSE,\n",
    "                                            sig.cellpairs = 1,\n",
    "                                            sig.timepoint = 1, \n",
    "                                            group_name = \"_bcl6\",\n",
    "                                            ph_6mos_pvals = ph_bcl6_6mos_pvals,\n",
    "                                            ph_6mos_means = ph_bcl6_6mos_means,\n",
    "                                            ph_14mos_pvals = ph_bcl6_14mos_pvals,\n",
    "                                            ph_14mos_means = ph_bcl6_14mos_means,\n",
    "                                            ph_18mos_pvals = ph_bcl6_18mos_pvals,\n",
    "                                            ph_18mos_means = ph_bcl6_18mos_means,\n",
    "                                            ph_sick_pvals = ph_bcl6_sick_pvals,\n",
    "                                            ph_sick_means = ph_bcl6_sick_means)\n",
    "\n",
    "cd3_pos_cd8_neg_non_B_non_T_mtx_bcl6 = build_cpdb_mtx(cols = cd3_pos_cd8_neg_non_B_non_T_clusters_otherThree_interacts,\n",
    "                                            scaled = FALSE,\n",
    "                                            sig.cellpairs = 1,\n",
    "                                            sig.timepoint = 1, \n",
    "                                            group_name = \"_bcl6\",\n",
    "                                            ph_6mos_pvals = ph_bcl6_6mos_pvals,\n",
    "                                            ph_6mos_means = ph_bcl6_6mos_means,\n",
    "                                            ph_14mos_pvals = ph_bcl6_14mos_pvals,\n",
    "                                            ph_14mos_means = ph_bcl6_14mos_means,\n",
    "                                            ph_18mos_pvals = ph_bcl6_18mos_pvals,\n",
    "                                            ph_18mos_means = ph_bcl6_18mos_means,\n",
    "                                            ph_sick_pvals = ph_bcl6_sick_pvals,\n",
    "                                            ph_sick_means = ph_bcl6_sick_means)\n",
    "\n",
    "\n",
    "non_B_non_T_cd3_pos_cd8_neg_mtx_bcl6_double = build_cpdb_mtx(cols = non_B_non_T_clusters_otherThree_cd3_pos_cd8_neg_interacts,\n",
    "                                            scaled = FALSE,\n",
    "                                            group_name = \"_bcl6_double\",\n",
    "                                            sig.cellpairs = 1,\n",
    "                                            sig.timepoint = 1, \n",
    "                                            ph_6mos_pvals = ph_bcl6_double_6mos_pvals,\n",
    "                                            ph_6mos_means = ph_bcl6_double_6mos_means,\n",
    "                                            ph_14mos_pvals = ph_bcl6_double_14mos_pvals,\n",
    "                                            ph_14mos_means = ph_bcl6_double_14mos_means,\n",
    "                                            ph_18mos_pvals = ph_bcl6_double_18mos_pvals,\n",
    "                                            ph_18mos_means = ph_bcl6_double_18mos_means,\n",
    "                                            ph_sick_pvals = ph_bcl6_double_sick_pvals,\n",
    "                                            ph_sick_means = ph_bcl6_double_sick_means)\n",
    "\n",
    "cd3_pos_cd8_neg_non_B_non_T_mtx_bcl6_double = build_cpdb_mtx(cols = cd3_pos_cd8_neg_non_B_non_T_clusters_otherThree_interacts,\n",
    "                                            scaled = FALSE,\n",
    "                                            group_name = \"_bcl6_double\",\n",
    "                                            sig.cellpairs = 1,\n",
    "                                            sig.timepoint = 1, \n",
    "                                            ph_6mos_pvals = ph_bcl6_double_6mos_pvals,\n",
    "                                            ph_6mos_means = ph_bcl6_double_6mos_means,\n",
    "                                            ph_14mos_pvals = ph_bcl6_double_14mos_pvals,\n",
    "                                            ph_14mos_means = ph_bcl6_double_14mos_means,\n",
    "                                            ph_18mos_pvals = ph_bcl6_double_18mos_pvals,\n",
    "                                            ph_18mos_means = ph_bcl6_double_18mos_means,\n",
    "                                            ph_sick_pvals = ph_bcl6_double_sick_pvals,\n",
    "                                            ph_sick_means = ph_bcl6_double_sick_means)\n",
    "\n",
    "non_B_non_T_cd3_pos_cd8_neg_mtx_wt = build_cpdb_mtx_wt(cols = non_B_non_T_clusters_otherThree_cd3_pos_cd8_neg_interacts,\n",
    "                                            scaled = FALSE,\n",
    "                                            group_name = \"_wt\",\n",
    "                                            sig.cellpairs = 1,\n",
    "                                            sig.timepoint = 1, \n",
    "                                            ph_6mos_pvals = ph_wt_6mos_pvals,\n",
    "                                            ph_6mos_means = ph_wt_6mos_means,\n",
    "                                            ph_14mos_pvals = ph_wt_14mos_pvals,\n",
    "                                            ph_14mos_means = ph_wt_14mos_means,\n",
    "                                            ph_18mos_pvals = ph_wt_18mos_pvals,\n",
    "                                            ph_18mos_means = ph_wt_18mos_means)\n",
    "\n",
    "cd3_pos_cd8_neg_non_B_non_T_mtx_wt = build_cpdb_mtx_wt(cols = cd3_pos_cd8_neg_non_B_non_T_clusters_otherThree_interacts,\n",
    "                                            scaled = FALSE,\n",
    "                                            group_name = \"_wt\",\n",
    "                                            sig.cellpairs = 1,\n",
    "                                            sig.timepoint = 1, \n",
    "                                            ph_6mos_pvals = ph_wt_6mos_pvals,\n",
    "                                            ph_6mos_means = ph_wt_6mos_means,\n",
    "                                            ph_14mos_pvals = ph_wt_14mos_pvals,\n",
    "                                            ph_14mos_means = ph_wt_14mos_means,\n",
    "                                            ph_18mos_pvals = ph_wt_18mos_pvals,\n",
    "                                            ph_18mos_means = ph_wt_18mos_means)"
   ]
  },
  {
   "cell_type": "code",
   "execution_count": 25,
   "id": "43829339",
   "metadata": {},
   "outputs": [
    {
     "name": "stderr",
     "output_type": "stream",
     "text": [
      "wt...\n",
      "\n",
      "bcl6...\n",
      "\n",
      "bcl6 double...\n",
      "\n"
     ]
    },
    {
     "name": "stdout",
     "output_type": "stream",
     "text": [
      "[1] NA NA\n"
     ]
    },
    {
     "name": "stderr",
     "output_type": "stream",
     "text": [
      "TRUE\n",
      "\n",
      "scaling the count matrix\n",
      "\n",
      "wt...\n",
      "\n",
      "bcl6...\n",
      "\n",
      "bcl6 double...\n",
      "\n"
     ]
    },
    {
     "name": "stdout",
     "output_type": "stream",
     "text": [
      "[1] NA NA\n"
     ]
    },
    {
     "name": "stderr",
     "output_type": "stream",
     "text": [
      "TRUE\n",
      "\n",
      "scaling the count matrix\n",
      "\n",
      "quantile: -0.971613342004948-0.3291149792447641.93609449537178\n",
      "\n",
      "484836\n",
      "\n",
      "36363624\n",
      "\n",
      "quantile: -0.896750945131094-0.3310627443220371.95998004282277\n",
      "\n",
      "484836\n",
      "\n",
      "36363624\n",
      "\n"
     ]
    },
    {
     "data": {
      "text/html": [
       "<strong>png:</strong> 2"
      ],
      "text/latex": [
       "\\textbf{png:} 2"
      ],
      "text/markdown": [
       "**png:** 2"
      ],
      "text/plain": [
       "png \n",
       "  2 "
      ]
     },
     "metadata": {},
     "output_type": "display_data"
    },
    {
     "data": {
      "text/html": [
       "<strong>png:</strong> 2"
      ],
      "text/latex": [
       "\\textbf{png:} 2"
      ],
      "text/markdown": [
       "**png:** 2"
      ],
      "text/plain": [
       "png \n",
       "  2 "
      ]
     },
     "metadata": {},
     "output_type": "display_data"
    }
   ],
   "source": [
    "non_B_non_T_cd3_pos_cd8_neg_mtx<- merge_mtx(non_B_non_T_cd3_pos_cd8_neg_mtx_wt, non_B_non_T_cd3_pos_cd8_neg_mtx_bcl6, non_B_non_T_cd3_pos_cd8_neg_mtx_bcl6_double)\n",
    "cd3_pos_cd8_neg_non_B_non_T_mtx<- merge_mtx(cd3_pos_cd8_neg_non_B_non_T_mtx_wt, cd3_pos_cd8_neg_non_B_non_T_mtx_bcl6, cd3_pos_cd8_neg_non_B_non_T_mtx_bcl6_double)\n",
    "\n",
    "hp7 = plt_cpdb_dotplot(exp_mtx = non_B_non_T_cd3_pos_cd8_neg_mtx$exp_mtx, \n",
    "                       pval_mtx = non_B_non_T_cd3_pos_cd8_neg_mtx$pval_mtx)\n",
    "\n",
    "hp8 = plt_cpdb_dotplot(exp_mtx = cd3_pos_cd8_neg_non_B_non_T_mtx$exp_mtx, \n",
    "                       pval_mtx = cd3_pos_cd8_neg_non_B_non_T_mtx$pval_mtx)\n",
    "\n",
    "pdf(\"./results/figures/9_Dotplot_non_B_non_T_cd3_pos_cd8_neg_wt_bcl6_and_bcl6_double_cell1_time1_genotype1.pdf\", width = 24, height = 15)\n",
    "draw(hp7, annotation_legend_list = lgd, ht_gap = unit(1, \"cm\"))\n",
    "dev.off()\n",
    "\n",
    "pdf(\"./results/figures/9_Dotplot_cd3_pos_cd8_neg_non_B_non_T_wt_bcl6_and_bcl6_double_cell1_time1_genotype1.pdf\", width = 24, height = 15)\n",
    "draw(hp8, annotation_legend_list = lgd, ht_gap = unit(1, \"cm\"))\n",
    "dev.off()"
   ]
  },
  {
   "cell_type": "markdown",
   "id": "9364af58",
   "metadata": {},
   "source": [
    "### 3. Interesting interactions between cd3_pos_cd4_neg CTLs/cycling with B-cell Malignant"
   ]
  },
  {
   "cell_type": "code",
   "execution_count": 41,
   "id": "8369ac62",
   "metadata": {},
   "outputs": [
    {
     "name": "stderr",
     "output_type": "stream",
     "text": [
      "quantile: -1.08902079938769-0.1012412813361741.9536749522865\n",
      "\n"
     ]
    },
    {
     "name": "stdout",
     "output_type": "stream",
     "text": [
      "genotype\n",
      "       bcl6 bcl6_double          wt \n",
      "         24          24          24 \n",
      "age\n",
      "06mos 14mos 18mos \n",
      "   24    24    24 \n"
     ]
    },
    {
     "data": {
      "text/html": [
       "<strong>png:</strong> 2"
      ],
      "text/latex": [
       "\\textbf{png:} 2"
      ],
      "text/markdown": [
       "**png:** 2"
      ],
      "text/plain": [
       "png \n",
       "  2 "
      ]
     },
     "metadata": {},
     "output_type": "display_data"
    }
   ],
   "source": [
    "cd3_pos_cd4_neg_B_cell_interactions<- c(\"IL10_receptor_IL10\", \"CTLA4_CD80\", \"CTLA4_CD86\", \"PDCD1_PDCD1LG2\", \n",
    "                                        \"PDCD1_FAM3C\", \"PDCD1_CD274\", \"CCL4_CNR2\", \"IFNG_Type_II_IFNR\", \"CCL5_CCR1\",\n",
    "                                        \"SEMA4A_PLXND1\")\n",
    "\n",
    "cd3_pos_cd4_neg_B_cell_exp_mtx_sub<- cd3_pos_cd4_neg_B_cell_mtx$exp_mtx[cd3_pos_cd4_neg_B_cell_interactions, ]\n",
    "cd3_pos_cd4_neg_B_cell_pval_mtx_sub<- cd3_pos_cd4_neg_B_cell_mtx$pval_mtx[cd3_pos_cd4_neg_B_cell_interactions, ]\n",
    "\n",
    "cd3_pos_cd4_neg_B_cell_mtx_sub = list(\"exp_mtx\" = cd3_pos_cd4_neg_B_cell_exp_mtx_sub, \"pval_mtx\" = cd3_pos_cd4_neg_B_cell_pval_mtx_sub)\n",
    "\n",
    "hp1_sub = plt_cpdb_dotplot(exp_mtx = cd3_pos_cd4_neg_B_cell_mtx_sub$exp_mtx, \n",
    "                       pval_mtx = cd3_pos_cd4_neg_B_cell_mtx_sub$pval_mtx)\n",
    "\n",
    "pdf(\"./results/figures/9_Dotplot_cd3_pos_cd4_neg_B_cell_wt_bcl6_and_bcl6_double_cell3_time1_genotype1_subset.pdf\", width = 16, height = 4)\n",
    "draw(hp1_sub, annotation_legend_list = lgd, ht_gap = unit(1, \"cm\"))\n",
    "dev.off()"
   ]
  },
  {
   "cell_type": "markdown",
   "id": "f7613904",
   "metadata": {},
   "source": [
    "### 4. Interesting interactions between cd3_pos_cd8_neg CTLs and B-cell Malignant"
   ]
  },
  {
   "cell_type": "code",
   "execution_count": 42,
   "id": "8692e066",
   "metadata": {},
   "outputs": [
    {
     "data": {
      "text/html": [
       "<style>\n",
       ".list-inline {list-style: none; margin:0; padding: 0}\n",
       ".list-inline>li {display: inline-block}\n",
       ".list-inline>li:not(:last-child)::after {content: \"\\00b7\"; padding: 0 .5ex}\n",
       "</style>\n",
       "<ol class=list-inline><li>'cd3_pos_cd8_neg_CTLs|B_cell_Atypical'</li><li>'cd3_pos_cd8_neg_CTLs|B_cell_Age-associated/autoimmune'</li><li>'cd3_pos_cd8_neg_CTLs|B_cell_Cycling'</li><li>'cd3_pos_cd8_neg_CTLs|B_cell_Plasmablasts'</li></ol>\n"
      ],
      "text/latex": [
       "\\begin{enumerate*}\n",
       "\\item 'cd3\\_pos\\_cd8\\_neg\\_CTLs\\textbar{}B\\_cell\\_Atypical'\n",
       "\\item 'cd3\\_pos\\_cd8\\_neg\\_CTLs\\textbar{}B\\_cell\\_Age-associated/autoimmune'\n",
       "\\item 'cd3\\_pos\\_cd8\\_neg\\_CTLs\\textbar{}B\\_cell\\_Cycling'\n",
       "\\item 'cd3\\_pos\\_cd8\\_neg\\_CTLs\\textbar{}B\\_cell\\_Plasmablasts'\n",
       "\\end{enumerate*}\n"
      ],
      "text/markdown": [
       "1. 'cd3_pos_cd8_neg_CTLs|B_cell_Atypical'\n",
       "2. 'cd3_pos_cd8_neg_CTLs|B_cell_Age-associated/autoimmune'\n",
       "3. 'cd3_pos_cd8_neg_CTLs|B_cell_Cycling'\n",
       "4. 'cd3_pos_cd8_neg_CTLs|B_cell_Plasmablasts'\n",
       "\n",
       "\n"
      ],
      "text/plain": [
       "[1] \"cd3_pos_cd8_neg_CTLs|B_cell_Atypical\"                 \n",
       "[2] \"cd3_pos_cd8_neg_CTLs|B_cell_Age-associated/autoimmune\"\n",
       "[3] \"cd3_pos_cd8_neg_CTLs|B_cell_Cycling\"                  \n",
       "[4] \"cd3_pos_cd8_neg_CTLs|B_cell_Plasmablasts\"             "
      ]
     },
     "metadata": {},
     "output_type": "display_data"
    },
    {
     "data": {
      "text/html": [
       "TRUE"
      ],
      "text/latex": [
       "TRUE"
      ],
      "text/markdown": [
       "TRUE"
      ],
      "text/plain": [
       "[1] TRUE"
      ]
     },
     "metadata": {},
     "output_type": "display_data"
    },
    {
     "data": {
      "text/html": [
       "<style>\n",
       ".list-inline {list-style: none; margin:0; padding: 0}\n",
       ".list-inline>li {display: inline-block}\n",
       ".list-inline>li:not(:last-child)::after {content: \"\\00b7\"; padding: 0 .5ex}\n",
       "</style>\n",
       "<ol class=list-inline><li>'B_cell_Atypical|cd3_pos_cd8_neg_CTLs'</li><li>'B_cell_Age-associated/autoimmune|cd3_pos_cd8_neg_CTLs'</li><li>'B_cell_Cycling|cd3_pos_cd8_neg_CTLs'</li><li>'B_cell_Plasmablasts|cd3_pos_cd8_neg_CTLs'</li></ol>\n"
      ],
      "text/latex": [
       "\\begin{enumerate*}\n",
       "\\item 'B\\_cell\\_Atypical\\textbar{}cd3\\_pos\\_cd8\\_neg\\_CTLs'\n",
       "\\item 'B\\_cell\\_Age-associated/autoimmune\\textbar{}cd3\\_pos\\_cd8\\_neg\\_CTLs'\n",
       "\\item 'B\\_cell\\_Cycling\\textbar{}cd3\\_pos\\_cd8\\_neg\\_CTLs'\n",
       "\\item 'B\\_cell\\_Plasmablasts\\textbar{}cd3\\_pos\\_cd8\\_neg\\_CTLs'\n",
       "\\end{enumerate*}\n"
      ],
      "text/markdown": [
       "1. 'B_cell_Atypical|cd3_pos_cd8_neg_CTLs'\n",
       "2. 'B_cell_Age-associated/autoimmune|cd3_pos_cd8_neg_CTLs'\n",
       "3. 'B_cell_Cycling|cd3_pos_cd8_neg_CTLs'\n",
       "4. 'B_cell_Plasmablasts|cd3_pos_cd8_neg_CTLs'\n",
       "\n",
       "\n"
      ],
      "text/plain": [
       "[1] \"B_cell_Atypical|cd3_pos_cd8_neg_CTLs\"                 \n",
       "[2] \"B_cell_Age-associated/autoimmune|cd3_pos_cd8_neg_CTLs\"\n",
       "[3] \"B_cell_Cycling|cd3_pos_cd8_neg_CTLs\"                  \n",
       "[4] \"B_cell_Plasmablasts|cd3_pos_cd8_neg_CTLs\"             "
      ]
     },
     "metadata": {},
     "output_type": "display_data"
    },
    {
     "data": {
      "text/html": [
       "TRUE"
      ],
      "text/latex": [
       "TRUE"
      ],
      "text/markdown": [
       "TRUE"
      ],
      "text/plain": [
       "[1] TRUE"
      ]
     },
     "metadata": {},
     "output_type": "display_data"
    }
   ],
   "source": [
    "cd3_pos_cd8_neg_CTLs_clusters<- c(\"cd3_pos_cd8_neg_CTLs\")\n",
    "B_cell_clusters<- c(\"B_cell_Atypical\", \"B_cell_Age-associated/autoimmune\", \n",
    "                    \"B_cell_Cycling\", \"B_cell_Plasmablasts\")\n",
    "\n",
    "cd3_pos_cd8_neg_CTLs_B_cell_interacts<- c()\n",
    "B_cell_cd3_pos_cd8_neg_CTLs_interacts<- c()\n",
    "\n",
    "for (c1 in cd3_pos_cd8_neg_CTLs_clusters){\n",
    "    for (c2 in B_cell_clusters){\n",
    "        \n",
    "        interact<- paste0(c1, \"|\", c2)\n",
    "        inverse_interact<- paste0(c2, \"|\", c1)\n",
    "        \n",
    "        cd3_pos_cd8_neg_CTLs_B_cell_interacts<- c(cd3_pos_cd8_neg_CTLs_B_cell_interacts, interact)\n",
    "        B_cell_cd3_pos_cd8_neg_CTLs_interacts<- c(B_cell_cd3_pos_cd8_neg_CTLs_interacts, inverse_interact)\n",
    "    }\n",
    "}\n",
    "\n",
    "cd3_pos_cd8_neg_CTLs_B_cell_interacts\n",
    "sum(colnames(ph_wt_6mos_pvals) %in% cd3_pos_cd8_neg_CTLs_B_cell_interacts) == length(cd3_pos_cd8_neg_CTLs_B_cell_interacts)\n",
    "\n",
    "B_cell_cd3_pos_cd8_neg_CTLs_interacts\n",
    "sum(colnames(ph_wt_6mos_pvals) %in% B_cell_cd3_pos_cd8_neg_CTLs_interacts) == length(B_cell_cd3_pos_cd8_neg_CTLs_interacts)"
   ]
  },
  {
   "cell_type": "code",
   "execution_count": 43,
   "id": "08f608e2",
   "metadata": {},
   "outputs": [
    {
     "name": "stderr",
     "output_type": "stream",
     "text": [
      "total number of intersections considered: 28\n",
      "\n",
      "6 mos...\n",
      "\n",
      "14 mos...\n",
      "\n",
      "18 mos...\n",
      "\n",
      "Generating count matrix...\n",
      "\n",
      "Generating pvalue matrix...\n",
      "\n",
      "output unscaled data\n",
      "\n",
      "total number of intersections considered: 22\n",
      "\n",
      "6 mos...\n",
      "\n",
      "14 mos...\n",
      "\n",
      "18 mos...\n",
      "\n",
      "Generating count matrix...\n",
      "\n",
      "Generating pvalue matrix...\n",
      "\n",
      "output unscaled data\n",
      "\n",
      "total number of intersections considered: 23\n",
      "\n",
      "6 mos...\n",
      "\n",
      "14 mos...\n",
      "\n",
      "18 mos...\n",
      "\n",
      "Generating count matrix...\n",
      "\n",
      "Generating pvalue matrix...\n",
      "\n",
      "output unscaled data\n",
      "\n",
      "total number of intersections considered: 22\n",
      "\n",
      "6 mos...\n",
      "\n",
      "14 mos...\n",
      "\n",
      "18 mos...\n",
      "\n",
      "Generating count matrix...\n",
      "\n",
      "Generating pvalue matrix...\n",
      "\n",
      "output unscaled data\n",
      "\n",
      "total number of intersections considered: 24\n",
      "\n",
      "6 mos...\n",
      "\n",
      "14 mos...\n",
      "\n",
      "18 mos...\n",
      "\n",
      "Generating count matrix...\n",
      "\n",
      "Generating pvalue matrix...\n",
      "\n",
      "output unscaled data\n",
      "\n",
      "total number of intersections considered: 20\n",
      "\n",
      "6 mos...\n",
      "\n",
      "14 mos...\n",
      "\n",
      "18 mos...\n",
      "\n",
      "Generating count matrix...\n",
      "\n",
      "Generating pvalue matrix...\n",
      "\n",
      "output unscaled data\n",
      "\n"
     ]
    }
   ],
   "source": [
    "cd3_pos_cd8_neg_B_cell_mtx_bcl6 = build_cpdb_mtx_noSick(cols = cd3_pos_cd8_neg_CTLs_B_cell_interacts,\n",
    "                                            scaled = FALSE,\n",
    "                                            sig.cellpairs = 3,\n",
    "                                            sig.timepoint = 1,  \n",
    "                                            group_name = \"_bcl6\",\n",
    "                                            ph_6mos_pvals = ph_bcl6_6mos_pvals,\n",
    "                                            ph_6mos_means = ph_bcl6_6mos_means,\n",
    "                                            ph_14mos_pvals = ph_bcl6_14mos_pvals,\n",
    "                                            ph_14mos_means = ph_bcl6_14mos_means,\n",
    "                                            ph_18mos_pvals = ph_bcl6_18mos_pvals,\n",
    "                                            ph_18mos_means = ph_bcl6_18mos_means)\n",
    "\n",
    "B_cell_cd3_pos_cd8_neg_mtx_bcl6 = build_cpdb_mtx_noSick(cols = B_cell_cd3_pos_cd8_neg_CTLs_interacts, \n",
    "                                            scaled = FALSE,\n",
    "                                            sig.cellpairs = 3,\n",
    "                                            sig.timepoint = 1,  \n",
    "                                            group_name = \"_bcl6\",\n",
    "                                            ph_6mos_pvals = ph_bcl6_6mos_pvals,\n",
    "                                            ph_6mos_means = ph_bcl6_6mos_means,\n",
    "                                            ph_14mos_pvals = ph_bcl6_14mos_pvals,\n",
    "                                            ph_14mos_means = ph_bcl6_14mos_means,\n",
    "                                            ph_18mos_pvals = ph_bcl6_18mos_pvals,\n",
    "                                            ph_18mos_means = ph_bcl6_18mos_means)\n",
    "\n",
    "cd3_pos_cd8_neg_B_cell_mtx_bcl6_double = build_cpdb_mtx_noSick(cols = cd3_pos_cd8_neg_CTLs_B_cell_interacts,\n",
    "                                            scaled = FALSE,\n",
    "                                            group_name = \"_bcl6_double\",\n",
    "                                            sig.cellpairs = 3,\n",
    "                                            sig.timepoint = 1, \n",
    "                                            ph_6mos_pvals = ph_bcl6_double_6mos_pvals,\n",
    "                                            ph_6mos_means = ph_bcl6_double_6mos_means,\n",
    "                                            ph_14mos_pvals = ph_bcl6_double_14mos_pvals,\n",
    "                                            ph_14mos_means = ph_bcl6_double_14mos_means,\n",
    "                                            ph_18mos_pvals = ph_bcl6_double_18mos_pvals,\n",
    "                                            ph_18mos_means = ph_bcl6_double_18mos_means)\n",
    "\n",
    "B_cell_cd3_pos_cd8_neg_mtx_bcl6_double = build_cpdb_mtx_noSick(cols = B_cell_cd3_pos_cd8_neg_CTLs_interacts, \n",
    "                                            scaled = FALSE,\n",
    "                                            group_name = \"_bcl6_double\",\n",
    "                                            sig.cellpairs = 3,\n",
    "                                            sig.timepoint = 1, \n",
    "                                            ph_6mos_pvals = ph_bcl6_double_6mos_pvals,\n",
    "                                            ph_6mos_means = ph_bcl6_double_6mos_means,\n",
    "                                            ph_14mos_pvals = ph_bcl6_double_14mos_pvals,\n",
    "                                            ph_14mos_means = ph_bcl6_double_14mos_means,\n",
    "                                            ph_18mos_pvals = ph_bcl6_double_18mos_pvals,\n",
    "                                            ph_18mos_means = ph_bcl6_double_18mos_means)\n",
    "\n",
    "cd3_pos_cd8_neg_B_cell_mtx_wt = build_cpdb_mtx_wt(cols = cd3_pos_cd8_neg_CTLs_B_cell_interacts,\n",
    "                                            scaled = FALSE,\n",
    "                                            group_name = \"_wt\",\n",
    "                                            sig.cellpairs = 3,\n",
    "                                            sig.timepoint = 1, \n",
    "                                            ph_6mos_pvals = ph_wt_6mos_pvals,\n",
    "                                            ph_6mos_means = ph_wt_6mos_means,\n",
    "                                            ph_14mos_pvals = ph_wt_14mos_pvals,\n",
    "                                            ph_14mos_means = ph_wt_14mos_means,\n",
    "                                            ph_18mos_pvals = ph_wt_18mos_pvals,\n",
    "                                            ph_18mos_means = ph_wt_18mos_means)\n",
    "\n",
    "B_cell_cd3_pos_cd8_neg_mtx_wt = build_cpdb_mtx_wt(cols = B_cell_cd3_pos_cd8_neg_CTLs_interacts, \n",
    "                                            scaled = FALSE,\n",
    "                                            group_name = \"_wt\",\n",
    "                                            sig.cellpairs = 3,\n",
    "                                            sig.timepoint = 1, \n",
    "                                            ph_6mos_pvals = ph_wt_6mos_pvals,\n",
    "                                            ph_6mos_means = ph_wt_6mos_means,\n",
    "                                            ph_14mos_pvals = ph_wt_14mos_pvals,\n",
    "                                            ph_14mos_means = ph_wt_14mos_means,\n",
    "                                            ph_18mos_pvals = ph_wt_18mos_pvals,\n",
    "                                            ph_18mos_means = ph_wt_18mos_means)"
   ]
  },
  {
   "cell_type": "code",
   "execution_count": 44,
   "id": "05b4ed76",
   "metadata": {},
   "outputs": [
    {
     "name": "stderr",
     "output_type": "stream",
     "text": [
      "wt...\n",
      "\n",
      "bcl6...\n",
      "\n",
      "bcl6 double...\n",
      "\n"
     ]
    },
    {
     "name": "stdout",
     "output_type": "stream",
     "text": [
      "[1] NA NA\n"
     ]
    },
    {
     "name": "stderr",
     "output_type": "stream",
     "text": [
      "TRUE\n",
      "\n",
      "scaling the count matrix\n",
      "\n",
      "wt...\n",
      "\n",
      "bcl6...\n",
      "\n",
      "bcl6 double...\n",
      "\n"
     ]
    },
    {
     "name": "stdout",
     "output_type": "stream",
     "text": [
      "[1] NA NA\n"
     ]
    },
    {
     "name": "stderr",
     "output_type": "stream",
     "text": [
      "TRUE\n",
      "\n",
      "scaling the count matrix\n",
      "\n"
     ]
    }
   ],
   "source": [
    "cd3_pos_cd8_neg_CTLs_B_cell_mtx<- merge_mtx(cd3_pos_cd8_neg_B_cell_mtx_wt, cd3_pos_cd8_neg_B_cell_mtx_bcl6, cd3_pos_cd8_neg_B_cell_mtx_bcl6_double)\n",
    "B_cell_cd3_pos_cd8_neg_CTLs_mtx<- merge_mtx(B_cell_cd3_pos_cd8_neg_mtx_wt, B_cell_cd3_pos_cd8_neg_mtx_bcl6, B_cell_cd3_pos_cd8_neg_mtx_bcl6_double)"
   ]
  },
  {
   "cell_type": "code",
   "execution_count": 46,
   "id": "c4645fab",
   "metadata": {},
   "outputs": [
    {
     "name": "stderr",
     "output_type": "stream",
     "text": [
      "quantile: -1.17342769428179-0.1667917315923481.88143360605578\n",
      "\n"
     ]
    },
    {
     "name": "stdout",
     "output_type": "stream",
     "text": [
      "genotype\n",
      "       bcl6 bcl6_double          wt \n",
      "         12          12          12 \n",
      "age\n",
      "06mos 14mos 18mos \n",
      "   12    12    12 \n"
     ]
    },
    {
     "name": "stderr",
     "output_type": "stream",
     "text": [
      "quantile: -1.14696172974392-0.2813343844440211.90250182175104\n",
      "\n"
     ]
    },
    {
     "name": "stdout",
     "output_type": "stream",
     "text": [
      "genotype\n",
      "       bcl6 bcl6_double          wt \n",
      "         12          12          12 \n",
      "age\n",
      "06mos 14mos 18mos \n",
      "   12    12    12 \n"
     ]
    },
    {
     "data": {
      "text/html": [
       "<strong>png:</strong> 2"
      ],
      "text/latex": [
       "\\textbf{png:} 2"
      ],
      "text/markdown": [
       "**png:** 2"
      ],
      "text/plain": [
       "png \n",
       "  2 "
      ]
     },
     "metadata": {},
     "output_type": "display_data"
    },
    {
     "data": {
      "text/html": [
       "<strong>png:</strong> 2"
      ],
      "text/latex": [
       "\\textbf{png:} 2"
      ],
      "text/markdown": [
       "**png:** 2"
      ],
      "text/plain": [
       "png \n",
       "  2 "
      ]
     },
     "metadata": {},
     "output_type": "display_data"
    }
   ],
   "source": [
    "hp3 = plt_cpdb_dotplot(exp_mtx = cd3_pos_cd8_neg_CTLs_B_cell_mtx$exp_mtx, \n",
    "                       pval_mtx = cd3_pos_cd8_neg_CTLs_B_cell_mtx$pval_mtx)\n",
    "hp4 = plt_cpdb_dotplot(exp_mtx = B_cell_cd3_pos_cd8_neg_CTLs_mtx$exp_mtx, \n",
    "                       pval_mtx = B_cell_cd3_pos_cd8_neg_CTLs_mtx$pval_mtx)\n",
    "pdf(\"./results/figures/9_Dotplot_cd3_pos_cd8_neg_CTLs_B_cell_wt_bcl6_and_bcl6_double_cell3_time1_genotype1.pdf\", width = 12, height = 10)\n",
    "draw(hp3, annotation_legend_list = lgd, ht_gap = unit(1, \"cm\"))\n",
    "dev.off()\n",
    "\n",
    "pdf(\"./results/figures/9_Dotplot_B_cell_cd3_pos_cd8_neg_CTLs_wt_bcl6_and_bcl6_double_cell3_time1_genotype1.pdf\", width = 12, height = 10)\n",
    "draw(hp4, annotation_legend_list = lgd, ht_gap = unit(1, \"cm\"))\n",
    "dev.off()"
   ]
  },
  {
   "cell_type": "code",
   "execution_count": null,
   "id": "af285e4d",
   "metadata": {},
   "outputs": [],
   "source": [
    "# i. CTLA4-CD80\n",
    "# ii. CTLA4-CD86\n",
    "# iii. PDCD1-PDCD1LG2\n",
    "# iv. PDCD1-CD274\n",
    "# v. Lgals9-Havcr2"
   ]
  },
  {
   "cell_type": "code",
   "execution_count": 47,
   "id": "de8ee78f",
   "metadata": {},
   "outputs": [
    {
     "name": "stderr",
     "output_type": "stream",
     "text": [
      "quantile: -1.19239009499975-0.04021837888061971.95888813308765\n",
      "\n"
     ]
    },
    {
     "name": "stdout",
     "output_type": "stream",
     "text": [
      "genotype\n",
      "       bcl6 bcl6_double          wt \n",
      "         12          12          12 \n",
      "age\n",
      "06mos 14mos 18mos \n",
      "   12    12    12 \n"
     ]
    },
    {
     "data": {
      "text/html": [
       "<strong>png:</strong> 2"
      ],
      "text/latex": [
       "\\textbf{png:} 2"
      ],
      "text/markdown": [
       "**png:** 2"
      ],
      "text/plain": [
       "png \n",
       "  2 "
      ]
     },
     "metadata": {},
     "output_type": "display_data"
    }
   ],
   "source": [
    "cd3_pos_cd8_neg_B_cell_interactions<- c(\"CTLA4_CD80\", \"CTLA4_CD86\", \"PDCD1_PDCD1LG2\", \"PDCD1_CD274\")\n",
    "\n",
    "cd3_pos_cd8_neg_B_cell_exp_mtx_sub<- cd3_pos_cd8_neg_CTLs_B_cell_mtx$exp_mtx[cd3_pos_cd8_neg_B_cell_interactions, ]\n",
    "cd3_pos_cd8_neg_B_cell_pval_mtx_sub<- cd3_pos_cd8_neg_CTLs_B_cell_mtx$pval_mtx[cd3_pos_cd8_neg_B_cell_interactions, ]\n",
    "\n",
    "cd3_pos_cd8_neg_B_cell_mtx_sub = list(\"exp_mtx\" = cd3_pos_cd8_neg_B_cell_exp_mtx_sub, \"pval_mtx\" = cd3_pos_cd8_neg_B_cell_pval_mtx_sub)\n",
    "\n",
    "hp_sub = plt_cpdb_dotplot(exp_mtx = cd3_pos_cd8_neg_B_cell_mtx_sub$exp_mtx, \n",
    "                           pval_mtx = cd3_pos_cd8_neg_B_cell_mtx_sub$pval_mtx)\n",
    "\n",
    "pdf(\"./results/figures/9_Dotplot_cd3_pos_cd8_neg_B_cell_wt_bcl6_and_bcl6_double_cell3_time1_genotype1_subset.pdf\", width = 12, height = 2)\n",
    "draw(hp_sub, annotation_legend_list = lgd, ht_gap = unit(1, \"cm\"))\n",
    "dev.off()"
   ]
  }
 ],
 "metadata": {
  "kernelspec": {
   "display_name": "R",
   "language": "R",
   "name": "ir"
  },
  "language_info": {
   "codemirror_mode": "r",
   "file_extension": ".r",
   "mimetype": "text/x-r-source",
   "name": "R",
   "pygments_lexer": "r",
   "version": "4.1.1"
  }
 },
 "nbformat": 4,
 "nbformat_minor": 5
}
