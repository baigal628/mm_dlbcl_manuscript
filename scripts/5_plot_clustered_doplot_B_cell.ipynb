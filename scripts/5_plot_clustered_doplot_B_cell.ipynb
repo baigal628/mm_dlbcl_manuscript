{
 "cells": [
  {
   "cell_type": "code",
   "execution_count": 1,
   "id": "ea2ea4e4",
   "metadata": {
    "scrolled": true
   },
   "outputs": [
    {
     "data": {
      "text/html": [
       "'/liulab/galib/dlbcl_manuscript/scripts'"
      ],
      "text/latex": [
       "'/liulab/galib/dlbcl\\_manuscript/scripts'"
      ],
      "text/markdown": [
       "'/liulab/galib/dlbcl_manuscript/scripts'"
      ],
      "text/plain": [
       "[1] \"/liulab/galib/dlbcl_manuscript/scripts\""
      ]
     },
     "metadata": {},
     "output_type": "display_data"
    },
    {
     "name": "stderr",
     "output_type": "stream",
     "text": [
      "Warning message:\n",
      "“package ‘rBCS’ was built under R version 4.1.3”\n",
      "Warning message:\n",
      "“package ‘tidyverse’ was built under R version 4.1.3”\n",
      "── \u001b[1mAttaching packages\u001b[22m ─────────────────────────────────────── tidyverse 1.3.1 ──\n",
      "\n",
      "\u001b[32m✔\u001b[39m \u001b[34mggplot2\u001b[39m 3.3.6      \u001b[32m✔\u001b[39m \u001b[34mpurrr  \u001b[39m 0.3.4 \n",
      "\u001b[32m✔\u001b[39m \u001b[34mtibble \u001b[39m 3.1.8      \u001b[32m✔\u001b[39m \u001b[34mdplyr  \u001b[39m 1.0.10\n",
      "\u001b[32m✔\u001b[39m \u001b[34mtidyr  \u001b[39m 1.2.0      \u001b[32m✔\u001b[39m \u001b[34mstringr\u001b[39m 1.4.1 \n",
      "\u001b[32m✔\u001b[39m \u001b[34mreadr  \u001b[39m 2.1.2      \u001b[32m✔\u001b[39m \u001b[34mforcats\u001b[39m 0.5.1 \n",
      "\n",
      "Warning message:\n",
      "“package ‘tidyr’ was built under R version 4.1.2”\n",
      "Warning message:\n",
      "“package ‘readr’ was built under R version 4.1.2”\n",
      "Warning message:\n",
      "“package ‘forcats’ was built under R version 4.1.3”\n",
      "── \u001b[1mConflicts\u001b[22m ────────────────────────────────────────── tidyverse_conflicts() ──\n",
      "\u001b[31m✖\u001b[39m \u001b[34mdplyr\u001b[39m::\u001b[32mfilter()\u001b[39m masks \u001b[34mstats\u001b[39m::filter()\n",
      "\u001b[31m✖\u001b[39m \u001b[34mdplyr\u001b[39m::\u001b[32mlag()\u001b[39m    masks \u001b[34mstats\u001b[39m::lag()\n",
      "\n",
      "Attaching SeuratObject\n",
      "\n",
      "Attaching sp\n",
      "\n",
      "Warning message:\n",
      "“package ‘harmony’ was built under R version 4.1.3”\n",
      "Loading required package: Rcpp\n",
      "\n",
      "Warning message:\n",
      "“package ‘Rcpp’ was built under R version 4.1.2”\n",
      "Loading required package: viridisLite\n",
      "\n",
      "Warning message:\n",
      "“package ‘RColorBrewer’ was built under R version 4.1.3”\n",
      "Warning message:\n",
      "“package ‘Polychrome’ was built under R version 4.1.3”\n"
     ]
    },
    {
     "data": {
      "text/html": [
       "<style>\n",
       ".list-inline {list-style: none; margin:0; padding: 0}\n",
       ".list-inline>li {display: inline-block}\n",
       ".list-inline>li:not(:last-child)::after {content: \"\\00b7\"; padding: 0 .5ex}\n",
       "</style>\n",
       "<ol class=list-inline><li>'#FF00FF'</li><li>'#F400F4'</li><li>'#EA00EA'</li><li>'#DF00DF'</li><li>'#D500D5'</li><li>'#CA00CA'</li><li>'#BF00BF'</li><li>'#B500B5'</li><li>'#AA00AA'</li><li>'#9F009F'</li><li>'#950095'</li><li>'#8A008A'</li><li>'#800080'</li><li>'#750075'</li><li>'#6A006A'</li><li>'#600060'</li><li>'#550055'</li><li>'#4A004A'</li><li>'#400040'</li><li>'#350035'</li><li>'#2B002B'</li><li>'#200020'</li><li>'#150015'</li><li>'#0B000B'</li><li>'#000000'</li><li>'#000000'</li><li>'#0B0B00'</li><li>'#151500'</li><li>'#202000'</li><li>'#2B2B00'</li><li>'#353500'</li><li>'#404000'</li><li>'#4A4A00'</li><li>'#555500'</li><li>'#606000'</li><li>'#6A6A00'</li><li>'#757500'</li><li>'#808000'</li><li>'#8A8A00'</li><li>'#959500'</li><li>'#9F9F00'</li><li>'#AAAA00'</li><li>'#B5B500'</li><li>'#BFBF00'</li><li>'#CACA00'</li><li>'#D4D400'</li><li>'#DFDF00'</li><li>'#EAEA00'</li><li>'#F4F400'</li><li>'#FFFF00'</li></ol>\n"
      ],
      "text/latex": [
       "\\begin{enumerate*}\n",
       "\\item '\\#FF00FF'\n",
       "\\item '\\#F400F4'\n",
       "\\item '\\#EA00EA'\n",
       "\\item '\\#DF00DF'\n",
       "\\item '\\#D500D5'\n",
       "\\item '\\#CA00CA'\n",
       "\\item '\\#BF00BF'\n",
       "\\item '\\#B500B5'\n",
       "\\item '\\#AA00AA'\n",
       "\\item '\\#9F009F'\n",
       "\\item '\\#950095'\n",
       "\\item '\\#8A008A'\n",
       "\\item '\\#800080'\n",
       "\\item '\\#750075'\n",
       "\\item '\\#6A006A'\n",
       "\\item '\\#600060'\n",
       "\\item '\\#550055'\n",
       "\\item '\\#4A004A'\n",
       "\\item '\\#400040'\n",
       "\\item '\\#350035'\n",
       "\\item '\\#2B002B'\n",
       "\\item '\\#200020'\n",
       "\\item '\\#150015'\n",
       "\\item '\\#0B000B'\n",
       "\\item '\\#000000'\n",
       "\\item '\\#000000'\n",
       "\\item '\\#0B0B00'\n",
       "\\item '\\#151500'\n",
       "\\item '\\#202000'\n",
       "\\item '\\#2B2B00'\n",
       "\\item '\\#353500'\n",
       "\\item '\\#404000'\n",
       "\\item '\\#4A4A00'\n",
       "\\item '\\#555500'\n",
       "\\item '\\#606000'\n",
       "\\item '\\#6A6A00'\n",
       "\\item '\\#757500'\n",
       "\\item '\\#808000'\n",
       "\\item '\\#8A8A00'\n",
       "\\item '\\#959500'\n",
       "\\item '\\#9F9F00'\n",
       "\\item '\\#AAAA00'\n",
       "\\item '\\#B5B500'\n",
       "\\item '\\#BFBF00'\n",
       "\\item '\\#CACA00'\n",
       "\\item '\\#D4D400'\n",
       "\\item '\\#DFDF00'\n",
       "\\item '\\#EAEA00'\n",
       "\\item '\\#F4F400'\n",
       "\\item '\\#FFFF00'\n",
       "\\end{enumerate*}\n"
      ],
      "text/markdown": [
       "1. '#FF00FF'\n",
       "2. '#F400F4'\n",
       "3. '#EA00EA'\n",
       "4. '#DF00DF'\n",
       "5. '#D500D5'\n",
       "6. '#CA00CA'\n",
       "7. '#BF00BF'\n",
       "8. '#B500B5'\n",
       "9. '#AA00AA'\n",
       "10. '#9F009F'\n",
       "11. '#950095'\n",
       "12. '#8A008A'\n",
       "13. '#800080'\n",
       "14. '#750075'\n",
       "15. '#6A006A'\n",
       "16. '#600060'\n",
       "17. '#550055'\n",
       "18. '#4A004A'\n",
       "19. '#400040'\n",
       "20. '#350035'\n",
       "21. '#2B002B'\n",
       "22. '#200020'\n",
       "23. '#150015'\n",
       "24. '#0B000B'\n",
       "25. '#000000'\n",
       "26. '#000000'\n",
       "27. '#0B0B00'\n",
       "28. '#151500'\n",
       "29. '#202000'\n",
       "30. '#2B2B00'\n",
       "31. '#353500'\n",
       "32. '#404000'\n",
       "33. '#4A4A00'\n",
       "34. '#555500'\n",
       "35. '#606000'\n",
       "36. '#6A6A00'\n",
       "37. '#757500'\n",
       "38. '#808000'\n",
       "39. '#8A8A00'\n",
       "40. '#959500'\n",
       "41. '#9F9F00'\n",
       "42. '#AAAA00'\n",
       "43. '#B5B500'\n",
       "44. '#BFBF00'\n",
       "45. '#CACA00'\n",
       "46. '#D4D400'\n",
       "47. '#DFDF00'\n",
       "48. '#EAEA00'\n",
       "49. '#F4F400'\n",
       "50. '#FFFF00'\n",
       "\n",
       "\n"
      ],
      "text/plain": [
       " [1] \"#FF00FF\" \"#F400F4\" \"#EA00EA\" \"#DF00DF\" \"#D500D5\" \"#CA00CA\" \"#BF00BF\"\n",
       " [8] \"#B500B5\" \"#AA00AA\" \"#9F009F\" \"#950095\" \"#8A008A\" \"#800080\" \"#750075\"\n",
       "[15] \"#6A006A\" \"#600060\" \"#550055\" \"#4A004A\" \"#400040\" \"#350035\" \"#2B002B\"\n",
       "[22] \"#200020\" \"#150015\" \"#0B000B\" \"#000000\" \"#000000\" \"#0B0B00\" \"#151500\"\n",
       "[29] \"#202000\" \"#2B2B00\" \"#353500\" \"#404000\" \"#4A4A00\" \"#555500\" \"#606000\"\n",
       "[36] \"#6A6A00\" \"#757500\" \"#808000\" \"#8A8A00\" \"#959500\" \"#9F9F00\" \"#AAAA00\"\n",
       "[43] \"#B5B500\" \"#BFBF00\" \"#CACA00\" \"#D4D400\" \"#DFDF00\" \"#EAEA00\" \"#F4F400\"\n",
       "[50] \"#FFFF00\""
      ]
     },
     "metadata": {},
     "output_type": "display_data"
    },
    {
     "name": "stderr",
     "output_type": "stream",
     "text": [
      "Warning message:\n",
      "“package ‘ComplexHeatmap’ was built under R version 4.1.3”\n",
      "Loading required package: grid\n",
      "\n",
      "========================================\n",
      "ComplexHeatmap version 2.10.0\n",
      "Bioconductor page: http://bioconductor.org/packages/ComplexHeatmap/\n",
      "Github page: https://github.com/jokergoo/ComplexHeatmap\n",
      "Documentation: http://jokergoo.github.io/ComplexHeatmap-reference\n",
      "\n",
      "If you use it in published research, please cite:\n",
      "Gu, Z. Complex heatmaps reveal patterns and correlations in multidimensional \n",
      "  genomic data. Bioinformatics 2016.\n",
      "\n",
      "The new InteractiveComplexHeatmap package can directly export static \n",
      "complex heatmaps into an interactive Shiny app with zero effort. Have a try!\n",
      "\n",
      "This message can be suppressed by:\n",
      "  suppressPackageStartupMessages(library(ComplexHeatmap))\n",
      "========================================\n",
      "\n",
      "\n",
      "Loading required package: usethis\n",
      "\n",
      "Warning message:\n",
      "“package ‘presto’ was built under R version 4.1.3”\n",
      "Loading required package: data.table\n",
      "\n",
      "\n",
      "Attaching package: ‘data.table’\n",
      "\n",
      "\n",
      "The following objects are masked from ‘package:dplyr’:\n",
      "\n",
      "    between, first, last\n",
      "\n",
      "\n",
      "The following object is masked from ‘package:purrr’:\n",
      "\n",
      "    transpose\n",
      "\n",
      "\n",
      "Warning message:\n",
      "“package ‘ggpubr’ was built under R version 4.1.3”\n",
      "Warning message:\n",
      "“package ‘readxl’ was built under R version 4.1.3”\n",
      "Warning message:\n",
      "“package ‘cluster’ was built under R version 4.1.2”\n"
     ]
    }
   ],
   "source": [
    "getwd()\n",
    "set.seed(123)\n",
    "setwd(\"/liulab/galib/dlbcl_manuscript/\")\n",
    "library(rBCS)\n",
    "library(tidyverse)\n",
    "library(Seurat)\n",
    "library(harmony)\n",
    "library(viridis)\n",
    "library(RColorBrewer)\n",
    "library(Polychrome)\n",
    "PurpleAndYellow()\n",
    "library(ComplexHeatmap)\n",
    "library(devtools)\n",
    "library(presto)\n",
    "library(dplyr)\n",
    "library(ggplot2)\n",
    "library(ggpubr)\n",
    "library(readxl)\n",
    "library(cluster)\n",
    "source(\"./scripts/scplot.R\")"
   ]
  },
  {
   "cell_type": "code",
   "execution_count": 2,
   "id": "f94225d4",
   "metadata": {
    "scrolled": true
   },
   "outputs": [],
   "source": [
    "B_cell<- readRDS(\"./data/objects/B_cell_final.rds\")"
   ]
  },
  {
   "cell_type": "code",
   "execution_count": 3,
   "id": "c4334e1b",
   "metadata": {},
   "outputs": [],
   "source": [
    "legend_dot_size = unit(2,\"mm\")\n",
    "\n",
    "lgd = Legend(labels = c(0, 10, 25, 50, 75, 100),\n",
    "           title = \"percentage\",\n",
    "           type = \"points\",\n",
    "        graphics = list(\n",
    "    function(x, y, w, h) grid.circle(x, y, r= sqrt(0/100) * legend_dot_size,\n",
    "                                    gp = gpar(fill = \"black\")),\n",
    "    function(x, y, w, h) grid.circle(x, y, r= sqrt(10/100) * legend_dot_size,\n",
    "                                    gp = gpar(fill = \"black\")),\n",
    "    function(x, y, w, h) grid.circle(x, y, r= sqrt(25/100) * legend_dot_size,\n",
    "                                    gp = gpar(fill = \"black\")),\n",
    "    function(x, y, w, h) grid.circle(x, y, r= sqrt(50/100) * legend_dot_size,\n",
    "                                    gp = gpar(fill = \"black\")),\n",
    "    function(x, y, w, h) grid.circle(x, y, r= sqrt(75/100) * legend_dot_size,\n",
    "                                    gp = gpar(fill = \"black\")),\n",
    "    function(x, y, w, h) grid.circle(x, y, r= sqrt(100/100) * legend_dot_size,\n",
    "                                    gp = gpar(fill = \"black\"))            \n",
    "            )\n",
    "     )"
   ]
  },
  {
   "cell_type": "markdown",
   "id": "a72e6f97",
   "metadata": {},
   "source": [
    "## B_cell space"
   ]
  },
  {
   "cell_type": "code",
   "execution_count": 4,
   "id": "357386a6",
   "metadata": {},
   "outputs": [
    {
     "name": "stderr",
     "output_type": "stream",
     "text": [
      "\u001b[1mRows: \u001b[22m\u001b[34m105\u001b[39m \u001b[1mColumns: \u001b[22m\u001b[34m1\u001b[39m\n",
      "\u001b[36m──\u001b[39m \u001b[1mColumn specification\u001b[22m \u001b[36m────────────────────────────────────────────────────────\u001b[39m\n",
      "\u001b[1mDelimiter:\u001b[22m \"\\t\"\n",
      "\u001b[31mchr\u001b[39m (1): X1\n",
      "\n",
      "\u001b[36mℹ\u001b[39m Use `spec()` to retrieve the full column specification for this data.\n",
      "\u001b[36mℹ\u001b[39m Specify the column types or set `show_col_types = FALSE` to quiet this message.\n"
     ]
    },
    {
     "data": {
      "text/html": [],
      "text/latex": [],
      "text/markdown": [],
      "text/plain": [
       "character(0)"
      ]
     },
     "metadata": {},
     "output_type": "display_data"
    }
   ],
   "source": [
    "B_cell_genes<- read_tsv(\"./data/B_cell_genes_to_plot.tsv\", col_names = FALSE)  %>% \n",
    "    pull(X1)\n",
    "\n",
    "B_cell_genes<- str_to_title(B_cell_genes)\n",
    "B_cell_genes<- B_cell_genes  %>% gsub(pattern = \"Aw\", replacement = \"AW\")\n",
    "B_cell_genes<- B_cell_genes  %>% gsub(pattern = 'C130026l21rik', replacement = 'C130026L21Rik')\n",
    "B_cell_genes<- B_cell_genes  %>% gsub(pattern = 'D10wsu102e', replacement = 'D10Wsu102e')\n",
    "B_cell_genes<- B_cell_genes  %>% gsub(pattern = 'Ighg2', replacement = 'Ighg2b')\n",
    "B_cell_genes<- B_cell_genes  %>% gsub(pattern = 'Cd21', replacement = 'Cr2')\n",
    "B_cell_genes<- B_cell_genes  %>% gsub(pattern = 'Ac133103.1', replacement = 'Sp140')\n",
    "B_cell_genes<- B_cell_genes  %>% gsub(pattern = 'Tubb', replacement = 'Tubb5')\n",
    "B_cell_genes<- B_cell_genes  %>% gsub(pattern = 'Igkv 16-104', replacement = 'Igkv16-104')\n",
    "B_cell_genes<- B_cell_genes  %>% gsub(pattern = 'Ighv 1-52', replacement = 'Ighv1-52')\n",
    "B_cell_genes<- B_cell_genes  %>% gsub(pattern = 'Ighv 1-52', replacement = 'Ighv1-52')\n",
    "B_cell_genes<- B_cell_genes  %>% gsub(pattern = 'Pdcd2l2', replacement = 'Pdcd2l')\n",
    "\n",
    "B_cell_genes[!B_cell_genes %in% rownames(B_cell)]\n",
    "\n",
    "B_cell_genes<- B_cell_genes  %>% unique()\n",
    "\n",
    "B_cell_col<- B_cell@meta.data  %>% select(new_annotation, HEX_code)  %>% distinct()\n",
    "cluster_id<- B_cell@meta.data  %>% arrange(seurat_clusters)  %>% distinct(new_annotation)  %>% pull(new_annotation)\n",
    "B_cell_colors<- B_cell@meta.data  %>% arrange(seurat_clusters)  %>% distinct(HEX_code)  %>% pull(HEX_code)\n",
    "names(B_cell_colors)<- cluster_id"
   ]
  },
  {
   "cell_type": "markdown",
   "id": "cbdcb746",
   "metadata": {},
   "source": [
    "### All samples"
   ]
  },
  {
   "cell_type": "code",
   "execution_count": 5,
   "id": "d702e148",
   "metadata": {},
   "outputs": [
    {
     "data": {
      "image/png": "[encoded data removed]",
      "text/plain": [
       "plot without title"
      ]
     },
     "metadata": {
      "image/png": {
       "height": 420,
       "width": 420
      }
     },
     "output_type": "display_data"
    },
    {
     "data": {
      "image/png": "[encoded data removed]",
      "text/plain": [
       "plot without title"
      ]
     },
     "metadata": {
      "image/png": {
       "height": 420,
       "width": 420
      }
     },
     "output_type": "display_data"
    },
    {
     "data": {
      "image/png": "[encoded data removed]",
      "text/plain": [
       "plot without title"
      ]
     },
     "metadata": {
      "image/png": {
       "height": 420,
       "width": 420
      }
     },
     "output_type": "display_data"
    },
    {
     "data": {
      "image/png": "[encoded data removed]",
      "text/plain": [
       "plot without title"
      ]
     },
     "metadata": {
      "image/png": {
       "height": 420,
       "width": 420
      }
     },
     "output_type": "display_data"
    }
   ],
   "source": [
    "B_cell_mtx<- GetMatrixFromSeurat(B_cell, B_cell_genes, group = \"new_annotation\")\n",
    "\n",
    "# Compute k-means clustering with different values of k and visualize\n",
    "set.seed(123)\n",
    "silhouette_scores <- numeric(15)\n",
    "k_values = 2:15\n",
    "\n",
    "for (k in k_values) {\n",
    "  km <- kmeans(t(B_cell_mtx$exp_mat), centers = k, nstart = 10)\n",
    "  ss <- silhouette(km$cluster, dist(t(B_cell_mtx$exp_mat)))\n",
    "  silhouette_scores[k] <- mean(ss[, 3])\n",
    "}\n",
    "\n",
    "df<- data.frame(k = k_values, ss_width = silhouette_scores[c(2:15)])\n",
    "\n",
    "df %>%\n",
    "    ggplot(aes(x = k, y = ss_width)) +\n",
    "    geom_line() +\n",
    "    geom_point(size = 4) +\n",
    "#     geom_point(aes(7, df[6,'ss_width']), size = 8, shape = 21, color='deeppink3', fill=NA) +\n",
    "    theme_bw(base_size = 14) +\n",
    "    scale_x_continuous(breaks = k_values) +\n",
    "    labs(x = 'K', y='silhouette width', title = 'kmeans clustering of cell types')\n",
    "\n",
    "ggsave(\"results/figures/5_B_cell_kmeans_celltypes_sil_width.pdf\", width = 4, height = 3)\n",
    "\n",
    "silhouette_scores <- numeric(15)\n",
    "k_values = 2:15\n",
    "\n",
    "for (k in k_values) {\n",
    "  km <- kmeans(B_cell_mtx$exp_mat, centers = k, nstart = 10)\n",
    "  ss <- silhouette(km$cluster, dist(B_cell_mtx$exp_mat))\n",
    "  silhouette_scores[k] <- mean(ss[, 3])\n",
    "}\n",
    "\n",
    "df<- data.frame(k = k_values, ss_width = silhouette_scores[c(2:15)])\n",
    "\n",
    "df %>%\n",
    "    ggplot(aes(x = k, y = ss_width)) +\n",
    "    geom_line() +\n",
    "    geom_point(size = 4) +\n",
    "#     geom_point(aes(7, df[5,'ss_width']), size = 8, shape = 21, color='deeppink3', fill=NA) +\n",
    "    theme_bw(base_size = 14) +\n",
    "    scale_x_continuous(breaks = k_values) +\n",
    "    labs(x = 'K', y='silhouette width', title = 'kmeans clustering of genes')\n",
    "\n",
    "ggsave(\"results/figures/5_B_cell_kmeans_genes_sil_width.pdf\", width = 4, height = 3)\n",
    "\n",
    "wss <- function(k) {\n",
    "    kmeans(x = t(B_cell_mtx$exp_mat), centers = k, nstart = 10)$tot.withinss\n",
    "}\n",
    "\n",
    "k_values <- 1:15\n",
    "wss_values <- sapply(k_values, wss)\n",
    "\n",
    "df<- data.frame(k = k_values, wss = wss_values)\n",
    "df %>%\n",
    "    ggplot(aes(x = k, y = wss)) +\n",
    "    geom_line() +\n",
    "    geom_point(size = 4) +\n",
    "#     geom_point(aes(6, df[6,'wss']), size = 8, shape = 21, color='deeppink3', fill=NA) +\n",
    "    theme_bw(base_size = 14) +\n",
    "    scale_x_continuous(breaks = 1:15) +\n",
    "    labs(x = 'K', y='within-cluster sum of squares', title = 'kmeans clustering of cell types')\n",
    "ggsave(\"results/figures/5_B_cell_kmeans_celltypes_elbow.pdf\", width = 4, height = 3)\n",
    "\n",
    "wss <- function(k) {\n",
    "    kmeans(x = B_cell_mtx$exp_mat, centers = k, nstart = 10)$tot.withinss\n",
    "}\n",
    "\n",
    "k_values <- 1:15\n",
    "wss_values <- sapply(k_values, wss)\n",
    "\n",
    "df<- data.frame(k = k_values, wss = wss_values)\n",
    "df %>%\n",
    "    ggplot(aes(x = k, y = wss)) +\n",
    "    geom_line() +\n",
    "    geom_point(size = 4) +\n",
    "#     geom_point(aes(6, df[6,'wss']), size = 8, shape = 21, color='deeppink3', fill=NA) +\n",
    "    theme_bw(base_size = 14) +\n",
    "    scale_x_continuous(breaks = 1:15) +\n",
    "    labs(x = 'K', y='within-cluster sum of squares', title = 'kmeans clustering of genes')\n",
    "\n",
    "ggsave(\"results/figures/5_B_cell_kmeans_genes_elbow.pdf\", width = 4, height = 3)"
   ]
  },
  {
   "cell_type": "code",
   "execution_count": 6,
   "id": "4423760d",
   "metadata": {},
   "outputs": [
    {
     "data": {
      "text/html": [
       "<strong>png:</strong> 2"
      ],
      "text/latex": [
       "\\textbf{png:} 2"
      ],
      "text/markdown": [
       "**png:** 2"
      ],
      "text/plain": [
       "png \n",
       "  2 "
      ]
     },
     "metadata": {},
     "output_type": "display_data"
    },
    {
     "data": {
      "text/html": [
       "<style>\n",
       ".list-inline {list-style: none; margin:0; padding: 0}\n",
       ".list-inline>li {display: inline-block}\n",
       ".list-inline>li:not(:last-child)::after {content: \"\\00b7\"; padding: 0 .5ex}\n",
       "</style>\n",
       "<ol class=list-inline><li>16_Other</li><li>1_Marginal Zone</li><li>27_Light Zone</li><li>14_Follicular Serpina3+</li><li>10_Follicular IFN-stimulated</li><li>25_Ig-restricted</li><li>17_Ig-restricted</li><li>23_Ig-restricted</li><li>11_Follicular</li><li>9_Follicular Hspa1+</li><li>6_Follicular</li><li>13_Follicular</li><li>12_Follicular</li><li>20_Ig-restricted</li><li>24_Follicular</li><li>0_Follicular</li><li>2_Transitional (T2)</li><li>7_Age-associated/autoimmune</li><li>8_Age-associated/autoimmune</li><li>5_Atypical Marginal Zone</li><li>4_Atypical CD21-CD23-</li><li>15_Plasmablasts</li><li>22_Pre-plasmablasts</li><li>18_Cycling MHCII low</li><li>21_Cycling MHCII low</li><li>19_Cycling MHCII low</li><li>3_Atypical CD21lowCD23low</li></ol>\n",
       "\n",
       "<details>\n",
       "\t<summary style=display:list-item;cursor:pointer>\n",
       "\t\t<strong>Levels</strong>:\n",
       "\t</summary>\n",
       "\t<style>\n",
       "\t.list-inline {list-style: none; margin:0; padding: 0}\n",
       "\t.list-inline>li {display: inline-block}\n",
       "\t.list-inline>li:not(:last-child)::after {content: \"\\00b7\"; padding: 0 .5ex}\n",
       "\t</style>\n",
       "\t<ol class=list-inline><li>'0_Follicular'</li><li>'1_Marginal Zone'</li><li>'2_Transitional (T2)'</li><li>'3_Atypical CD21lowCD23low'</li><li>'4_Atypical CD21-CD23-'</li><li>'5_Atypical Marginal Zone'</li><li>'6_Follicular'</li><li>'7_Age-associated/autoimmune'</li><li>'8_Age-associated/autoimmune'</li><li>'9_Follicular Hspa1+'</li><li>'10_Follicular IFN-stimulated'</li><li>'11_Follicular'</li><li>'12_Follicular'</li><li>'13_Follicular'</li><li>'14_Follicular Serpina3+'</li><li>'15_Plasmablasts'</li><li>'16_Other'</li><li>'17_Ig-restricted'</li><li>'18_Cycling MHCII low'</li><li>'19_Cycling MHCII low'</li><li>'20_Ig-restricted'</li><li>'21_Cycling MHCII low'</li><li>'22_Pre-plasmablasts'</li><li>'23_Ig-restricted'</li><li>'24_Follicular'</li><li>'25_Ig-restricted'</li><li>'27_Light Zone'</li></ol>\n",
       "</details>"
      ],
      "text/latex": [
       "\\begin{enumerate*}\n",
       "\\item 16\\_Other\n",
       "\\item 1\\_Marginal Zone\n",
       "\\item 27\\_Light Zone\n",
       "\\item 14\\_Follicular Serpina3+\n",
       "\\item 10\\_Follicular IFN-stimulated\n",
       "\\item 25\\_Ig-restricted\n",
       "\\item 17\\_Ig-restricted\n",
       "\\item 23\\_Ig-restricted\n",
       "\\item 11\\_Follicular\n",
       "\\item 9\\_Follicular Hspa1+\n",
       "\\item 6\\_Follicular\n",
       "\\item 13\\_Follicular\n",
       "\\item 12\\_Follicular\n",
       "\\item 20\\_Ig-restricted\n",
       "\\item 24\\_Follicular\n",
       "\\item 0\\_Follicular\n",
       "\\item 2\\_Transitional (T2)\n",
       "\\item 7\\_Age-associated/autoimmune\n",
       "\\item 8\\_Age-associated/autoimmune\n",
       "\\item 5\\_Atypical Marginal Zone\n",
       "\\item 4\\_Atypical CD21-CD23-\n",
       "\\item 15\\_Plasmablasts\n",
       "\\item 22\\_Pre-plasmablasts\n",
       "\\item 18\\_Cycling MHCII low\n",
       "\\item 21\\_Cycling MHCII low\n",
       "\\item 19\\_Cycling MHCII low\n",
       "\\item 3\\_Atypical CD21lowCD23low\n",
       "\\end{enumerate*}\n",
       "\n",
       "\\emph{Levels}: \\begin{enumerate*}\n",
       "\\item '0\\_Follicular'\n",
       "\\item '1\\_Marginal Zone'\n",
       "\\item '2\\_Transitional (T2)'\n",
       "\\item '3\\_Atypical CD21lowCD23low'\n",
       "\\item '4\\_Atypical CD21-CD23-'\n",
       "\\item '5\\_Atypical Marginal Zone'\n",
       "\\item '6\\_Follicular'\n",
       "\\item '7\\_Age-associated/autoimmune'\n",
       "\\item '8\\_Age-associated/autoimmune'\n",
       "\\item '9\\_Follicular Hspa1+'\n",
       "\\item '10\\_Follicular IFN-stimulated'\n",
       "\\item '11\\_Follicular'\n",
       "\\item '12\\_Follicular'\n",
       "\\item '13\\_Follicular'\n",
       "\\item '14\\_Follicular Serpina3+'\n",
       "\\item '15\\_Plasmablasts'\n",
       "\\item '16\\_Other'\n",
       "\\item '17\\_Ig-restricted'\n",
       "\\item '18\\_Cycling MHCII low'\n",
       "\\item '19\\_Cycling MHCII low'\n",
       "\\item '20\\_Ig-restricted'\n",
       "\\item '21\\_Cycling MHCII low'\n",
       "\\item '22\\_Pre-plasmablasts'\n",
       "\\item '23\\_Ig-restricted'\n",
       "\\item '24\\_Follicular'\n",
       "\\item '25\\_Ig-restricted'\n",
       "\\item '27\\_Light Zone'\n",
       "\\end{enumerate*}\n"
      ],
      "text/markdown": [
       "1. 16_Other\n",
       "2. 1_Marginal Zone\n",
       "3. 27_Light Zone\n",
       "4. 14_Follicular Serpina3+\n",
       "5. 10_Follicular IFN-stimulated\n",
       "6. 25_Ig-restricted\n",
       "7. 17_Ig-restricted\n",
       "8. 23_Ig-restricted\n",
       "9. 11_Follicular\n",
       "10. 9_Follicular Hspa1+\n",
       "11. 6_Follicular\n",
       "12. 13_Follicular\n",
       "13. 12_Follicular\n",
       "14. 20_Ig-restricted\n",
       "15. 24_Follicular\n",
       "16. 0_Follicular\n",
       "17. 2_Transitional (T2)\n",
       "18. 7_Age-associated/autoimmune\n",
       "19. 8_Age-associated/autoimmune\n",
       "20. 5_Atypical Marginal Zone\n",
       "21. 4_Atypical CD21-CD23-\n",
       "22. 15_Plasmablasts\n",
       "23. 22_Pre-plasmablasts\n",
       "24. 18_Cycling MHCII low\n",
       "25. 21_Cycling MHCII low\n",
       "26. 19_Cycling MHCII low\n",
       "27. 3_Atypical CD21lowCD23low\n",
       "\n",
       "\n",
       "\n",
       "**Levels**: 1. '0_Follicular'\n",
       "2. '1_Marginal Zone'\n",
       "3. '2_Transitional (T2)'\n",
       "4. '3_Atypical CD21lowCD23low'\n",
       "5. '4_Atypical CD21-CD23-'\n",
       "6. '5_Atypical Marginal Zone'\n",
       "7. '6_Follicular'\n",
       "8. '7_Age-associated/autoimmune'\n",
       "9. '8_Age-associated/autoimmune'\n",
       "10. '9_Follicular Hspa1+'\n",
       "11. '10_Follicular IFN-stimulated'\n",
       "12. '11_Follicular'\n",
       "13. '12_Follicular'\n",
       "14. '13_Follicular'\n",
       "15. '14_Follicular Serpina3+'\n",
       "16. '15_Plasmablasts'\n",
       "17. '16_Other'\n",
       "18. '17_Ig-restricted'\n",
       "19. '18_Cycling MHCII low'\n",
       "20. '19_Cycling MHCII low'\n",
       "21. '20_Ig-restricted'\n",
       "22. '21_Cycling MHCII low'\n",
       "23. '22_Pre-plasmablasts'\n",
       "24. '23_Ig-restricted'\n",
       "25. '24_Follicular'\n",
       "26. '25_Ig-restricted'\n",
       "27. '27_Light Zone'\n",
       "\n",
       "\n"
      ],
      "text/plain": [
       " [1] 16_Other                     1_Marginal Zone             \n",
       " [3] 27_Light Zone                14_Follicular Serpina3+     \n",
       " [5] 10_Follicular IFN-stimulated 25_Ig-restricted            \n",
       " [7] 17_Ig-restricted             23_Ig-restricted            \n",
       " [9] 11_Follicular                9_Follicular Hspa1+         \n",
       "[11] 6_Follicular                 13_Follicular               \n",
       "[13] 12_Follicular                20_Ig-restricted            \n",
       "[15] 24_Follicular                0_Follicular                \n",
       "[17] 2_Transitional (T2)          7_Age-associated/autoimmune \n",
       "[19] 8_Age-associated/autoimmune  5_Atypical Marginal Zone    \n",
       "[21] 4_Atypical CD21-CD23-        15_Plasmablasts             \n",
       "[23] 22_Pre-plasmablasts          18_Cycling MHCII low        \n",
       "[25] 21_Cycling MHCII low         19_Cycling MHCII low        \n",
       "[27] 3_Atypical CD21lowCD23low   \n",
       "27 Levels: 0_Follicular 1_Marginal Zone ... 27_Light Zone"
      ]
     },
     "metadata": {},
     "output_type": "display_data"
    }
   ],
   "source": [
    "B_cell_mtx<- GetMatrixFromSeurat(B_cell, B_cell_genes, group = \"new_annotation\")\n",
    "\n",
    "B_cell_col<- B_cell@meta.data  %>% select(new_annotation, HEX_code)  %>% distinct()\n",
    "cluster_id<- B_cell@meta.data  %>% arrange(seurat_clusters)  %>% distinct(new_annotation)  %>% pull(new_annotation)\n",
    "B_cell_colors<- B_cell@meta.data  %>% arrange(seurat_clusters)  %>% distinct(HEX_code)  %>% pull(HEX_code)\n",
    "names(B_cell_colors)<- cluster_id\n",
    "\n",
    "column_ha <- HeatmapAnnotation(foo = anno_text(gsub(\"_.*\", \"\", cluster_id), location = 0.5, just = \"center\", \n",
    "                    gp = gpar(fill = setNames(B_cell_colors, gsub(\"_.*\", \"\", cluster_id)), \n",
    "                              col = \"white\", border = NA)), show_annotation_name = FALSE, show_legend = FALSE)\n",
    "\n",
    "col_fun = circlize::colorRamp2(c(-2,0,2), viridis::viridis(3))\n",
    "\n",
    "p_main<- MakeClusterDotPlot(exp_mat = B_cell_mtx$exp_mat, \n",
    "                       percent_mat = B_cell_mtx$percent_mat,\n",
    "                       cluster_id = cluster_id,\n",
    "                       column_ha = column_ha, \n",
    "                       col_fun = col_fun,\n",
    "                       column_title_side = \"bottom\",\n",
    "                       column_title = \"B cell Space\", \n",
    "                       column_km = 4,\n",
    "                       row_km = 5,\n",
    "                       row_names_font_size = 8, \n",
    "                       legend_dot_size = unit(2, \"mm\"),\n",
    "                       column_names_side = \"top\",\n",
    "                       show_column_dend = FALSE,\n",
    "                       show_row_dend = FALSE, \n",
    "                       cluster_columns = TRUE,\n",
    "                       cluster_rows = TRUE)\n",
    "\n",
    "pdf(\"results/figures/5_B_cell_dotplot_final_annotation_bidirectional_clustering_new.pdf\", width = 7, height = 16)\n",
    "set.seed(123)\n",
    "ht = draw(p_main, annotation_legend_list = lgd)\n",
    "\n",
    "dev.off()\n",
    "\n",
    "cluster_id[column_order(ht)  %>%  unlist(use.names = FALSE)]"
   ]
  },
  {
   "cell_type": "code",
   "execution_count": 7,
   "id": "5e2d2b84",
   "metadata": {},
   "outputs": [],
   "source": [
    "cluster_id = cluster_id[column_order(ht)  %>%  unlist(use.names = FALSE)]\n",
    "cluster_id = factor(cluster_id, levels = cluster_id)\n",
    "B_cell_genes = B_cell_genes[row_order(ht)  %>%  unlist(use.names = FALSE)]\n",
    "B_cell_colors = B_cell_colors[cluster_id]\n",
    "B_cell$new_annotation<- factor(B_cell$new_annotation, levels = cluster_id)"
   ]
  },
  {
   "cell_type": "markdown",
   "id": "1df28809",
   "metadata": {},
   "source": [
    "### Dotplot by genotype"
   ]
  },
  {
   "cell_type": "code",
   "execution_count": 169,
   "id": "08751c18",
   "metadata": {},
   "outputs": [
    {
     "name": "stdout",
     "output_type": "stream",
     "text": [
      "[1] 27\n",
      "[1] 27\n",
      "[1] 27\n",
      "[1] 27\n",
      "[1] 27\n"
     ]
    },
    {
     "data": {
      "text/html": [
       "108"
      ],
      "text/latex": [
       "108"
      ],
      "text/markdown": [
       "108"
      ],
      "text/plain": [
       "[1] 108"
      ]
     },
     "metadata": {},
     "output_type": "display_data"
    }
   ],
   "source": [
    "WT_cells<- rownames(B_cell@meta.data  %>% filter(genotype == \"WT\"))\n",
    "cd70_cells<- rownames(B_cell@meta.data  %>% filter(genotype == \"CD70-/-\"))\n",
    "single_cells<- rownames(B_cell@meta.data  %>% filter(genotype == \"Bcl6tg/+\"))\n",
    "double_cells<- rownames(B_cell@meta.data  %>% filter(genotype == \"CD70-/-;Bcl6tg/+\"))\n",
    "\n",
    "B_cell_mtx<- GetMatrixFromSeurat2(B_cell, B_cell_genes,\n",
    "                                          group = \"new_annotation\")\n",
    "\n",
    "B_cell_mtx_WT<- GetMatrixFromSeurat2(B_cell[,WT_cells], B_cell_genes, \n",
    "                                          group = \"new_annotation\")\n",
    "\n",
    "B_cell_mtx_cd70<- GetMatrixFromSeurat2(B_cell[,cd70_cells], B_cell_genes, \n",
    "                                          group = \"new_annotation\")\n",
    "\n",
    "B_cell_mtx_single<- GetMatrixFromSeurat2(B_cell[,single_cells], B_cell_genes, \n",
    "                                          group = \"new_annotation\")\n",
    "\n",
    "B_cell_mtx_double<- GetMatrixFromSeurat2(B_cell[,double_cells], B_cell_genes, \n",
    "                                          group = \"new_annotation\")\n",
    "\n",
    "B_cell_combined<- cbind(B_cell_mtx_WT$exp_mat, B_cell_mtx_cd70$exp_mat, \n",
    "                                 B_cell_mtx_single$exp_mat, B_cell_mtx_double$exp_mat)\n",
    "\n",
    "B_cell_combined_scaled<- t(apply(B_cell_combined, 1, scale))\n",
    "B_cell_combined_scaled<- B_cell_combined_scaled  %>% replace(is.na(.),0)\n",
    "\n",
    "ncol(B_cell_combined_scaled)\n",
    "\n",
    "B_cell_mtx_WT_scaled<-  B_cell_combined_scaled[, 1:27]\n",
    "B_cell_mtx_cd70_scaled<-  B_cell_combined_scaled[, 28:54]\n",
    "B_cell_mtx_single_scaled<-  B_cell_combined_scaled[, 55:81]\n",
    "B_cell_mtx_double_scaled<-  B_cell_combined_scaled[, 82:108]\n",
    "\n",
    "colnames(B_cell_mtx_WT_scaled)<- colnames(B_cell_mtx$exp_mat)\n",
    "colnames(B_cell_mtx_cd70_scaled)<- colnames(B_cell_mtx$exp_mat)\n",
    "colnames(B_cell_mtx_single_scaled)<- colnames(B_cell_mtx$exp_mat)\n",
    "colnames(B_cell_mtx_double_scaled)<- colnames(B_cell_mtx$exp_mat)\n",
    "\n",
    "column_ha <- HeatmapAnnotation(foo = anno_text(gsub(\"_.*\", \"\", cluster_id), \n",
    "                                               location = 0.5, just = \"center\", \n",
    "                                               gp = gpar(fill = setNames(B_cell_colors, \n",
    "                                                                         gsub(\"_.*\", \"\", cluster_id)), \n",
    "                                                         col = \"white\", border = NA)), \n",
    "                               show_annotation_name = FALSE, show_legend = FALSE)\n",
    "\n",
    "col_fun = circlize::colorRamp2(c(-2,0,2), viridis::viridis(3))"
   ]
  },
  {
   "cell_type": "code",
   "execution_count": 171,
   "id": "5f34fdcb",
   "metadata": {},
   "outputs": [
    {
     "data": {
      "text/html": [
       "<strong>png:</strong> 2"
      ],
      "text/latex": [
       "\\textbf{png:} 2"
      ],
      "text/markdown": [
       "**png:** 2"
      ],
      "text/plain": [
       "png \n",
       "  2 "
      ]
     },
     "metadata": {},
     "output_type": "display_data"
    }
   ],
   "source": [
    "row_split = factor(rep(names(row_order(ht)), lengths(row_order(ht))), levels = names(row_order(ht)))\n",
    "col_split = factor(rep(names(column_order(ht)), lengths(column_order(ht))), levels = names(column_order(ht)))\n",
    "pdf(\"./results/figures/5_B_cell_dotplot_final_annotation_by_genotype.pdf\", width = 28, height = 16)\n",
    "\n",
    "hp1<- MakeClusterDotPlot(exp_mat = B_cell_mtx_WT_scaled, \n",
    "               percent_mat = B_cell_mtx_WT$percent_mat, \n",
    "               col_fun = col_fun,\n",
    "               cluster_id = cluster_id,              \n",
    "               column_title = \"WT\",\n",
    "               column_title_side = \"bottom\",\n",
    "               column_split = col_split,\n",
    "               row_split = row_split,\n",
    "               row_names_font_size = 8, \n",
    "               column_ha = column_ha,\n",
    "               legend_dot_size = unit(2, \"mm\"),\n",
    "               show_row_dend =FALSE,\n",
    "               show_column_dend = FALSE,\n",
    "               column_names_side = \"top\",\n",
    "               cluster_rows = FALSE,\n",
    "               cluster_columns = FALSE)\n",
    "\n",
    "hp2<- MakeClusterDotPlot(exp_mat = B_cell_mtx_cd70_scaled, \n",
    "               percent_mat = B_cell_mtx_cd70$percent_mat, \n",
    "               col_fun = col_fun, cluster_id = cluster_id,\n",
    "               column_title = \"CD70-/-\",\n",
    "               column_title_side = \"bottom\",\n",
    "               column_split = col_split,\n",
    "               row_split = row_split,\n",
    "               row_names_font_size = 8, \n",
    "               column_ha = column_ha,\n",
    "               legend_dot_size = unit(2, \"mm\"),\n",
    "               cluster_rows = FALSE,\n",
    "               column_names_side = \"top\",  cluster_columns = FALSE)\n",
    "\n",
    "hp3<- MakeClusterDotPlot(exp_mat = B_cell_mtx_single_scaled, \n",
    "               percent_mat = B_cell_mtx_single$percent_mat, \n",
    "               col_fun = col_fun, cluster_id = cluster_id,\n",
    "               column_title = \"Bcl6tg/+\",\n",
    "               column_title_side = \"bottom\",\n",
    "               column_split = col_split,\n",
    "               row_split = row_split,\n",
    "               row_names_font_size = 8, \n",
    "               column_ha = column_ha,\n",
    "               legend_dot_size = unit(2, \"mm\"),\n",
    "               cluster_rows = FALSE,\n",
    "               column_names_side = \"top\",  cluster_columns = FALSE)\n",
    "\n",
    "hp4<- MakeClusterDotPlot(exp_mat = B_cell_mtx_double_scaled, \n",
    "               percent_mat = B_cell_mtx_double$percent_mat, \n",
    "               col_fun = col_fun, cluster_id = cluster_id,\n",
    "               column_title = \"CD70-/-;Bcl6tg/+\",\n",
    "               column_title_side = \"bottom\",\n",
    "               column_split = col_split, \n",
    "               row_split = row_split,\n",
    "               row_names_font_size = 8, \n",
    "               column_ha = column_ha,\n",
    "               legend_dot_size = unit(2, \"mm\"),\n",
    "               cluster_rows = FALSE,\n",
    "               column_names_side = \"top\",  cluster_columns = FALSE)\n",
    "\n",
    "draw(hp1 + hp2 + hp3 + hp4 , annotation_legend_list = lgd, ht_gap = unit(1, \"cm\") )\n",
    "\n",
    "dev.off()"
   ]
  },
  {
   "cell_type": "markdown",
   "id": "595105ca",
   "metadata": {},
   "source": [
    "### Dotplot by age"
   ]
  },
  {
   "cell_type": "code",
   "execution_count": 172,
   "id": "75595616",
   "metadata": {},
   "outputs": [
    {
     "name": "stdout",
     "output_type": "stream",
     "text": [
      "[1] 27\n",
      "[1] 27\n",
      "[1] 27\n",
      "[1] 27\n",
      "[1] 27\n"
     ]
    },
    {
     "data": {
      "text/html": [
       "108"
      ],
      "text/latex": [
       "108"
      ],
      "text/markdown": [
       "108"
      ],
      "text/plain": [
       "[1] 108"
      ]
     },
     "metadata": {},
     "output_type": "display_data"
    }
   ],
   "source": [
    "n_6mos_cells<- rownames(B_cell@meta.data  %>% filter(age == \"6mos\"))\n",
    "n_14mos_cells<- rownames(B_cell@meta.data  %>% filter(age == \"14mos\"))\n",
    "n_18mos_cells<- rownames(B_cell@meta.data  %>% filter(age == \"18mos\"))\n",
    "sick_cells<- rownames(B_cell@meta.data  %>% filter(age == \"sick\"))\n",
    "\n",
    "B_cell_mtx<- GetMatrixFromSeurat2(B_cell, B_cell_genes, \n",
    "                                          group = \"new_annotation\")\n",
    "\n",
    "B_cell_mtx_6mos<- GetMatrixFromSeurat2(B_cell[,n_6mos_cells], B_cell_genes, \n",
    "                                          group = \"new_annotation\")\n",
    "\n",
    "B_cell_mtx_14mos<- GetMatrixFromSeurat2(B_cell[,n_14mos_cells], B_cell_genes, \n",
    "                                          group = \"new_annotation\")\n",
    "\n",
    "B_cell_mtx_18mos<- GetMatrixFromSeurat2(B_cell[,n_18mos_cells], B_cell_genes, \n",
    "                                          group = \"new_annotation\")\n",
    "\n",
    "B_cell_mtx_sick<- GetMatrixFromSeurat2(B_cell[,sick_cells], B_cell_genes, \n",
    "                                          group = \"new_annotation\")\n",
    "\n",
    "B_cell_combined<- cbind(B_cell_mtx_6mos$exp_mat, B_cell_mtx_14mos$exp_mat, \n",
    "                                 B_cell_mtx_18mos$exp_mat, B_cell_mtx_sick$exp_mat)\n",
    "\n",
    "B_cell_combined_scaled<- t(apply(B_cell_combined, 1, scale))\n",
    "B_cell_combined_scaled<- B_cell_combined_scaled  %>% replace(is.na(.),0)\n",
    "\n",
    "\n",
    "ncol(B_cell_combined_scaled)\n",
    "B_cell_mtx_6mos_scaled<-  B_cell_combined_scaled[, 1:27]\n",
    "B_cell_mtx_14mos_scaled<-  B_cell_combined_scaled[, 28:54]\n",
    "B_cell_mtx_18mos_scaled<-  B_cell_combined_scaled[, 55:81]\n",
    "B_cell_mtx_sick_scaled<-  B_cell_combined_scaled[, 82:108]\n",
    "\n",
    "colnames(B_cell_mtx_6mos_scaled)<- colnames(B_cell_mtx$exp_mat)\n",
    "colnames(B_cell_mtx_14mos_scaled)<- colnames(B_cell_mtx$exp_mat)\n",
    "colnames(B_cell_mtx_18mos_scaled)<- colnames(B_cell_mtx$exp_mat)\n",
    "colnames(B_cell_mtx_sick_scaled)<- colnames(B_cell_mtx$exp_mat)\n",
    "\n",
    "\n",
    "B_cell_mtx_WT_scaled=B_cell_mtx_WT_scaled[,cluster_id]\n",
    "B_cell_mtx_WT$percent_mat = B_cell_mtx_WT$percent_mat[, cluster_id]\n",
    "\n",
    "column_ha <- HeatmapAnnotation(foo = anno_text(gsub(\"_.*\", \"\", cluster_id), \n",
    "                                               location = 0.5, just = \"center\", \n",
    "                                               gp = gpar(fill = setNames(B_cell_colors, \n",
    "                                                                         gsub(\"_.*\", \"\", cluster_id)), \n",
    "                                                         col = \"white\", border = NA)), \n",
    "                               show_annotation_name = FALSE, show_legend = FALSE)\n",
    "\n",
    "col_fun = circlize::colorRamp2(c(-2,0,2), viridis::viridis(3))"
   ]
  },
  {
   "cell_type": "code",
   "execution_count": 174,
   "id": "e65334c1",
   "metadata": {},
   "outputs": [
    {
     "data": {
      "text/html": [
       "<strong>png:</strong> 2"
      ],
      "text/latex": [
       "\\textbf{png:} 2"
      ],
      "text/markdown": [
       "**png:** 2"
      ],
      "text/plain": [
       "png \n",
       "  2 "
      ]
     },
     "metadata": {},
     "output_type": "display_data"
    }
   ],
   "source": [
    "row_split = factor(rep(names(row_order(ht)), lengths(row_order(ht))), levels = names(row_order(ht)))\n",
    "col_split = factor(rep(names(column_order(ht)), lengths(column_order(ht))), levels = names(column_order(ht)))\n",
    "pdf(\"./results/figures/5_B_cell_dotplot_final_annotation_by_age.pdf\", width = 28, height = 16)\n",
    "\n",
    "hp1<- MakeClusterDotPlot(exp_mat = B_cell_mtx_6mos_scaled, \n",
    "           percent_mat = B_cell_mtx_6mos$percent_mat,\n",
    "           col_fun = col_fun, cluster_id = cluster_id,\n",
    "           column_title = \"6mos\",\n",
    "           column_title_side = \"bottom\",\n",
    "           column_split = col_split,\n",
    "           row_split = row_split,\n",
    "           row_names_font_size = 8, \n",
    "           column_ha = column_ha,\n",
    "           legend_dot_size = unit(2, \"mm\"),\n",
    "           show_row_dend =FALSE,\n",
    "           show_column_dend = FALSE,\n",
    "           column_names_side = \"top\", cluster_rows=FALSE, cluster_columns=FALSE)\n",
    "\n",
    "hp2<- MakeClusterDotPlot(exp_mat = B_cell_mtx_14mos_scaled, \n",
    "               percent_mat = B_cell_mtx_14mos$percent_mat, \n",
    "               col_fun = col_fun, cluster_id = cluster_id,\n",
    "               column_title = \"14mos\",\n",
    "               column_title_side = \"bottom\",\n",
    "               column_split = col_split,\n",
    "               row_split = row_split,\n",
    "               row_names_font_size = 8, \n",
    "               column_ha = column_ha,\n",
    "               legend_dot_size = unit(2, \"mm\"),\n",
    "               column_names_side = \"top\", cluster_rows=FALSE, cluster_columns=FALSE)\n",
    "\n",
    "hp3<- MakeClusterDotPlot(exp_mat = B_cell_mtx_18mos_scaled, \n",
    "               percent_mat = B_cell_mtx_18mos$percent_mat, \n",
    "               col_fun = col_fun, cluster_id = cluster_id,\n",
    "               column_title = \"18mos\",\n",
    "               column_title_side = \"bottom\",\n",
    "               column_split = col_split, \n",
    "               row_split = row_split,\n",
    "               row_names_font_size = 8, \n",
    "               column_ha = column_ha,\n",
    "               legend_dot_size = unit(2, \"mm\"),\n",
    "               column_names_side = \"top\",  cluster_rows=FALSE, cluster_columns=FALSE)\n",
    "\n",
    "hp4<- MakeClusterDotPlot(exp_mat = B_cell_mtx_sick_scaled, \n",
    "               percent_mat = B_cell_mtx_sick$percent_mat, \n",
    "               col_fun = col_fun, cluster_id = cluster_id,\n",
    "               column_title = \"sick\",\n",
    "               column_title_side = \"bottom\",\n",
    "               column_split = col_split,         \n",
    "               row_split = row_split,\n",
    "               row_names_font_size = 8, \n",
    "               column_ha = column_ha,\n",
    "               legend_dot_size = unit(2, \"mm\"),\n",
    "               column_names_side = \"top\",  cluster_rows=FALSE, cluster_columns=FALSE)\n",
    "\n",
    "draw(hp1 + hp2 + hp3 + hp4 , annotation_legend_list = lgd, ht_gap = unit(1, \"cm\") )\n",
    "dev.off()"
   ]
  },
  {
   "cell_type": "markdown",
   "id": "9c3d97f7",
   "metadata": {},
   "source": [
    "### By age and genotype 14 class"
   ]
  },
  {
   "cell_type": "markdown",
   "id": "e46c9f4f",
   "metadata": {},
   "source": [
    "- 6mos (WT, CD70-/-, Bcl6tg/+, CD70-/-;Bcl6tg/+)"
   ]
  },
  {
   "cell_type": "code",
   "execution_count": 175,
   "id": "05a40b55",
   "metadata": {},
   "outputs": [
    {
     "name": "stdout",
     "output_type": "stream",
     "text": [
      "[1] 27\n",
      "[1] 27\n",
      "[1] 27\n",
      "[1] 27\n",
      "[1] 27\n"
     ]
    },
    {
     "data": {
      "text/html": [
       "108"
      ],
      "text/latex": [
       "108"
      ],
      "text/markdown": [
       "108"
      ],
      "text/plain": [
       "[1] 108"
      ]
     },
     "metadata": {},
     "output_type": "display_data"
    },
    {
     "data": {
      "text/html": [
       "<strong>png:</strong> 2"
      ],
      "text/latex": [
       "\\textbf{png:} 2"
      ],
      "text/markdown": [
       "**png:** 2"
      ],
      "text/plain": [
       "png \n",
       "  2 "
      ]
     },
     "metadata": {},
     "output_type": "display_data"
    }
   ],
   "source": [
    "n_6mos_WT_cells<- rownames(B_cell@meta.data  %>% filter(age == \"6mos\", genotype == \"WT\"))\n",
    "n_6mos_cd70_cells<- rownames(B_cell@meta.data  %>% filter(age == \"6mos\", genotype == \"CD70-/-\"))\n",
    "n_6mos_single_cells<- rownames(B_cell@meta.data  %>% filter(age == \"6mos\", genotype == \"Bcl6tg/+\"))\n",
    "n_6mos_double_cells<- rownames(B_cell@meta.data  %>% filter(age == \"6mos\", genotype == \"CD70-/-;Bcl6tg/+\"))\n",
    "\n",
    "B_cell_mtx<- GetMatrixFromSeurat2(B_cell, B_cell_genes, \n",
    "                                          group = \"new_annotation\")\n",
    "\n",
    "B_cell_mtx_6mos_WT<- GetMatrixFromSeurat2(B_cell[,n_6mos_WT_cells], B_cell_genes, \n",
    "                                          group = \"new_annotation\")\n",
    "\n",
    "B_cell_mtx_6mos_cd70<- GetMatrixFromSeurat2(B_cell[,n_6mos_cd70_cells], B_cell_genes, \n",
    "                                          group = \"new_annotation\")\n",
    "\n",
    "B_cell_mtx_6mos_single<- GetMatrixFromSeurat2(B_cell[,n_6mos_single_cells], B_cell_genes, \n",
    "                                          group = \"new_annotation\")\n",
    "\n",
    "B_cell_mtx_6mos_double<- GetMatrixFromSeurat2(B_cell[,n_6mos_double_cells], B_cell_genes, \n",
    "                                          group = \"new_annotation\")\n",
    "\n",
    "B_cell_combined<- cbind(B_cell_mtx_6mos_WT$exp_mat,\n",
    "                        B_cell_mtx_6mos_cd70$exp_mat,\n",
    "                        B_cell_mtx_6mos_single$exp_mat,\n",
    "                        B_cell_mtx_6mos_double$exp_mat)\n",
    "\n",
    "B_cell_combined_scaled<- t(apply(B_cell_combined, 1, scale))\n",
    "B_cell_combined_scaled<- B_cell_combined_scaled  %>% replace(is.na(.),0)\n",
    "\n",
    "\n",
    "ncol(B_cell_combined_scaled)\n",
    "B_cell_mtx_6mos_WT_scaled<-  B_cell_combined_scaled[, 1:27]\n",
    "B_cell_mtx_6mos_cd70_scaled<-  B_cell_combined_scaled[, 28:54]\n",
    "B_cell_mtx_6mos_single_scaled<-  B_cell_combined_scaled[, 55:81]\n",
    "B_cell_mtx_6mos_double_scaled<-  B_cell_combined_scaled[, 82:108]\n",
    "\n",
    "colnames(B_cell_mtx_6mos_WT_scaled)<- colnames(B_cell_mtx$exp_mat)\n",
    "colnames(B_cell_mtx_6mos_cd70_scaled)<- colnames(B_cell_mtx$exp_mat)\n",
    "colnames(B_cell_mtx_6mos_single_scaled)<- colnames(B_cell_mtx$exp_mat)\n",
    "colnames(B_cell_mtx_6mos_double_scaled)<- colnames(B_cell_mtx$exp_mat)\n",
    "\n",
    "\n",
    "row_split = factor(rep(names(row_order(ht)), lengths(row_order(ht))), levels = names(row_order(ht)))\n",
    "col_split = factor(rep(names(column_order(ht)), lengths(column_order(ht))), levels = names(column_order(ht)))\n",
    "\n",
    "\n",
    "pdf(\"./results/figures/5_B_cell_dotplot_final_annotation_6mos_by_genotype.pdf\", width = 30, height = 16)\n",
    "\n",
    "hp1<- MakeClusterDotPlot(exp_mat = B_cell_mtx_6mos_WT_scaled, \n",
    "               percent_mat = B_cell_mtx_6mos_WT$percent_mat, \n",
    "               col_fun = col_fun,\n",
    "               cluster_id = cluster_id,              \n",
    "               column_title = \"6mos WT\",\n",
    "               column_title_side = \"bottom\",\n",
    "               row_split = row_split,\n",
    "               column_split = col_split,\n",
    "               row_names_font_size = 8, \n",
    "               column_ha = column_ha,\n",
    "               legend_dot_size = unit(2, \"mm\"),\n",
    "               show_row_dend =FALSE,\n",
    "               show_column_dend = FALSE,\n",
    "               column_names_side = \"top\",\n",
    "               cluster_rows = FALSE, cluster_columns = FALSE)\n",
    "\n",
    "hp2<- MakeClusterDotPlot(exp_mat = B_cell_mtx_6mos_cd70_scaled, \n",
    "               percent_mat = B_cell_mtx_6mos_cd70$percent_mat, \n",
    "               col_fun = col_fun, cluster_id = cluster_id,\n",
    "               column_title = \"6mos CD70-/-\",\n",
    "               column_title_side = \"bottom\",\n",
    "               row_split = row_split,\n",
    "               column_split = col_split,\n",
    "               row_names_font_size = 8, \n",
    "               column_ha = column_ha,\n",
    "               legend_dot_size = unit(2, \"mm\"),\n",
    "               column_names_side = \"top\", cluster_rows = FALSE, cluster_columns = FALSE)\n",
    "\n",
    "hp3<- MakeClusterDotPlot(exp_mat = B_cell_mtx_6mos_single_scaled, \n",
    "               percent_mat = B_cell_mtx_6mos_single$percent_mat, \n",
    "               col_fun = col_fun, cluster_id = cluster_id,\n",
    "               column_title = \"6mos Bcl6tg/+\",\n",
    "               column_title_side = \"bottom\",         \n",
    "               row_split = row_split,\n",
    "               column_split = col_split,\n",
    "               row_names_font_size = 8, \n",
    "               column_ha = column_ha, \n",
    "               legend_dot_size = unit(2, \"mm\"),\n",
    "               column_names_side = \"top\", cluster_rows = FALSE, cluster_columns = FALSE)\n",
    "\n",
    "hp4<- MakeClusterDotPlot(exp_mat = B_cell_mtx_6mos_double_scaled, \n",
    "               percent_mat = B_cell_mtx_6mos_double$percent_mat, \n",
    "               col_fun = col_fun, cluster_id = cluster_id,\n",
    "               column_title = \"6mos CD70-/-;Bcl6tg/+\",\n",
    "               column_title_side = \"bottom\",         \n",
    "               row_split = row_split,\n",
    "               column_split = col_split,\n",
    "               row_names_font_size = 8, \n",
    "               column_ha = column_ha,\n",
    "               legend_dot_size = unit(2, \"mm\"),\n",
    "               column_names_side = \"top\", cluster_rows = FALSE, cluster_columns = FALSE)\n",
    "\n",
    "draw(hp1 + hp2 + hp3 + hp4 , annotation_legend_list = lgd, ht_gap = unit(1, \"cm\") )\n",
    "dev.off()"
   ]
  },
  {
   "cell_type": "markdown",
   "id": "73e0019f",
   "metadata": {},
   "source": [
    "- 14mos (WT, CD70-/-, Bcl6tg/+, CD70-/-;Bcl6tg/+)"
   ]
  },
  {
   "cell_type": "code",
   "execution_count": 176,
   "id": "df86f8b2",
   "metadata": {},
   "outputs": [
    {
     "name": "stdout",
     "output_type": "stream",
     "text": [
      "[1] 27\n",
      "[1] 27\n",
      "[1] 27\n",
      "[1] 27\n",
      "[1] 27\n"
     ]
    },
    {
     "data": {
      "text/html": [
       "108"
      ],
      "text/latex": [
       "108"
      ],
      "text/markdown": [
       "108"
      ],
      "text/plain": [
       "[1] 108"
      ]
     },
     "metadata": {},
     "output_type": "display_data"
    },
    {
     "data": {
      "text/html": [
       "<strong>png:</strong> 2"
      ],
      "text/latex": [
       "\\textbf{png:} 2"
      ],
      "text/markdown": [
       "**png:** 2"
      ],
      "text/plain": [
       "png \n",
       "  2 "
      ]
     },
     "metadata": {},
     "output_type": "display_data"
    }
   ],
   "source": [
    "n_14mos_WT_cells<- rownames(B_cell@meta.data  %>% filter(age == \"14mos\", genotype == \"WT\"))\n",
    "n_14mos_cd70_cells<- rownames(B_cell@meta.data  %>% filter(age == \"14mos\", genotype == \"CD70-/-\"))\n",
    "n_14mos_single_cells<- rownames(B_cell@meta.data  %>% filter(age == \"14mos\", genotype == \"Bcl6tg/+\"))\n",
    "n_14mos_double_cells<- rownames(B_cell@meta.data  %>% filter(age == \"14mos\", genotype == \"CD70-/-;Bcl6tg/+\"))\n",
    "\n",
    "B_cell_mtx<- GetMatrixFromSeurat2(B_cell, B_cell_genes, \n",
    "                                          group = \"new_annotation\")\n",
    "\n",
    "B_cell_mtx_14mos_WT<- GetMatrixFromSeurat2(B_cell[,n_14mos_WT_cells], B_cell_genes, \n",
    "                                          group = \"new_annotation\")\n",
    "\n",
    "B_cell_mtx_14mos_cd70<- GetMatrixFromSeurat2(B_cell[,n_14mos_cd70_cells], B_cell_genes, \n",
    "                                          group = \"new_annotation\")\n",
    "\n",
    "B_cell_mtx_14mos_single<- GetMatrixFromSeurat2(B_cell[,n_14mos_single_cells], B_cell_genes, \n",
    "                                          group = \"new_annotation\")\n",
    "\n",
    "B_cell_mtx_14mos_double<- GetMatrixFromSeurat2(B_cell[,n_14mos_double_cells], B_cell_genes, \n",
    "                                          group = \"new_annotation\")\n",
    "\n",
    "B_cell_combined<- cbind(B_cell_mtx_14mos_WT$exp_mat,\n",
    "                        B_cell_mtx_14mos_cd70$exp_mat,\n",
    "                        B_cell_mtx_14mos_single$exp_mat,\n",
    "                        B_cell_mtx_14mos_double$exp_mat)\n",
    "\n",
    "B_cell_combined_scaled<- t(apply(B_cell_combined, 1, scale))\n",
    "B_cell_combined_scaled<- B_cell_combined_scaled  %>% replace(is.na(.),0)\n",
    "\n",
    "ncol(B_cell_combined_scaled)\n",
    "B_cell_mtx_14mos_WT_scaled<-  B_cell_combined_scaled[, 1:27]\n",
    "B_cell_mtx_14mos_cd70_scaled<-  B_cell_combined_scaled[, 28:54]\n",
    "B_cell_mtx_14mos_single_scaled<-  B_cell_combined_scaled[, 55:81]\n",
    "B_cell_mtx_14mos_double_scaled<-  B_cell_combined_scaled[, 82:108]\n",
    "\n",
    "colnames(B_cell_mtx_14mos_WT_scaled)<- colnames(B_cell_mtx$exp_mat)\n",
    "colnames(B_cell_mtx_14mos_cd70_scaled)<- colnames(B_cell_mtx$exp_mat)\n",
    "colnames(B_cell_mtx_14mos_single_scaled)<- colnames(B_cell_mtx$exp_mat)\n",
    "colnames(B_cell_mtx_14mos_double_scaled)<- colnames(B_cell_mtx$exp_mat)\n",
    "\n",
    "pdf(\"./results/figures/5_B_cell_dotplot_final_annotation_14mos_by_genotype.pdf\", width = 30, height = 16)\n",
    "\n",
    "hp1<- MakeClusterDotPlot(exp_mat = B_cell_mtx_14mos_WT_scaled, \n",
    "               percent_mat = B_cell_mtx_14mos_WT$percent_mat, \n",
    "               col_fun = col_fun,\n",
    "               cluster_id = cluster_id,              \n",
    "               column_title = \"14mos WT\",\n",
    "               column_title_side = \"bottom\",\n",
    "               row_split = row_split,\n",
    "               column_split = col_split,\n",
    "               row_names_font_size = 8, \n",
    "               column_ha = column_ha,\n",
    "               legend_dot_size = unit(2, \"mm\"),\n",
    "               show_row_dend =FALSE,\n",
    "               show_column_dend = FALSE,\n",
    "               column_names_side = \"top\",\n",
    "               cluster_rows=FALSE, cluster_columns = FALSE)\n",
    "\n",
    "hp2<- MakeClusterDotPlot(exp_mat = B_cell_mtx_14mos_cd70_scaled, \n",
    "               percent_mat = B_cell_mtx_14mos_cd70$percent_mat, \n",
    "               col_fun = col_fun, cluster_id = cluster_id,\n",
    "               column_title = \"14mos CD70-/-\",\n",
    "               column_title_side = \"bottom\",\n",
    "               row_split = row_split,\n",
    "               column_split = col_split,\n",
    "               row_names_font_size = 8, \n",
    "               column_ha = column_ha,\n",
    "               legend_dot_size = unit(2, \"mm\"),\n",
    "               column_names_side = \"top\", cluster_rows=FALSE, cluster_columns = FALSE)\n",
    "\n",
    "hp3<- MakeClusterDotPlot(exp_mat = B_cell_mtx_14mos_single_scaled, \n",
    "               percent_mat = B_cell_mtx_14mos_single$percent_mat, \n",
    "               col_fun = col_fun, cluster_id = cluster_id,\n",
    "               column_title = \"14mos Bcl6tg/+\",\n",
    "               column_title_side = \"bottom\",         \n",
    "               row_split = row_split,\n",
    "               column_split = col_split,\n",
    "               row_names_font_size = 8, \n",
    "               column_ha = column_ha,\n",
    "               legend_dot_size = unit(2, \"mm\"),\n",
    "               column_names_side = \"top\", cluster_rows=FALSE, cluster_columns = FALSE)\n",
    "\n",
    "hp4<- MakeClusterDotPlot(exp_mat = B_cell_mtx_14mos_double_scaled, \n",
    "               percent_mat = B_cell_mtx_14mos_double$percent_mat, \n",
    "               col_fun = col_fun, cluster_id = cluster_id,\n",
    "               column_title = \"14mos CD70-/-;Bcl6tg/+\",\n",
    "               column_title_side = \"bottom\",         \n",
    "               row_split = row_split,\n",
    "               column_split = col_split,\n",
    "               row_names_font_size = 8, \n",
    "               column_ha = column_ha,\n",
    "               legend_dot_size = unit(2, \"mm\"),\n",
    "               column_names_side = \"top\", cluster_rows=FALSE, cluster_columns = FALSE)\n",
    "\n",
    "draw(hp1 + hp2 + hp3 + hp4 , annotation_legend_list = lgd, ht_gap = unit(1, \"cm\") )\n",
    "dev.off()"
   ]
  },
  {
   "cell_type": "markdown",
   "id": "67826130",
   "metadata": {},
   "source": [
    "- 18mos (WT, CD70-/-, Bcl6tg/+, CD70-/-;Bcl6tg/+)"
   ]
  },
  {
   "cell_type": "code",
   "execution_count": 177,
   "id": "d3b5e56f",
   "metadata": {},
   "outputs": [
    {
     "name": "stdout",
     "output_type": "stream",
     "text": [
      "[1] 27\n",
      "[1] 27\n",
      "[1] 27\n",
      "[1] 27\n",
      "[1] 27\n"
     ]
    },
    {
     "data": {
      "text/html": [
       "108"
      ],
      "text/latex": [
       "108"
      ],
      "text/markdown": [
       "108"
      ],
      "text/plain": [
       "[1] 108"
      ]
     },
     "metadata": {},
     "output_type": "display_data"
    },
    {
     "data": {
      "text/html": [
       "<strong>png:</strong> 2"
      ],
      "text/latex": [
       "\\textbf{png:} 2"
      ],
      "text/markdown": [
       "**png:** 2"
      ],
      "text/plain": [
       "png \n",
       "  2 "
      ]
     },
     "metadata": {},
     "output_type": "display_data"
    }
   ],
   "source": [
    "n_18mos_WT_cells<- rownames(B_cell@meta.data  %>% filter(age == \"18mos\", genotype == \"WT\"))\n",
    "n_18mos_cd70_cells<- rownames(B_cell@meta.data  %>% filter(age == \"18mos\", genotype == \"CD70-/-\"))\n",
    "n_18mos_single_cells<- rownames(B_cell@meta.data  %>% filter(age == \"18mos\", genotype == \"Bcl6tg/+\"))\n",
    "n_18mos_double_cells<- rownames(B_cell@meta.data  %>% filter(age == \"18mos\", genotype == \"CD70-/-;Bcl6tg/+\"))\n",
    "\n",
    "B_cell_mtx<- GetMatrixFromSeurat2(B_cell, B_cell_genes, \n",
    "                                          group = \"new_annotation\")\n",
    "\n",
    "B_cell_mtx_18mos_WT<- GetMatrixFromSeurat2(B_cell[,n_18mos_WT_cells], B_cell_genes, \n",
    "                                          group = \"new_annotation\")\n",
    "\n",
    "B_cell_mtx_18mos_cd70<- GetMatrixFromSeurat2(B_cell[,n_18mos_cd70_cells], B_cell_genes, \n",
    "                                          group = \"new_annotation\")\n",
    "\n",
    "B_cell_mtx_18mos_single<- GetMatrixFromSeurat2(B_cell[,n_18mos_single_cells], B_cell_genes, \n",
    "                                          group = \"new_annotation\")\n",
    "\n",
    "B_cell_mtx_18mos_double<- GetMatrixFromSeurat2(B_cell[,n_18mos_double_cells], B_cell_genes, \n",
    "                                          group = \"new_annotation\")\n",
    "\n",
    "B_cell_combined<- cbind(B_cell_mtx_18mos_WT$exp_mat,\n",
    "                        B_cell_mtx_18mos_cd70$exp_mat,\n",
    "                        B_cell_mtx_18mos_single$exp_mat,\n",
    "                        B_cell_mtx_18mos_double$exp_mat)\n",
    "\n",
    "B_cell_combined_scaled<- t(apply(B_cell_combined, 1, scale))\n",
    "B_cell_combined_scaled<- B_cell_combined_scaled  %>% replace(is.na(.),0)\n",
    "# B_cell_combined_scaled = B_cell_combined_scaled[row_order(ht)  %>%  unlist(use.names = FALSE), ]\n",
    "\n",
    "\n",
    "ncol(B_cell_combined_scaled)\n",
    "B_cell_mtx_18mos_WT_scaled<-  B_cell_combined_scaled[, 1:27]\n",
    "B_cell_mtx_18mos_cd70_scaled<-  B_cell_combined_scaled[, 28:54]\n",
    "B_cell_mtx_18mos_single_scaled<-  B_cell_combined_scaled[, 55:81]\n",
    "B_cell_mtx_18mos_double_scaled<-  B_cell_combined_scaled[, 82:108]\n",
    "\n",
    "colnames(B_cell_mtx_18mos_WT_scaled)<- colnames(B_cell_mtx$exp_mat)\n",
    "colnames(B_cell_mtx_18mos_cd70_scaled)<- colnames(B_cell_mtx$exp_mat)\n",
    "colnames(B_cell_mtx_18mos_single_scaled)<- colnames(B_cell_mtx$exp_mat)\n",
    "colnames(B_cell_mtx_18mos_double_scaled)<- colnames(B_cell_mtx$exp_mat)\n",
    "\n",
    "pdf(\"./results/figures/5_B_cell_dotplot_final_annotation_18mos_by_genotype.pdf\", width = 30, height = 16)\n",
    "\n",
    "hp1<- MakeClusterDotPlot(exp_mat = B_cell_mtx_18mos_WT_scaled, \n",
    "               percent_mat = B_cell_mtx_18mos_WT$percent_mat, \n",
    "               col_fun = col_fun,\n",
    "               cluster_id = cluster_id,              \n",
    "               column_title = \"18mos WT\",\n",
    "               column_title_side = \"bottom\",\n",
    "               row_split = row_split,\n",
    "               column_split = col_split,\n",
    "               row_names_font_size = 8, \n",
    "               column_ha = column_ha,\n",
    "               legend_dot_size = unit(2, \"mm\"),\n",
    "               show_row_dend =FALSE,\n",
    "               show_column_dend = FALSE,\n",
    "               column_names_side = \"top\",\n",
    "               cluster_rows=FALSE, cluster_columns = FALSE)\n",
    "\n",
    "hp2<- MakeClusterDotPlot(exp_mat = B_cell_mtx_18mos_cd70_scaled, \n",
    "               percent_mat = B_cell_mtx_18mos_cd70$percent_mat, \n",
    "               col_fun = col_fun, cluster_id = cluster_id,\n",
    "               column_title = \"18mos CD70-/-\",\n",
    "               column_title_side = \"bottom\",\n",
    "               row_split = row_split,\n",
    "               column_split = col_split,\n",
    "               row_names_font_size = 8, \n",
    "               column_ha = column_ha,\n",
    "               legend_dot_size = unit(2, \"mm\"),\n",
    "               column_names_side = \"top\", cluster_rows=FALSE, cluster_columns = FALSE)\n",
    "\n",
    "hp3<- MakeClusterDotPlot(exp_mat = B_cell_mtx_18mos_single_scaled, \n",
    "               percent_mat = B_cell_mtx_18mos_single$percent_mat, \n",
    "               col_fun = col_fun, cluster_id = cluster_id,\n",
    "               column_title = \"18mos Bcl6tg/+\",\n",
    "               column_title_side = \"bottom\",         \n",
    "               row_split = row_split,\n",
    "               column_split = col_split,\n",
    "               row_names_font_size = 8, \n",
    "               column_ha = column_ha,\n",
    "               legend_dot_size = unit(2, \"mm\"),\n",
    "               column_names_side = \"top\", cluster_rows=FALSE, cluster_columns = FALSE)\n",
    "\n",
    "hp4<- MakeClusterDotPlot(exp_mat = B_cell_mtx_18mos_double_scaled, \n",
    "               percent_mat = B_cell_mtx_18mos_double$percent_mat, \n",
    "               col_fun = col_fun, cluster_id = cluster_id,\n",
    "               column_title = \"18mos CD70-/-;Bcl6tg/+\",\n",
    "               column_title_side = \"bottom\",         \n",
    "               row_split = row_split,\n",
    "               column_split = col_split,\n",
    "               row_names_font_size = 8, \n",
    "               column_ha = column_ha,\n",
    "               legend_dot_size = unit(2, \"mm\"),\n",
    "               column_names_side = \"top\", cluster_rows=FALSE, cluster_columns = FALSE)\n",
    "\n",
    "draw(hp1 + hp2 + hp3 + hp4 , annotation_legend_list = lgd, ht_gap = unit(1, \"cm\") )\n",
    "dev.off()"
   ]
  },
  {
   "cell_type": "markdown",
   "id": "cbb29390",
   "metadata": {},
   "source": [
    "- sick (Bcl6tg/+, CD70-/-;Bcl6tg/+)"
   ]
  },
  {
   "cell_type": "code",
   "execution_count": 178,
   "id": "bd9e6966",
   "metadata": {},
   "outputs": [
    {
     "name": "stdout",
     "output_type": "stream",
     "text": [
      "[1] 27\n",
      "[1] 27\n",
      "[1] 27\n"
     ]
    },
    {
     "data": {
      "text/html": [
       "54"
      ],
      "text/latex": [
       "54"
      ],
      "text/markdown": [
       "54"
      ],
      "text/plain": [
       "[1] 54"
      ]
     },
     "metadata": {},
     "output_type": "display_data"
    },
    {
     "data": {
      "text/html": [
       "<strong>png:</strong> 2"
      ],
      "text/latex": [
       "\\textbf{png:} 2"
      ],
      "text/markdown": [
       "**png:** 2"
      ],
      "text/plain": [
       "png \n",
       "  2 "
      ]
     },
     "metadata": {},
     "output_type": "display_data"
    }
   ],
   "source": [
    "n_sick_single_cells<- rownames(B_cell@meta.data  %>% filter(age == \"sick\", genotype == \"Bcl6tg/+\"))\n",
    "n_sick_double_cells<- rownames(B_cell@meta.data  %>% filter(age == \"sick\", genotype == \"CD70-/-;Bcl6tg/+\"))\n",
    "\n",
    "B_cell_mtx<- GetMatrixFromSeurat2(B_cell, B_cell_genes, \n",
    "                                          group = \"new_annotation\")\n",
    "\n",
    "B_cell_mtx_sick_single<- GetMatrixFromSeurat2(B_cell[,n_sick_single_cells], B_cell_genes, \n",
    "                                          group = \"new_annotation\")\n",
    "\n",
    "B_cell_mtx_sick_double<- GetMatrixFromSeurat2(B_cell[,n_sick_double_cells], B_cell_genes, \n",
    "                                          group = \"new_annotation\")\n",
    "\n",
    "B_cell_combined<- cbind(B_cell_mtx_sick_single$exp_mat,\n",
    "                        B_cell_mtx_sick_double$exp_mat)\n",
    "\n",
    "B_cell_combined_scaled<- t(apply(B_cell_combined, 1, scale))\n",
    "B_cell_combined_scaled<- B_cell_combined_scaled  %>% replace(is.na(.),0)\n",
    "# B_cell_combined_scaled = B_cell_combined_scaled[row_order(ht)  %>%  unlist(use.names = FALSE), ]\n",
    "\n",
    "\n",
    "ncol(B_cell_combined_scaled)\n",
    "B_cell_mtx_sick_single_scaled<-  B_cell_combined_scaled[, 1:27]\n",
    "B_cell_mtx_sick_double_scaled<-  B_cell_combined_scaled[, 28:54]\n",
    "\n",
    "colnames(B_cell_mtx_sick_single_scaled)<- colnames(B_cell_mtx$exp_mat)\n",
    "colnames(B_cell_mtx_sick_double_scaled)<- colnames(B_cell_mtx$exp_mat)\n",
    "\n",
    "pdf(\"./results/figures/5_B_cell_dotplot_final_annotation_sick_by_genotype.pdf\", width = 15, height = 16)\n",
    "\n",
    "hp1<- MakeClusterDotPlot(exp_mat = B_cell_mtx_sick_single_scaled, \n",
    "               percent_mat = B_cell_mtx_sick_single$percent_mat, \n",
    "               col_fun = col_fun, cluster_id = cluster_id,\n",
    "               column_title = \"sick Bcl6tg/+\",\n",
    "               column_title_side = \"bottom\",         \n",
    "               row_split = row_split,\n",
    "               column_split = col_split,\n",
    "               row_names_font_size = 8, \n",
    "               column_ha = column_ha, \n",
    "               show_row_dend =FALSE,\n",
    "               show_column_dend = FALSE,\n",
    "               legend_dot_size = unit(2, \"mm\"),\n",
    "               column_names_side = \"top\", cluster_rows=FALSE, cluster_columns = FALSE)\n",
    "\n",
    "hp2<- MakeClusterDotPlot(exp_mat = B_cell_mtx_sick_double_scaled, \n",
    "               percent_mat = B_cell_mtx_sick_double$percent_mat, \n",
    "               col_fun = col_fun, cluster_id = cluster_id,\n",
    "               column_title = \"sick CD70-/-;Bcl6tg/+\",\n",
    "               column_title_side = \"bottom\",         \n",
    "               row_split = row_split,\n",
    "               column_split = col_split,\n",
    "               row_names_font_size = 8, \n",
    "               column_ha = column_ha,\n",
    "               legend_dot_size = unit(2, \"mm\"),\n",
    "               column_names_side = \"top\", cluster_rows=FALSE, cluster_columns = FALSE)\n",
    "\n",
    "draw(hp1 + hp2 , annotation_legend_list = lgd, ht_gap = unit(1, \"cm\") )\n",
    "dev.off()"
   ]
  },
  {
   "cell_type": "markdown",
   "id": "0f53d0bd",
   "metadata": {},
   "source": [
    "### aberant cell clusters with malignant genes "
   ]
  },
  {
   "cell_type": "code",
   "execution_count": 55,
   "id": "7727dd24",
   "metadata": {},
   "outputs": [
    {
     "data": {
      "text/html": [],
      "text/latex": [],
      "text/markdown": [],
      "text/plain": [
       "character(0)"
      ]
     },
     "metadata": {},
     "output_type": "display_data"
    }
   ],
   "source": [
    "B_cell_genes<- c('Itgax', 'Itgam', 'Tbx21', 'Zeb2', 'Dut', 'Birc5', 'Mki67', \n",
    "                 'H2-Ab1', 'H2-Eb1', 'H2-Aa', 'Cd19', 'Stmn1', 'Mef2b', 'Rgs13', 'S1pr2', 'Sdc1', \n",
    "                 'Jchain', 'Ciita', 'Ahnak', 'S100a6', 'Vim', 'Il10', 'Ebi3', 'Ms4a1', 'Cd79b')\n",
    "\n",
    "B_cell_genes[!B_cell_genes %in% rownames(B_cell)]\n",
    "\n",
    "B_cell_genes<- B_cell_genes  %>% unique()"
   ]
  },
  {
   "cell_type": "code",
   "execution_count": 56,
   "id": "7193e81c",
   "metadata": {},
   "outputs": [],
   "source": [
    "clusters <- c(3, 4, 5, 7, 8, 15, 18, 19, 21, 22)\n",
    "B_cell_clusters<- B_cell@meta.data  %>%\n",
    "    filter(seurat_clusters %in% clusters)  %>%  \n",
    "    select(seurat_clusters, new_annotation, HEX_code)  %>% distinct()\n",
    "\n",
    "B_cell_clusters$seurat_clusters <- factor(B_cell_clusters$seurat_clusters, levels = clusters)\n",
    "\n",
    "B_cell_colors<- B_cell_clusters %>% arrange(seurat_clusters) %>% pull(HEX_code)\n",
    "cluster_id <- B_cell_clusters %>% arrange(seurat_clusters) %>% pull(new_annotation)"
   ]
  },
  {
   "cell_type": "code",
   "execution_count": 57,
   "id": "a8e68c3c",
   "metadata": {},
   "outputs": [
    {
     "data": {
      "text/html": [
       "<strong>png:</strong> 2"
      ],
      "text/latex": [
       "\\textbf{png:} 2"
      ],
      "text/markdown": [
       "**png:** 2"
      ],
      "text/plain": [
       "png \n",
       "  2 "
      ]
     },
     "metadata": {},
     "output_type": "display_data"
    }
   ],
   "source": [
    "B_cell_mtx<- GetMatrixFromSeurat(B_cell, B_cell_genes, group = \"new_annotation\")\n",
    "column_ha <- HeatmapAnnotation(foo = anno_text(gsub(\"_.*\", \"\", cluster_id), location = 0.5, just = \"center\", \n",
    "                    gp = gpar(fill = setNames(B_cell_colors, gsub(\"_.*\", \"\", cluster_id)), \n",
    "                              col = \"white\", border = NA)), show_annotation_name = FALSE, show_legend = FALSE)\n",
    "\n",
    "col_fun = circlize::colorRamp2(c(-2,0,2), viridis::viridis(3))\n",
    "\n",
    "p<- MakeClusterDotPlot(exp_mat = B_cell_mtx$exp_mat, \n",
    "                       percent_mat =  B_cell_mtx$percent_mat,\n",
    "                       cluster_id = cluster_id,\n",
    "                       column_ha = column_ha, col_fun = col_fun,\n",
    "                       column_title_side = \"bottom\",\n",
    "                       column_title = \"B cell Space\", \n",
    "                       row_km = 5,\n",
    "                       row_names_font_size = 8, \n",
    "                       legend_dot_size = unit(2, \"mm\"),\n",
    "                       column_names_side = \"top\",\n",
    "                       show_column_dend = FALSE,\n",
    "                       show_row_dend = FALSE,\n",
    "                       cluster_rows = TRUE,\n",
    "                       cluster_columns = TRUE)\n",
    "\n",
    "pdf(\"results/figures/5_B_cell_dotplot_final_annotation_aberrant_cells.pdf\", width = 4, height = 6)\n",
    "set.seed(123)\n",
    "ht_2 = draw(p, annotation_legend_list = lgd)\n",
    "\n",
    "dev.off()"
   ]
  },
  {
   "cell_type": "markdown",
   "id": "ad145eef",
   "metadata": {},
   "source": [
    "### aberrant cell clusters by genotypes (normal vs malignant)"
   ]
  },
  {
   "cell_type": "code",
   "execution_count": 58,
   "id": "0a0641e1",
   "metadata": {},
   "outputs": [],
   "source": [
    "B_cell_genes = B_cell_genes[row_order(ht_2)  %>%  unlist(use.names = FALSE)]"
   ]
  },
  {
   "cell_type": "code",
   "execution_count": 61,
   "id": "554751f0",
   "metadata": {},
   "outputs": [
    {
     "name": "stdout",
     "output_type": "stream",
     "text": [
      "[1] 27\n",
      "[1] 27\n"
     ]
    }
   ],
   "source": [
    "normal_cells<- rownames(B_cell@meta.data  %>% filter(genotype %in% c(\"WT\", \"CD70-/-\")))\n",
    "malignant_cells<- rownames(B_cell@meta.data  %>% filter(genotype %in% c(\"Bcl6tg/+\", \"CD70-/-;Bcl6tg/+\")))\n",
    "\n",
    "B_cell_mtx_normal<- GetMatrixFromSeurat2(B_cell[,normal_cells], B_cell_genes, \n",
    "                                          group = \"new_annotation\")\n",
    "\n",
    "B_cell_mtx_malignant<- GetMatrixFromSeurat2(B_cell[,malignant_cells], B_cell_genes, \n",
    "                                          group = \"new_annotation\")\n",
    "\n",
    "B_cell_combined<- cbind(B_cell_mtx_normal$exp_mat, B_cell_mtx_malignant$exp_mat)"
   ]
  },
  {
   "cell_type": "code",
   "execution_count": 62,
   "id": "5850c40e",
   "metadata": {},
   "outputs": [
    {
     "data": {
      "text/html": [
       "54"
      ],
      "text/latex": [
       "54"
      ],
      "text/markdown": [
       "54"
      ],
      "text/plain": [
       "[1] 54"
      ]
     },
     "metadata": {},
     "output_type": "display_data"
    }
   ],
   "source": [
    "B_cell_combined_scaled<- t(apply(B_cell_combined, 1, scale))\n",
    "B_cell_combined_scaled<- B_cell_combined_scaled  %>% replace(is.na(.),0)\n",
    "# B_cell_combined_scaled = B_cell_combined_scaled[row_order(ht_2)  %>%  unlist(use.names = FALSE), ]\n",
    "ncol(B_cell_combined_scaled)\n",
    "B_cell_mtx_normal_scaled<-  B_cell_combined_scaled[, 1:27]\n",
    "B_cell_mtx_malignant_scaled<-  B_cell_combined_scaled[, 28:54]\n",
    "\n",
    "colnames(B_cell_mtx_normal_scaled)<- colnames(B_cell_mtx$exp_mat)\n",
    "colnames(B_cell_mtx_malignant_scaled)<- colnames(B_cell_mtx$exp_mat)"
   ]
  },
  {
   "cell_type": "code",
   "execution_count": 63,
   "id": "33e0eafa",
   "metadata": {},
   "outputs": [],
   "source": [
    "# obtain previous clustering information\n",
    "B_cell_clusters$seurat_clusters <- factor(B_cell_clusters$seurat_clusters, levels = c(7,8,4,22,5,3,21,19,18,15))\n",
    "B_cell_colors<- B_cell_clusters %>% arrange(seurat_clusters) %>% pull(HEX_code)\n",
    "cluster_id <- B_cell_clusters %>% arrange(seurat_clusters) %>% pull(new_annotation)\n",
    "\n",
    "\n",
    "column_ha <- HeatmapAnnotation(foo = anno_text(gsub(\"_.*\", \"\", cluster_id), \n",
    "                                               location = 0.5, just = \"center\", \n",
    "                                               gp = gpar(fill = setNames(B_cell_colors, \n",
    "                                                                         gsub(\"_.*\", \"\", cluster_id)), \n",
    "                                                         col = \"white\", border = NA)), \n",
    "                               show_annotation_name = FALSE, show_legend = FALSE)\n",
    "\n",
    "col_fun = circlize::colorRamp2(c(-2,0,2), viridis::viridis(3))"
   ]
  },
  {
   "cell_type": "code",
   "execution_count": 65,
   "id": "ccd86c38",
   "metadata": {},
   "outputs": [
    {
     "data": {
      "text/html": [
       "<strong>png:</strong> 2"
      ],
      "text/latex": [
       "\\textbf{png:} 2"
      ],
      "text/markdown": [
       "**png:** 2"
      ],
      "text/plain": [
       "png \n",
       "  2 "
      ]
     },
     "metadata": {},
     "output_type": "display_data"
    }
   ],
   "source": [
    "row_split = factor(rep(names(row_order(ht_2)), lengths(row_order(ht_2))), levels = names(row_order(ht_2)))\n",
    "\n",
    "pdf(\"./results/figures/5_B_cell_dotplot_final_annotation_aberrant_cells_by_genotype.pdf\", width = 6.5, height = 6)\n",
    "\n",
    "hp1<- MakeClusterDotPlot(exp_mat = B_cell_mtx_normal_scaled, \n",
    "               percent_mat = B_cell_mtx_normal$percent_mat, \n",
    "               col_fun = col_fun,\n",
    "               cluster_id = cluster_id,              \n",
    "               column_title = \"WT, CD70-/-\",\n",
    "               column_title_side = \"bottom\",\n",
    "               row_split = row_split,\n",
    "               row_names_font_size = 8, \n",
    "               column_ha = column_ha,\n",
    "               legend_dot_size = unit(2, \"mm\"),\n",
    "               show_row_dend =FALSE,\n",
    "               show_column_dend = FALSE,\n",
    "               column_names_side = \"top\",\n",
    "               cluster_rows = FALSE, cluster_columns = FALSE)\n",
    "\n",
    "hp2<- MakeClusterDotPlot(exp_mat = B_cell_mtx_malignant_scaled, \n",
    "               percent_mat = B_cell_mtx_malignant$percent_mat, \n",
    "               col_fun = col_fun, cluster_id = cluster_id,\n",
    "               column_title = \"Bcl6tg/+, CD70-/-;Bcl6tg/+\",\n",
    "               column_title_side = \"bottom\",\n",
    "               row_split = row_split,\n",
    "               row_names_font_size = 8, \n",
    "               column_ha = column_ha,\n",
    "               legend_dot_size = unit(2, \"mm\"),\n",
    "               column_names_side = \"top\", \n",
    "               cluster_rows = FALSE, cluster_columns = FALSE)\n",
    "\n",
    "\n",
    "draw(hp1 + hp2 , annotation_legend_list = lgd, ht_gap = unit(1, \"cm\") )\n",
    "dev.off()"
   ]
  },
  {
   "cell_type": "markdown",
   "id": "fb01137f",
   "metadata": {},
   "source": [
    "### aberrant cell clusters by genotypes"
   ]
  },
  {
   "cell_type": "code",
   "execution_count": 66,
   "id": "ca029794",
   "metadata": {},
   "outputs": [
    {
     "name": "stdout",
     "output_type": "stream",
     "text": [
      "[1] 27\n",
      "[1] 27\n",
      "[1] 27\n",
      "[1] 27\n",
      "[1] 27\n"
     ]
    },
    {
     "data": {
      "text/html": [
       "108"
      ],
      "text/latex": [
       "108"
      ],
      "text/markdown": [
       "108"
      ],
      "text/plain": [
       "[1] 108"
      ]
     },
     "metadata": {},
     "output_type": "display_data"
    }
   ],
   "source": [
    "WT_cells<- rownames(B_cell@meta.data  %>% filter(genotype == \"WT\"))\n",
    "cd70_cells<- rownames(B_cell@meta.data  %>% filter(genotype == \"CD70-/-\"))\n",
    "single_cells<- rownames(B_cell@meta.data  %>% filter(genotype == \"Bcl6tg/+\"))\n",
    "double_cells<- rownames(B_cell@meta.data  %>% filter(genotype == \"CD70-/-;Bcl6tg/+\"))\n",
    "\n",
    "B_cell_mtx<- GetMatrixFromSeurat2(B_cell, B_cell_genes, \n",
    "                                          group = \"new_annotation\")\n",
    "\n",
    "B_cell_mtx_WT<- GetMatrixFromSeurat2(B_cell[,WT_cells], B_cell_genes, \n",
    "                                          group = \"new_annotation\")\n",
    "\n",
    "B_cell_mtx_cd70<- GetMatrixFromSeurat2(B_cell[,cd70_cells], B_cell_genes, \n",
    "                                          group = \"new_annotation\")\n",
    "\n",
    "B_cell_mtx_single<- GetMatrixFromSeurat2(B_cell[,single_cells], B_cell_genes, \n",
    "                                          group = \"new_annotation\")\n",
    "\n",
    "B_cell_mtx_double<- GetMatrixFromSeurat2(B_cell[,double_cells], B_cell_genes, \n",
    "                                          group = \"new_annotation\")\n",
    "\n",
    "B_cell_combined<- cbind(B_cell_mtx_WT$exp_mat, B_cell_mtx_cd70$exp_mat, \n",
    "                                 B_cell_mtx_single$exp_mat, B_cell_mtx_double$exp_mat)\n",
    "\n",
    "B_cell_combined_scaled<- t(apply(B_cell_combined, 1, scale))\n",
    "B_cell_combined_scaled<- B_cell_combined_scaled  %>% replace(is.na(.),0)\n",
    "# B_cell_combined_scaled = B_cell_combined_scaled[row_order(ht_2)  %>%  unlist(use.names = FALSE), ]\n",
    "\n",
    "ncol(B_cell_combined_scaled)"
   ]
  },
  {
   "cell_type": "code",
   "execution_count": 67,
   "id": "676c30f7",
   "metadata": {},
   "outputs": [],
   "source": [
    "B_cell_mtx_WT_scaled<-  B_cell_combined_scaled[, 1:27]\n",
    "B_cell_mtx_cd70_scaled<-  B_cell_combined_scaled[, 28:54]\n",
    "B_cell_mtx_single_scaled<-  B_cell_combined_scaled[, 55:81]\n",
    "B_cell_mtx_double_scaled<-  B_cell_combined_scaled[, 82:108]\n",
    "\n",
    "colnames(B_cell_mtx_WT_scaled)<- colnames(B_cell_mtx$exp_mat)\n",
    "colnames(B_cell_mtx_cd70_scaled)<- colnames(B_cell_mtx$exp_mat)\n",
    "colnames(B_cell_mtx_single_scaled)<- colnames(B_cell_mtx$exp_mat)\n",
    "colnames(B_cell_mtx_double_scaled)<- colnames(B_cell_mtx$exp_mat)"
   ]
  },
  {
   "cell_type": "code",
   "execution_count": 68,
   "id": "8f8c9aa5",
   "metadata": {},
   "outputs": [],
   "source": [
    "column_ha <- HeatmapAnnotation(foo = anno_text(gsub(\"_.*\", \"\", cluster_id), \n",
    "                                               location = 0.5, just = \"center\", \n",
    "                                               gp = gpar(fill = setNames(B_cell_colors, \n",
    "                                                                         gsub(\"_.*\", \"\", cluster_id)), \n",
    "                                                         col = \"white\", border = NA)), \n",
    "                               show_annotation_name = FALSE, show_legend = FALSE)\n",
    "\n",
    "col_fun = circlize::colorRamp2(c(-2,0,2), viridis::viridis(3))"
   ]
  },
  {
   "cell_type": "code",
   "execution_count": 69,
   "id": "b7049b4f",
   "metadata": {},
   "outputs": [
    {
     "data": {
      "text/html": [
       "<strong>png:</strong> 2"
      ],
      "text/latex": [
       "\\textbf{png:} 2"
      ],
      "text/markdown": [
       "**png:** 2"
      ],
      "text/plain": [
       "png \n",
       "  2 "
      ]
     },
     "metadata": {},
     "output_type": "display_data"
    },
    {
     "data": {
      "text/html": [
       "<strong>png:</strong> 2"
      ],
      "text/latex": [
       "\\textbf{png:} 2"
      ],
      "text/markdown": [
       "**png:** 2"
      ],
      "text/plain": [
       "png \n",
       "  2 "
      ]
     },
     "metadata": {},
     "output_type": "display_data"
    },
    {
     "data": {
      "text/html": [
       "<strong>png:</strong> 2"
      ],
      "text/latex": [
       "\\textbf{png:} 2"
      ],
      "text/markdown": [
       "**png:** 2"
      ],
      "text/plain": [
       "png \n",
       "  2 "
      ]
     },
     "metadata": {},
     "output_type": "display_data"
    },
    {
     "data": {
      "text/html": [
       "<strong>png:</strong> 2"
      ],
      "text/latex": [
       "\\textbf{png:} 2"
      ],
      "text/markdown": [
       "**png:** 2"
      ],
      "text/plain": [
       "png \n",
       "  2 "
      ]
     },
     "metadata": {},
     "output_type": "display_data"
    }
   ],
   "source": [
    "pdf(\"./results/figures/5_B_cell_dotplot_final_annotation_aberrant_cells_WT.pdf\", width = 4, height = 6)\n",
    "\n",
    "hp1<- MakeClusterDotPlot(exp_mat = B_cell_mtx_WT_scaled, \n",
    "               percent_mat = B_cell_mtx_WT$percent_mat,\n",
    "               col_fun = col_fun,\n",
    "               cluster_id = cluster_id,              \n",
    "               column_title = \"WT\",\n",
    "               column_title_side = \"bottom\",\n",
    "               row_split = row_split,\n",
    "               row_names_font_size = 8, \n",
    "               column_ha = column_ha,\n",
    "               legend_dot_size = unit(2, \"mm\"),\n",
    "               show_row_dend =FALSE,\n",
    "               show_column_dend = FALSE,\n",
    "               column_names_side = \"top\",\n",
    "               cluster_rows = FALSE,\n",
    "               cluster_columns = FALSE)\n",
    "\n",
    "draw(hp1 , annotation_legend_list = lgd, ht_gap = unit(1, \"cm\") )\n",
    "dev.off()\n",
    "\n",
    "pdf(\"./results/figures/5_B_cell_dotplot_final_annotation_aberrant_cells_CD70.pdf\", width = 4, height = 6)\n",
    "hp2<- MakeClusterDotPlot(exp_mat = B_cell_mtx_cd70_scaled, \n",
    "               percent_mat = B_cell_mtx_cd70$percent_mat, \n",
    "               col_fun = col_fun, cluster_id = cluster_id,\n",
    "               column_title = \"CD70-/-\",\n",
    "               column_title_side = \"bottom\",\n",
    "               row_split = row_split,\n",
    "               row_names_font_size = 8, \n",
    "               column_ha = column_ha,\n",
    "               legend_dot_size = unit(2, \"mm\"),\n",
    "               cluster_rows = FALSE,\n",
    "               column_names_side = \"top\",  cluster_columns = FALSE)\n",
    "\n",
    "draw(hp2 , annotation_legend_list = lgd, ht_gap = unit(1, \"cm\") )\n",
    "dev.off()\n",
    "\n",
    "\n",
    "pdf(\"./results/figures/5_B_cell_dotplot_final_annotation_aberrant_cells_single.pdf\", width = 4, height = 6)\n",
    "hp3<- MakeClusterDotPlot(exp_mat = B_cell_mtx_single_scaled, \n",
    "               percent_mat = B_cell_mtx_single$percent_mat, \n",
    "               col_fun = col_fun, cluster_id = cluster_id,\n",
    "               column_title = \"Bcl6tg/+\",\n",
    "               column_title_side = \"bottom\",         \n",
    "               row_split = row_split,\n",
    "               row_names_font_size = 8, \n",
    "               column_ha = column_ha,\n",
    "               legend_dot_size = unit(2, \"mm\"),\n",
    "               cluster_rows = FALSE,\n",
    "               column_names_side = \"top\",  cluster_columns = FALSE)\n",
    "\n",
    "draw(hp3 , annotation_legend_list = lgd, ht_gap = unit(1, \"cm\") )\n",
    "dev.off()\n",
    "\n",
    "pdf(\"./results/figures/5_B_cell_dotplot_final_annotation_aberrant_cells_double.pdf\", width = 4, height = 6)\n",
    "\n",
    "hp4<- MakeClusterDotPlot(exp_mat = B_cell_mtx_double_scaled, \n",
    "               percent_mat = B_cell_mtx_double$percent_mat, \n",
    "               col_fun = col_fun, cluster_id = cluster_id,\n",
    "               column_title = \"CD70-/-;Bcl6tg/+\",\n",
    "               column_title_side = \"bottom\",       \n",
    "               row_split = row_split,\n",
    "               row_names_font_size = 8, \n",
    "               column_ha = column_ha,\n",
    "               legend_dot_size = unit(2, \"mm\"),\n",
    "               cluster_rows = FALSE,\n",
    "               column_names_side = \"top\",  cluster_columns = FALSE)\n",
    "\n",
    "draw(hp4 , annotation_legend_list = lgd, ht_gap = unit(1, \"cm\") )\n",
    "\n",
    "dev.off()"
   ]
  },
  {
   "cell_type": "code",
   "execution_count": 70,
   "id": "053fe927",
   "metadata": {},
   "outputs": [
    {
     "data": {
      "text/html": [
       "<strong>png:</strong> 2"
      ],
      "text/latex": [
       "\\textbf{png:} 2"
      ],
      "text/markdown": [
       "**png:** 2"
      ],
      "text/plain": [
       "png \n",
       "  2 "
      ]
     },
     "metadata": {},
     "output_type": "display_data"
    }
   ],
   "source": [
    "pdf(\"./results/figures/5_B_cell_dotplot_final_annotation_aberrant_cells_by_genotype.pdf\", width = 12, height = 6)\n",
    "\n",
    "hp1<- MakeClusterDotPlot(exp_mat = B_cell_mtx_WT_scaled, \n",
    "               percent_mat = B_cell_mtx_WT$percent_mat,\n",
    "               col_fun = col_fun,\n",
    "               cluster_id = cluster_id,              \n",
    "               column_title = \"WT\",\n",
    "               column_title_side = \"bottom\",\n",
    "               row_split = row_split,\n",
    "               row_names_font_size = 8, \n",
    "               column_ha = column_ha,\n",
    "               legend_dot_size = unit(2, \"mm\"),\n",
    "               show_row_dend =FALSE,\n",
    "               show_column_dend = FALSE,\n",
    "               column_names_side = \"top\",\n",
    "               cluster_rows = FALSE,\n",
    "               cluster_columns = FALSE)\n",
    "\n",
    "hp2<- MakeClusterDotPlot(exp_mat = B_cell_mtx_cd70_scaled, \n",
    "               percent_mat = B_cell_mtx_cd70$percent_mat, \n",
    "               col_fun = col_fun, cluster_id = cluster_id,\n",
    "               column_title = \"CD70-/-\",\n",
    "               column_title_side = \"bottom\",\n",
    "               row_split = row_split,\n",
    "               row_names_font_size = 8, \n",
    "               column_ha = column_ha,\n",
    "               legend_dot_size = unit(2, \"mm\"),\n",
    "               cluster_rows = FALSE,\n",
    "               column_names_side = \"top\",  cluster_columns = FALSE)\n",
    "\n",
    "\n",
    "hp3<- MakeClusterDotPlot(exp_mat = B_cell_mtx_single_scaled, \n",
    "               percent_mat = B_cell_mtx_single$percent_mat, \n",
    "               col_fun = col_fun, cluster_id = cluster_id,\n",
    "               column_title = \"Bcl6tg/+\",\n",
    "               column_title_side = \"bottom\",         \n",
    "               row_split = row_split,\n",
    "               row_names_font_size = 8, \n",
    "               column_ha = column_ha,\n",
    "               legend_dot_size = unit(2, \"mm\"),\n",
    "               cluster_rows = FALSE,\n",
    "               column_names_side = \"top\",  cluster_columns = FALSE)\n",
    "\n",
    "hp4<- MakeClusterDotPlot(exp_mat = B_cell_mtx_double_scaled, \n",
    "               percent_mat = B_cell_mtx_double$percent_mat, \n",
    "               col_fun = col_fun, cluster_id = cluster_id,\n",
    "               column_title = \"CD70-/-;Bcl6tg/+\",\n",
    "               column_title_side = \"bottom\",       \n",
    "               row_split = row_split,\n",
    "               row_names_font_size = 8, \n",
    "               column_ha = column_ha,\n",
    "               legend_dot_size = unit(2, \"mm\"),\n",
    "               cluster_rows = FALSE,\n",
    "               column_names_side = \"top\",  cluster_columns = FALSE)\n",
    "\n",
    "draw(hp1 + hp2 + hp3 + hp4 , annotation_legend_list = lgd, ht_gap = unit(1, \"cm\") )\n",
    "\n",
    "dev.off()"
   ]
  }
 ],
 "metadata": {
  "kernelspec": {
   "display_name": "R",
   "language": "R",
   "name": "ir"
  },
  "language_info": {
   "codemirror_mode": "r",
   "file_extension": ".r",
   "mimetype": "text/x-r-source",
   "name": "R",
   "pygments_lexer": "r",
   "version": "4.1.1"
  }
 },
 "nbformat": 4,
 "nbformat_minor": 5
}
