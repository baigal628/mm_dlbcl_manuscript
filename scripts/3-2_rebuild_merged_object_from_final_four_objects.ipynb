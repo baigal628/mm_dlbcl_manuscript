{
 "cells": [
  {
   "cell_type": "code",
   "execution_count": 1,
   "id": "73262fd2",
   "metadata": {
    "scrolled": true
   },
   "outputs": [
    {
     "data": {
      "text/html": [
       "'/liulab/galib/dlbcl_manuscript/scripts'"
      ],
      "text/latex": [
       "'/liulab/galib/dlbcl\\_manuscript/scripts'"
      ],
      "text/markdown": [
       "'/liulab/galib/dlbcl_manuscript/scripts'"
      ],
      "text/plain": [
       "[1] \"/liulab/galib/dlbcl_manuscript/scripts\""
      ]
     },
     "metadata": {},
     "output_type": "display_data"
    },
    {
     "name": "stderr",
     "output_type": "stream",
     "text": [
      "Warning message:\n",
      "“package ‘tidyverse’ was built under R version 4.1.3”\n",
      "── \u001b[1mAttaching packages\u001b[22m ─────────────────────────────────────── tidyverse 1.3.1 ──\n",
      "\n",
      "\u001b[32m✔\u001b[39m \u001b[34mggplot2\u001b[39m 3.3.6      \u001b[32m✔\u001b[39m \u001b[34mpurrr  \u001b[39m 0.3.4 \n",
      "\u001b[32m✔\u001b[39m \u001b[34mtibble \u001b[39m 3.1.8      \u001b[32m✔\u001b[39m \u001b[34mdplyr  \u001b[39m 1.0.10\n",
      "\u001b[32m✔\u001b[39m \u001b[34mtidyr  \u001b[39m 1.2.0      \u001b[32m✔\u001b[39m \u001b[34mstringr\u001b[39m 1.4.1 \n",
      "\u001b[32m✔\u001b[39m \u001b[34mreadr  \u001b[39m 2.1.2      \u001b[32m✔\u001b[39m \u001b[34mforcats\u001b[39m 0.5.1 \n",
      "\n",
      "Warning message:\n",
      "“package ‘tidyr’ was built under R version 4.1.2”\n",
      "Warning message:\n",
      "“package ‘readr’ was built under R version 4.1.2”\n",
      "Warning message:\n",
      "“package ‘forcats’ was built under R version 4.1.3”\n",
      "── \u001b[1mConflicts\u001b[22m ────────────────────────────────────────── tidyverse_conflicts() ──\n",
      "\u001b[31m✖\u001b[39m \u001b[34mdplyr\u001b[39m::\u001b[32mfilter()\u001b[39m masks \u001b[34mstats\u001b[39m::filter()\n",
      "\u001b[31m✖\u001b[39m \u001b[34mdplyr\u001b[39m::\u001b[32mlag()\u001b[39m    masks \u001b[34mstats\u001b[39m::lag()\n",
      "\n",
      "Attaching SeuratObject\n",
      "\n",
      "Attaching sp\n",
      "\n",
      "here() starts at /liulab/galib/mouse_scRNAseq_margaret\n",
      "\n",
      "Warning message:\n",
      "“package ‘harmony’ was built under R version 4.1.3”\n",
      "Loading required package: Rcpp\n",
      "\n",
      "Warning message:\n",
      "“package ‘Rcpp’ was built under R version 4.1.2”\n",
      "Warning message:\n",
      "“package ‘ggpubr’ was built under R version 4.1.3”\n"
     ]
    }
   ],
   "source": [
    "getwd()\n",
    "setwd(\"/liulab/galib/mouse_scRNAseq_margaret\")\n",
    "library(tidyverse)\n",
    "library(Seurat)\n",
    "library(here)\n",
    "library(harmony)\n",
    "library(dplyr)\n",
    "library(ggpubr)\n",
    "source(\"./scripts/scplot.R\")"
   ]
  },
  {
   "cell_type": "code",
   "execution_count": null,
   "id": "781e2fbb",
   "metadata": {},
   "outputs": [],
   "source": [
    "cd3_pos_cd4_neg<- readRDS(\"./data/objects/cd3_pos_cd4_neg/cd3_pos_cd4_neg_final.rds\")\n",
    "cd3_pos_cd8_neg<- readRDS(\"./data/objects/cd3_pos_cd8_neg/cd3_pos_cd8_neg_final.rds\")\n",
    "B_cell<- readRDS(\"./data/objects/B_cell/B_cell_final.rds\")\n",
    "non_B_non_T<- readRDS(\"./data/objects/non_B_non_T/non_B_non_T_c18_subclustered.rds\")\n",
    "cd3_pos_cd4_neg_cells<- rownames(cd3_pos_cd4_neg@meta.data)\n",
    "cd3_pos_cd8_neg_cells<- rownames(cd3_pos_cd8_neg@meta.data)\n",
    "B_cells<- rownames(B_cell@meta.data)\n",
    "non_B_non_T_cells<- rownames(non_B_non_T@meta.data)"
   ]
  },
  {
   "cell_type": "code",
   "execution_count": null,
   "id": "21ad9b79",
   "metadata": {},
   "outputs": [],
   "source": [
    "all_cells<- c(cd3_pos_cd4_neg_cells, cd3_pos_cd8_neg_cells, B_cells, non_B_non_T_cells)\n",
    "all_cells  %>% length()\n",
    "all_cells  %>% duplicated()  %>% table\n",
    "write.table(x = all_cells, file = \"./data/all_cells.txt\", quote = FALSE, row.names = FALSE, col.names = FALSE)"
   ]
  },
  {
   "cell_type": "code",
   "execution_count": null,
   "id": "f619aae1",
   "metadata": {},
   "outputs": [],
   "source": [
    "merged<- readRDS(\"./data/objects/merged/merged_res1.5_obj.rds\")\n",
    "new_merged<- subset(merged, cells = all_cells)\n",
    "saveRDS(object = new_merged, \"./data/objects/merged/all_cells.obj\")"
   ]
  },
  {
   "cell_type": "code",
   "execution_count": null,
   "id": "344c0e83",
   "metadata": {},
   "outputs": [],
   "source": [
    "total_number_of_cells_per_sample<- new_merged@meta.data %>%\n",
    "  count(sample_id, age,genotype, name = \"total_number\")\n",
    "saveRDS(total_number_of_cells_per_sample, file = \"./data/objects/total_number_of_cells_per_sample.obj\")"
   ]
  },
  {
   "cell_type": "code",
   "execution_count": null,
   "id": "00b07257",
   "metadata": {},
   "outputs": [],
   "source": [
    "get_cell_number(merged_object, space = \"merged\")\n",
    "get_cell_number(cd3_pos_cd4_neg, space= \"cd3_pos_cd4_neg\")\n",
    "get_cell_number(cd3_pos_cd8_neg, space= \"cd3_pos_cd8_neg\")\n",
    "get_cell_number(B_cell, space = \"B_cell\")\n",
    "get_cell_number(non_B_non_T, space= \"non_B_non_T\")"
   ]
  },
  {
   "cell_type": "code",
   "execution_count": null,
   "id": "c3aa0eb6",
   "metadata": {},
   "outputs": [],
   "source": [
    "total_number_of_cells_per_sample<- readRDS(\"./data/objects/total_number_of_cells_per_sample.obj\")"
   ]
  },
  {
   "cell_type": "code",
   "execution_count": null,
   "id": "fcbb6791",
   "metadata": {},
   "outputs": [],
   "source": [
    "# merged\n",
    "get_cell_number_between_age(obj = merged, space = \"merged\")\n",
    "get_cell_number_between_genotype(obj = merged, space = \"merged\")\n",
    "\n",
    "get_cell_number_between_genotype_custom(obj = merged, space = \"merged\")\n",
    "get_cell_number_between_age_custom(obj = merged, space = \"merged\")\n",
    "\n",
    "get_cell_number_between_genotype_custom_sig(obj = merged, space = \"merged\")\n",
    "get_cell_number_between_age_custom_sig(obj = merged, space = \"merged\")\n",
    "\n",
    "#cd3_pos_cd4_neg\n",
    "get_cell_number_between_age(obj = cd3_pos_cd4_neg, space = \"cd3_pos_cd4_neg\")\n",
    "get_cell_number_between_genotype(obj = cd3_pos_cd4_neg, space = \"cd3_pos_cd4_neg\")\n",
    "\n",
    "get_cell_number_between_genotype_custom(obj = cd3_pos_cd4_neg, space = \"cd3_pos_cd4_neg\")\n",
    "get_cell_number_between_age_custom(obj = cd3_pos_cd4_neg, space = \"cd3_pos_cd4_neg\")\n",
    "\n",
    "get_cell_number_between_genotype_custom_sig(obj = cd3_pos_cd4_neg, space = \"cd3_pos_cd4_neg\")\n",
    "get_cell_number_between_age_custom_sig(obj = cd3_pos_cd4_neg, space = \"cd3_pos_cd4_neg\")\n",
    "\n",
    "#cd3_pos_cd8_neg\n",
    "get_cell_number_between_age(obj = cd3_pos_cd8_neg, space = \"cd3_pos_cd8_neg\")\n",
    "get_cell_number_between_genotype(obj = cd3_pos_cd8_neg, space = \"cd3_pos_cd8_neg\")\n",
    "\n",
    "get_cell_number_between_genotype_custom(obj = cd3_pos_cd8_neg, space = \"cd3_pos_cd8_neg\")\n",
    "get_cell_number_between_age_custom(obj = cd3_pos_cd8_neg, space = \"cd3_pos_cd8_neg\")\n",
    "\n",
    "get_cell_number_between_genotype_custom_sig(obj = cd3_pos_cd8_neg, space = \"cd3_pos_cd8_neg\")\n",
    "get_cell_number_between_age_custom_sig(obj = cd3_pos_cd8_neg, space = \"cd3_pos_cd8_neg\")\n",
    "\n",
    "\n",
    "#B_cell\n",
    "get_cell_number_between_age(obj = B_cell, space = \"B_cell\")\n",
    "get_cell_number_between_genotype(obj = B_cell, space = \"B_cell\")\n",
    "\n",
    "get_cell_number_between_genotype_custom(obj = B_cell, space = \"B_cell\")\n",
    "get_cell_number_between_age_custom(obj = B_cell, space = \"B_cell\")\n",
    "\n",
    "get_cell_number_between_genotype_custom_sig(obj = B_cell, space = \"B_cell\")\n",
    "get_cell_number_between_age_custom_sig(obj = B_cell, space = \"B_cell\")\n",
    "\n",
    "#non_B_non_T\n",
    "get_cell_number_between_age(obj = non_B_non_T, space = \"non_B_non_T\")\n",
    "get_cell_number_between_genotype(obj = non_B_non_T, space = \"non_B_non_T\")\n",
    "\n",
    "get_cell_number_between_genotype_custom(obj = non_B_non_T, space = \"non_B_non_T\")\n",
    "get_cell_number_between_age_custom(obj = non_B_non_T, space = \"non_B_non_T\")\n",
    "\n",
    "get_cell_number_between_genotype_custom_sig(obj = non_B_non_T, space = \"non_B_non_T\")\n",
    "get_cell_number_between_age_custom_sig(obj = non_B_non_T, space = \"non_B_non_T\")"
   ]
  }
 ],
 "metadata": {
  "kernelspec": {
   "display_name": "R",
   "language": "R",
   "name": "ir"
  },
  "language_info": {
   "codemirror_mode": "r",
   "file_extension": ".r",
   "mimetype": "text/x-r-source",
   "name": "R",
   "pygments_lexer": "r",
   "version": "4.1.1"
  }
 },
 "nbformat": 4,
 "nbformat_minor": 5
}
