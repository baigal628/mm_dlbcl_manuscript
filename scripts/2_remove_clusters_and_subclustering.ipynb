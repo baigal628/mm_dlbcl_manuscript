{
 "cells": [
  {
   "cell_type": "code",
   "execution_count": 8,
   "id": "4f765ebd",
   "metadata": {
    "scrolled": true
   },
   "outputs": [
    {
     "name": "stderr",
     "output_type": "stream",
     "text": [
      "Warning message:\n",
      "“package ‘ComplexHeatmap’ was built under R version 4.1.3”\n",
      "Loading required package: grid\n",
      "\n",
      "========================================\n",
      "ComplexHeatmap version 2.10.0\n",
      "Bioconductor page: http://bioconductor.org/packages/ComplexHeatmap/\n",
      "Github page: https://github.com/jokergoo/ComplexHeatmap\n",
      "Documentation: http://jokergoo.github.io/ComplexHeatmap-reference\n",
      "\n",
      "If you use it in published research, please cite:\n",
      "Gu, Z. Complex heatmaps reveal patterns and correlations in multidimensional \n",
      "  genomic data. Bioinformatics 2016.\n",
      "\n",
      "The new InteractiveComplexHeatmap package can directly export static \n",
      "complex heatmaps into an interactive Shiny app with zero effort. Have a try!\n",
      "\n",
      "This message can be suppressed by:\n",
      "  suppressPackageStartupMessages(library(ComplexHeatmap))\n",
      "========================================\n",
      "\n",
      "\n"
     ]
    }
   ],
   "source": [
    "setwd(\"/liulab/galib/mm_dlbcl_manuscript/\")\n",
    "library(tidyverse)\n",
    "library(Seurat)\n",
    "library(harmony)\n",
    "library(dplyr)\n",
    "library(DoubletFinder)\n",
    "library(rBCS)\n",
    "library(ComplexHeatmap)\n",
    "source(\"./scripts/scplot.R\")"
   ]
  },
  {
   "cell_type": "code",
   "execution_count": null,
   "id": "a4fcbd74",
   "metadata": {},
   "outputs": [],
   "source": [
    "merged_object<- readRDS(\"data/objects/merged/merged_res1.5_obj.rds\")\n",
    "cd3_pos_cd4_neg<- readRDS(\"data/objects/cd3_pos_cd4_neg/cd3_pos_cd4_neg_res1.5_obj.rds\")\n",
    "cd3_pos_cd8_neg<- readRDS(\"data/objects/cd3_pos_cd8_neg/cd3_pos_cd8_neg_res1.5_obj.rds\")\n",
    "B_cell<- readRDS(\"data/objects/B_cell/B_cell_res1.5_obj.rds\")"
   ]
  },
  {
   "cell_type": "markdown",
   "id": "3d969acd",
   "metadata": {},
   "source": [
    "## Remove clusters with less than 41 cells"
   ]
  },
  {
   "cell_type": "code",
   "execution_count": null,
   "id": "fa67a27f",
   "metadata": {},
   "outputs": [],
   "source": [
    "cd3_pos_cd4_neg_clusters_41_exclusive<- \n",
    "cluster_remain_41_exclusive(cd3_pos_cd4_neg, \"cd3_pos_cd4_neg\")\n",
    "\n",
    "cd3_pos_cd8_neg_clusters_41_exclusive<- \n",
    "cluster_remain_41_exclusive(cd3_pos_cd8_neg, \"cd3_pos_cd8_neg\")\n",
    "\n",
    "B_cell_clusters_41_exclusive<- \n",
    "cluster_remain_41_exclusive(B_cell, \"B_cell\")\n",
    "\n",
    "\n",
    "remove_clusters(cd3_pos_cd4_neg, cd3_pos_cd4_neg_clusters_41_exclusive, \n",
    "                space = \"cd3_pos_cd4_neg\", space_name = \"Cd3+ Cd4-\")\n",
    "  \n",
    "remove_clusters(cd3_pos_cd8_neg, cd3_pos_cd8_neg_clusters_41_exclusive, \n",
    "                space = \"cd3_pos_cd8_neg\", \n",
    "                space_name = \"Cd3+ Cd8-\")\n",
    "\n",
    "remove_clusters(B_cell, B_cell_clusters_41_exclusive, \n",
    "                space = \"B_cell\", \n",
    "                space_name = \"B cell\")"
   ]
  },
  {
   "cell_type": "markdown",
   "id": "82b37dc6",
   "metadata": {},
   "source": [
    "## Subclustering specific clusters in each space"
   ]
  },
  {
   "cell_type": "code",
   "execution_count": 2,
   "id": "702d51d9",
   "metadata": {},
   "outputs": [],
   "source": [
    "cd3_pos_cd4_neg<- readRDS(\"./data/objects/cd3_pos_cd4_neg_clusters_removed.rds\")\n",
    "cd3_pos_cd8_neg<- readRDS(\"data/objects/cd3_pos_cd8_neg_clusters_removed.rds\")\n",
    "B_cell<- readRDS(\"data/objects/B_cell_clusters_removed.rds\")"
   ]
  },
  {
   "cell_type": "markdown",
   "id": "31b95b6e",
   "metadata": {},
   "source": [
    "### Subclustering c4 in cd3_pos_cd8_neg"
   ]
  },
  {
   "cell_type": "code",
   "execution_count": null,
   "id": "4f0153e7",
   "metadata": {},
   "outputs": [],
   "source": [
    "cd3_pos_cd8_neg_4<- subset(cd3_pos_cd8_neg, seurat_clusters == \"4\")\n",
    "\n",
    "cd3_pos_cd8_neg_4<- cd3_pos_cd8_neg_4 %>%\n",
    "NormalizeData(normalization.method = \"LogNormalize\", scale.factor = 10000)  %>% \n",
    "FindVariableFeatures(selection.method = \"vst\", nfeatures = 2000)  %>% \n",
    "ScaleData(vars.to.regress = \"percent.mt\") %>% \n",
    "RunPCA(npc = 50) %>%\n",
    "RunHarmony(group.by.vars = \"pool_id\")\n",
    "\n",
    "ElbowPlot(cd3_pos_cd8_neg_4, ndims = 50)\n",
    "\n",
    "cd3_pos_cd8_neg_4 <- cd3_pos_cd8_neg_4  %>% \n",
    "FindNeighbors(reduction = \"harmony\", dims = 1:50) %>%\n",
    "    FindClusters(resolution = 0.05)\n",
    "\n",
    "DimPlot(cd3_pos_cd8_neg_4, reduction = \"umap\", \n",
    "        group.by = \"seurat_clusters\",\n",
    "        pt.size = .1, label = TRUE, \n",
    "        repel = TRUE, order=TRUE, combine = TRUE)\n",
    "\n",
    "ggsave(\"./results/figures/2_cd3_pos_cd8_neg_cluster4_subcluster_umap.pdf\", width = 6, height = 3.5)\n",
    "\n",
    "\n",
    "c4_markers<- presto::wilcoxauc(cd3_pos_cd8_neg_4, 'seurat_clusters', assay = 'data')\n",
    "c4_top_20_markers<- top_markers(c4_markers, n = 20, auc_min = 0.55, pct_in_min = 20, pct_out_max = 20)\n",
    "c4_top_markers_unique<- c4_top_20_markers %>%\n",
    "  select(-rank) %>% \n",
    "  unclass() %>% \n",
    "  stack() %>%\n",
    "  pull(values) %>%\n",
    "  unique() %>%\n",
    "   .[!is.na(.)]\n",
    "\n",
    "c4_top_markers_unique  %>% length()\n",
    "\n",
    "c4_mat<- cd3_pos_cd8_neg_4[[\"RNA\"]]@data[c4_top_markers_unique, ] %>% as.matrix()\n",
    "## scale the rows\n",
    "c4_mat<- t(scale(t(c4_mat)))\n",
    "c4_mat_cluster<- cd3_pos_cd8_neg_4@meta.data$seurat_clusters\n",
    "\n",
    "quantile(c4_mat, c(0.1, 0.5, 0.95))\n",
    "col_fun = circlize::colorRamp2(c(-1, 0, 2), viridis(3))\n",
    "\n",
    "heat_c4<- Heatmap(c4_mat, name = \"Expression\",  \n",
    "        column_split = factor(c4_mat_cluster),\n",
    "        cluster_columns = TRUE,\n",
    "        show_column_dend = FALSE,\n",
    "        cluster_column_slices = TRUE,\n",
    "        column_title_gp = gpar(fontsize = 12),\n",
    "        column_gap = unit(0.5, \"mm\"),\n",
    "        cluster_rows = TRUE,\n",
    "        show_row_dend = FALSE,\n",
    "        col = col_fun,\n",
    "        row_names_gp = gpar(fontsize = 12),\n",
    "        column_title_rot = 90,\n",
    "        top_annotation = HeatmapAnnotation(foo = anno_block(gp = gpar(fill = scales::hue_pal()(22)),\n",
    "                                           labels_gp = gpar(col = \"white\", fontsize = 10))),\n",
    "        show_column_names = FALSE,\n",
    "        use_raster = TRUE,\n",
    "        raster_quality = 4)\n",
    "\n",
    "heat_c4\n",
    "\n",
    "pdf(here(\"results/figures/2_cd3_pos_cd8_neg_cluster4_marker_gene_heatmap.pdf\"), width = 6, height = 8)\n",
    "draw(heat_c4) \n",
    "dev.off()"
   ]
  },
  {
   "cell_type": "code",
   "execution_count": null,
   "id": "00e78c38",
   "metadata": {},
   "outputs": [],
   "source": [
    "cluster_4_idents<- Idents(cd3_pos_cd8_neg_4)\n",
    "cluster_4_a<- names(cluster_4_idents)[cluster_4_idents == 0]\n",
    "cluster_4_b<- names(cluster_4_idents)[cluster_4_idents == 1]\n",
    "\n",
    "cluster_df<- cbind(cd3_pos_cd8_neg@meta.data, barcode = colnames(cd3_pos_cd8_neg)) %>%\n",
    "  mutate(seurat_clusters = as.character(seurat_clusters)) %>%\n",
    "  mutate(seurat_clusters_sub = case_when(\n",
    "    barcode %in% cluster_4_a ~ \"4_a\",\n",
    "    barcode %in% cluster_4_b ~ \"4_b\",   \n",
    "    TRUE ~ seurat_clusters\n",
    "  ))\n",
    "\n",
    "cluster_df$seurat_clusters_sub  %>% table()\n",
    "cluster_df$seurat_clusters  %>% table()"
   ]
  },
  {
   "cell_type": "code",
   "execution_count": null,
   "id": "1431ad13",
   "metadata": {},
   "outputs": [],
   "source": [
    "cd3_pos_cd8_neg_cluster_levels<- cluster_df$seurat_clusters_sub  %>% table() %>% names() %>% str_sort(numeric = TRUE)\n",
    "\n",
    "cd3_pos_cd8_neg$seurat_clusters_old<- cd3_pos_cd8_neg$seurat_clusters\n",
    "\n",
    "\n",
    "cd3_pos_cd8_neg$seurat_clusters <- factor(x = cluster_df$seurat_clusters_sub, \n",
    "                                              levels = cd3_pos_cd8_neg_cluster_levels)\n",
    "\n",
    "cd3_pos_cd8_neg$seurat_clusters_old  %>% table()\n",
    "cd3_pos_cd8_neg$seurat_clusters  %>% table"
   ]
  },
  {
   "cell_type": "code",
   "execution_count": null,
   "id": "3899b8b2",
   "metadata": {},
   "outputs": [],
   "source": [
    "DimPlot(cd3_pos_cd8_neg, reduction = \"umap\", group.by = \"seurat_clusters\",\n",
    "        pt.size = .1, label = TRUE, repel = TRUE, order=TRUE, combine = TRUE)\n",
    "\n",
    "ggsave(\"./results/figures/2_cd3_pos_cd8_neg_subcluster_umap.pdf\", width = 12, height = 8)\n",
    "\n",
    "saveRDS(cd3_pos_cd8_neg, \"./data/objects/cd3_pos_cd8_neg_c4_subclustered.rds\")\n",
    "ExportSeurat(cd3_pos_cd8_neg, \"./data/objects/cd3_pos_cd8_neg_c4_subclustered.bcs\", overwrite=TRUE)"
   ]
  },
  {
   "cell_type": "markdown",
   "id": "c7dd2163",
   "metadata": {},
   "source": [
    "### remove c22 and c25 from cd3_pos_cd8_neg"
   ]
  },
  {
   "cell_type": "code",
   "execution_count": null,
   "id": "6a85a55b",
   "metadata": {},
   "outputs": [],
   "source": [
    "cd3_pos_cd8_neg_clusters<- cd3_pos_cd8_neg$seurat_clusters  %>% table()  %>% names()\n",
    "cd3_pos_cd8_neg_clusters\n",
    "cd3_pos_cd8_neg_new<- cd3_pos_cd8_neg_clusters[-c(length(cd3_pos_cd8_neg_clusters), length(cd3_pos_cd8_neg_clusters)-2)]\n",
    "cd3_pos_cd8_neg_new\n",
    "\n",
    "remove_clusters(cd3_pos_cd8_neg, obj_clusters = cd3_pos_cd8_neg_new, \n",
    "                space = \"cd3_pos_cd8_neg\", fsuffix = \"c22_c25_removed\")"
   ]
  },
  {
   "cell_type": "markdown",
   "id": "727e10ae",
   "metadata": {},
   "source": [
    "### remove c26 c28 c35 from B-cell"
   ]
  },
  {
   "cell_type": "code",
   "execution_count": null,
   "id": "792da60e",
   "metadata": {},
   "outputs": [],
   "source": [
    "all_clusters<- B_cell$seurat_clusters  %>% table()  %>% names()\n",
    "remain_clusters<- all_clusters[!all_clusters %in% c(26,28,35)]\n",
    "remove_clusters(obj = B_cell, obj_clusters = remain_clusters, space = \"B_cell\", fsuffix = \"c26_c28_c35_removed\")"
   ]
  }
 ],
 "metadata": {
  "kernelspec": {
   "display_name": "R",
   "language": "R",
   "name": "ir"
  },
  "language_info": {
   "codemirror_mode": "r",
   "file_extension": ".r",
   "mimetype": "text/x-r-source",
   "name": "R",
   "pygments_lexer": "r",
   "version": "4.1.1"
  }
 },
 "nbformat": 4,
 "nbformat_minor": 5
}
