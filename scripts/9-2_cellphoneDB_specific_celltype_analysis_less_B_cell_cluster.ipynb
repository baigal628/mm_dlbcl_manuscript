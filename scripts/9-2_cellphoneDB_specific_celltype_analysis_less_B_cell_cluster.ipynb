{
 "cells": [
  {
   "cell_type": "code",
   "execution_count": 32,
   "id": "e01b7c54",
   "metadata": {
    "scrolled": true
   },
   "outputs": [
    {
     "data": {
      "text/html": [
       "'/liulab/galib/dlbcl_manuscript'"
      ],
      "text/latex": [
       "'/liulab/galib/dlbcl\\_manuscript'"
      ],
      "text/markdown": [
       "'/liulab/galib/dlbcl_manuscript'"
      ],
      "text/plain": [
       "[1] \"/liulab/galib/dlbcl_manuscript\""
      ]
     },
     "metadata": {},
     "output_type": "display_data"
    }
   ],
   "source": [
    "getwd()\n",
    "setwd(\"/liulab/galib/dlbcl_manuscript/\")\n",
    "library(tidyverse)\n",
    "library(Seurat)\n",
    "library(ktplots)\n",
    "library(ComplexHeatmap)\n",
    "library(circlize)\n",
    "library(Polychrome)\n",
    "library(RColorBrewer)\n",
    "library(pals)\n",
    "source('./scripts/scplot.R')"
   ]
  },
  {
   "cell_type": "code",
   "execution_count": 2,
   "id": "36a80214",
   "metadata": {},
   "outputs": [],
   "source": [
    "# read bcl6 single\n",
    "ph_bcl6_6mos_pvals <- read.delim(\"./data/cellphoneDB/output/bcl6_6mos_out/pvalues.txt\", check.names = FALSE)\n",
    "ph_bcl6_6mos_means <- read.delim(\"./data/cellphoneDB/output/bcl6_6mos_out/means.txt\", check.names = FALSE)\n",
    "ph_bcl6_14mos_pvals <- read.delim(\"./data/cellphoneDB/output/bcl6_14mos_out/pvalues.txt\", check.names = FALSE)\n",
    "ph_bcl6_14mos_means <- read.delim(\"./data/cellphoneDB/output/bcl6_14mos_out/means.txt\", check.names = FALSE)\n",
    "ph_bcl6_18mos_pvals <- read.delim(\"./data/cellphoneDB/output/bcl6_18mos_out/pvalues.txt\", check.names = FALSE)\n",
    "ph_bcl6_18mos_means <- read.delim(\"./data/cellphoneDB/output/bcl6_18mos_out/means.txt\", check.names = FALSE)\n",
    "ph_bcl6_sick_pvals <- read.delim(\"./data/cellphoneDB/output/bcl6_sick_out/pvalues.txt\", check.names = FALSE)\n",
    "ph_bcl6_sick_means <- read.delim(\"./data/cellphoneDB/output/bcl6_sick_out/means.txt\", check.names = FALSE)\n",
    "\n",
    "# read bcl6 cd70 double\n",
    "ph_bcl6_double_6mos_pvals <- read.delim(\"./data/cellphoneDB/output/bcl6_double_6mos_out/pvalues.txt\", check.names = FALSE)\n",
    "ph_bcl6_double_6mos_means <- read.delim(\"./data/cellphoneDB/output/bcl6_double_6mos_out/means.txt\", check.names = FALSE)\n",
    "ph_bcl6_double_14mos_pvals <- read.delim(\"./data/cellphoneDB/output/bcl6_double_14mos_out/pvalues.txt\", check.names = FALSE)\n",
    "ph_bcl6_double_14mos_means <- read.delim(\"./data/cellphoneDB/output/bcl6_double_14mos_out/means.txt\", check.names = FALSE)\n",
    "ph_bcl6_double_18mos_pvals <- read.delim(\"./data/cellphoneDB/output/bcl6_double_18mos_out/pvalues.txt\", check.names = FALSE)\n",
    "ph_bcl6_double_18mos_means <- read.delim(\"./data/cellphoneDB/output/bcl6_double_18mos_out/means.txt\", check.names = FALSE)\n",
    "ph_bcl6_double_sick_pvals <- read.delim(\"./data/cellphoneDB/output/bcl6_double_sick_out/pvalues.txt\", check.names = FALSE)\n",
    "ph_bcl6_double_sick_means <- read.delim(\"./data/cellphoneDB/output/bcl6_double_sick_out/means.txt\", check.names = FALSE)\n",
    "\n",
    "# read wt\n",
    "ph_wt_6mos_pvals <- read.delim(\"./data/cellphoneDB/output/wt_6mos_out/pvalues.txt\", check.names = FALSE)\n",
    "ph_wt_6mos_means <- read.delim(\"./data/cellphoneDB/output/wt_6mos_out/means.txt\", check.names = FALSE)\n",
    "ph_wt_14mos_pvals <- read.delim(\"./data/cellphoneDB/output/wt_14mos_out/pvalues.txt\", check.names = FALSE)\n",
    "ph_wt_14mos_means <- read.delim(\"./data/cellphoneDB/output/wt_14mos_out/means.txt\", check.names = FALSE)\n",
    "ph_wt_18mos_pvals <- read.delim(\"./data/cellphoneDB/output/wt_18mos_out/pvalues.txt\", check.names = FALSE)\n",
    "ph_wt_18mos_means <- read.delim(\"./data/cellphoneDB/output/wt_18mos_out/means.txt\", check.names = FALSE)"
   ]
  },
  {
   "cell_type": "code",
   "execution_count": 19,
   "id": "16e22d60",
   "metadata": {},
   "outputs": [],
   "source": [
    "cd3_pos_cd8_neg<- readRDS(\"./data/objects/cd3_pos_cd8_neg_final.rds\")\n",
    "B_cell<- readRDS(\"./data/objects/B_cell_final.rds\")"
   ]
  },
  {
   "cell_type": "code",
   "execution_count": null,
   "id": "103f9ef9",
   "metadata": {},
   "outputs": [],
   "source": [
    "# CD4 CTLs (C1, C4a, C6, C13) vs B cells in clusters: \n",
    "# Aged/autoimmune (C7, C8)\n",
    "# Innate-like (C4, C5)\n",
    "# Cycling (C18, C19, C21)\n",
    "\n",
    "\n",
    "# CD4 Tregs (C3, C7, C10) vs B cells in clusters: \n",
    "# Aged/autoimmune (C7, C8)\n",
    "# Innate-like (C4, C5)\n",
    "# Cycling (C18, C19, C21)\n",
    "# For WT, Bcl6 and Double at 6, 14 and 18 mos + sick.\n",
    "\n",
    "\n",
    "# cellphoneDB_obj$new_annotation<- paste0(cellphoneDB_obj@meta.data$space, \"_\",cellphoneDB_obj@meta.data$annotation)"
   ]
  },
  {
   "cell_type": "code",
   "execution_count": 23,
   "id": "2bac9910",
   "metadata": {},
   "outputs": [
    {
     "data": {
      "text/html": [
       "<table class=\"dataframe\">\n",
       "<caption>A data.frame: 4 × 2</caption>\n",
       "<thead>\n",
       "\t<tr><th></th><th scope=col>seurat_clusters</th><th scope=col>annotation</th></tr>\n",
       "\t<tr><th></th><th scope=col>&lt;fct&gt;</th><th scope=col>&lt;fct&gt;</th></tr>\n",
       "</thead>\n",
       "<tbody>\n",
       "\t<tr><th scope=row>Pool105_17-AACTCTTTCGGCGCAT-1</th><td>6 </td><td>Activated CTLs      </td></tr>\n",
       "\t<tr><th scope=row>Pool105_17-AAGGAGCCAGATCCAT-1</th><td>1 </td><td>Exhausted CTLs      </td></tr>\n",
       "\t<tr><th scope=row>Pool105_17-ACCCACTTCAAACAAG-1</th><td>13</td><td>Early activated CTLs</td></tr>\n",
       "\t<tr><th scope=row>Pool105_17-ACTTGTTAGTCTCCTC-1</th><td>4a</td><td>Exhausted CTLs      </td></tr>\n",
       "</tbody>\n",
       "</table>\n"
      ],
      "text/latex": [
       "A data.frame: 4 × 2\n",
       "\\begin{tabular}{r|ll}\n",
       "  & seurat\\_clusters & annotation\\\\\n",
       "  & <fct> & <fct>\\\\\n",
       "\\hline\n",
       "\tPool105\\_17-AACTCTTTCGGCGCAT-1 & 6  & Activated CTLs      \\\\\n",
       "\tPool105\\_17-AAGGAGCCAGATCCAT-1 & 1  & Exhausted CTLs      \\\\\n",
       "\tPool105\\_17-ACCCACTTCAAACAAG-1 & 13 & Early activated CTLs\\\\\n",
       "\tPool105\\_17-ACTTGTTAGTCTCCTC-1 & 4a & Exhausted CTLs      \\\\\n",
       "\\end{tabular}\n"
      ],
      "text/markdown": [
       "\n",
       "A data.frame: 4 × 2\n",
       "\n",
       "| <!--/--> | seurat_clusters &lt;fct&gt; | annotation &lt;fct&gt; |\n",
       "|---|---|---|\n",
       "| Pool105_17-AACTCTTTCGGCGCAT-1 | 6  | Activated CTLs       |\n",
       "| Pool105_17-AAGGAGCCAGATCCAT-1 | 1  | Exhausted CTLs       |\n",
       "| Pool105_17-ACCCACTTCAAACAAG-1 | 13 | Early activated CTLs |\n",
       "| Pool105_17-ACTTGTTAGTCTCCTC-1 | 4a | Exhausted CTLs       |\n",
       "\n"
      ],
      "text/plain": [
       "                              seurat_clusters annotation          \n",
       "Pool105_17-AACTCTTTCGGCGCAT-1 6               Activated CTLs      \n",
       "Pool105_17-AAGGAGCCAGATCCAT-1 1               Exhausted CTLs      \n",
       "Pool105_17-ACCCACTTCAAACAAG-1 13              Early activated CTLs\n",
       "Pool105_17-ACTTGTTAGTCTCCTC-1 4a              Exhausted CTLs      "
      ]
     },
     "metadata": {},
     "output_type": "display_data"
    }
   ],
   "source": [
    "cd3_pos_cd8_neg@meta.data  %>% \n",
    "    distinct(seurat_clusters, annotation)  %>% \n",
    "    filter(seurat_clusters %in% c(1,'4a',6,13))"
   ]
  },
  {
   "cell_type": "code",
   "execution_count": 8,
   "id": "7beee611",
   "metadata": {
    "scrolled": true
   },
   "outputs": [
    {
     "data": {
      "text/html": [
       "<table class=\"dataframe\">\n",
       "<caption>A data.frame: 7 × 2</caption>\n",
       "<thead>\n",
       "\t<tr><th></th><th scope=col>seurat_clusters</th><th scope=col>annotation</th></tr>\n",
       "\t<tr><th></th><th scope=col>&lt;fct&gt;</th><th scope=col>&lt;fct&gt;</th></tr>\n",
       "</thead>\n",
       "<tbody>\n",
       "\t<tr><th scope=row>Pool105_17-AAACGGGCACCCAGTG-1</th><td>4 </td><td>Atypical CD21-CD23-      </td></tr>\n",
       "\t<tr><th scope=row>Pool105_17-AAAGTAGGTGGACGAT-1</th><td>8 </td><td>Age-associated/autoimmune</td></tr>\n",
       "\t<tr><th scope=row>Pool105_17-AACACGTTCTGGGCCA-1</th><td>7 </td><td>Age-associated/autoimmune</td></tr>\n",
       "\t<tr><th scope=row>Pool105_17-AACTGGTGTAAGCACG-1</th><td>5 </td><td>Atypical Marginal Zone   </td></tr>\n",
       "\t<tr><th scope=row>Pool105_17-AAGGTTCAGGCTAGCA-1</th><td>18</td><td>Cycling MHCII low        </td></tr>\n",
       "\t<tr><th scope=row>Pool105_17-ACACCAATCAAGCCTA-1</th><td>19</td><td>Cycling MHCII low        </td></tr>\n",
       "\t<tr><th scope=row>Pool105_17-ACACCCTGTTGATTCG-1</th><td>21</td><td>Cycling MHCII low        </td></tr>\n",
       "</tbody>\n",
       "</table>\n"
      ],
      "text/latex": [
       "A data.frame: 7 × 2\n",
       "\\begin{tabular}{r|ll}\n",
       "  & seurat\\_clusters & annotation\\\\\n",
       "  & <fct> & <fct>\\\\\n",
       "\\hline\n",
       "\tPool105\\_17-AAACGGGCACCCAGTG-1 & 4  & Atypical CD21-CD23-      \\\\\n",
       "\tPool105\\_17-AAAGTAGGTGGACGAT-1 & 8  & Age-associated/autoimmune\\\\\n",
       "\tPool105\\_17-AACACGTTCTGGGCCA-1 & 7  & Age-associated/autoimmune\\\\\n",
       "\tPool105\\_17-AACTGGTGTAAGCACG-1 & 5  & Atypical Marginal Zone   \\\\\n",
       "\tPool105\\_17-AAGGTTCAGGCTAGCA-1 & 18 & Cycling MHCII low        \\\\\n",
       "\tPool105\\_17-ACACCAATCAAGCCTA-1 & 19 & Cycling MHCII low        \\\\\n",
       "\tPool105\\_17-ACACCCTGTTGATTCG-1 & 21 & Cycling MHCII low        \\\\\n",
       "\\end{tabular}\n"
      ],
      "text/markdown": [
       "\n",
       "A data.frame: 7 × 2\n",
       "\n",
       "| <!--/--> | seurat_clusters &lt;fct&gt; | annotation &lt;fct&gt; |\n",
       "|---|---|---|\n",
       "| Pool105_17-AAACGGGCACCCAGTG-1 | 4  | Atypical CD21-CD23-       |\n",
       "| Pool105_17-AAAGTAGGTGGACGAT-1 | 8  | Age-associated/autoimmune |\n",
       "| Pool105_17-AACACGTTCTGGGCCA-1 | 7  | Age-associated/autoimmune |\n",
       "| Pool105_17-AACTGGTGTAAGCACG-1 | 5  | Atypical Marginal Zone    |\n",
       "| Pool105_17-AAGGTTCAGGCTAGCA-1 | 18 | Cycling MHCII low         |\n",
       "| Pool105_17-ACACCAATCAAGCCTA-1 | 19 | Cycling MHCII low         |\n",
       "| Pool105_17-ACACCCTGTTGATTCG-1 | 21 | Cycling MHCII low         |\n",
       "\n"
      ],
      "text/plain": [
       "                              seurat_clusters annotation               \n",
       "Pool105_17-AAACGGGCACCCAGTG-1 4               Atypical CD21-CD23-      \n",
       "Pool105_17-AAAGTAGGTGGACGAT-1 8               Age-associated/autoimmune\n",
       "Pool105_17-AACACGTTCTGGGCCA-1 7               Age-associated/autoimmune\n",
       "Pool105_17-AACTGGTGTAAGCACG-1 5               Atypical Marginal Zone   \n",
       "Pool105_17-AAGGTTCAGGCTAGCA-1 18              Cycling MHCII low        \n",
       "Pool105_17-ACACCAATCAAGCCTA-1 19              Cycling MHCII low        \n",
       "Pool105_17-ACACCCTGTTGATTCG-1 21              Cycling MHCII low        "
      ]
     },
     "metadata": {},
     "output_type": "display_data"
    }
   ],
   "source": [
    "B_cell@meta.data  %>% \n",
    "    distinct(seurat_clusters, annotation)  %>% \n",
    "    filter(seurat_clusters %in% c(4,5,7,8,18,19,21))"
   ]
  },
  {
   "cell_type": "code",
   "execution_count": null,
   "id": "12cf59e4",
   "metadata": {},
   "outputs": [],
   "source": [
    "cd3_pos_cd8_neg_CTLs_clusters<- c(\"cd3_pos_cd8_neg_CTLs\")\n",
    "cd3_pos_cd8_neg_Tregs_clusters<- c(\"cd3_pos_cd8_neg_Tregs\")\n",
    "\n",
    "B_cell_clusters<- c(\"B_cell_Atypical\", \"B_cell_Age-associated/autoimmune\", \"B_cell_Cycling\")"
   ]
  },
  {
   "cell_type": "markdown",
   "id": "3ee2a250",
   "metadata": {},
   "source": [
    "## cd3_pos_cd8_neg_CTLs vs B_cell"
   ]
  },
  {
   "cell_type": "code",
   "execution_count": 25,
   "id": "a70e3de4",
   "metadata": {},
   "outputs": [
    {
     "data": {
      "text/html": [
       "<style>\n",
       ".list-inline {list-style: none; margin:0; padding: 0}\n",
       ".list-inline>li {display: inline-block}\n",
       ".list-inline>li:not(:last-child)::after {content: \"\\00b7\"; padding: 0 .5ex}\n",
       "</style>\n",
       "<ol class=list-inline><li>'cd3_pos_cd8_neg_CTLs|B_cell_Atypical'</li><li>'cd3_pos_cd8_neg_CTLs|B_cell_Age-associated/autoimmune'</li><li>'cd3_pos_cd8_neg_CTLs|B_cell_Cycling'</li></ol>\n"
      ],
      "text/latex": [
       "\\begin{enumerate*}\n",
       "\\item 'cd3\\_pos\\_cd8\\_neg\\_CTLs\\textbar{}B\\_cell\\_Atypical'\n",
       "\\item 'cd3\\_pos\\_cd8\\_neg\\_CTLs\\textbar{}B\\_cell\\_Age-associated/autoimmune'\n",
       "\\item 'cd3\\_pos\\_cd8\\_neg\\_CTLs\\textbar{}B\\_cell\\_Cycling'\n",
       "\\end{enumerate*}\n"
      ],
      "text/markdown": [
       "1. 'cd3_pos_cd8_neg_CTLs|B_cell_Atypical'\n",
       "2. 'cd3_pos_cd8_neg_CTLs|B_cell_Age-associated/autoimmune'\n",
       "3. 'cd3_pos_cd8_neg_CTLs|B_cell_Cycling'\n",
       "\n",
       "\n"
      ],
      "text/plain": [
       "[1] \"cd3_pos_cd8_neg_CTLs|B_cell_Atypical\"                 \n",
       "[2] \"cd3_pos_cd8_neg_CTLs|B_cell_Age-associated/autoimmune\"\n",
       "[3] \"cd3_pos_cd8_neg_CTLs|B_cell_Cycling\"                  "
      ]
     },
     "metadata": {},
     "output_type": "display_data"
    },
    {
     "data": {
      "text/html": [
       "TRUE"
      ],
      "text/latex": [
       "TRUE"
      ],
      "text/markdown": [
       "TRUE"
      ],
      "text/plain": [
       "[1] TRUE"
      ]
     },
     "metadata": {},
     "output_type": "display_data"
    },
    {
     "data": {
      "text/html": [
       "<style>\n",
       ".list-inline {list-style: none; margin:0; padding: 0}\n",
       ".list-inline>li {display: inline-block}\n",
       ".list-inline>li:not(:last-child)::after {content: \"\\00b7\"; padding: 0 .5ex}\n",
       "</style>\n",
       "<ol class=list-inline><li>'B_cell_Atypical|cd3_pos_cd8_neg_CTLs'</li><li>'B_cell_Age-associated/autoimmune|cd3_pos_cd8_neg_CTLs'</li><li>'B_cell_Cycling|cd3_pos_cd8_neg_CTLs'</li></ol>\n"
      ],
      "text/latex": [
       "\\begin{enumerate*}\n",
       "\\item 'B\\_cell\\_Atypical\\textbar{}cd3\\_pos\\_cd8\\_neg\\_CTLs'\n",
       "\\item 'B\\_cell\\_Age-associated/autoimmune\\textbar{}cd3\\_pos\\_cd8\\_neg\\_CTLs'\n",
       "\\item 'B\\_cell\\_Cycling\\textbar{}cd3\\_pos\\_cd8\\_neg\\_CTLs'\n",
       "\\end{enumerate*}\n"
      ],
      "text/markdown": [
       "1. 'B_cell_Atypical|cd3_pos_cd8_neg_CTLs'\n",
       "2. 'B_cell_Age-associated/autoimmune|cd3_pos_cd8_neg_CTLs'\n",
       "3. 'B_cell_Cycling|cd3_pos_cd8_neg_CTLs'\n",
       "\n",
       "\n"
      ],
      "text/plain": [
       "[1] \"B_cell_Atypical|cd3_pos_cd8_neg_CTLs\"                 \n",
       "[2] \"B_cell_Age-associated/autoimmune|cd3_pos_cd8_neg_CTLs\"\n",
       "[3] \"B_cell_Cycling|cd3_pos_cd8_neg_CTLs\"                  "
      ]
     },
     "metadata": {},
     "output_type": "display_data"
    },
    {
     "data": {
      "text/html": [
       "TRUE"
      ],
      "text/latex": [
       "TRUE"
      ],
      "text/markdown": [
       "TRUE"
      ],
      "text/plain": [
       "[1] TRUE"
      ]
     },
     "metadata": {},
     "output_type": "display_data"
    }
   ],
   "source": [
    "cd3_pos_cd8_neg_CTLs_B_cell_interacts<- c()\n",
    "B_cell_cd3_pos_cd8_neg_CTLs_interacts<- c()\n",
    "\n",
    "for (c1 in cd3_pos_cd8_neg_CTLs_clusters){\n",
    "    for (c2 in B_cell_clusters){\n",
    "        \n",
    "        interact<- paste0(c1, \"|\", c2)\n",
    "        inverse_interact<- paste0(c2, \"|\", c1)\n",
    "        \n",
    "        cd3_pos_cd8_neg_CTLs_B_cell_interacts<- c(cd3_pos_cd8_neg_CTLs_B_cell_interacts, interact)\n",
    "        B_cell_cd3_pos_cd8_neg_CTLs_interacts<- c(B_cell_cd3_pos_cd8_neg_CTLs_interacts, inverse_interact)\n",
    "    }\n",
    "}\n",
    "\n",
    "cd3_pos_cd8_neg_CTLs_B_cell_interacts\n",
    "sum(colnames(ph_wt_6mos_pvals) %in% cd3_pos_cd8_neg_CTLs_B_cell_interacts) == length(cd3_pos_cd8_neg_CTLs_B_cell_interacts)\n",
    "\n",
    "B_cell_cd3_pos_cd8_neg_CTLs_interacts\n",
    "sum(colnames(ph_wt_6mos_pvals) %in% B_cell_cd3_pos_cd8_neg_CTLs_interacts) == length(B_cell_cd3_pos_cd8_neg_CTLs_interacts)"
   ]
  },
  {
   "cell_type": "code",
   "execution_count": 26,
   "id": "0edaa9d2",
   "metadata": {
    "scrolled": true
   },
   "outputs": [
    {
     "name": "stderr",
     "output_type": "stream",
     "text": [
      "total number of intersections considered: 26\n",
      "\n",
      "6 mos...\n",
      "\n",
      "14 mos...\n",
      "\n",
      "18 mos...\n",
      "\n",
      "sick...\n",
      "\n",
      "Generating count matrix...\n",
      "\n",
      "Generating pvalue matrix...\n",
      "\n",
      "output unscaled data\n",
      "\n",
      "total number of intersections considered: 23\n",
      "\n",
      "6 mos...\n",
      "\n",
      "14 mos...\n",
      "\n",
      "18 mos...\n",
      "\n",
      "sick...\n",
      "\n",
      "Generating count matrix...\n",
      "\n",
      "Generating pvalue matrix...\n",
      "\n",
      "output unscaled data\n",
      "\n",
      "total number of intersections considered: 20\n",
      "\n",
      "6 mos...\n",
      "\n",
      "14 mos...\n",
      "\n",
      "18 mos...\n",
      "\n",
      "sick...\n",
      "\n",
      "Generating count matrix...\n",
      "\n",
      "Generating pvalue matrix...\n",
      "\n",
      "output unscaled data\n",
      "\n",
      "total number of intersections considered: 20\n",
      "\n",
      "6 mos...\n",
      "\n",
      "14 mos...\n",
      "\n",
      "18 mos...\n",
      "\n",
      "sick...\n",
      "\n",
      "Generating count matrix...\n",
      "\n",
      "Generating pvalue matrix...\n",
      "\n",
      "output unscaled data\n",
      "\n",
      "total number of intersections considered: 21\n",
      "\n",
      "6 mos...\n",
      "\n",
      "14 mos...\n",
      "\n",
      "18 mos...\n",
      "\n",
      "Generating count matrix...\n",
      "\n",
      "Generating pvalue matrix...\n",
      "\n",
      "output unscaled data\n",
      "\n",
      "total number of intersections considered: 19\n",
      "\n",
      "6 mos...\n",
      "\n",
      "14 mos...\n",
      "\n",
      "18 mos...\n",
      "\n",
      "Generating count matrix...\n",
      "\n",
      "Generating pvalue matrix...\n",
      "\n",
      "output unscaled data\n",
      "\n"
     ]
    }
   ],
   "source": [
    "cd3_pos_cd8_neg_B_cell_mtx_bcl6 = build_cpdb_mtx(cols = cd3_pos_cd8_neg_CTLs_B_cell_interacts,\n",
    "                                            scaled = FALSE,\n",
    "                                            sig.cellpairs = 3,\n",
    "                                            sig.timepoint = 1,  \n",
    "                                            group_name = \"_bcl6\",\n",
    "                                            ph_6mos_pvals = ph_bcl6_6mos_pvals,\n",
    "                                            ph_6mos_means = ph_bcl6_6mos_means,\n",
    "                                            ph_14mos_pvals = ph_bcl6_14mos_pvals,\n",
    "                                            ph_14mos_means = ph_bcl6_14mos_means,\n",
    "                                            ph_18mos_pvals = ph_bcl6_18mos_pvals,\n",
    "                                            ph_18mos_means = ph_bcl6_18mos_means,\n",
    "                                            ph_sick_pvals = ph_bcl6_sick_pvals,\n",
    "                                            ph_sick_means = ph_bcl6_sick_means)\n",
    "\n",
    "B_cell_cd3_pos_cd8_neg_mtx_bcl6 = build_cpdb_mtx(cols = B_cell_cd3_pos_cd8_neg_CTLs_interacts, \n",
    "                                            scaled = FALSE,\n",
    "                                            sig.cellpairs = 3,\n",
    "                                            sig.timepoint = 1,  \n",
    "                                            group_name = \"_bcl6\",\n",
    "                                            ph_6mos_pvals = ph_bcl6_6mos_pvals,\n",
    "                                            ph_6mos_means = ph_bcl6_6mos_means,\n",
    "                                            ph_14mos_pvals = ph_bcl6_14mos_pvals,\n",
    "                                            ph_14mos_means = ph_bcl6_14mos_means,\n",
    "                                            ph_18mos_pvals = ph_bcl6_18mos_pvals,\n",
    "                                            ph_18mos_means = ph_bcl6_18mos_means,\n",
    "                                            ph_sick_pvals = ph_bcl6_sick_pvals,\n",
    "                                            ph_sick_means = ph_bcl6_sick_means)\n",
    "\n",
    "cd3_pos_cd8_neg_B_cell_mtx_bcl6_double = build_cpdb_mtx(cols = cd3_pos_cd8_neg_CTLs_B_cell_interacts,\n",
    "                                            scaled = FALSE,\n",
    "                                            group_name = \"_bcl6_double\",\n",
    "                                            sig.cellpairs = 3,\n",
    "                                            sig.timepoint = 1, \n",
    "                                            ph_6mos_pvals = ph_bcl6_double_6mos_pvals,\n",
    "                                            ph_6mos_means = ph_bcl6_double_6mos_means,\n",
    "                                            ph_14mos_pvals = ph_bcl6_double_14mos_pvals,\n",
    "                                            ph_14mos_means = ph_bcl6_double_14mos_means,\n",
    "                                            ph_18mos_pvals = ph_bcl6_double_18mos_pvals,\n",
    "                                            ph_18mos_means = ph_bcl6_double_18mos_means,\n",
    "                                            ph_sick_pvals = ph_bcl6_double_sick_pvals,\n",
    "                                            ph_sick_means = ph_bcl6_double_sick_means)\n",
    "\n",
    "B_cell_cd3_pos_cd8_neg_mtx_bcl6_double = build_cpdb_mtx(cols = B_cell_cd3_pos_cd8_neg_CTLs_interacts, \n",
    "                                            scaled = FALSE,\n",
    "                                            group_name = \"_bcl6_double\",\n",
    "                                            sig.cellpairs = 3,\n",
    "                                            sig.timepoint = 1, \n",
    "                                            ph_6mos_pvals = ph_bcl6_double_6mos_pvals,\n",
    "                                            ph_6mos_means = ph_bcl6_double_6mos_means,\n",
    "                                            ph_14mos_pvals = ph_bcl6_double_14mos_pvals,\n",
    "                                            ph_14mos_means = ph_bcl6_double_14mos_means,\n",
    "                                            ph_18mos_pvals = ph_bcl6_double_18mos_pvals,\n",
    "                                            ph_18mos_means = ph_bcl6_double_18mos_means,\n",
    "                                            ph_sick_pvals = ph_bcl6_double_sick_pvals,\n",
    "                                            ph_sick_means = ph_bcl6_double_sick_means)\n",
    "\n",
    "cd3_pos_cd8_neg_B_cell_mtx_wt = build_cpdb_mtx_wt(cols = cd3_pos_cd8_neg_CTLs_B_cell_interacts,\n",
    "                                            scaled = FALSE,\n",
    "                                            group_name = \"_wt\",\n",
    "                                            sig.cellpairs = 3,\n",
    "                                            sig.timepoint = 1, \n",
    "                                            ph_6mos_pvals = ph_wt_6mos_pvals,\n",
    "                                            ph_6mos_means = ph_wt_6mos_means,\n",
    "                                            ph_14mos_pvals = ph_wt_14mos_pvals,\n",
    "                                            ph_14mos_means = ph_wt_14mos_means,\n",
    "                                            ph_18mos_pvals = ph_wt_18mos_pvals,\n",
    "                                            ph_18mos_means = ph_wt_18mos_means)\n",
    "\n",
    "B_cell_cd3_pos_cd8_neg_mtx_wt = build_cpdb_mtx_wt(cols = B_cell_cd3_pos_cd8_neg_CTLs_interacts, \n",
    "                                            scaled = FALSE,\n",
    "                                            group_name = \"_wt\",\n",
    "                                            sig.cellpairs = 3,\n",
    "                                            sig.timepoint = 1, \n",
    "                                            ph_6mos_pvals = ph_wt_6mos_pvals,\n",
    "                                            ph_6mos_means = ph_wt_6mos_means,\n",
    "                                            ph_14mos_pvals = ph_wt_14mos_pvals,\n",
    "                                            ph_14mos_means = ph_wt_14mos_means,\n",
    "                                            ph_18mos_pvals = ph_wt_18mos_pvals,\n",
    "                                            ph_18mos_means = ph_wt_18mos_means)\n",
    "\n",
    "\n",
    "cd3_pos_cd8_neg_CTLs_B_cell_mtx<- merge_mtx(cd3_pos_cd8_neg_B_cell_mtx_wt, cd3_pos_cd8_neg_B_cell_mtx_bcl6, cd3_pos_cd8_neg_B_cell_mtx_bcl6_double)\n",
    "B_cell_cd3_pos_cd8_neg_CTLs_mtx<- merge_mtx(B_cell_cd3_pos_cd8_neg_mtx_wt, B_cell_cd3_pos_cd8_neg_mtx_bcl6, B_cell_cd3_pos_cd8_neg_mtx_bcl6_double)\n",
    "\n",
    "hp1 = plt_cpdb_dotplot_with_sick(exp_mtx = cd3_pos_cd8_neg_CTLs_B_cell_mtx$exp_mtx, \n",
    "                       pval_mtx = cd3_pos_cd8_neg_CTLs_B_cell_mtx$pval_mtx)\n",
    "hp2 = plt_cpdb_dotplot_with_sick(exp_mtx = B_cell_cd3_pos_cd8_neg_CTLs_mtx$exp_mtx, \n",
    "                       pval_mtx = B_cell_cd3_pos_cd8_neg_CTLs_mtx$pval_mtx)\n",
    "\n",
    "pdf(\"./results/figures/9-2_Dotplot_cd3_pos_cd8_neg_CTLs_B_cell_wt_bcl6_and_bcl6_double_cell3_time1_genotype1.pdf\", width = 12, height = 10)\n",
    "draw(hp1, annotation_legend_list = lgd, ht_gap = unit(1, \"cm\"))\n",
    "dev.off()\n",
    "\n",
    "pdf(\"./results/figures/9-2_Dotplot_B_cell_cd3_pos_cd8_neg_CTLs_wt_bcl6_and_bcl6_double_cell3_time1_genotype1.pdf\", width = 12, height = 10)\n",
    "draw(hp2, annotation_legend_list = lgd, ht_gap = unit(1, \"cm\"))\n",
    "dev.off()"
   ]
  },
  {
   "cell_type": "code",
   "execution_count": 33,
   "id": "af95e5b2",
   "metadata": {},
   "outputs": [
    {
     "name": "stderr",
     "output_type": "stream",
     "text": [
      "total number of intersections considered: 40\n",
      "\n",
      "6 mos...\n",
      "\n",
      "14 mos...\n",
      "\n",
      "18 mos...\n",
      "\n",
      "sick...\n",
      "\n",
      "Generating count matrix...\n",
      "\n",
      "Generating pvalue matrix...\n",
      "\n",
      "output unscaled data\n",
      "\n",
      "total number of intersections considered: 48\n",
      "\n",
      "6 mos...\n",
      "\n",
      "14 mos...\n",
      "\n",
      "18 mos...\n",
      "\n",
      "sick...\n",
      "\n",
      "Generating count matrix...\n",
      "\n",
      "Generating pvalue matrix...\n",
      "\n",
      "output unscaled data\n",
      "\n",
      "total number of intersections considered: 40\n",
      "\n",
      "6 mos...\n",
      "\n",
      "14 mos...\n",
      "\n",
      "18 mos...\n",
      "\n",
      "sick...\n",
      "\n",
      "Generating count matrix...\n",
      "\n",
      "Generating pvalue matrix...\n",
      "\n",
      "output unscaled data\n",
      "\n",
      "total number of intersections considered: 45\n",
      "\n",
      "6 mos...\n",
      "\n",
      "14 mos...\n",
      "\n",
      "18 mos...\n",
      "\n",
      "sick...\n",
      "\n",
      "Generating count matrix...\n",
      "\n",
      "Generating pvalue matrix...\n",
      "\n",
      "output unscaled data\n",
      "\n",
      "total number of intersections considered: 44\n",
      "\n",
      "6 mos...\n",
      "\n",
      "14 mos...\n",
      "\n",
      "18 mos...\n",
      "\n",
      "Generating count matrix...\n",
      "\n",
      "Generating pvalue matrix...\n",
      "\n",
      "output unscaled data\n",
      "\n",
      "total number of intersections considered: 38\n",
      "\n",
      "6 mos...\n",
      "\n",
      "14 mos...\n",
      "\n",
      "18 mos...\n",
      "\n",
      "Generating count matrix...\n",
      "\n",
      "Generating pvalue matrix...\n",
      "\n",
      "output unscaled data\n",
      "\n",
      "wt...\n",
      "\n",
      "bcl6...\n",
      "\n",
      "bcl6 double...\n",
      "\n"
     ]
    },
    {
     "name": "stdout",
     "output_type": "stream",
     "text": [
      "[1] NA NA\n"
     ]
    },
    {
     "name": "stderr",
     "output_type": "stream",
     "text": [
      "TRUE\n",
      "\n",
      "scaling the count matrix\n",
      "\n",
      "wt...\n",
      "\n",
      "bcl6...\n",
      "\n",
      "bcl6 double...\n",
      "\n"
     ]
    },
    {
     "name": "stdout",
     "output_type": "stream",
     "text": [
      "[1] NA NA\n"
     ]
    },
    {
     "name": "stderr",
     "output_type": "stream",
     "text": [
      "TRUE\n",
      "\n",
      "scaling the count matrix\n",
      "\n",
      "quantile: -1.1087756153354-0.3253213656421291.91819397336388\n",
      "\n",
      "12129\n",
      "\n",
      "9996\n",
      "\n",
      "quantile: -1.16205336670373-0.183710169412131.79918673420415\n",
      "\n",
      "12129\n",
      "\n",
      "9996\n",
      "\n"
     ]
    },
    {
     "data": {
      "text/html": [
       "<strong>png:</strong> 2"
      ],
      "text/latex": [
       "\\textbf{png:} 2"
      ],
      "text/markdown": [
       "**png:** 2"
      ],
      "text/plain": [
       "png \n",
       "  2 "
      ]
     },
     "metadata": {},
     "output_type": "display_data"
    },
    {
     "data": {
      "text/html": [
       "<strong>png:</strong> 2"
      ],
      "text/latex": [
       "\\textbf{png:} 2"
      ],
      "text/markdown": [
       "**png:** 2"
      ],
      "text/plain": [
       "png \n",
       "  2 "
      ]
     },
     "metadata": {},
     "output_type": "display_data"
    }
   ],
   "source": [
    "cd3_pos_cd8_neg_B_cell_mtx_bcl6 = build_cpdb_mtx(cols = cd3_pos_cd8_neg_CTLs_B_cell_interacts,\n",
    "                                            scaled = FALSE,\n",
    "                                            sig.cellpairs = 1,\n",
    "                                            sig.timepoint = 1,  \n",
    "                                            group_name = \"_bcl6\",\n",
    "                                            ph_6mos_pvals = ph_bcl6_6mos_pvals,\n",
    "                                            ph_6mos_means = ph_bcl6_6mos_means,\n",
    "                                            ph_14mos_pvals = ph_bcl6_14mos_pvals,\n",
    "                                            ph_14mos_means = ph_bcl6_14mos_means,\n",
    "                                            ph_18mos_pvals = ph_bcl6_18mos_pvals,\n",
    "                                            ph_18mos_means = ph_bcl6_18mos_means,\n",
    "                                            ph_sick_pvals = ph_bcl6_sick_pvals,\n",
    "                                            ph_sick_means = ph_bcl6_sick_means)\n",
    "\n",
    "B_cell_cd3_pos_cd8_neg_mtx_bcl6 = build_cpdb_mtx(cols = B_cell_cd3_pos_cd8_neg_CTLs_interacts, \n",
    "                                            scaled = FALSE,\n",
    "                                            sig.cellpairs = 1,\n",
    "                                            sig.timepoint = 1,  \n",
    "                                            group_name = \"_bcl6\",\n",
    "                                            ph_6mos_pvals = ph_bcl6_6mos_pvals,\n",
    "                                            ph_6mos_means = ph_bcl6_6mos_means,\n",
    "                                            ph_14mos_pvals = ph_bcl6_14mos_pvals,\n",
    "                                            ph_14mos_means = ph_bcl6_14mos_means,\n",
    "                                            ph_18mos_pvals = ph_bcl6_18mos_pvals,\n",
    "                                            ph_18mos_means = ph_bcl6_18mos_means,\n",
    "                                            ph_sick_pvals = ph_bcl6_sick_pvals,\n",
    "                                            ph_sick_means = ph_bcl6_sick_means)\n",
    "\n",
    "cd3_pos_cd8_neg_B_cell_mtx_bcl6_double = build_cpdb_mtx(cols = cd3_pos_cd8_neg_CTLs_B_cell_interacts,\n",
    "                                            scaled = FALSE,\n",
    "                                            group_name = \"_bcl6_double\",\n",
    "                                            sig.cellpairs = 1,\n",
    "                                            sig.timepoint = 1, \n",
    "                                            ph_6mos_pvals = ph_bcl6_double_6mos_pvals,\n",
    "                                            ph_6mos_means = ph_bcl6_double_6mos_means,\n",
    "                                            ph_14mos_pvals = ph_bcl6_double_14mos_pvals,\n",
    "                                            ph_14mos_means = ph_bcl6_double_14mos_means,\n",
    "                                            ph_18mos_pvals = ph_bcl6_double_18mos_pvals,\n",
    "                                            ph_18mos_means = ph_bcl6_double_18mos_means,\n",
    "                                            ph_sick_pvals = ph_bcl6_double_sick_pvals,\n",
    "                                            ph_sick_means = ph_bcl6_double_sick_means)\n",
    "\n",
    "B_cell_cd3_pos_cd8_neg_mtx_bcl6_double = build_cpdb_mtx(cols = B_cell_cd3_pos_cd8_neg_CTLs_interacts, \n",
    "                                            scaled = FALSE,\n",
    "                                            group_name = \"_bcl6_double\",\n",
    "                                            sig.cellpairs = 1,\n",
    "                                            sig.timepoint = 1, \n",
    "                                            ph_6mos_pvals = ph_bcl6_double_6mos_pvals,\n",
    "                                            ph_6mos_means = ph_bcl6_double_6mos_means,\n",
    "                                            ph_14mos_pvals = ph_bcl6_double_14mos_pvals,\n",
    "                                            ph_14mos_means = ph_bcl6_double_14mos_means,\n",
    "                                            ph_18mos_pvals = ph_bcl6_double_18mos_pvals,\n",
    "                                            ph_18mos_means = ph_bcl6_double_18mos_means,\n",
    "                                            ph_sick_pvals = ph_bcl6_double_sick_pvals,\n",
    "                                            ph_sick_means = ph_bcl6_double_sick_means)\n",
    "\n",
    "cd3_pos_cd8_neg_B_cell_mtx_wt = build_cpdb_mtx_wt(cols = cd3_pos_cd8_neg_CTLs_B_cell_interacts,\n",
    "                                            scaled = FALSE,\n",
    "                                            group_name = \"_wt\",\n",
    "                                            sig.cellpairs = 1,\n",
    "                                            sig.timepoint = 1, \n",
    "                                            ph_6mos_pvals = ph_wt_6mos_pvals,\n",
    "                                            ph_6mos_means = ph_wt_6mos_means,\n",
    "                                            ph_14mos_pvals = ph_wt_14mos_pvals,\n",
    "                                            ph_14mos_means = ph_wt_14mos_means,\n",
    "                                            ph_18mos_pvals = ph_wt_18mos_pvals,\n",
    "                                            ph_18mos_means = ph_wt_18mos_means)\n",
    "\n",
    "B_cell_cd3_pos_cd8_neg_mtx_wt = build_cpdb_mtx_wt(cols = B_cell_cd3_pos_cd8_neg_CTLs_interacts, \n",
    "                                            scaled = FALSE,\n",
    "                                            group_name = \"_wt\",\n",
    "                                            sig.cellpairs = 1,\n",
    "                                            sig.timepoint = 1, \n",
    "                                            ph_6mos_pvals = ph_wt_6mos_pvals,\n",
    "                                            ph_6mos_means = ph_wt_6mos_means,\n",
    "                                            ph_14mos_pvals = ph_wt_14mos_pvals,\n",
    "                                            ph_14mos_means = ph_wt_14mos_means,\n",
    "                                            ph_18mos_pvals = ph_wt_18mos_pvals,\n",
    "                                            ph_18mos_means = ph_wt_18mos_means)\n",
    "\n",
    "\n",
    "cd3_pos_cd8_neg_CTLs_B_cell_mtx<- merge_mtx(cd3_pos_cd8_neg_B_cell_mtx_wt, cd3_pos_cd8_neg_B_cell_mtx_bcl6, cd3_pos_cd8_neg_B_cell_mtx_bcl6_double)\n",
    "B_cell_cd3_pos_cd8_neg_CTLs_mtx<- merge_mtx(B_cell_cd3_pos_cd8_neg_mtx_wt, B_cell_cd3_pos_cd8_neg_mtx_bcl6, B_cell_cd3_pos_cd8_neg_mtx_bcl6_double)\n",
    "\n",
    "hp1 = plt_cpdb_dotplot_with_sick(exp_mtx = cd3_pos_cd8_neg_CTLs_B_cell_mtx$exp_mtx, \n",
    "                       pval_mtx = cd3_pos_cd8_neg_CTLs_B_cell_mtx$pval_mtx)\n",
    "hp2 = plt_cpdb_dotplot_with_sick(exp_mtx = B_cell_cd3_pos_cd8_neg_CTLs_mtx$exp_mtx, \n",
    "                       pval_mtx = B_cell_cd3_pos_cd8_neg_CTLs_mtx$pval_mtx)\n",
    "\n",
    "pdf(\"./results/figures/9-2_Dotplot_cd3_pos_cd8_neg_CTLs_B_cell_wt_bcl6_and_bcl6_double_cell1_time1_genotype1.pdf\", width = 12, height = 10)\n",
    "draw(hp1, annotation_legend_list = lgd, ht_gap = unit(1, \"cm\"))\n",
    "dev.off()\n",
    "\n",
    "pdf(\"./results/figures/9-2_Dotplot_B_cell_cd3_pos_cd8_neg_CTLs_wt_bcl6_and_bcl6_double_cell1_time1_genotype1.pdf\", width = 12, height = 10)\n",
    "draw(hp2, annotation_legend_list = lgd, ht_gap = unit(1, \"cm\"))\n",
    "dev.off()"
   ]
  },
  {
   "cell_type": "markdown",
   "id": "5ec62cd9",
   "metadata": {},
   "source": [
    "## cd3_pos_cd8_neg_Tregs vs B_cell"
   ]
  },
  {
   "cell_type": "code",
   "execution_count": 34,
   "id": "729aa6ab",
   "metadata": {},
   "outputs": [
    {
     "data": {
      "text/html": [
       "<style>\n",
       ".list-inline {list-style: none; margin:0; padding: 0}\n",
       ".list-inline>li {display: inline-block}\n",
       ".list-inline>li:not(:last-child)::after {content: \"\\00b7\"; padding: 0 .5ex}\n",
       "</style>\n",
       "<ol class=list-inline><li>'cd3_pos_cd8_neg_Tregs|B_cell_Atypical'</li><li>'cd3_pos_cd8_neg_Tregs|B_cell_Age-associated/autoimmune'</li><li>'cd3_pos_cd8_neg_Tregs|B_cell_Cycling'</li></ol>\n"
      ],
      "text/latex": [
       "\\begin{enumerate*}\n",
       "\\item 'cd3\\_pos\\_cd8\\_neg\\_Tregs\\textbar{}B\\_cell\\_Atypical'\n",
       "\\item 'cd3\\_pos\\_cd8\\_neg\\_Tregs\\textbar{}B\\_cell\\_Age-associated/autoimmune'\n",
       "\\item 'cd3\\_pos\\_cd8\\_neg\\_Tregs\\textbar{}B\\_cell\\_Cycling'\n",
       "\\end{enumerate*}\n"
      ],
      "text/markdown": [
       "1. 'cd3_pos_cd8_neg_Tregs|B_cell_Atypical'\n",
       "2. 'cd3_pos_cd8_neg_Tregs|B_cell_Age-associated/autoimmune'\n",
       "3. 'cd3_pos_cd8_neg_Tregs|B_cell_Cycling'\n",
       "\n",
       "\n"
      ],
      "text/plain": [
       "[1] \"cd3_pos_cd8_neg_Tregs|B_cell_Atypical\"                 \n",
       "[2] \"cd3_pos_cd8_neg_Tregs|B_cell_Age-associated/autoimmune\"\n",
       "[3] \"cd3_pos_cd8_neg_Tregs|B_cell_Cycling\"                  "
      ]
     },
     "metadata": {},
     "output_type": "display_data"
    },
    {
     "data": {
      "text/html": [
       "TRUE"
      ],
      "text/latex": [
       "TRUE"
      ],
      "text/markdown": [
       "TRUE"
      ],
      "text/plain": [
       "[1] TRUE"
      ]
     },
     "metadata": {},
     "output_type": "display_data"
    },
    {
     "data": {
      "text/html": [
       "<style>\n",
       ".list-inline {list-style: none; margin:0; padding: 0}\n",
       ".list-inline>li {display: inline-block}\n",
       ".list-inline>li:not(:last-child)::after {content: \"\\00b7\"; padding: 0 .5ex}\n",
       "</style>\n",
       "<ol class=list-inline><li>'B_cell_Atypical|cd3_pos_cd8_neg_Tregs'</li><li>'B_cell_Age-associated/autoimmune|cd3_pos_cd8_neg_Tregs'</li><li>'B_cell_Cycling|cd3_pos_cd8_neg_Tregs'</li></ol>\n"
      ],
      "text/latex": [
       "\\begin{enumerate*}\n",
       "\\item 'B\\_cell\\_Atypical\\textbar{}cd3\\_pos\\_cd8\\_neg\\_Tregs'\n",
       "\\item 'B\\_cell\\_Age-associated/autoimmune\\textbar{}cd3\\_pos\\_cd8\\_neg\\_Tregs'\n",
       "\\item 'B\\_cell\\_Cycling\\textbar{}cd3\\_pos\\_cd8\\_neg\\_Tregs'\n",
       "\\end{enumerate*}\n"
      ],
      "text/markdown": [
       "1. 'B_cell_Atypical|cd3_pos_cd8_neg_Tregs'\n",
       "2. 'B_cell_Age-associated/autoimmune|cd3_pos_cd8_neg_Tregs'\n",
       "3. 'B_cell_Cycling|cd3_pos_cd8_neg_Tregs'\n",
       "\n",
       "\n"
      ],
      "text/plain": [
       "[1] \"B_cell_Atypical|cd3_pos_cd8_neg_Tregs\"                 \n",
       "[2] \"B_cell_Age-associated/autoimmune|cd3_pos_cd8_neg_Tregs\"\n",
       "[3] \"B_cell_Cycling|cd3_pos_cd8_neg_Tregs\"                  "
      ]
     },
     "metadata": {},
     "output_type": "display_data"
    },
    {
     "data": {
      "text/html": [
       "TRUE"
      ],
      "text/latex": [
       "TRUE"
      ],
      "text/markdown": [
       "TRUE"
      ],
      "text/plain": [
       "[1] TRUE"
      ]
     },
     "metadata": {},
     "output_type": "display_data"
    }
   ],
   "source": [
    "cd3_pos_cd8_neg_Tregs_B_cell_interacts<- c()\n",
    "B_cell_cd3_pos_cd8_neg_Tregs_interacts<- c()\n",
    "\n",
    "for (c1 in cd3_pos_cd8_neg_Tregs_clusters){\n",
    "    for (c2 in B_cell_clusters){\n",
    "        \n",
    "        interact<- paste0(c1, \"|\", c2)\n",
    "        inverse_interact<- paste0(c2, \"|\", c1)\n",
    "        \n",
    "        cd3_pos_cd8_neg_Tregs_B_cell_interacts<- c(cd3_pos_cd8_neg_Tregs_B_cell_interacts, interact)\n",
    "        B_cell_cd3_pos_cd8_neg_Tregs_interacts<- c(B_cell_cd3_pos_cd8_neg_Tregs_interacts, inverse_interact)\n",
    "    }\n",
    "}\n",
    "\n",
    "cd3_pos_cd8_neg_Tregs_B_cell_interacts\n",
    "sum(colnames(ph_wt_6mos_pvals) %in% cd3_pos_cd8_neg_Tregs_B_cell_interacts) == length(cd3_pos_cd8_neg_Tregs_B_cell_interacts)\n",
    "\n",
    "B_cell_cd3_pos_cd8_neg_Tregs_interacts\n",
    "sum(colnames(ph_wt_6mos_pvals) %in% B_cell_cd3_pos_cd8_neg_Tregs_interacts) == length(B_cell_cd3_pos_cd8_neg_Tregs_interacts)"
   ]
  },
  {
   "cell_type": "code",
   "execution_count": 35,
   "id": "2425063b",
   "metadata": {},
   "outputs": [
    {
     "name": "stderr",
     "output_type": "stream",
     "text": [
      "total number of intersections considered: 26\n",
      "\n",
      "6 mos...\n",
      "\n",
      "14 mos...\n",
      "\n",
      "18 mos...\n",
      "\n",
      "sick...\n",
      "\n",
      "Generating count matrix...\n",
      "\n",
      "Generating pvalue matrix...\n",
      "\n",
      "output unscaled data\n",
      "\n",
      "total number of intersections considered: 22\n",
      "\n",
      "6 mos...\n",
      "\n",
      "14 mos...\n",
      "\n",
      "18 mos...\n",
      "\n",
      "sick...\n",
      "\n",
      "Generating count matrix...\n",
      "\n",
      "Generating pvalue matrix...\n",
      "\n",
      "output unscaled data\n",
      "\n",
      "total number of intersections considered: 20\n",
      "\n",
      "6 mos...\n",
      "\n",
      "14 mos...\n",
      "\n",
      "18 mos...\n",
      "\n",
      "sick...\n",
      "\n",
      "Generating count matrix...\n",
      "\n",
      "Generating pvalue matrix...\n",
      "\n",
      "output unscaled data\n",
      "\n",
      "total number of intersections considered: 16\n",
      "\n",
      "6 mos...\n",
      "\n",
      "14 mos...\n",
      "\n",
      "18 mos...\n",
      "\n",
      "sick...\n",
      "\n",
      "Generating count matrix...\n",
      "\n",
      "Generating pvalue matrix...\n",
      "\n",
      "output unscaled data\n",
      "\n",
      "total number of intersections considered: 16\n",
      "\n",
      "6 mos...\n",
      "\n",
      "14 mos...\n",
      "\n",
      "18 mos...\n",
      "\n",
      "Generating count matrix...\n",
      "\n",
      "Generating pvalue matrix...\n",
      "\n",
      "output unscaled data\n",
      "\n",
      "total number of intersections considered: 18\n",
      "\n",
      "6 mos...\n",
      "\n",
      "14 mos...\n",
      "\n",
      "18 mos...\n",
      "\n",
      "Generating count matrix...\n",
      "\n",
      "Generating pvalue matrix...\n",
      "\n",
      "output unscaled data\n",
      "\n",
      "wt...\n",
      "\n",
      "bcl6...\n",
      "\n",
      "bcl6 double...\n",
      "\n"
     ]
    },
    {
     "name": "stdout",
     "output_type": "stream",
     "text": [
      "[1] NA NA\n"
     ]
    },
    {
     "name": "stderr",
     "output_type": "stream",
     "text": [
      "TRUE\n",
      "\n",
      "scaling the count matrix\n",
      "\n",
      "wt...\n",
      "\n",
      "bcl6...\n",
      "\n",
      "bcl6 double...\n",
      "\n"
     ]
    },
    {
     "name": "stdout",
     "output_type": "stream",
     "text": [
      "[1] NA NA\n"
     ]
    },
    {
     "name": "stderr",
     "output_type": "stream",
     "text": [
      "TRUE\n",
      "\n",
      "scaling the count matrix\n",
      "\n",
      "quantile: -1.04896564592334-0.2233593125317281.79982582167595\n",
      "\n",
      "12129\n",
      "\n",
      "9996\n",
      "\n",
      "quantile: -1.02296707406044-0.3869569775157081.81378185187225\n",
      "\n",
      "12129\n",
      "\n",
      "9996\n",
      "\n"
     ]
    },
    {
     "data": {
      "text/html": [
       "<strong>png:</strong> 2"
      ],
      "text/latex": [
       "\\textbf{png:} 2"
      ],
      "text/markdown": [
       "**png:** 2"
      ],
      "text/plain": [
       "png \n",
       "  2 "
      ]
     },
     "metadata": {},
     "output_type": "display_data"
    },
    {
     "data": {
      "text/html": [
       "<strong>png:</strong> 2"
      ],
      "text/latex": [
       "\\textbf{png:} 2"
      ],
      "text/markdown": [
       "**png:** 2"
      ],
      "text/plain": [
       "png \n",
       "  2 "
      ]
     },
     "metadata": {},
     "output_type": "display_data"
    }
   ],
   "source": [
    "cd3_pos_cd8_neg_B_cell_mtx_bcl6 = build_cpdb_mtx(cols = cd3_pos_cd8_neg_Tregs_B_cell_interacts,\n",
    "                                            scaled = FALSE,\n",
    "                                            sig.cellpairs = 3,\n",
    "                                            sig.timepoint = 1,  \n",
    "                                            group_name = \"_bcl6\",\n",
    "                                            ph_6mos_pvals = ph_bcl6_6mos_pvals,\n",
    "                                            ph_6mos_means = ph_bcl6_6mos_means,\n",
    "                                            ph_14mos_pvals = ph_bcl6_14mos_pvals,\n",
    "                                            ph_14mos_means = ph_bcl6_14mos_means,\n",
    "                                            ph_18mos_pvals = ph_bcl6_18mos_pvals,\n",
    "                                            ph_18mos_means = ph_bcl6_18mos_means,\n",
    "                                            ph_sick_pvals = ph_bcl6_sick_pvals,\n",
    "                                            ph_sick_means = ph_bcl6_sick_means)\n",
    "\n",
    "B_cell_cd3_pos_cd8_neg_mtx_bcl6 = build_cpdb_mtx(cols = B_cell_cd3_pos_cd8_neg_Tregs_interacts, \n",
    "                                            scaled = FALSE,\n",
    "                                            sig.cellpairs = 3,\n",
    "                                            sig.timepoint = 1,  \n",
    "                                            group_name = \"_bcl6\",\n",
    "                                            ph_6mos_pvals = ph_bcl6_6mos_pvals,\n",
    "                                            ph_6mos_means = ph_bcl6_6mos_means,\n",
    "                                            ph_14mos_pvals = ph_bcl6_14mos_pvals,\n",
    "                                            ph_14mos_means = ph_bcl6_14mos_means,\n",
    "                                            ph_18mos_pvals = ph_bcl6_18mos_pvals,\n",
    "                                            ph_18mos_means = ph_bcl6_18mos_means,\n",
    "                                            ph_sick_pvals = ph_bcl6_sick_pvals,\n",
    "                                            ph_sick_means = ph_bcl6_sick_means)\n",
    "\n",
    "cd3_pos_cd8_neg_B_cell_mtx_bcl6_double = build_cpdb_mtx(cols = cd3_pos_cd8_neg_Tregs_B_cell_interacts,\n",
    "                                            scaled = FALSE,\n",
    "                                            group_name = \"_bcl6_double\",\n",
    "                                            sig.cellpairs = 3,\n",
    "                                            sig.timepoint = 1, \n",
    "                                            ph_6mos_pvals = ph_bcl6_double_6mos_pvals,\n",
    "                                            ph_6mos_means = ph_bcl6_double_6mos_means,\n",
    "                                            ph_14mos_pvals = ph_bcl6_double_14mos_pvals,\n",
    "                                            ph_14mos_means = ph_bcl6_double_14mos_means,\n",
    "                                            ph_18mos_pvals = ph_bcl6_double_18mos_pvals,\n",
    "                                            ph_18mos_means = ph_bcl6_double_18mos_means,\n",
    "                                            ph_sick_pvals = ph_bcl6_double_sick_pvals,\n",
    "                                            ph_sick_means = ph_bcl6_double_sick_means)\n",
    "\n",
    "B_cell_cd3_pos_cd8_neg_mtx_bcl6_double = build_cpdb_mtx(cols = B_cell_cd3_pos_cd8_neg_Tregs_interacts, \n",
    "                                            scaled = FALSE,\n",
    "                                            group_name = \"_bcl6_double\",\n",
    "                                            sig.cellpairs = 3,\n",
    "                                            sig.timepoint = 1, \n",
    "                                            ph_6mos_pvals = ph_bcl6_double_6mos_pvals,\n",
    "                                            ph_6mos_means = ph_bcl6_double_6mos_means,\n",
    "                                            ph_14mos_pvals = ph_bcl6_double_14mos_pvals,\n",
    "                                            ph_14mos_means = ph_bcl6_double_14mos_means,\n",
    "                                            ph_18mos_pvals = ph_bcl6_double_18mos_pvals,\n",
    "                                            ph_18mos_means = ph_bcl6_double_18mos_means,\n",
    "                                            ph_sick_pvals = ph_bcl6_double_sick_pvals,\n",
    "                                            ph_sick_means = ph_bcl6_double_sick_means)\n",
    "\n",
    "cd3_pos_cd8_neg_B_cell_mtx_wt = build_cpdb_mtx_wt(cols = cd3_pos_cd8_neg_Tregs_B_cell_interacts,\n",
    "                                            scaled = FALSE,\n",
    "                                            group_name = \"_wt\",\n",
    "                                            sig.cellpairs = 3,\n",
    "                                            sig.timepoint = 1, \n",
    "                                            ph_6mos_pvals = ph_wt_6mos_pvals,\n",
    "                                            ph_6mos_means = ph_wt_6mos_means,\n",
    "                                            ph_14mos_pvals = ph_wt_14mos_pvals,\n",
    "                                            ph_14mos_means = ph_wt_14mos_means,\n",
    "                                            ph_18mos_pvals = ph_wt_18mos_pvals,\n",
    "                                            ph_18mos_means = ph_wt_18mos_means)\n",
    "\n",
    "B_cell_cd3_pos_cd8_neg_mtx_wt = build_cpdb_mtx_wt(cols = B_cell_cd3_pos_cd8_neg_Tregs_interacts, \n",
    "                                            scaled = FALSE,\n",
    "                                            group_name = \"_wt\",\n",
    "                                            sig.cellpairs = 3,\n",
    "                                            sig.timepoint = 1, \n",
    "                                            ph_6mos_pvals = ph_wt_6mos_pvals,\n",
    "                                            ph_6mos_means = ph_wt_6mos_means,\n",
    "                                            ph_14mos_pvals = ph_wt_14mos_pvals,\n",
    "                                            ph_14mos_means = ph_wt_14mos_means,\n",
    "                                            ph_18mos_pvals = ph_wt_18mos_pvals,\n",
    "                                            ph_18mos_means = ph_wt_18mos_means)\n",
    "\n",
    "\n",
    "cd3_pos_cd8_neg_Tregs_B_cell_mtx<- merge_mtx(cd3_pos_cd8_neg_B_cell_mtx_wt, cd3_pos_cd8_neg_B_cell_mtx_bcl6, cd3_pos_cd8_neg_B_cell_mtx_bcl6_double)\n",
    "B_cell_cd3_pos_cd8_neg_Tregs_mtx<- merge_mtx(B_cell_cd3_pos_cd8_neg_mtx_wt, B_cell_cd3_pos_cd8_neg_mtx_bcl6, B_cell_cd3_pos_cd8_neg_mtx_bcl6_double)\n",
    "\n",
    "hp1 = plt_cpdb_dotplot_with_sick(exp_mtx = cd3_pos_cd8_neg_Tregs_B_cell_mtx$exp_mtx, \n",
    "                       pval_mtx = cd3_pos_cd8_neg_Tregs_B_cell_mtx$pval_mtx)\n",
    "hp2 = plt_cpdb_dotplot_with_sick(exp_mtx = B_cell_cd3_pos_cd8_neg_Tregs_mtx$exp_mtx, \n",
    "                       pval_mtx = B_cell_cd3_pos_cd8_neg_Tregs_mtx$pval_mtx)\n",
    "\n",
    "pdf(\"./results/figures/9-2_Dotplot_cd3_pos_cd8_neg_Tregs_B_cell_wt_bcl6_and_bcl6_double_cell3_time1_genotype1.pdf\", width = 12, height = 10)\n",
    "draw(hp1, annotation_legend_list = lgd, ht_gap = unit(1, \"cm\"))\n",
    "dev.off()\n",
    "\n",
    "pdf(\"./results/figures/9-2_Dotplot_B_cell_cd3_pos_cd8_neg_Tregs_wt_bcl6_and_bcl6_double_cell3_time1_genotype1.pdf\", width = 12, height = 10)\n",
    "draw(hp2, annotation_legend_list = lgd, ht_gap = unit(1, \"cm\"))\n",
    "dev.off()"
   ]
  },
  {
   "cell_type": "code",
   "execution_count": 36,
   "id": "e1dcc1ad",
   "metadata": {},
   "outputs": [
    {
     "name": "stderr",
     "output_type": "stream",
     "text": [
      "total number of intersections considered: 44\n",
      "\n",
      "6 mos...\n",
      "\n",
      "14 mos...\n",
      "\n",
      "18 mos...\n",
      "\n",
      "sick...\n",
      "\n",
      "Generating count matrix...\n",
      "\n",
      "Generating pvalue matrix...\n",
      "\n",
      "output unscaled data\n",
      "\n",
      "total number of intersections considered: 45\n",
      "\n",
      "6 mos...\n",
      "\n",
      "14 mos...\n",
      "\n",
      "18 mos...\n",
      "\n",
      "sick...\n",
      "\n",
      "Generating count matrix...\n",
      "\n",
      "Generating pvalue matrix...\n",
      "\n",
      "output unscaled data\n",
      "\n",
      "total number of intersections considered: 38\n",
      "\n",
      "6 mos...\n",
      "\n",
      "14 mos...\n",
      "\n",
      "18 mos...\n",
      "\n",
      "sick...\n",
      "\n",
      "Generating count matrix...\n",
      "\n",
      "Generating pvalue matrix...\n",
      "\n",
      "output unscaled data\n",
      "\n",
      "total number of intersections considered: 42\n",
      "\n",
      "6 mos...\n",
      "\n",
      "14 mos...\n",
      "\n",
      "18 mos...\n",
      "\n",
      "sick...\n",
      "\n",
      "Generating count matrix...\n",
      "\n",
      "Generating pvalue matrix...\n",
      "\n",
      "output unscaled data\n",
      "\n",
      "total number of intersections considered: 39\n",
      "\n",
      "6 mos...\n",
      "\n",
      "14 mos...\n",
      "\n",
      "18 mos...\n",
      "\n",
      "Generating count matrix...\n",
      "\n",
      "Generating pvalue matrix...\n",
      "\n",
      "output unscaled data\n",
      "\n",
      "total number of intersections considered: 35\n",
      "\n",
      "6 mos...\n",
      "\n",
      "14 mos...\n",
      "\n",
      "18 mos...\n",
      "\n",
      "Generating count matrix...\n",
      "\n",
      "Generating pvalue matrix...\n",
      "\n",
      "output unscaled data\n",
      "\n",
      "wt...\n",
      "\n",
      "bcl6...\n",
      "\n",
      "bcl6 double...\n",
      "\n"
     ]
    },
    {
     "name": "stdout",
     "output_type": "stream",
     "text": [
      "[1] NA NA\n"
     ]
    },
    {
     "name": "stderr",
     "output_type": "stream",
     "text": [
      "TRUE\n",
      "\n",
      "scaling the count matrix\n",
      "\n",
      "wt...\n",
      "\n",
      "bcl6...\n",
      "\n",
      "bcl6 double...\n",
      "\n"
     ]
    },
    {
     "name": "stdout",
     "output_type": "stream",
     "text": [
      "[1] NA NA\n"
     ]
    },
    {
     "name": "stderr",
     "output_type": "stream",
     "text": [
      "TRUE\n",
      "\n",
      "scaling the count matrix\n",
      "\n",
      "quantile: -1.08986346007877-0.3112250600306081.93846325320468\n",
      "\n",
      "12129\n",
      "\n",
      "9996\n",
      "\n",
      "quantile: -1.12984297830963-0.2613134768602051.83209643255301\n",
      "\n",
      "12129\n",
      "\n",
      "9996\n",
      "\n"
     ]
    },
    {
     "data": {
      "text/html": [
       "<strong>png:</strong> 2"
      ],
      "text/latex": [
       "\\textbf{png:} 2"
      ],
      "text/markdown": [
       "**png:** 2"
      ],
      "text/plain": [
       "png \n",
       "  2 "
      ]
     },
     "metadata": {},
     "output_type": "display_data"
    },
    {
     "data": {
      "text/html": [
       "<strong>png:</strong> 2"
      ],
      "text/latex": [
       "\\textbf{png:} 2"
      ],
      "text/markdown": [
       "**png:** 2"
      ],
      "text/plain": [
       "png \n",
       "  2 "
      ]
     },
     "metadata": {},
     "output_type": "display_data"
    }
   ],
   "source": [
    "cd3_pos_cd8_neg_B_cell_mtx_bcl6 = build_cpdb_mtx(cols = cd3_pos_cd8_neg_Tregs_B_cell_interacts,\n",
    "                                            scaled = FALSE,\n",
    "                                            sig.cellpairs = 1,\n",
    "                                            sig.timepoint = 1,  \n",
    "                                            group_name = \"_bcl6\",\n",
    "                                            ph_6mos_pvals = ph_bcl6_6mos_pvals,\n",
    "                                            ph_6mos_means = ph_bcl6_6mos_means,\n",
    "                                            ph_14mos_pvals = ph_bcl6_14mos_pvals,\n",
    "                                            ph_14mos_means = ph_bcl6_14mos_means,\n",
    "                                            ph_18mos_pvals = ph_bcl6_18mos_pvals,\n",
    "                                            ph_18mos_means = ph_bcl6_18mos_means,\n",
    "                                            ph_sick_pvals = ph_bcl6_sick_pvals,\n",
    "                                            ph_sick_means = ph_bcl6_sick_means)\n",
    "\n",
    "B_cell_cd3_pos_cd8_neg_mtx_bcl6 = build_cpdb_mtx(cols = B_cell_cd3_pos_cd8_neg_Tregs_interacts, \n",
    "                                            scaled = FALSE,\n",
    "                                            sig.cellpairs = 1,\n",
    "                                            sig.timepoint = 1,  \n",
    "                                            group_name = \"_bcl6\",\n",
    "                                            ph_6mos_pvals = ph_bcl6_6mos_pvals,\n",
    "                                            ph_6mos_means = ph_bcl6_6mos_means,\n",
    "                                            ph_14mos_pvals = ph_bcl6_14mos_pvals,\n",
    "                                            ph_14mos_means = ph_bcl6_14mos_means,\n",
    "                                            ph_18mos_pvals = ph_bcl6_18mos_pvals,\n",
    "                                            ph_18mos_means = ph_bcl6_18mos_means,\n",
    "                                            ph_sick_pvals = ph_bcl6_sick_pvals,\n",
    "                                            ph_sick_means = ph_bcl6_sick_means)\n",
    "\n",
    "cd3_pos_cd8_neg_B_cell_mtx_bcl6_double = build_cpdb_mtx(cols = cd3_pos_cd8_neg_Tregs_B_cell_interacts,\n",
    "                                            scaled = FALSE,\n",
    "                                            group_name = \"_bcl6_double\",\n",
    "                                            sig.cellpairs = 1,\n",
    "                                            sig.timepoint = 1, \n",
    "                                            ph_6mos_pvals = ph_bcl6_double_6mos_pvals,\n",
    "                                            ph_6mos_means = ph_bcl6_double_6mos_means,\n",
    "                                            ph_14mos_pvals = ph_bcl6_double_14mos_pvals,\n",
    "                                            ph_14mos_means = ph_bcl6_double_14mos_means,\n",
    "                                            ph_18mos_pvals = ph_bcl6_double_18mos_pvals,\n",
    "                                            ph_18mos_means = ph_bcl6_double_18mos_means,\n",
    "                                            ph_sick_pvals = ph_bcl6_double_sick_pvals,\n",
    "                                            ph_sick_means = ph_bcl6_double_sick_means)\n",
    "\n",
    "B_cell_cd3_pos_cd8_neg_mtx_bcl6_double = build_cpdb_mtx(cols = B_cell_cd3_pos_cd8_neg_Tregs_interacts, \n",
    "                                            scaled = FALSE,\n",
    "                                            group_name = \"_bcl6_double\",\n",
    "                                            sig.cellpairs = 1,\n",
    "                                            sig.timepoint = 1, \n",
    "                                            ph_6mos_pvals = ph_bcl6_double_6mos_pvals,\n",
    "                                            ph_6mos_means = ph_bcl6_double_6mos_means,\n",
    "                                            ph_14mos_pvals = ph_bcl6_double_14mos_pvals,\n",
    "                                            ph_14mos_means = ph_bcl6_double_14mos_means,\n",
    "                                            ph_18mos_pvals = ph_bcl6_double_18mos_pvals,\n",
    "                                            ph_18mos_means = ph_bcl6_double_18mos_means,\n",
    "                                            ph_sick_pvals = ph_bcl6_double_sick_pvals,\n",
    "                                            ph_sick_means = ph_bcl6_double_sick_means)\n",
    "\n",
    "cd3_pos_cd8_neg_B_cell_mtx_wt = build_cpdb_mtx_wt(cols = cd3_pos_cd8_neg_Tregs_B_cell_interacts,\n",
    "                                            scaled = FALSE,\n",
    "                                            group_name = \"_wt\",\n",
    "                                            sig.cellpairs = 1,\n",
    "                                            sig.timepoint = 1, \n",
    "                                            ph_6mos_pvals = ph_wt_6mos_pvals,\n",
    "                                            ph_6mos_means = ph_wt_6mos_means,\n",
    "                                            ph_14mos_pvals = ph_wt_14mos_pvals,\n",
    "                                            ph_14mos_means = ph_wt_14mos_means,\n",
    "                                            ph_18mos_pvals = ph_wt_18mos_pvals,\n",
    "                                            ph_18mos_means = ph_wt_18mos_means)\n",
    "\n",
    "B_cell_cd3_pos_cd8_neg_mtx_wt = build_cpdb_mtx_wt(cols = B_cell_cd3_pos_cd8_neg_Tregs_interacts, \n",
    "                                            scaled = FALSE,\n",
    "                                            group_name = \"_wt\",\n",
    "                                            sig.cellpairs = 1,\n",
    "                                            sig.timepoint = 1, \n",
    "                                            ph_6mos_pvals = ph_wt_6mos_pvals,\n",
    "                                            ph_6mos_means = ph_wt_6mos_means,\n",
    "                                            ph_14mos_pvals = ph_wt_14mos_pvals,\n",
    "                                            ph_14mos_means = ph_wt_14mos_means,\n",
    "                                            ph_18mos_pvals = ph_wt_18mos_pvals,\n",
    "                                            ph_18mos_means = ph_wt_18mos_means)\n",
    "\n",
    "\n",
    "cd3_pos_cd8_neg_Tregs_B_cell_mtx<- merge_mtx(cd3_pos_cd8_neg_B_cell_mtx_wt, cd3_pos_cd8_neg_B_cell_mtx_bcl6, cd3_pos_cd8_neg_B_cell_mtx_bcl6_double)\n",
    "B_cell_cd3_pos_cd8_neg_Tregs_mtx<- merge_mtx(B_cell_cd3_pos_cd8_neg_mtx_wt, B_cell_cd3_pos_cd8_neg_mtx_bcl6, B_cell_cd3_pos_cd8_neg_mtx_bcl6_double)\n",
    "\n",
    "hp1 = plt_cpdb_dotplot_with_sick(exp_mtx = cd3_pos_cd8_neg_Tregs_B_cell_mtx$exp_mtx, \n",
    "                       pval_mtx = cd3_pos_cd8_neg_Tregs_B_cell_mtx$pval_mtx)\n",
    "hp2 = plt_cpdb_dotplot_with_sick(exp_mtx = B_cell_cd3_pos_cd8_neg_Tregs_mtx$exp_mtx, \n",
    "                       pval_mtx = B_cell_cd3_pos_cd8_neg_Tregs_mtx$pval_mtx)\n",
    "\n",
    "pdf(\"./results/figures/9-2_Dotplot_cd3_pos_cd8_neg_Tregs_B_cell_wt_bcl6_and_bcl6_double_cell1_time1_genotype1.pdf\", width = 12, height = 10)\n",
    "draw(hp1, annotation_legend_list = lgd, ht_gap = unit(1, \"cm\"))\n",
    "dev.off()\n",
    "\n",
    "pdf(\"./results/figures/9-2_Dotplot_B_cell_cd3_pos_cd8_neg_Tregs_wt_bcl6_and_bcl6_double_cell1_time1_genotype1.pdf\", width = 12, height = 10)\n",
    "draw(hp2, annotation_legend_list = lgd, ht_gap = unit(1, \"cm\"))\n",
    "dev.off()"
   ]
  }
 ],
 "metadata": {
  "kernelspec": {
   "display_name": "R",
   "language": "R",
   "name": "ir"
  },
  "language_info": {
   "codemirror_mode": "r",
   "file_extension": ".r",
   "mimetype": "text/x-r-source",
   "name": "R",
   "pygments_lexer": "r",
   "version": "4.1.1"
  }
 },
 "nbformat": 4,
 "nbformat_minor": 5
}
