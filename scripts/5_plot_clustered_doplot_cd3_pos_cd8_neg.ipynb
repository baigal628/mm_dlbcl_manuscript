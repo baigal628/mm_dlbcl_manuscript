{
 "cells": [
  {
   "cell_type": "code",
   "execution_count": 51,
   "id": "ea2ea4e4",
   "metadata": {
    "scrolled": true
   },
   "outputs": [
    {
     "data": {
      "text/html": [
       "'/liulab/galib/dlbcl_manuscript'"
      ],
      "text/latex": [
       "'/liulab/galib/dlbcl\\_manuscript'"
      ],
      "text/markdown": [
       "'/liulab/galib/dlbcl_manuscript'"
      ],
      "text/plain": [
       "[1] \"/liulab/galib/dlbcl_manuscript\""
      ]
     },
     "metadata": {},
     "output_type": "display_data"
    },
    {
     "data": {
      "text/html": [
       "<style>\n",
       ".list-inline {list-style: none; margin:0; padding: 0}\n",
       ".list-inline>li {display: inline-block}\n",
       ".list-inline>li:not(:last-child)::after {content: \"\\00b7\"; padding: 0 .5ex}\n",
       "</style>\n",
       "<ol class=list-inline><li>'#FF00FF'</li><li>'#F400F4'</li><li>'#EA00EA'</li><li>'#DF00DF'</li><li>'#D500D5'</li><li>'#CA00CA'</li><li>'#BF00BF'</li><li>'#B500B5'</li><li>'#AA00AA'</li><li>'#9F009F'</li><li>'#950095'</li><li>'#8A008A'</li><li>'#800080'</li><li>'#750075'</li><li>'#6A006A'</li><li>'#600060'</li><li>'#550055'</li><li>'#4A004A'</li><li>'#400040'</li><li>'#350035'</li><li>'#2B002B'</li><li>'#200020'</li><li>'#150015'</li><li>'#0B000B'</li><li>'#000000'</li><li>'#000000'</li><li>'#0B0B00'</li><li>'#151500'</li><li>'#202000'</li><li>'#2B2B00'</li><li>'#353500'</li><li>'#404000'</li><li>'#4A4A00'</li><li>'#555500'</li><li>'#606000'</li><li>'#6A6A00'</li><li>'#757500'</li><li>'#808000'</li><li>'#8A8A00'</li><li>'#959500'</li><li>'#9F9F00'</li><li>'#AAAA00'</li><li>'#B5B500'</li><li>'#BFBF00'</li><li>'#CACA00'</li><li>'#D4D400'</li><li>'#DFDF00'</li><li>'#EAEA00'</li><li>'#F4F400'</li><li>'#FFFF00'</li></ol>\n"
      ],
      "text/latex": [
       "\\begin{enumerate*}\n",
       "\\item '\\#FF00FF'\n",
       "\\item '\\#F400F4'\n",
       "\\item '\\#EA00EA'\n",
       "\\item '\\#DF00DF'\n",
       "\\item '\\#D500D5'\n",
       "\\item '\\#CA00CA'\n",
       "\\item '\\#BF00BF'\n",
       "\\item '\\#B500B5'\n",
       "\\item '\\#AA00AA'\n",
       "\\item '\\#9F009F'\n",
       "\\item '\\#950095'\n",
       "\\item '\\#8A008A'\n",
       "\\item '\\#800080'\n",
       "\\item '\\#750075'\n",
       "\\item '\\#6A006A'\n",
       "\\item '\\#600060'\n",
       "\\item '\\#550055'\n",
       "\\item '\\#4A004A'\n",
       "\\item '\\#400040'\n",
       "\\item '\\#350035'\n",
       "\\item '\\#2B002B'\n",
       "\\item '\\#200020'\n",
       "\\item '\\#150015'\n",
       "\\item '\\#0B000B'\n",
       "\\item '\\#000000'\n",
       "\\item '\\#000000'\n",
       "\\item '\\#0B0B00'\n",
       "\\item '\\#151500'\n",
       "\\item '\\#202000'\n",
       "\\item '\\#2B2B00'\n",
       "\\item '\\#353500'\n",
       "\\item '\\#404000'\n",
       "\\item '\\#4A4A00'\n",
       "\\item '\\#555500'\n",
       "\\item '\\#606000'\n",
       "\\item '\\#6A6A00'\n",
       "\\item '\\#757500'\n",
       "\\item '\\#808000'\n",
       "\\item '\\#8A8A00'\n",
       "\\item '\\#959500'\n",
       "\\item '\\#9F9F00'\n",
       "\\item '\\#AAAA00'\n",
       "\\item '\\#B5B500'\n",
       "\\item '\\#BFBF00'\n",
       "\\item '\\#CACA00'\n",
       "\\item '\\#D4D400'\n",
       "\\item '\\#DFDF00'\n",
       "\\item '\\#EAEA00'\n",
       "\\item '\\#F4F400'\n",
       "\\item '\\#FFFF00'\n",
       "\\end{enumerate*}\n"
      ],
      "text/markdown": [
       "1. '#FF00FF'\n",
       "2. '#F400F4'\n",
       "3. '#EA00EA'\n",
       "4. '#DF00DF'\n",
       "5. '#D500D5'\n",
       "6. '#CA00CA'\n",
       "7. '#BF00BF'\n",
       "8. '#B500B5'\n",
       "9. '#AA00AA'\n",
       "10. '#9F009F'\n",
       "11. '#950095'\n",
       "12. '#8A008A'\n",
       "13. '#800080'\n",
       "14. '#750075'\n",
       "15. '#6A006A'\n",
       "16. '#600060'\n",
       "17. '#550055'\n",
       "18. '#4A004A'\n",
       "19. '#400040'\n",
       "20. '#350035'\n",
       "21. '#2B002B'\n",
       "22. '#200020'\n",
       "23. '#150015'\n",
       "24. '#0B000B'\n",
       "25. '#000000'\n",
       "26. '#000000'\n",
       "27. '#0B0B00'\n",
       "28. '#151500'\n",
       "29. '#202000'\n",
       "30. '#2B2B00'\n",
       "31. '#353500'\n",
       "32. '#404000'\n",
       "33. '#4A4A00'\n",
       "34. '#555500'\n",
       "35. '#606000'\n",
       "36. '#6A6A00'\n",
       "37. '#757500'\n",
       "38. '#808000'\n",
       "39. '#8A8A00'\n",
       "40. '#959500'\n",
       "41. '#9F9F00'\n",
       "42. '#AAAA00'\n",
       "43. '#B5B500'\n",
       "44. '#BFBF00'\n",
       "45. '#CACA00'\n",
       "46. '#D4D400'\n",
       "47. '#DFDF00'\n",
       "48. '#EAEA00'\n",
       "49. '#F4F400'\n",
       "50. '#FFFF00'\n",
       "\n",
       "\n"
      ],
      "text/plain": [
       " [1] \"#FF00FF\" \"#F400F4\" \"#EA00EA\" \"#DF00DF\" \"#D500D5\" \"#CA00CA\" \"#BF00BF\"\n",
       " [8] \"#B500B5\" \"#AA00AA\" \"#9F009F\" \"#950095\" \"#8A008A\" \"#800080\" \"#750075\"\n",
       "[15] \"#6A006A\" \"#600060\" \"#550055\" \"#4A004A\" \"#400040\" \"#350035\" \"#2B002B\"\n",
       "[22] \"#200020\" \"#150015\" \"#0B000B\" \"#000000\" \"#000000\" \"#0B0B00\" \"#151500\"\n",
       "[29] \"#202000\" \"#2B2B00\" \"#353500\" \"#404000\" \"#4A4A00\" \"#555500\" \"#606000\"\n",
       "[36] \"#6A6A00\" \"#757500\" \"#808000\" \"#8A8A00\" \"#959500\" \"#9F9F00\" \"#AAAA00\"\n",
       "[43] \"#B5B500\" \"#BFBF00\" \"#CACA00\" \"#D4D400\" \"#DFDF00\" \"#EAEA00\" \"#F4F400\"\n",
       "[50] \"#FFFF00\""
      ]
     },
     "metadata": {},
     "output_type": "display_data"
    }
   ],
   "source": [
    "getwd()\n",
    "setwd(\"/liulab/galib/dlbcl_manuscript/\")\n",
    "library(rBCS)\n",
    "library(tidyverse)\n",
    "library(Seurat)\n",
    "library(harmony)\n",
    "library(viridis)\n",
    "library(RColorBrewer)\n",
    "library(Polychrome)\n",
    "PurpleAndYellow()\n",
    "library(ComplexHeatmap)\n",
    "library(devtools)\n",
    "library(presto)\n",
    "library(dplyr)\n",
    "library(ggplot2)\n",
    "library(ggpubr)\n",
    "library(readxl)\n",
    "library(cluster)\n",
    "set.seed(123)\n",
    "source(\"./scripts/scplot.R\")"
   ]
  },
  {
   "cell_type": "code",
   "execution_count": 93,
   "id": "f94225d4",
   "metadata": {
    "scrolled": true
   },
   "outputs": [],
   "source": [
    "cd3_pos_cd8_neg<- readRDS(\"./data/objects/cd3_pos_cd8_neg_final.rds\")"
   ]
  },
  {
   "cell_type": "code",
   "execution_count": 94,
   "id": "c4334e1b",
   "metadata": {},
   "outputs": [],
   "source": [
    "legend_dot_size = unit(2,\"mm\")\n",
    "\n",
    "lgd = Legend(labels = c(0, 10, 25, 50, 75, 100),\n",
    "           title = \"percentage\",\n",
    "           type = \"points\",\n",
    "        graphics = list(\n",
    "    function(x, y, w, h) grid.circle(x, y, r= sqrt(0/100) * legend_dot_size,\n",
    "                                    gp = gpar(fill = \"black\")),\n",
    "    function(x, y, w, h) grid.circle(x, y, r= sqrt(10/100) * legend_dot_size,\n",
    "                                    gp = gpar(fill = \"black\")),\n",
    "    function(x, y, w, h) grid.circle(x, y, r= sqrt(25/100) * legend_dot_size,\n",
    "                                    gp = gpar(fill = \"black\")),\n",
    "    function(x, y, w, h) grid.circle(x, y, r= sqrt(50/100) * legend_dot_size,\n",
    "                                    gp = gpar(fill = \"black\")),\n",
    "    function(x, y, w, h) grid.circle(x, y, r= sqrt(75/100) * legend_dot_size,\n",
    "                                    gp = gpar(fill = \"black\")),\n",
    "    function(x, y, w, h) grid.circle(x, y, r= sqrt(100/100) * legend_dot_size,\n",
    "                                    gp = gpar(fill = \"black\"))            \n",
    "            )\n",
    "     )"
   ]
  },
  {
   "cell_type": "markdown",
   "id": "a72e6f97",
   "metadata": {},
   "source": [
    "## cd3_pos_cd8_neg space"
   ]
  },
  {
   "cell_type": "code",
   "execution_count": 95,
   "id": "3aa155ed",
   "metadata": {},
   "outputs": [
    {
     "name": "stderr",
     "output_type": "stream",
     "text": [
      "\u001b[1mRows: \u001b[22m\u001b[34m92\u001b[39m \u001b[1mColumns: \u001b[22m\u001b[34m1\u001b[39m\n",
      "\u001b[36m──\u001b[39m \u001b[1mColumn specification\u001b[22m \u001b[36m────────────────────────────────────────────────────────\u001b[39m\n",
      "\u001b[1mDelimiter:\u001b[22m \"\\t\"\n",
      "\u001b[31mchr\u001b[39m (1): X1\n",
      "\n",
      "\u001b[36mℹ\u001b[39m Use `spec()` to retrieve the full column specification for this data.\n",
      "\u001b[36mℹ\u001b[39m Specify the column types or set `show_col_types = FALSE` to quiet this message.\n"
     ]
    },
    {
     "data": {
      "text/html": [],
      "text/latex": [],
      "text/markdown": [],
      "text/plain": [
       "character(0)"
      ]
     },
     "metadata": {},
     "output_type": "display_data"
    }
   ],
   "source": [
    "cd3_pos_cd8_neg_genes<- read_tsv(\"./data/cd3_pos_cd8_neg_genes_to_plot.tsv\", col_names = FALSE)  %>% \n",
    "    pull(X1)\n",
    "\n",
    "cd3_pos_cd8_neg_genes<- str_to_title(cd3_pos_cd8_neg_genes)\n",
    "cd3_pos_cd8_neg_genes<- cd3_pos_cd8_neg_genes  %>% gsub(pattern = \"Aw\", replacement = \"AW\")\n",
    "\n",
    "cd3_pos_cd8_neg_genes[!cd3_pos_cd8_neg_genes %in% rownames(cd3_pos_cd8_neg)]\n",
    "\n",
    "cd3_pos_cd8_neg_genes<- cd3_pos_cd8_neg_genes  %>% unique()"
   ]
  },
  {
   "cell_type": "code",
   "execution_count": 96,
   "id": "547b1a02",
   "metadata": {},
   "outputs": [],
   "source": [
    "cluster_id<- cd3_pos_cd8_neg@meta.data  %>% arrange(seurat_clusters)  %>% distinct(new_annotation)  %>% pull(new_annotation)\n",
    "cd3_pos_cd8_neg_colors<- cd3_pos_cd8_neg@meta.data  %>% arrange(seurat_clusters)  %>% distinct(HEX_code)  %>% pull(HEX_code)\n",
    "names(cd3_pos_cd8_neg_colors)<- cluster_id"
   ]
  },
  {
   "cell_type": "markdown",
   "id": "cbdcb746",
   "metadata": {},
   "source": [
    "### All samples"
   ]
  },
  {
   "cell_type": "markdown",
   "id": "02468d96",
   "metadata": {},
   "source": [
    "#### Find optimal number of k for bidirectional clustering of the heatmap"
   ]
  },
  {
   "cell_type": "code",
   "execution_count": 97,
   "id": "c684ea54",
   "metadata": {},
   "outputs": [
    {
     "data": {
      "image/png": "[encoded data removed]",
      "text/plain": [
       "plot without title"
      ]
     },
     "metadata": {
      "image/png": {
       "height": 420,
       "width": 420
      }
     },
     "output_type": "display_data"
    },
    {
     "data": {
      "image/png": "[encoded data removed]",
      "text/plain": [
       "plot without title"
      ]
     },
     "metadata": {
      "image/png": {
       "height": 420,
       "width": 420
      }
     },
     "output_type": "display_data"
    },
    {
     "data": {
      "image/png": "[encoded data removed]",
      "text/plain": [
       "plot without title"
      ]
     },
     "metadata": {
      "image/png": {
       "height": 420,
       "width": 420
      }
     },
     "output_type": "display_data"
    },
    {
     "data": {
      "image/png": "[encoded data removed]",
      "text/plain": [
       "plot without title"
      ]
     },
     "metadata": {
      "image/png": {
       "height": 420,
       "width": 420
      }
     },
     "output_type": "display_data"
    }
   ],
   "source": [
    "# Compute k-means clustering with different values of k and visualize\n",
    "cd3_pos_cd8_neg_mtx<- GetMatrixFromSeurat(cd3_pos_cd8_neg, cd3_pos_cd8_neg_genes, group = \"new_annotation\")\n",
    "nclusrers=ncol(cd3_pos_cd8_neg_mtx$exp_mat)-1\n",
    "\n",
    "set.seed(123)\n",
    "silhouette_scores <- numeric(nclusrers)\n",
    "\n",
    "k_values = 2:nclusrers\n",
    "\n",
    "for (k in k_values) {\n",
    "  km <- kmeans(t(cd3_pos_cd8_neg_mtx$exp_mat), centers = k, nstart = 10)\n",
    "  ss <- silhouette(km$cluster, dist(t(cd3_pos_cd8_neg_mtx$exp_mat)))\n",
    "  silhouette_scores[k] <- mean(ss[, 3])\n",
    "}\n",
    "\n",
    "df<- data.frame(k = k_values, ss_width = silhouette_scores[c(2:nclusrers)])\n",
    "\n",
    "df %>%\n",
    "    ggplot(aes(x = k, y = ss_width)) +\n",
    "    geom_line() +\n",
    "    geom_point(size = 4) +\n",
    "#     geom_point(aes(7, df[6,'ss_width']), size = 8, shape = 21, color='deeppink3', fill=NA) +\n",
    "    theme_bw(base_size = 14) +\n",
    "    scale_x_continuous(breaks = k_values) +\n",
    "    labs(x = 'K', y='silhouette width', title = 'kmeans clustering of cell types')\n",
    "\n",
    "ggsave(\"results/figures/5_cd3_pos_cd8_neg_kmeans_celltypes_sil_width.pdf\", width = 4, height = 3)\n",
    "\n",
    "silhouette_scores <- numeric(nclusrers)\n",
    "k_values = 2:nclusrers\n",
    "\n",
    "for (k in k_values) {\n",
    "  km <- kmeans(cd3_pos_cd8_neg_mtx$exp_mat, centers = k, nstart = 10)\n",
    "  ss <- silhouette(km$cluster, dist(cd3_pos_cd8_neg_mtx$exp_mat))\n",
    "  silhouette_scores[k] <- mean(ss[, 3])\n",
    "}\n",
    "\n",
    "df<- data.frame(k = k_values, ss_width = silhouette_scores[c(2:nclusrers)])\n",
    "\n",
    "df %>%\n",
    "    ggplot(aes(x = k, y = ss_width)) +\n",
    "    geom_line() +\n",
    "    geom_point(size = 4) +\n",
    "#     geom_point(aes(7, df[5,'ss_width']), size = 8, shape = 21, color='deeppink3', fill=NA) +\n",
    "    theme_bw(base_size = 14) +\n",
    "    scale_x_continuous(breaks = k_values) +\n",
    "    labs(x = 'K', y='silhouette width', title = 'kmeans clustering of genes')\n",
    "\n",
    "ggsave(\"results/figures/5_cd3_pos_cd8_neg_kmeans_genes_sil_width.pdf\", width = 4, height = 3)\n",
    "\n",
    "###\n",
    "###\n",
    "\n",
    "wss <- function(k) {\n",
    "    kmeans(x = t(cd3_pos_cd8_neg_mtx$exp_mat), centers = k, nstart = 10)$tot.withinss\n",
    "}\n",
    "\n",
    "k_values <- 1:nclusrers\n",
    "wss_values <- sapply(k_values, wss)\n",
    "\n",
    "df<- data.frame(k = k_values, wss = wss_values)\n",
    "df %>%\n",
    "    ggplot(aes(x = k, y = wss)) +\n",
    "    geom_line() +\n",
    "    geom_point(size = 4) +\n",
    "#     geom_point(aes(6, df[6,'wss']), size = 8, shape = 21, color='deeppink3', fill=NA) +\n",
    "    theme_bw(base_size = 14) +\n",
    "    scale_x_continuous(breaks = 1:nclusrers) +\n",
    "    labs(x = 'K', y='within-cluster sum of squares', title = 'kmeans clustering of cell types')\n",
    "ggsave(\"results/figures/5_cd3_pos_cd8_neg_kmeans_celltypes_elbow.pdf\", width = 4, height = 3)\n",
    "\n",
    "wss <- function(k) {\n",
    "    kmeans(x = cd3_pos_cd8_neg_mtx$exp_mat, centers = k, nstart = 10)$tot.withinss\n",
    "}\n",
    "\n",
    "k_values <- 1:nclusrers\n",
    "wss_values <- sapply(k_values, wss)\n",
    "\n",
    "df<- data.frame(k = k_values, wss = wss_values)\n",
    "df %>%\n",
    "    ggplot(aes(x = k, y = wss)) +\n",
    "    geom_line() +\n",
    "    geom_point(size = 4) +\n",
    "#     geom_point(aes(6, df[6,'wss']), size = 8, shape = 21, color='deeppink3', fill=NA) +\n",
    "    theme_bw(base_size = 14) +\n",
    "    scale_x_continuous(breaks = 1:nclusrers) +\n",
    "    labs(x = 'K', y='within-cluster sum of squares', title = 'kmeans clustering of genes')\n",
    "\n",
    "ggsave(\"results/figures/5_cd3_pos_cd8_neg_kmeans_genes_elbow.pdf\", width = 4, height = 3)"
   ]
  },
  {
   "cell_type": "code",
   "execution_count": 98,
   "id": "4423760d",
   "metadata": {},
   "outputs": [
    {
     "data": {
      "text/html": [
       "<strong>png:</strong> 2"
      ],
      "text/latex": [
       "\\textbf{png:} 2"
      ],
      "text/markdown": [
       "**png:** 2"
      ],
      "text/plain": [
       "png \n",
       "  2 "
      ]
     },
     "metadata": {},
     "output_type": "display_data"
    }
   ],
   "source": [
    "cd3_pos_cd8_neg_mtx<- GetMatrixFromSeurat(cd3_pos_cd8_neg, cd3_pos_cd8_neg_genes, group = \"new_annotation\")\n",
    "\n",
    "\n",
    "column_ha <- HeatmapAnnotation(foo = anno_text(gsub(\"_.*\", \"\", cluster_id), location = 0.5, just = \"center\", \n",
    "                    gp = gpar(fill = setNames(cd3_pos_cd8_neg_colors, gsub(\"_.*\", \"\", cluster_id)), \n",
    "                              col = \"white\", border = NA)), show_annotation_name = FALSE, show_legend = FALSE)\n",
    "\n",
    "col_fun = circlize::colorRamp2(c(-2,0,2), viridis::viridis(3))\n",
    "\n",
    "p<- MakeClusterDotPlot(exp_mat = cd3_pos_cd8_neg_mtx$exp_mat, \n",
    "                       percent_mat = cd3_pos_cd8_neg_mtx$percent_mat,\n",
    "                       cluster_id = cluster_id,\n",
    "                       column_ha = column_ha, col_fun = col_fun,\n",
    "                       column_title_side = \"bottom\",\n",
    "                       column_title = \"CD3+ CD8- Space\",\n",
    "                       column_km = 6,\n",
    "                       row_km = 8,\n",
    "                       row_names_font_size = 8, \n",
    "                       legend_dot_size = unit(2, \"mm\"),\n",
    "                       column_names_side = \"top\",\n",
    "                       show_column_dend = FALSE,\n",
    "                       show_row_dend = FALSE, \n",
    "                       cluster_columns = FALSE)\n",
    "\n",
    "pdf(\"results/figures/5_cd3_pos_cd8_neg_dotplot_bidirectional_clustering.pdf\", width = 7, height = 14)\n",
    "set.seed(123)\n",
    "ht = draw(p, annotation_legend_list = lgd)\n",
    "\n",
    "dev.off()"
   ]
  },
  {
   "cell_type": "code",
   "execution_count": 99,
   "id": "72142249",
   "metadata": {},
   "outputs": [
    {
     "data": {
      "text/html": [
       "<style>\n",
       ".list-inline {list-style: none; margin:0; padding: 0}\n",
       ".list-inline>li {display: inline-block}\n",
       ".list-inline>li:not(:last-child)::after {content: \"\\00b7\"; padding: 0 .5ex}\n",
       "</style>\n",
       "<ol class=list-inline><li>0_Naïve</li><li>4b_Naïve</li><li>2_Th1/EM</li><li>9_NKT</li><li>15_IFN-stimulated</li><li>1_Exhausted CTLs</li><li>4a_Exhausted CTLs</li><li>6_Activated CTLs</li><li>8_Other</li><li>13_Early activated CTLs</li><li>3_Effector Tregs</li><li>5_Tfh</li><li>7_Follicular Tregs</li><li>10_Effector Tregs</li><li>11_Cycling Tregs</li><li>12_Cycling</li><li>17_Cycling</li><li>24_Cycling Tregs</li></ol>\n",
       "\n",
       "<details>\n",
       "\t<summary style=display:list-item;cursor:pointer>\n",
       "\t\t<strong>Levels</strong>:\n",
       "\t</summary>\n",
       "\t<style>\n",
       "\t.list-inline {list-style: none; margin:0; padding: 0}\n",
       "\t.list-inline>li {display: inline-block}\n",
       "\t.list-inline>li:not(:last-child)::after {content: \"\\00b7\"; padding: 0 .5ex}\n",
       "\t</style>\n",
       "\t<ol class=list-inline><li>'0_Naïve'</li><li>'4b_Naïve'</li><li>'2_Th1/EM'</li><li>'9_NKT'</li><li>'15_IFN-stimulated'</li><li>'1_Exhausted CTLs'</li><li>'4a_Exhausted CTLs'</li><li>'6_Activated CTLs'</li><li>'8_Other'</li><li>'13_Early activated CTLs'</li><li>'3_Effector Tregs'</li><li>'5_Tfh'</li><li>'7_Follicular Tregs'</li><li>'10_Effector Tregs'</li><li>'11_Cycling Tregs'</li><li>'12_Cycling'</li><li>'17_Cycling'</li><li>'24_Cycling Tregs'</li></ol>\n",
       "</details>"
      ],
      "text/latex": [
       "\\begin{enumerate*}\n",
       "\\item 0\\_Naïve\n",
       "\\item 4b\\_Naïve\n",
       "\\item 2\\_Th1/EM\n",
       "\\item 9\\_NKT\n",
       "\\item 15\\_IFN-stimulated\n",
       "\\item 1\\_Exhausted CTLs\n",
       "\\item 4a\\_Exhausted CTLs\n",
       "\\item 6\\_Activated CTLs\n",
       "\\item 8\\_Other\n",
       "\\item 13\\_Early activated CTLs\n",
       "\\item 3\\_Effector Tregs\n",
       "\\item 5\\_Tfh\n",
       "\\item 7\\_Follicular Tregs\n",
       "\\item 10\\_Effector Tregs\n",
       "\\item 11\\_Cycling Tregs\n",
       "\\item 12\\_Cycling\n",
       "\\item 17\\_Cycling\n",
       "\\item 24\\_Cycling Tregs\n",
       "\\end{enumerate*}\n",
       "\n",
       "\\emph{Levels}: \\begin{enumerate*}\n",
       "\\item '0\\_Naïve'\n",
       "\\item '4b\\_Naïve'\n",
       "\\item '2\\_Th1/EM'\n",
       "\\item '9\\_NKT'\n",
       "\\item '15\\_IFN-stimulated'\n",
       "\\item '1\\_Exhausted CTLs'\n",
       "\\item '4a\\_Exhausted CTLs'\n",
       "\\item '6\\_Activated CTLs'\n",
       "\\item '8\\_Other'\n",
       "\\item '13\\_Early activated CTLs'\n",
       "\\item '3\\_Effector Tregs'\n",
       "\\item '5\\_Tfh'\n",
       "\\item '7\\_Follicular Tregs'\n",
       "\\item '10\\_Effector Tregs'\n",
       "\\item '11\\_Cycling Tregs'\n",
       "\\item '12\\_Cycling'\n",
       "\\item '17\\_Cycling'\n",
       "\\item '24\\_Cycling Tregs'\n",
       "\\end{enumerate*}\n"
      ],
      "text/markdown": [
       "1. 0_Naïve\n",
       "2. 4b_Naïve\n",
       "3. 2_Th1/EM\n",
       "4. 9_NKT\n",
       "5. 15_IFN-stimulated\n",
       "6. 1_Exhausted CTLs\n",
       "7. 4a_Exhausted CTLs\n",
       "8. 6_Activated CTLs\n",
       "9. 8_Other\n",
       "10. 13_Early activated CTLs\n",
       "11. 3_Effector Tregs\n",
       "12. 5_Tfh\n",
       "13. 7_Follicular Tregs\n",
       "14. 10_Effector Tregs\n",
       "15. 11_Cycling Tregs\n",
       "16. 12_Cycling\n",
       "17. 17_Cycling\n",
       "18. 24_Cycling Tregs\n",
       "\n",
       "\n",
       "\n",
       "**Levels**: 1. '0_Naïve'\n",
       "2. '4b_Naïve'\n",
       "3. '2_Th1/EM'\n",
       "4. '9_NKT'\n",
       "5. '15_IFN-stimulated'\n",
       "6. '1_Exhausted CTLs'\n",
       "7. '4a_Exhausted CTLs'\n",
       "8. '6_Activated CTLs'\n",
       "9. '8_Other'\n",
       "10. '13_Early activated CTLs'\n",
       "11. '3_Effector Tregs'\n",
       "12. '5_Tfh'\n",
       "13. '7_Follicular Tregs'\n",
       "14. '10_Effector Tregs'\n",
       "15. '11_Cycling Tregs'\n",
       "16. '12_Cycling'\n",
       "17. '17_Cycling'\n",
       "18. '24_Cycling Tregs'\n",
       "\n",
       "\n"
      ],
      "text/plain": [
       " [1] 0_Naïve                 4b_Naïve                2_Th1/EM               \n",
       " [4] 9_NKT                   15_IFN-stimulated       1_Exhausted CTLs       \n",
       " [7] 4a_Exhausted CTLs       6_Activated CTLs        8_Other                \n",
       "[10] 13_Early activated CTLs 3_Effector Tregs        5_Tfh                  \n",
       "[13] 7_Follicular Tregs      10_Effector Tregs       11_Cycling Tregs       \n",
       "[16] 12_Cycling              17_Cycling              24_Cycling Tregs       \n",
       "18 Levels: 0_Naïve 4b_Naïve 2_Th1/EM 9_NKT ... 24_Cycling Tregs"
      ]
     },
     "metadata": {},
     "output_type": "display_data"
    },
    {
     "data": {
      "text/html": [
       "<style>\n",
       ".list-inline {list-style: none; margin:0; padding: 0}\n",
       ".list-inline>li {display: inline-block}\n",
       ".list-inline>li:not(:last-child)::after {content: \"\\00b7\"; padding: 0 .5ex}\n",
       "</style>\n",
       "<ol class=list-inline><li>'Lgals1'</li><li>'Vim'</li><li>'Rorc'</li><li>'Ran'</li><li>'Ptma'</li><li>'Dut'</li><li>'Mcm3'</li><li>'Gzma'</li><li>'Birc5'</li><li>'Mki67'</li><li>'Ube2c'</li><li>'Cenpa'</li><li>'Top2a'</li><li>'Pclaf'</li><li>'Mif'</li><li>'Eif5a'</li><li>'Nme1'</li><li>'Npm1'</li><li>'Il17a'</li><li>'Il10'</li><li>'Ifi27'</li><li>'Tigit'</li><li>'Izumo1r'</li><li>'Hif1a'</li><li>'Cd74'</li><li>'Il1r2'</li><li>'Pdcd1'</li><li>'Ctsb'</li><li>'Bcl6'</li><li>'Ctsz'</li><li>'Il4'</li><li>'Cd70'</li><li>'Ctla4'</li><li>'Tnfrsf18'</li><li>'Tnfrsf4'</li><li>'Tnfrsf9'</li><li>'Ikzf2'</li><li>'Foxp3'</li><li>'Il2ra'</li><li>'Il1rl1'</li><li>'Gzmb'</li><li>'Havcr2'</li><li>'Ifng'</li><li>'Cd7'</li><li>'Fasl'</li><li>'Prf1'</li><li>'Ccl5'</li><li>'Nkg7'</li><li>'Gzmk'</li><li>'Eomes'</li><li>'Crtam'</li><li>'Ccl4'</li><li>'Ccl3'</li><li>'Cd3e'</li><li>'Lag3'</li><li>'Tox'</li><li>'Cd27'</li><li>'Cst7'</li><li>'AW112010'</li><li>'Itgb1'</li><li>'Cd44'</li><li>'Cd40lg'</li><li>'Cd4'</li><li>'Sostdc1'</li><li>'Il21'</li><li>'Tnfsf8'</li><li>'S100a6'</li><li>'S100a4'</li><li>'Klf2'</li><li>'Ahnak'</li><li>'Tbx21'</li><li>'Crip1'</li><li>'Il7r'</li><li>'Cd8a'</li><li>'Cd8b1'</li><li>'Ifit1'</li><li>'Ifit3'</li><li>'Klrd1'</li><li>'Ncr1'</li><li>'Klrk1'</li><li>'Ly6c2'</li><li>'Klra7'</li><li>'Rpl23'</li><li>'Rps20'</li><li>'Rps8'</li><li>'Sell'</li><li>'Tcf7'</li><li>'Actn1'</li><li>'Lef1'</li><li>'Dapl1'</li><li>'Ccr7'</li><li>'Igfbp4'</li></ol>\n"
      ],
      "text/latex": [
       "\\begin{enumerate*}\n",
       "\\item 'Lgals1'\n",
       "\\item 'Vim'\n",
       "\\item 'Rorc'\n",
       "\\item 'Ran'\n",
       "\\item 'Ptma'\n",
       "\\item 'Dut'\n",
       "\\item 'Mcm3'\n",
       "\\item 'Gzma'\n",
       "\\item 'Birc5'\n",
       "\\item 'Mki67'\n",
       "\\item 'Ube2c'\n",
       "\\item 'Cenpa'\n",
       "\\item 'Top2a'\n",
       "\\item 'Pclaf'\n",
       "\\item 'Mif'\n",
       "\\item 'Eif5a'\n",
       "\\item 'Nme1'\n",
       "\\item 'Npm1'\n",
       "\\item 'Il17a'\n",
       "\\item 'Il10'\n",
       "\\item 'Ifi27'\n",
       "\\item 'Tigit'\n",
       "\\item 'Izumo1r'\n",
       "\\item 'Hif1a'\n",
       "\\item 'Cd74'\n",
       "\\item 'Il1r2'\n",
       "\\item 'Pdcd1'\n",
       "\\item 'Ctsb'\n",
       "\\item 'Bcl6'\n",
       "\\item 'Ctsz'\n",
       "\\item 'Il4'\n",
       "\\item 'Cd70'\n",
       "\\item 'Ctla4'\n",
       "\\item 'Tnfrsf18'\n",
       "\\item 'Tnfrsf4'\n",
       "\\item 'Tnfrsf9'\n",
       "\\item 'Ikzf2'\n",
       "\\item 'Foxp3'\n",
       "\\item 'Il2ra'\n",
       "\\item 'Il1rl1'\n",
       "\\item 'Gzmb'\n",
       "\\item 'Havcr2'\n",
       "\\item 'Ifng'\n",
       "\\item 'Cd7'\n",
       "\\item 'Fasl'\n",
       "\\item 'Prf1'\n",
       "\\item 'Ccl5'\n",
       "\\item 'Nkg7'\n",
       "\\item 'Gzmk'\n",
       "\\item 'Eomes'\n",
       "\\item 'Crtam'\n",
       "\\item 'Ccl4'\n",
       "\\item 'Ccl3'\n",
       "\\item 'Cd3e'\n",
       "\\item 'Lag3'\n",
       "\\item 'Tox'\n",
       "\\item 'Cd27'\n",
       "\\item 'Cst7'\n",
       "\\item 'AW112010'\n",
       "\\item 'Itgb1'\n",
       "\\item 'Cd44'\n",
       "\\item 'Cd40lg'\n",
       "\\item 'Cd4'\n",
       "\\item 'Sostdc1'\n",
       "\\item 'Il21'\n",
       "\\item 'Tnfsf8'\n",
       "\\item 'S100a6'\n",
       "\\item 'S100a4'\n",
       "\\item 'Klf2'\n",
       "\\item 'Ahnak'\n",
       "\\item 'Tbx21'\n",
       "\\item 'Crip1'\n",
       "\\item 'Il7r'\n",
       "\\item 'Cd8a'\n",
       "\\item 'Cd8b1'\n",
       "\\item 'Ifit1'\n",
       "\\item 'Ifit3'\n",
       "\\item 'Klrd1'\n",
       "\\item 'Ncr1'\n",
       "\\item 'Klrk1'\n",
       "\\item 'Ly6c2'\n",
       "\\item 'Klra7'\n",
       "\\item 'Rpl23'\n",
       "\\item 'Rps20'\n",
       "\\item 'Rps8'\n",
       "\\item 'Sell'\n",
       "\\item 'Tcf7'\n",
       "\\item 'Actn1'\n",
       "\\item 'Lef1'\n",
       "\\item 'Dapl1'\n",
       "\\item 'Ccr7'\n",
       "\\item 'Igfbp4'\n",
       "\\end{enumerate*}\n"
      ],
      "text/markdown": [
       "1. 'Lgals1'\n",
       "2. 'Vim'\n",
       "3. 'Rorc'\n",
       "4. 'Ran'\n",
       "5. 'Ptma'\n",
       "6. 'Dut'\n",
       "7. 'Mcm3'\n",
       "8. 'Gzma'\n",
       "9. 'Birc5'\n",
       "10. 'Mki67'\n",
       "11. 'Ube2c'\n",
       "12. 'Cenpa'\n",
       "13. 'Top2a'\n",
       "14. 'Pclaf'\n",
       "15. 'Mif'\n",
       "16. 'Eif5a'\n",
       "17. 'Nme1'\n",
       "18. 'Npm1'\n",
       "19. 'Il17a'\n",
       "20. 'Il10'\n",
       "21. 'Ifi27'\n",
       "22. 'Tigit'\n",
       "23. 'Izumo1r'\n",
       "24. 'Hif1a'\n",
       "25. 'Cd74'\n",
       "26. 'Il1r2'\n",
       "27. 'Pdcd1'\n",
       "28. 'Ctsb'\n",
       "29. 'Bcl6'\n",
       "30. 'Ctsz'\n",
       "31. 'Il4'\n",
       "32. 'Cd70'\n",
       "33. 'Ctla4'\n",
       "34. 'Tnfrsf18'\n",
       "35. 'Tnfrsf4'\n",
       "36. 'Tnfrsf9'\n",
       "37. 'Ikzf2'\n",
       "38. 'Foxp3'\n",
       "39. 'Il2ra'\n",
       "40. 'Il1rl1'\n",
       "41. 'Gzmb'\n",
       "42. 'Havcr2'\n",
       "43. 'Ifng'\n",
       "44. 'Cd7'\n",
       "45. 'Fasl'\n",
       "46. 'Prf1'\n",
       "47. 'Ccl5'\n",
       "48. 'Nkg7'\n",
       "49. 'Gzmk'\n",
       "50. 'Eomes'\n",
       "51. 'Crtam'\n",
       "52. 'Ccl4'\n",
       "53. 'Ccl3'\n",
       "54. 'Cd3e'\n",
       "55. 'Lag3'\n",
       "56. 'Tox'\n",
       "57. 'Cd27'\n",
       "58. 'Cst7'\n",
       "59. 'AW112010'\n",
       "60. 'Itgb1'\n",
       "61. 'Cd44'\n",
       "62. 'Cd40lg'\n",
       "63. 'Cd4'\n",
       "64. 'Sostdc1'\n",
       "65. 'Il21'\n",
       "66. 'Tnfsf8'\n",
       "67. 'S100a6'\n",
       "68. 'S100a4'\n",
       "69. 'Klf2'\n",
       "70. 'Ahnak'\n",
       "71. 'Tbx21'\n",
       "72. 'Crip1'\n",
       "73. 'Il7r'\n",
       "74. 'Cd8a'\n",
       "75. 'Cd8b1'\n",
       "76. 'Ifit1'\n",
       "77. 'Ifit3'\n",
       "78. 'Klrd1'\n",
       "79. 'Ncr1'\n",
       "80. 'Klrk1'\n",
       "81. 'Ly6c2'\n",
       "82. 'Klra7'\n",
       "83. 'Rpl23'\n",
       "84. 'Rps20'\n",
       "85. 'Rps8'\n",
       "86. 'Sell'\n",
       "87. 'Tcf7'\n",
       "88. 'Actn1'\n",
       "89. 'Lef1'\n",
       "90. 'Dapl1'\n",
       "91. 'Ccr7'\n",
       "92. 'Igfbp4'\n",
       "\n",
       "\n"
      ],
      "text/plain": [
       " [1] \"Lgals1\"   \"Vim\"      \"Rorc\"     \"Ran\"      \"Ptma\"     \"Dut\"     \n",
       " [7] \"Mcm3\"     \"Gzma\"     \"Birc5\"    \"Mki67\"    \"Ube2c\"    \"Cenpa\"   \n",
       "[13] \"Top2a\"    \"Pclaf\"    \"Mif\"      \"Eif5a\"    \"Nme1\"     \"Npm1\"    \n",
       "[19] \"Il17a\"    \"Il10\"     \"Ifi27\"    \"Tigit\"    \"Izumo1r\"  \"Hif1a\"   \n",
       "[25] \"Cd74\"     \"Il1r2\"    \"Pdcd1\"    \"Ctsb\"     \"Bcl6\"     \"Ctsz\"    \n",
       "[31] \"Il4\"      \"Cd70\"     \"Ctla4\"    \"Tnfrsf18\" \"Tnfrsf4\"  \"Tnfrsf9\" \n",
       "[37] \"Ikzf2\"    \"Foxp3\"    \"Il2ra\"    \"Il1rl1\"   \"Gzmb\"     \"Havcr2\"  \n",
       "[43] \"Ifng\"     \"Cd7\"      \"Fasl\"     \"Prf1\"     \"Ccl5\"     \"Nkg7\"    \n",
       "[49] \"Gzmk\"     \"Eomes\"    \"Crtam\"    \"Ccl4\"     \"Ccl3\"     \"Cd3e\"    \n",
       "[55] \"Lag3\"     \"Tox\"      \"Cd27\"     \"Cst7\"     \"AW112010\" \"Itgb1\"   \n",
       "[61] \"Cd44\"     \"Cd40lg\"   \"Cd4\"      \"Sostdc1\"  \"Il21\"     \"Tnfsf8\"  \n",
       "[67] \"S100a6\"   \"S100a4\"   \"Klf2\"     \"Ahnak\"    \"Tbx21\"    \"Crip1\"   \n",
       "[73] \"Il7r\"     \"Cd8a\"     \"Cd8b1\"    \"Ifit1\"    \"Ifit3\"    \"Klrd1\"   \n",
       "[79] \"Ncr1\"     \"Klrk1\"    \"Ly6c2\"    \"Klra7\"    \"Rpl23\"    \"Rps20\"   \n",
       "[85] \"Rps8\"     \"Sell\"     \"Tcf7\"     \"Actn1\"    \"Lef1\"     \"Dapl1\"   \n",
       "[91] \"Ccr7\"     \"Igfbp4\"  "
      ]
     },
     "metadata": {},
     "output_type": "display_data"
    }
   ],
   "source": [
    "cluster_id = cluster_id[column_order(ht)  %>%  unlist(use.names = FALSE)]\n",
    "cluster_id = factor(cluster_id, levels = cluster_id)\n",
    "\n",
    "cd3_pos_cd8_neg_genes = cd3_pos_cd8_neg_genes[row_order(ht)  %>%  unlist(use.names = FALSE)]\n",
    "cd3_pos_cd8_neg_colors = cd3_pos_cd8_neg_colors[levels(cluster_id)]\n",
    "cd3_pos_cd8_neg$new_annotation<- factor(cd3_pos_cd8_neg$new_annotation, levels = cluster_id)\n",
    "\n",
    "cluster_id\n",
    "cd3_pos_cd8_neg_genes\n",
    "\n",
    "\n",
    "column_ha <- HeatmapAnnotation(foo = anno_text(gsub(\"_.*\", \"\", cluster_id), location = 0.5, just = \"center\", \n",
    "                    gp = gpar(fill = setNames(cd3_pos_cd8_neg_colors, gsub(\"_.*\", \"\", cluster_id)), \n",
    "                              col = \"white\", border = NA)), show_annotation_name = FALSE, show_legend = FALSE)"
   ]
  },
  {
   "cell_type": "markdown",
   "id": "1df28809",
   "metadata": {},
   "source": [
    "### Dotplot by genotype"
   ]
  },
  {
   "cell_type": "code",
   "execution_count": 102,
   "id": "08751c18",
   "metadata": {},
   "outputs": [
    {
     "name": "stdout",
     "output_type": "stream",
     "text": [
      "[1] 18\n",
      "[1] 18\n",
      "[1] 18\n",
      "[1] 18\n",
      "[1] 18\n"
     ]
    },
    {
     "data": {
      "text/html": [
       "72"
      ],
      "text/latex": [
       "72"
      ],
      "text/markdown": [
       "72"
      ],
      "text/plain": [
       "[1] 72"
      ]
     },
     "metadata": {},
     "output_type": "display_data"
    }
   ],
   "source": [
    "WT_cells<- rownames(cd3_pos_cd8_neg@meta.data  %>% filter(genotype == \"WT\"))\n",
    "cd70_cells<- rownames(cd3_pos_cd8_neg@meta.data  %>% filter(genotype == \"CD70-/-\"))\n",
    "single_cells<- rownames(cd3_pos_cd8_neg@meta.data  %>% filter(genotype == \"Bcl6tg/+\"))\n",
    "double_cells<- rownames(cd3_pos_cd8_neg@meta.data  %>% filter(genotype == \"CD70-/-;Bcl6tg/+\"))\n",
    "\n",
    "cd3_pos_cd8_neg_mtx<- GetMatrixFromSeurat2(cd3_pos_cd8_neg, cd3_pos_cd8_neg_genes, \n",
    "                                          group = \"new_annotation\")\n",
    "\n",
    "cd3_pos_cd8_neg_mtx_WT<- GetMatrixFromSeurat2(cd3_pos_cd8_neg[,WT_cells], cd3_pos_cd8_neg_genes, \n",
    "                                          group = \"new_annotation\")\n",
    "\n",
    "cd3_pos_cd8_neg_mtx_cd70<- GetMatrixFromSeurat2(cd3_pos_cd8_neg[,cd70_cells], cd3_pos_cd8_neg_genes, \n",
    "                                          group = \"new_annotation\")\n",
    "\n",
    "cd3_pos_cd8_neg_mtx_single<- GetMatrixFromSeurat2(cd3_pos_cd8_neg[,single_cells], cd3_pos_cd8_neg_genes, \n",
    "                                          group = \"new_annotation\")\n",
    "\n",
    "cd3_pos_cd8_neg_mtx_double<- GetMatrixFromSeurat2(cd3_pos_cd8_neg[,double_cells], cd3_pos_cd8_neg_genes, \n",
    "                                          group = \"new_annotation\")\n",
    "\n",
    "cd3_pos_cd8_neg_combined<- cbind(cd3_pos_cd8_neg_mtx_WT$exp_mat, cd3_pos_cd8_neg_mtx_cd70$exp_mat, \n",
    "                                 cd3_pos_cd8_neg_mtx_single$exp_mat, cd3_pos_cd8_neg_mtx_double$exp_mat)\n",
    "\n",
    "cd3_pos_cd8_neg_combined_scaled<- t(apply(cd3_pos_cd8_neg_combined, 1, scale))\n",
    "cd3_pos_cd8_neg_combined_scaled<- cd3_pos_cd8_neg_combined_scaled  %>% replace(is.na(.),0)\n",
    "\n",
    "ncol(cd3_pos_cd8_neg_combined_scaled)\n",
    "cd3_pos_cd8_neg_mtx_WT_scaled<-  cd3_pos_cd8_neg_combined_scaled[, 1:18]\n",
    "cd3_pos_cd8_neg_mtx_cd70_scaled<-  cd3_pos_cd8_neg_combined_scaled[, 19:36]\n",
    "cd3_pos_cd8_neg_mtx_single_scaled<-  cd3_pos_cd8_neg_combined_scaled[, 37:54]\n",
    "cd3_pos_cd8_neg_mtx_double_scaled<-  cd3_pos_cd8_neg_combined_scaled[, 55:72]\n",
    "\n",
    "colnames(cd3_pos_cd8_neg_mtx_WT_scaled)<- colnames(cd3_pos_cd8_neg_mtx$exp_mat)\n",
    "colnames(cd3_pos_cd8_neg_mtx_cd70_scaled)<- colnames(cd3_pos_cd8_neg_mtx$exp_mat)\n",
    "colnames(cd3_pos_cd8_neg_mtx_single_scaled)<- colnames(cd3_pos_cd8_neg_mtx$exp_mat)\n",
    "colnames(cd3_pos_cd8_neg_mtx_double_scaled)<- colnames(cd3_pos_cd8_neg_mtx$exp_mat)"
   ]
  },
  {
   "cell_type": "code",
   "execution_count": 103,
   "id": "5f34fdcb",
   "metadata": {},
   "outputs": [
    {
     "data": {
      "text/html": [
       "<strong>png:</strong> 2"
      ],
      "text/latex": [
       "\\textbf{png:} 2"
      ],
      "text/markdown": [
       "**png:** 2"
      ],
      "text/plain": [
       "png \n",
       "  2 "
      ]
     },
     "metadata": {},
     "output_type": "display_data"
    }
   ],
   "source": [
    "row_split = factor(rep(names(row_order(ht)), lengths(row_order(ht))), levels = names(row_order(ht)))\n",
    "col_split = factor(rep(names(column_order(ht)), lengths(column_order(ht))), levels = names(column_order(ht)))\n",
    "\n",
    "\n",
    "\n",
    "hp1<- MakeClusterDotPlot(exp_mat = cd3_pos_cd8_neg_mtx_WT_scaled, \n",
    "               percent_mat = cd3_pos_cd8_neg_mtx_WT$percent_mat, \n",
    "               col_fun = col_fun,\n",
    "               cluster_id = cluster_id,              \n",
    "               column_title = \"WT\",\n",
    "               column_title_side = \"bottom\",\n",
    "               row_split = row_split,\n",
    "               column_split = col_split,\n",
    "               row_names_font_size = 8, \n",
    "               column_ha = column_ha,\n",
    "               legend_dot_size = unit(2, \"mm\"),\n",
    "               show_row_dend =FALSE,\n",
    "               show_column_dend = FALSE,\n",
    "               column_names_side = \"top\",\n",
    "               cluster_rows = FALSE, cluster_columns = FALSE)\n",
    "\n",
    "hp2<- MakeClusterDotPlot(exp_mat = cd3_pos_cd8_neg_mtx_cd70_scaled, \n",
    "               percent_mat = cd3_pos_cd8_neg_mtx_cd70$percent_mat, \n",
    "               col_fun = col_fun, cluster_id = cluster_id,\n",
    "               column_title = \"CD70-/-\",\n",
    "               column_title_side = \"bottom\",\n",
    "               row_split = row_split,\n",
    "               column_split = col_split,\n",
    "               row_names_font_size = 8, \n",
    "               column_ha = column_ha,\n",
    "               legend_dot_size = unit(2, \"mm\"),\n",
    "               column_names_side = \"top\", cluster_rows = FALSE, cluster_columns = FALSE)\n",
    "\n",
    "hp3<- MakeClusterDotPlot(exp_mat = cd3_pos_cd8_neg_mtx_single_scaled, \n",
    "               percent_mat = cd3_pos_cd8_neg_mtx_single$percent_mat, \n",
    "               col_fun = col_fun, cluster_id = cluster_id,\n",
    "               column_title = \"Bcl6tg/+\",\n",
    "               column_title_side = \"bottom\",         \n",
    "               row_split = row_split,\n",
    "               column_split = col_split,\n",
    "               row_names_font_size = 8, \n",
    "               column_ha = column_ha,\n",
    "               legend_dot_size = unit(2, \"mm\"),\n",
    "               column_names_side = \"top\", cluster_rows = FALSE, cluster_columns = FALSE)\n",
    "\n",
    "hp4<- MakeClusterDotPlot(exp_mat = cd3_pos_cd8_neg_mtx_double_scaled, \n",
    "               percent_mat = cd3_pos_cd8_neg_mtx_double$percent_mat, \n",
    "               col_fun = col_fun, cluster_id = cluster_id,\n",
    "               column_title = \"CD70-/-;Bcl6tg/+\",\n",
    "               column_title_side = \"bottom\",         \n",
    "               row_split = row_split,\n",
    "               column_split = col_split,\n",
    "               row_names_font_size = 8, \n",
    "               column_ha = column_ha,\n",
    "               legend_dot_size = unit(2, \"mm\"),\n",
    "               column_names_side = \"top\", cluster_rows = FALSE, cluster_columns = FALSE)\n",
    "\n",
    "pdf(\"./results/figures/5_cd3_pos_cd8_neg_dotplot_final_annotation_by_genotype.pdf\", width = 20, height = 14)\n",
    "draw(hp1 + hp2 + hp3 + hp4 , annotation_legend_list = lgd, ht_gap = unit(1, \"cm\") )\n",
    "dev.off()"
   ]
  },
  {
   "cell_type": "markdown",
   "id": "595105ca",
   "metadata": {},
   "source": [
    "### Dotplot by age"
   ]
  },
  {
   "cell_type": "code",
   "execution_count": 104,
   "id": "75595616",
   "metadata": {},
   "outputs": [
    {
     "name": "stdout",
     "output_type": "stream",
     "text": [
      "[1] 18\n",
      "[1] 18\n",
      "[1] 18\n",
      "[1] 18\n",
      "[1] 18\n"
     ]
    },
    {
     "data": {
      "text/html": [
       "72"
      ],
      "text/latex": [
       "72"
      ],
      "text/markdown": [
       "72"
      ],
      "text/plain": [
       "[1] 72"
      ]
     },
     "metadata": {},
     "output_type": "display_data"
    }
   ],
   "source": [
    "n_6mos_cells<- rownames(cd3_pos_cd8_neg@meta.data  %>% filter(age == \"6mos\"))\n",
    "n_14mos_cells<- rownames(cd3_pos_cd8_neg@meta.data  %>% filter(age == \"14mos\"))\n",
    "n_18mos_cells<- rownames(cd3_pos_cd8_neg@meta.data  %>% filter(age == \"18mos\"))\n",
    "sick_cells<- rownames(cd3_pos_cd8_neg@meta.data  %>% filter(age == \"sick\"))\n",
    "\n",
    "cd3_pos_cd8_neg_mtx<- GetMatrixFromSeurat2(cd3_pos_cd8_neg, cd3_pos_cd8_neg_genes, \n",
    "                                          group = \"new_annotation\")\n",
    "\n",
    "cd3_pos_cd8_neg_mtx_6mos<- GetMatrixFromSeurat2(cd3_pos_cd8_neg[,n_6mos_cells], cd3_pos_cd8_neg_genes, \n",
    "                                          group = \"new_annotation\")\n",
    "\n",
    "cd3_pos_cd8_neg_mtx_14mos<- GetMatrixFromSeurat2(cd3_pos_cd8_neg[,n_14mos_cells], cd3_pos_cd8_neg_genes, \n",
    "                                          group = \"new_annotation\")\n",
    "\n",
    "cd3_pos_cd8_neg_mtx_18mos<- GetMatrixFromSeurat2(cd3_pos_cd8_neg[,n_18mos_cells], cd3_pos_cd8_neg_genes, \n",
    "                                          group = \"new_annotation\")\n",
    "\n",
    "cd3_pos_cd8_neg_mtx_sick<- GetMatrixFromSeurat2(cd3_pos_cd8_neg[,sick_cells], cd3_pos_cd8_neg_genes, \n",
    "                                          group = \"new_annotation\")\n",
    "\n",
    "cd3_pos_cd8_neg_combined<- cbind(cd3_pos_cd8_neg_mtx_6mos$exp_mat, cd3_pos_cd8_neg_mtx_14mos$exp_mat, \n",
    "                                 cd3_pos_cd8_neg_mtx_18mos$exp_mat, cd3_pos_cd8_neg_mtx_sick$exp_mat)\n",
    "\n",
    "cd3_pos_cd8_neg_combined_scaled<- t(apply(cd3_pos_cd8_neg_combined, 1, scale))\n",
    "cd3_pos_cd8_neg_combined_scaled<- cd3_pos_cd8_neg_combined_scaled  %>% replace(is.na(.),0)\n",
    "\n",
    "\n",
    "ncol(cd3_pos_cd8_neg_combined_scaled)\n",
    "cd3_pos_cd8_neg_mtx_6mos_scaled<-  cd3_pos_cd8_neg_combined_scaled[, 1:18]\n",
    "cd3_pos_cd8_neg_mtx_14mos_scaled<-  cd3_pos_cd8_neg_combined_scaled[, 19:36]\n",
    "cd3_pos_cd8_neg_mtx_18mos_scaled<-  cd3_pos_cd8_neg_combined_scaled[, 37:54]\n",
    "cd3_pos_cd8_neg_mtx_sick_scaled<-  cd3_pos_cd8_neg_combined_scaled[, 55:72]\n",
    "\n",
    "colnames(cd3_pos_cd8_neg_mtx_6mos_scaled)<- colnames(cd3_pos_cd8_neg_mtx$exp_mat)\n",
    "colnames(cd3_pos_cd8_neg_mtx_14mos_scaled)<- colnames(cd3_pos_cd8_neg_mtx$exp_mat)\n",
    "colnames(cd3_pos_cd8_neg_mtx_18mos_scaled)<- colnames(cd3_pos_cd8_neg_mtx$exp_mat)\n",
    "colnames(cd3_pos_cd8_neg_mtx_sick_scaled)<- colnames(cd3_pos_cd8_neg_mtx$exp_mat)"
   ]
  },
  {
   "cell_type": "code",
   "execution_count": 105,
   "id": "e65334c1",
   "metadata": {},
   "outputs": [
    {
     "data": {
      "text/html": [
       "<strong>png:</strong> 2"
      ],
      "text/latex": [
       "\\textbf{png:} 2"
      ],
      "text/markdown": [
       "**png:** 2"
      ],
      "text/plain": [
       "png \n",
       "  2 "
      ]
     },
     "metadata": {},
     "output_type": "display_data"
    }
   ],
   "source": [
    "pdf(\"./results/figures/5_cd3_pos_cd8_neg_dotplot_final_annotation_by_age.pdf\", width = 20, height = 14)\n",
    "\n",
    "hp1<- MakeClusterDotPlot(exp_mat = cd3_pos_cd8_neg_mtx_6mos_scaled, \n",
    "               percent_mat = cd3_pos_cd8_neg_mtx_6mos$percent_mat,\n",
    "               col_fun = col_fun, cluster_id = cluster_id,\n",
    "               column_title = \"6mos\",\n",
    "               column_title_side = \"bottom\",\n",
    "               row_split = row_split,column_split = col_split,\n",
    "               row_names_font_size = 8, \n",
    "               column_ha = column_ha,\n",
    "               legend_dot_size = unit(2, \"mm\"),\n",
    "               show_row_dend =FALSE,\n",
    "               show_column_dend = FALSE,\n",
    "               column_names_side = \"top\", cluster_rows = FALSE, cluster_columns=FALSE)\n",
    "\n",
    "hp2<- MakeClusterDotPlot(exp_mat = cd3_pos_cd8_neg_mtx_14mos_scaled, \n",
    "               percent_mat = cd3_pos_cd8_neg_mtx_14mos$percent_mat, \n",
    "               col_fun = col_fun, cluster_id = cluster_id,\n",
    "               column_title = \"14mos\",\n",
    "               column_title_side = \"bottom\",\n",
    "               row_split = row_split,\n",
    "               column_split = col_split,\n",
    "               row_names_font_size = 8, \n",
    "               column_ha = column_ha,\n",
    "               legend_dot_size = unit(2, \"mm\"),\n",
    "               column_names_side = \"top\", cluster_rows = FALSE, cluster_columns=FALSE)\n",
    "\n",
    "hp3<- MakeClusterDotPlot(exp_mat = cd3_pos_cd8_neg_mtx_18mos_scaled, \n",
    "               percent_mat = cd3_pos_cd8_neg_mtx_18mos$percent_mat, \n",
    "               col_fun = col_fun, cluster_id = cluster_id,\n",
    "               column_title = \"18mos\",\n",
    "               column_title_side = \"bottom\",         \n",
    "               row_split = row_split,\n",
    "               column_split = col_split,\n",
    "               row_names_font_size = 8, \n",
    "               column_ha = column_ha,\n",
    "               legend_dot_size = unit(2, \"mm\"),\n",
    "               column_names_side = \"top\", cluster_rows = FALSE, cluster_columns=FALSE)\n",
    "\n",
    "hp4<- MakeClusterDotPlot(exp_mat = cd3_pos_cd8_neg_mtx_sick_scaled, \n",
    "               percent_mat = cd3_pos_cd8_neg_mtx_sick$percent_mat, \n",
    "               col_fun = col_fun, cluster_id = cluster_id,\n",
    "               column_title = \"sick\",\n",
    "               column_title_side = \"bottom\",         \n",
    "               row_split = row_split,\n",
    "               column_split = col_split,\n",
    "               row_names_font_size = 8, \n",
    "               column_ha = column_ha,\n",
    "               legend_dot_size = unit(2, \"mm\"),\n",
    "               column_names_side = \"top\", cluster_rows = FALSE, cluster_columns=FALSE)\n",
    "\n",
    "draw(hp1 + hp2 + hp3 + hp4 , annotation_legend_list = lgd, ht_gap = unit(1, \"cm\") )\n",
    "dev.off()"
   ]
  },
  {
   "cell_type": "markdown",
   "id": "9c3d97f7",
   "metadata": {},
   "source": [
    "### By age and genotype"
   ]
  },
  {
   "cell_type": "markdown",
   "id": "e46c9f4f",
   "metadata": {},
   "source": [
    "- 6mos (WT, CD70-/-, Bcl6tg/+, CD70-/-;Bcl6tg/+)"
   ]
  },
  {
   "cell_type": "code",
   "execution_count": 106,
   "id": "05a40b55",
   "metadata": {},
   "outputs": [
    {
     "name": "stdout",
     "output_type": "stream",
     "text": [
      "[1] 18\n",
      "[1] 18\n",
      "[1] 18\n",
      "[1] 18\n",
      "[1] 18\n"
     ]
    },
    {
     "data": {
      "text/html": [
       "72"
      ],
      "text/latex": [
       "72"
      ],
      "text/markdown": [
       "72"
      ],
      "text/plain": [
       "[1] 72"
      ]
     },
     "metadata": {},
     "output_type": "display_data"
    },
    {
     "data": {
      "text/html": [
       "<strong>png:</strong> 2"
      ],
      "text/latex": [
       "\\textbf{png:} 2"
      ],
      "text/markdown": [
       "**png:** 2"
      ],
      "text/plain": [
       "png \n",
       "  2 "
      ]
     },
     "metadata": {},
     "output_type": "display_data"
    }
   ],
   "source": [
    "n_6mos_WT_cells<- rownames(cd3_pos_cd8_neg@meta.data  %>% filter(age == \"6mos\", genotype == \"WT\"))\n",
    "n_6mos_cd70_cells<- rownames(cd3_pos_cd8_neg@meta.data  %>% filter(age == \"6mos\", genotype == \"CD70-/-\"))\n",
    "n_6mos_single_cells<- rownames(cd3_pos_cd8_neg@meta.data  %>% filter(age == \"6mos\", genotype == \"Bcl6tg/+\"))\n",
    "n_6mos_double_cells<- rownames(cd3_pos_cd8_neg@meta.data  %>% filter(age == \"6mos\", genotype == \"CD70-/-;Bcl6tg/+\"))\n",
    "\n",
    "cd3_pos_cd8_neg_mtx<- GetMatrixFromSeurat2(cd3_pos_cd8_neg, cd3_pos_cd8_neg_genes, \n",
    "                                          group = \"new_annotation\")\n",
    "\n",
    "cd3_pos_cd8_neg_mtx_6mos_WT<- GetMatrixFromSeurat2(cd3_pos_cd8_neg[,n_6mos_WT_cells], cd3_pos_cd8_neg_genes, \n",
    "                                          group = \"new_annotation\")\n",
    "\n",
    "cd3_pos_cd8_neg_mtx_6mos_cd70<- GetMatrixFromSeurat2(cd3_pos_cd8_neg[,n_6mos_cd70_cells], cd3_pos_cd8_neg_genes, \n",
    "                                          group = \"new_annotation\")\n",
    "\n",
    "cd3_pos_cd8_neg_mtx_6mos_single<- GetMatrixFromSeurat2(cd3_pos_cd8_neg[,n_6mos_single_cells], cd3_pos_cd8_neg_genes, \n",
    "                                          group = \"new_annotation\")\n",
    "\n",
    "cd3_pos_cd8_neg_mtx_6mos_double<- GetMatrixFromSeurat2(cd3_pos_cd8_neg[,n_6mos_double_cells], cd3_pos_cd8_neg_genes, \n",
    "                                          group = \"new_annotation\")\n",
    "\n",
    "cd3_pos_cd8_neg_combined<- cbind(cd3_pos_cd8_neg_mtx_6mos_WT$exp_mat,\n",
    "                        cd3_pos_cd8_neg_mtx_6mos_cd70$exp_mat,\n",
    "                        cd3_pos_cd8_neg_mtx_6mos_single$exp_mat,\n",
    "                        cd3_pos_cd8_neg_mtx_6mos_double$exp_mat)\n",
    "\n",
    "cd3_pos_cd8_neg_combined_scaled<- t(apply(cd3_pos_cd8_neg_combined, 1, scale))\n",
    "cd3_pos_cd8_neg_combined_scaled<- cd3_pos_cd8_neg_combined_scaled  %>% replace(is.na(.),0)\n",
    "# cd3_pos_cd8_neg_combined_scaled = cd3_pos_cd8_neg_combined_scaled[row_order(ht)  %>%  unlist(use.names = FALSE), ]\n",
    "\n",
    "\n",
    "ncol(cd3_pos_cd8_neg_combined_scaled)\n",
    "cd3_pos_cd8_neg_mtx_6mos_WT_scaled<-  cd3_pos_cd8_neg_combined_scaled[, 1:18]\n",
    "cd3_pos_cd8_neg_mtx_6mos_cd70_scaled<-  cd3_pos_cd8_neg_combined_scaled[, 19:36]\n",
    "cd3_pos_cd8_neg_mtx_6mos_single_scaled<-  cd3_pos_cd8_neg_combined_scaled[, 37:54]\n",
    "cd3_pos_cd8_neg_mtx_6mos_double_scaled<-  cd3_pos_cd8_neg_combined_scaled[, 55:72]\n",
    "\n",
    "colnames(cd3_pos_cd8_neg_mtx_6mos_WT_scaled)<- colnames(cd3_pos_cd8_neg_mtx$exp_mat)\n",
    "colnames(cd3_pos_cd8_neg_mtx_6mos_cd70_scaled)<- colnames(cd3_pos_cd8_neg_mtx$exp_mat)\n",
    "colnames(cd3_pos_cd8_neg_mtx_6mos_single_scaled)<- colnames(cd3_pos_cd8_neg_mtx$exp_mat)\n",
    "colnames(cd3_pos_cd8_neg_mtx_6mos_double_scaled)<- colnames(cd3_pos_cd8_neg_mtx$exp_mat)\n",
    "\n",
    "pdf(\"./results/figures/5_cd3_pos_cd8_neg_dotplot_final_annotation_6mos_by_genotype.pdf\", width = 20, height = 12)\n",
    "\n",
    "hp1<- MakeClusterDotPlot(exp_mat = cd3_pos_cd8_neg_mtx_6mos_WT_scaled, \n",
    "               percent_mat = cd3_pos_cd8_neg_mtx_6mos_WT$percent_mat, \n",
    "               col_fun = col_fun,\n",
    "               cluster_id = cluster_id,              \n",
    "               column_title = \"6mos WT\",\n",
    "               column_title_side = \"bottom\",\n",
    "               row_split = row_split,\n",
    "               column_split = col_split,\n",
    "               row_names_font_size = 8, \n",
    "               column_ha = column_ha,\n",
    "               legend_dot_size = unit(2, \"mm\"),\n",
    "               show_row_dend =FALSE,\n",
    "               show_column_dend = FALSE,\n",
    "               column_names_side = \"top\",\n",
    "               cluster_rows = FALSE, cluster_columns = FALSE)\n",
    "\n",
    "hp2<- MakeClusterDotPlot(exp_mat = cd3_pos_cd8_neg_mtx_6mos_cd70_scaled, \n",
    "               percent_mat = cd3_pos_cd8_neg_mtx_6mos_cd70$percent_mat, \n",
    "               col_fun = col_fun, cluster_id = cluster_id,\n",
    "               column_title = \"6mos CD70-/-\",\n",
    "               column_title_side = \"bottom\",\n",
    "               row_split = row_split,\n",
    "               column_split = col_split,\n",
    "               row_names_font_size = 8, \n",
    "               column_ha = column_ha,\n",
    "               legend_dot_size = unit(2, \"mm\"),\n",
    "               column_names_side = \"top\", cluster_rows = FALSE, cluster_columns = FALSE)\n",
    "\n",
    "hp3<- MakeClusterDotPlot(exp_mat = cd3_pos_cd8_neg_mtx_6mos_single_scaled, \n",
    "               percent_mat = cd3_pos_cd8_neg_mtx_6mos_single$percent_mat, \n",
    "               col_fun = col_fun, cluster_id = cluster_id,\n",
    "               column_title = \"6mos Bcl6tg/+\",\n",
    "               column_title_side = \"bottom\",         \n",
    "               row_split = row_split,\n",
    "               column_split = col_split,\n",
    "               row_names_font_size = 8, \n",
    "               column_ha = column_ha,\n",
    "               legend_dot_size = unit(2, \"mm\"),\n",
    "               column_names_side = \"top\", cluster_rows = FALSE, cluster_columns = FALSE)\n",
    "\n",
    "hp4<- MakeClusterDotPlot(exp_mat = cd3_pos_cd8_neg_mtx_6mos_double_scaled, \n",
    "               percent_mat = cd3_pos_cd8_neg_mtx_6mos_double$percent_mat, \n",
    "               col_fun = col_fun, cluster_id = cluster_id,\n",
    "               column_title = \"6mos CD70-/-;Bcl6tg/+\",\n",
    "               column_title_side = \"bottom\",         \n",
    "               row_split = row_split,\n",
    "               column_split = col_split,\n",
    "               row_names_font_size = 8, \n",
    "               column_ha = column_ha,\n",
    "               legend_dot_size = unit(2, \"mm\"),\n",
    "               column_names_side = \"top\", cluster_rows = FALSE, cluster_columns = FALSE)\n",
    "\n",
    "draw(hp1 + hp2 + hp3 + hp4 , annotation_legend_list = lgd, ht_gap = unit(1, \"cm\") )\n",
    "dev.off()"
   ]
  },
  {
   "cell_type": "markdown",
   "id": "73e0019f",
   "metadata": {},
   "source": [
    "- 14mos (WT, CD70-/-, Bcl6tg/+, CD70-/-;Bcl6tg/+)"
   ]
  },
  {
   "cell_type": "code",
   "execution_count": 107,
   "id": "df86f8b2",
   "metadata": {},
   "outputs": [
    {
     "name": "stdout",
     "output_type": "stream",
     "text": [
      "[1] 18\n",
      "[1] 18\n",
      "[1] 18\n",
      "[1] 18\n"
     ]
    },
    {
     "data": {
      "text/html": [
       "72"
      ],
      "text/latex": [
       "72"
      ],
      "text/markdown": [
       "72"
      ],
      "text/plain": [
       "[1] 72"
      ]
     },
     "metadata": {},
     "output_type": "display_data"
    },
    {
     "data": {
      "text/html": [
       "<strong>png:</strong> 2"
      ],
      "text/latex": [
       "\\textbf{png:} 2"
      ],
      "text/markdown": [
       "**png:** 2"
      ],
      "text/plain": [
       "png \n",
       "  2 "
      ]
     },
     "metadata": {},
     "output_type": "display_data"
    }
   ],
   "source": [
    "n_14mos_WT_cells<- rownames(cd3_pos_cd8_neg@meta.data  %>% filter(age == \"14mos\", genotype == \"WT\"))\n",
    "n_14mos_cd70_cells<- rownames(cd3_pos_cd8_neg@meta.data  %>% filter(age == \"14mos\", genotype == \"CD70-/-\"))\n",
    "n_14mos_single_cells<- rownames(cd3_pos_cd8_neg@meta.data  %>% filter(age == \"14mos\", genotype == \"Bcl6tg/+\"))\n",
    "n_14mos_double_cells<- rownames(cd3_pos_cd8_neg@meta.data  %>% filter(age == \"14mos\", genotype == \"CD70-/-;Bcl6tg/+\"))\n",
    "\n",
    "cd3_pos_cd8_neg_mtx<- GetMatrixFromSeurat(cd3_pos_cd8_neg, cd3_pos_cd8_neg_genes, \n",
    "                                          group = \"new_annotation\")\n",
    "\n",
    "cd3_pos_cd8_neg_mtx_14mos_WT<- GetMatrixFromSeurat2(cd3_pos_cd8_neg[,n_14mos_WT_cells], cd3_pos_cd8_neg_genes, \n",
    "                                          group = \"new_annotation\")\n",
    "\n",
    "cd3_pos_cd8_neg_mtx_14mos_cd70<- GetMatrixFromSeurat2(cd3_pos_cd8_neg[,n_14mos_cd70_cells], cd3_pos_cd8_neg_genes, \n",
    "                                          group = \"new_annotation\")\n",
    "\n",
    "cd3_pos_cd8_neg_mtx_14mos_single<- GetMatrixFromSeurat2(cd3_pos_cd8_neg[,n_14mos_single_cells], cd3_pos_cd8_neg_genes, \n",
    "                                          group = \"new_annotation\")\n",
    "\n",
    "cd3_pos_cd8_neg_mtx_14mos_double<- GetMatrixFromSeurat2(cd3_pos_cd8_neg[,n_14mos_double_cells], cd3_pos_cd8_neg_genes, \n",
    "                                          group = \"new_annotation\")\n",
    "\n",
    "cd3_pos_cd8_neg_combined<- cbind(cd3_pos_cd8_neg_mtx_14mos_WT$exp_mat,\n",
    "                        cd3_pos_cd8_neg_mtx_14mos_cd70$exp_mat,\n",
    "                        cd3_pos_cd8_neg_mtx_14mos_single$exp_mat,\n",
    "                        cd3_pos_cd8_neg_mtx_14mos_double$exp_mat)\n",
    "\n",
    "cd3_pos_cd8_neg_combined_scaled<- t(apply(cd3_pos_cd8_neg_combined, 1, scale))\n",
    "cd3_pos_cd8_neg_combined_scaled<- cd3_pos_cd8_neg_combined_scaled  %>% replace(is.na(.),0)\n",
    "# cd3_pos_cd8_neg_combined_scaled = cd3_pos_cd8_neg_combined_scaled[row_order(ht)  %>%  unlist(use.names = FALSE), ]\n",
    "\n",
    "\n",
    "ncol(cd3_pos_cd8_neg_combined_scaled)\n",
    "cd3_pos_cd8_neg_mtx_14mos_WT_scaled<-  cd3_pos_cd8_neg_combined_scaled[, 1:18]\n",
    "cd3_pos_cd8_neg_mtx_14mos_cd70_scaled<-  cd3_pos_cd8_neg_combined_scaled[, 19:36]\n",
    "cd3_pos_cd8_neg_mtx_14mos_single_scaled<-  cd3_pos_cd8_neg_combined_scaled[, 37:54]\n",
    "cd3_pos_cd8_neg_mtx_14mos_double_scaled<-  cd3_pos_cd8_neg_combined_scaled[, 55:72]\n",
    "\n",
    "colnames(cd3_pos_cd8_neg_mtx_14mos_WT_scaled)<- colnames(cd3_pos_cd8_neg_mtx$exp_mat)\n",
    "colnames(cd3_pos_cd8_neg_mtx_14mos_cd70_scaled)<- colnames(cd3_pos_cd8_neg_mtx$exp_mat)\n",
    "colnames(cd3_pos_cd8_neg_mtx_14mos_single_scaled)<- colnames(cd3_pos_cd8_neg_mtx$exp_mat)\n",
    "colnames(cd3_pos_cd8_neg_mtx_14mos_double_scaled)<- colnames(cd3_pos_cd8_neg_mtx$exp_mat)\n",
    "\n",
    "pdf(\"./results/figures/5_cd3_pos_cd8_neg_dotplot_final_annotation_14mos_by_genotype.pdf\", width = 20, height = 12)\n",
    "\n",
    "hp1<- MakeClusterDotPlot(exp_mat = cd3_pos_cd8_neg_mtx_14mos_WT_scaled, \n",
    "               percent_mat = cd3_pos_cd8_neg_mtx_14mos_WT$percent_mat, \n",
    "               col_fun = col_fun,\n",
    "               cluster_id = cluster_id,              \n",
    "               column_title = \"14mos WT\",\n",
    "               column_title_side = \"bottom\",\n",
    "               row_split = row_split,\n",
    "               column_split = col_split,\n",
    "               row_names_font_size = 8, \n",
    "               column_ha = column_ha,\n",
    "               legend_dot_size = unit(2, \"mm\"),\n",
    "               show_row_dend =FALSE,\n",
    "               show_column_dend = FALSE,\n",
    "               column_names_side = \"top\",\n",
    "               cluster_rows = FALSE, cluster_columns = FALSE)\n",
    "\n",
    "hp2<- MakeClusterDotPlot(exp_mat = cd3_pos_cd8_neg_mtx_14mos_cd70_scaled, \n",
    "               percent_mat = cd3_pos_cd8_neg_mtx_14mos_cd70$percent_mat, \n",
    "               col_fun = col_fun, cluster_id = cluster_id,\n",
    "               column_title = \"14mos CD70-/-\",\n",
    "               column_title_side = \"bottom\",\n",
    "               row_split = row_split,\n",
    "               column_split = col_split,\n",
    "               row_names_font_size = 8, \n",
    "               column_ha = column_ha,\n",
    "               legend_dot_size = unit(2, \"mm\"),\n",
    "               column_names_side = \"top\", cluster_rows = FALSE, cluster_columns = FALSE)\n",
    "\n",
    "hp3<- MakeClusterDotPlot(exp_mat = cd3_pos_cd8_neg_mtx_14mos_single_scaled, \n",
    "               percent_mat = cd3_pos_cd8_neg_mtx_14mos_single$percent_mat, \n",
    "               col_fun = col_fun, cluster_id = cluster_id,\n",
    "               column_title = \"14mos Bcl6tg/+\",\n",
    "               column_title_side = \"bottom\",         \n",
    "               row_split = row_split,\n",
    "               column_split = col_split,\n",
    "               row_names_font_size = 8, \n",
    "               column_ha = column_ha,\n",
    "               legend_dot_size = unit(2, \"mm\"),\n",
    "               column_names_side = \"top\", cluster_rows = FALSE, cluster_columns = FALSE)\n",
    "\n",
    "hp4<- MakeClusterDotPlot(exp_mat = cd3_pos_cd8_neg_mtx_14mos_double_scaled, \n",
    "               percent_mat = cd3_pos_cd8_neg_mtx_14mos_double$percent_mat, \n",
    "               col_fun = col_fun, cluster_id = cluster_id,\n",
    "               column_title = \"14mos CD70-/-;Bcl6tg/+\",\n",
    "               column_title_side = \"bottom\",         \n",
    "               row_split = row_split,\n",
    "               column_split = col_split,\n",
    "               row_names_font_size = 8, \n",
    "               column_ha = column_ha,\n",
    "               legend_dot_size = unit(2, \"mm\"),\n",
    "               column_names_side = \"top\", cluster_rows = FALSE, cluster_columns = FALSE)\n",
    "\n",
    "draw(hp1 + hp2 + hp3 + hp4 , annotation_legend_list = lgd, ht_gap = unit(1, \"cm\") )\n",
    "dev.off()"
   ]
  },
  {
   "cell_type": "markdown",
   "id": "67826130",
   "metadata": {},
   "source": [
    "- 18mos (WT, CD70-/-, Bcl6tg/+, CD70-/-;Bcl6tg/+)"
   ]
  },
  {
   "cell_type": "code",
   "execution_count": 108,
   "id": "d3b5e56f",
   "metadata": {},
   "outputs": [
    {
     "name": "stdout",
     "output_type": "stream",
     "text": [
      "[1] 18\n",
      "[1] 18\n",
      "[1] 18\n",
      "[1] 18\n",
      "[1] 18\n"
     ]
    },
    {
     "data": {
      "text/html": [
       "72"
      ],
      "text/latex": [
       "72"
      ],
      "text/markdown": [
       "72"
      ],
      "text/plain": [
       "[1] 72"
      ]
     },
     "metadata": {},
     "output_type": "display_data"
    },
    {
     "data": {
      "text/html": [
       "<strong>png:</strong> 2"
      ],
      "text/latex": [
       "\\textbf{png:} 2"
      ],
      "text/markdown": [
       "**png:** 2"
      ],
      "text/plain": [
       "png \n",
       "  2 "
      ]
     },
     "metadata": {},
     "output_type": "display_data"
    }
   ],
   "source": [
    "n_18mos_WT_cells<- rownames(cd3_pos_cd8_neg@meta.data  %>% filter(age == \"18mos\", genotype == \"WT\"))\n",
    "n_18mos_cd70_cells<- rownames(cd3_pos_cd8_neg@meta.data  %>% filter(age == \"18mos\", genotype == \"CD70-/-\"))\n",
    "n_18mos_single_cells<- rownames(cd3_pos_cd8_neg@meta.data  %>% filter(age == \"18mos\", genotype == \"Bcl6tg/+\"))\n",
    "n_18mos_double_cells<- rownames(cd3_pos_cd8_neg@meta.data  %>% filter(age == \"18mos\", genotype == \"CD70-/-;Bcl6tg/+\"))\n",
    "\n",
    "cd3_pos_cd8_neg_mtx<- GetMatrixFromSeurat2(cd3_pos_cd8_neg, cd3_pos_cd8_neg_genes, \n",
    "                                          group = \"new_annotation\")\n",
    "\n",
    "cd3_pos_cd8_neg_mtx_18mos_WT<- GetMatrixFromSeurat2(cd3_pos_cd8_neg[,n_18mos_WT_cells], cd3_pos_cd8_neg_genes, \n",
    "                                          group = \"new_annotation\")\n",
    "\n",
    "cd3_pos_cd8_neg_mtx_18mos_cd70<- GetMatrixFromSeurat2(cd3_pos_cd8_neg[,n_18mos_cd70_cells], cd3_pos_cd8_neg_genes, \n",
    "                                          group = \"new_annotation\")\n",
    "\n",
    "cd3_pos_cd8_neg_mtx_18mos_single<- GetMatrixFromSeurat2(cd3_pos_cd8_neg[,n_18mos_single_cells], cd3_pos_cd8_neg_genes, \n",
    "                                          group = \"new_annotation\")\n",
    "\n",
    "cd3_pos_cd8_neg_mtx_18mos_double<- GetMatrixFromSeurat2(cd3_pos_cd8_neg[,n_18mos_double_cells], cd3_pos_cd8_neg_genes, \n",
    "                                          group = \"new_annotation\")\n",
    "\n",
    "cd3_pos_cd8_neg_combined<- cbind(cd3_pos_cd8_neg_mtx_18mos_WT$exp_mat,\n",
    "                        cd3_pos_cd8_neg_mtx_18mos_cd70$exp_mat,\n",
    "                        cd3_pos_cd8_neg_mtx_18mos_single$exp_mat,\n",
    "                        cd3_pos_cd8_neg_mtx_18mos_double$exp_mat)\n",
    "\n",
    "cd3_pos_cd8_neg_combined_scaled<- t(apply(cd3_pos_cd8_neg_combined, 1, scale))\n",
    "cd3_pos_cd8_neg_combined_scaled<- cd3_pos_cd8_neg_combined_scaled  %>% replace(is.na(.),0)\n",
    "# cd3_pos_cd8_neg_combined_scaled = cd3_pos_cd8_neg_combined_scaled[row_order(ht)  %>%  unlist(use.names = FALSE), ]\n",
    "\n",
    "\n",
    "ncol(cd3_pos_cd8_neg_combined_scaled)\n",
    "cd3_pos_cd8_neg_mtx_18mos_WT_scaled<-  cd3_pos_cd8_neg_combined_scaled[, 1:18]\n",
    "cd3_pos_cd8_neg_mtx_18mos_cd70_scaled<-  cd3_pos_cd8_neg_combined_scaled[, 19:36]\n",
    "cd3_pos_cd8_neg_mtx_18mos_single_scaled<-  cd3_pos_cd8_neg_combined_scaled[, 37:54]\n",
    "cd3_pos_cd8_neg_mtx_18mos_double_scaled<-  cd3_pos_cd8_neg_combined_scaled[, 55:72]\n",
    "\n",
    "colnames(cd3_pos_cd8_neg_mtx_18mos_WT_scaled)<- colnames(cd3_pos_cd8_neg_mtx$exp_mat)\n",
    "colnames(cd3_pos_cd8_neg_mtx_18mos_cd70_scaled)<- colnames(cd3_pos_cd8_neg_mtx$exp_mat)\n",
    "colnames(cd3_pos_cd8_neg_mtx_18mos_single_scaled)<- colnames(cd3_pos_cd8_neg_mtx$exp_mat)\n",
    "colnames(cd3_pos_cd8_neg_mtx_18mos_double_scaled)<- colnames(cd3_pos_cd8_neg_mtx$exp_mat)\n",
    "\n",
    "pdf(\"./results/figures/5_cd3_pos_cd8_neg_dotplot_final_annotation_18mos_by_genotype.pdf\", width = 20, height = 12)\n",
    "\n",
    "hp1<- MakeClusterDotPlot(exp_mat = cd3_pos_cd8_neg_mtx_18mos_WT_scaled,\n",
    "               percent_mat = cd3_pos_cd8_neg_mtx_18mos_WT$percent_mat, \n",
    "               col_fun = col_fun,\n",
    "               cluster_id = cluster_id,              \n",
    "               column_title = \"18mos WT\",\n",
    "               column_title_side = \"bottom\",\n",
    "               row_split = row_split,\n",
    "               column_split = col_split,\n",
    "               row_names_font_size = 8, \n",
    "               column_ha = column_ha,\n",
    "               legend_dot_size = unit(2, \"mm\"),\n",
    "               show_row_dend =FALSE,\n",
    "               show_column_dend = FALSE,\n",
    "               column_names_side = \"top\",\n",
    "               cluster_rows = FALSE, cluster_columns = FALSE)\n",
    "\n",
    "hp2<- MakeClusterDotPlot(exp_mat = cd3_pos_cd8_neg_mtx_18mos_cd70_scaled, \n",
    "               percent_mat = cd3_pos_cd8_neg_mtx_18mos_cd70$percent_mat, \n",
    "               col_fun = col_fun, cluster_id = cluster_id,\n",
    "               column_title = \"18mos CD70-/-\",\n",
    "               column_title_side = \"bottom\",\n",
    "               row_split = row_split,\n",
    "               column_split = col_split,\n",
    "               row_names_font_size = 8, \n",
    "               column_ha = column_ha,\n",
    "               legend_dot_size = unit(2, \"mm\"),\n",
    "               column_names_side = \"top\", cluster_rows = FALSE, cluster_columns = FALSE)\n",
    "\n",
    "hp3<- MakeClusterDotPlot(exp_mat = cd3_pos_cd8_neg_mtx_18mos_single_scaled, \n",
    "               percent_mat = cd3_pos_cd8_neg_mtx_18mos_single$percent_mat, \n",
    "               col_fun = col_fun, cluster_id = cluster_id,\n",
    "               column_title = \"18mos Bcl6tg/+\",\n",
    "               column_title_side = \"bottom\",         \n",
    "               row_split = row_split,\n",
    "               column_split = col_split,\n",
    "               row_names_font_size = 8, \n",
    "               column_ha = column_ha,\n",
    "               legend_dot_size = unit(2, \"mm\"),\n",
    "               column_names_side = \"top\", cluster_rows = FALSE, cluster_columns = FALSE)\n",
    "\n",
    "hp4<- MakeClusterDotPlot(exp_mat = cd3_pos_cd8_neg_mtx_18mos_double_scaled, \n",
    "               percent_mat = cd3_pos_cd8_neg_mtx_18mos_double$percent_mat, \n",
    "               col_fun = col_fun, cluster_id = cluster_id,\n",
    "               column_title = \"18mos CD70-/-;Bcl6tg/+\",\n",
    "               column_title_side = \"bottom\",         \n",
    "               row_split = row_split,\n",
    "               column_split = col_split,\n",
    "               row_names_font_size = 8, \n",
    "               column_ha = column_ha,\n",
    "               legend_dot_size = unit(2, \"mm\"),\n",
    "               column_names_side = \"top\", cluster_rows = FALSE, cluster_columns = FALSE)\n",
    "\n",
    "draw(hp1 + hp2 + hp3 + hp4 , annotation_legend_list = lgd, ht_gap = unit(1, \"cm\") )\n",
    "dev.off()"
   ]
  },
  {
   "cell_type": "markdown",
   "id": "cbb29390",
   "metadata": {},
   "source": [
    "- sick (Bcl6tg/+, CD70-/-;Bcl6tg/+)"
   ]
  },
  {
   "cell_type": "code",
   "execution_count": 109,
   "id": "bd9e6966",
   "metadata": {},
   "outputs": [
    {
     "name": "stdout",
     "output_type": "stream",
     "text": [
      "[1] 18\n",
      "[1] 18\n",
      "[1] 18\n"
     ]
    },
    {
     "data": {
      "text/html": [
       "36"
      ],
      "text/latex": [
       "36"
      ],
      "text/markdown": [
       "36"
      ],
      "text/plain": [
       "[1] 36"
      ]
     },
     "metadata": {},
     "output_type": "display_data"
    },
    {
     "data": {
      "text/html": [
       "<strong>png:</strong> 2"
      ],
      "text/latex": [
       "\\textbf{png:} 2"
      ],
      "text/markdown": [
       "**png:** 2"
      ],
      "text/plain": [
       "png \n",
       "  2 "
      ]
     },
     "metadata": {},
     "output_type": "display_data"
    }
   ],
   "source": [
    "n_sick_single_cells<- rownames(cd3_pos_cd8_neg@meta.data  %>% filter(age == \"sick\", genotype == \"Bcl6tg/+\"))\n",
    "n_sick_double_cells<- rownames(cd3_pos_cd8_neg@meta.data  %>% filter(age == \"sick\", genotype == \"CD70-/-;Bcl6tg/+\"))\n",
    "\n",
    "cd3_pos_cd8_neg_mtx<- GetMatrixFromSeurat2(cd3_pos_cd8_neg, cd3_pos_cd8_neg_genes, \n",
    "                                          group = \"new_annotation\")\n",
    "\n",
    "cd3_pos_cd8_neg_mtx_sick_single<- GetMatrixFromSeurat2(cd3_pos_cd8_neg[,n_sick_single_cells], cd3_pos_cd8_neg_genes, \n",
    "                                          group = \"new_annotation\")\n",
    "\n",
    "cd3_pos_cd8_neg_mtx_sick_double<- GetMatrixFromSeurat2(cd3_pos_cd8_neg[,n_sick_double_cells], cd3_pos_cd8_neg_genes, \n",
    "                                          group = \"new_annotation\")\n",
    "\n",
    "cd3_pos_cd8_neg_combined<- cbind(cd3_pos_cd8_neg_mtx_sick_single$exp_mat,\n",
    "                        cd3_pos_cd8_neg_mtx_sick_double$exp_mat)\n",
    "\n",
    "cd3_pos_cd8_neg_combined_scaled<- t(apply(cd3_pos_cd8_neg_combined, 1, scale))\n",
    "cd3_pos_cd8_neg_combined_scaled<- cd3_pos_cd8_neg_combined_scaled  %>% replace(is.na(.),0)\n",
    "# cd3_pos_cd8_neg_combined_scaled = cd3_pos_cd8_neg_combined_scaled[row_order(ht)  %>%  unlist(use.names = FALSE), ]\n",
    "\n",
    "\n",
    "ncol(cd3_pos_cd8_neg_combined_scaled)\n",
    "cd3_pos_cd8_neg_mtx_sick_single_scaled<-  cd3_pos_cd8_neg_combined_scaled[, 1:18]\n",
    "cd3_pos_cd8_neg_mtx_sick_double_scaled<-  cd3_pos_cd8_neg_combined_scaled[, 19:36]\n",
    "\n",
    "colnames(cd3_pos_cd8_neg_mtx_sick_single_scaled)<- colnames(cd3_pos_cd8_neg_mtx$exp_mat)\n",
    "colnames(cd3_pos_cd8_neg_mtx_sick_double_scaled)<- colnames(cd3_pos_cd8_neg_mtx$exp_mat)\n",
    "\n",
    "pdf(\"./results/figures/5_cd3_pos_cd8_neg_dotplot_final_annotation_sick_by_genotype.pdf\", width = 10, height = 12)\n",
    "\n",
    "hp1<- MakeClusterDotPlot(exp_mat = cd3_pos_cd8_neg_mtx_sick_single_scaled, \n",
    "               percent_mat = cd3_pos_cd8_neg_mtx_sick_single$percent_mat, \n",
    "               col_fun = col_fun, cluster_id = cluster_id,\n",
    "               column_title = \"sick Bcl6tg/+\",\n",
    "               column_title_side = \"bottom\",         \n",
    "               row_split = row_split,\n",
    "               column_split = col_split,\n",
    "               row_names_font_size = 8, \n",
    "               column_ha = column_ha, \n",
    "               show_row_dend =FALSE,\n",
    "               show_column_dend = FALSE,\n",
    "               legend_dot_size = unit(2, \"mm\"),\n",
    "               column_names_side = \"top\", cluster_rows = FALSE, cluster_columns = FALSE)\n",
    "\n",
    "hp2<- MakeClusterDotPlot(exp_mat = cd3_pos_cd8_neg_mtx_sick_double_scaled, \n",
    "               percent_mat = cd3_pos_cd8_neg_mtx_sick_double$percent_mat, \n",
    "               col_fun = col_fun, cluster_id = cluster_id,\n",
    "               column_title = \"sick CD70-/-;Bcl6tg/+\",\n",
    "               column_title_side = \"bottom\",         \n",
    "               row_split = row_split,\n",
    "               column_split = col_split,\n",
    "               row_names_font_size = 8, \n",
    "               column_ha = column_ha,\n",
    "               legend_dot_size = unit(2, \"mm\"),\n",
    "               column_names_side = \"top\", cluster_rows = FALSE, cluster_columns = FALSE)\n",
    "\n",
    "draw(hp1 + hp2 , annotation_legend_list = lgd, ht_gap = unit(1, \"cm\") )\n",
    "dev.off()"
   ]
  }
 ],
 "metadata": {
  "kernelspec": {
   "display_name": "R",
   "language": "R",
   "name": "ir"
  },
  "language_info": {
   "codemirror_mode": "r",
   "file_extension": ".r",
   "mimetype": "text/x-r-source",
   "name": "R",
   "pygments_lexer": "r",
   "version": "4.1.1"
  }
 },
 "nbformat": 4,
 "nbformat_minor": 5
}
