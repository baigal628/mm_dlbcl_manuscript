{
 "cells": [
  {
   "cell_type": "code",
   "execution_count": 4,
   "id": "f92c7817",
   "metadata": {
    "scrolled": true
   },
   "outputs": [],
   "source": [
    "getwd()\n",
    "setwd(\"/liulab/galib/dlbcl_manuscript/\")\n",
    "library(rBCS)\n",
    "library(tidyverse)\n",
    "library(Seurat)\n",
    "library(harmony)\n",
    "library(viridis)\n",
    "library(RColorBrewer)\n",
    "library(Polychrome)\n",
    "PurpleAndYellow()\n",
    "library(ComplexHeatmap)\n",
    "library(devtools)\n",
    "library(presto)\n",
    "library(dplyr)\n",
    "library(ggplot2)\n",
    "library(ggpubr)\n",
    "library(readxl)\n",
    "source(\"./scripts/scplot.R\")"
   ]
  },
  {
   "cell_type": "code",
   "execution_count": 2,
   "id": "b8d7eb1d",
   "metadata": {},
   "outputs": [],
   "source": [
    "cd3_pos_cd8_neg<- readRDS(\"./data/objects/cd3_pos_cd8_neg_final.rds\")\n",
    "cd3_pos_cd4_neg<- readRDS(\"./data/objects/cd3_pos_cd4_neg_final.rds\")\n",
    "B_cell<- readRDS(\"./data/objects/B_cell_final.rds\")\n",
    "non_B_non_T<- readRDS(\"data/objects/non_B_non_T_final.rds\")"
   ]
  },
  {
   "cell_type": "code",
   "execution_count": 10,
   "id": "dc88bf68",
   "metadata": {},
   "outputs": [
    {
     "data": {
      "text/html": [
       "<strong>png:</strong> 2"
      ],
      "text/latex": [
       "\\textbf{png:} 2"
      ],
      "text/markdown": [
       "**png:** 2"
      ],
      "text/plain": [
       "png \n",
       "  2 "
      ]
     },
     "metadata": {},
     "output_type": "display_data"
    },
    {
     "data": {
      "text/html": [
       "<strong>png:</strong> 2"
      ],
      "text/latex": [
       "\\textbf{png:} 2"
      ],
      "text/markdown": [
       "**png:** 2"
      ],
      "text/plain": [
       "png \n",
       "  2 "
      ]
     },
     "metadata": {},
     "output_type": "display_data"
    },
    {
     "data": {
      "text/html": [
       "<strong>png:</strong> 2"
      ],
      "text/latex": [
       "\\textbf{png:} 2"
      ],
      "text/markdown": [
       "**png:** 2"
      ],
      "text/plain": [
       "png \n",
       "  2 "
      ]
     },
     "metadata": {},
     "output_type": "display_data"
    },
    {
     "data": {
      "text/html": [
       "<strong>png:</strong> 2"
      ],
      "text/latex": [
       "\\textbf{png:} 2"
      ],
      "text/markdown": [
       "**png:** 2"
      ],
      "text/plain": [
       "png \n",
       "  2 "
      ]
     },
     "metadata": {},
     "output_type": "display_data"
    },
    {
     "data": {
      "text/html": [
       "<strong>png:</strong> 2"
      ],
      "text/latex": [
       "\\textbf{png:} 2"
      ],
      "text/markdown": [
       "**png:** 2"
      ],
      "text/plain": [
       "png \n",
       "  2 "
      ]
     },
     "metadata": {},
     "output_type": "display_data"
    },
    {
     "data": {
      "text/html": [
       "<strong>png:</strong> 2"
      ],
      "text/latex": [
       "\\textbf{png:} 2"
      ],
      "text/markdown": [
       "**png:** 2"
      ],
      "text/plain": [
       "png \n",
       "  2 "
      ]
     },
     "metadata": {},
     "output_type": "display_data"
    }
   ],
   "source": [
    "# CD3- CD4-\n",
    "space = \"cd3_pos_cd4_neg\"\n",
    "hp = plot_bi_clustered_heatmap(cd3_pos_cd4_neg, space = space)\n",
    "## Save to file\n",
    "pdf(paste0(\"results/figures/4_\", space, \"_final_marker_gene_complex_heatmap.pdf\"), width = 10, height = 30)\n",
    "draw(hp$p1)    \n",
    "dev.off()\n",
    "# ##Plot top5 markers\n",
    "pdf(paste0(\"results/figures/4_\", space, \"_final_top5_marker_gene_complex_heatmap.pdf\"), width = 10, height = 8)\n",
    "draw(hp$p2)    \n",
    "dev.off()\n",
    "# ##Plot top10 markers\n",
    "pdf(paste0(\"results/figures/4_\", space, \"_final_top10_marker_gene_complex_heatmap.pdf\"), width = 10, height = 10)\n",
    "draw(hp$p3) \n",
    "dev.off()\n",
    "\n",
    "\n",
    "# CD3- CD8-\n",
    "space = \"cd3_pos_cd8_neg\"\n",
    "hp = plot_bi_clustered_heatmap(cd3_pos_cd8_neg, space = space)\n",
    "## Save to file\n",
    "pdf(paste0(\"results/figures/4_\", space, \"_final_marker_gene_complex_heatmap.pdf\"), width = 10, height = 30)\n",
    "draw(hp$p1)    \n",
    "dev.off()\n",
    "# ##Plot top5 markers\n",
    "pdf(paste0(\"results/figures/4_\", space, \"_final_top5_markerfinal_gene_complex_heatmap.pdf\"), width = 10, height = 8)\n",
    "draw(hp$p2)    \n",
    "dev.off()\n",
    "# ##Plot top10 markers\n",
    "pdf(paste0(\"results/figures/4_\", space, \"_final_top10_marker_gene_complex_heatmap.pdf\"), width = 10, height = 10)\n",
    "draw(hp$p3) \n",
    "dev.off()"
   ]
  },
  {
   "cell_type": "code",
   "execution_count": 11,
   "id": "fa581585",
   "metadata": {},
   "outputs": [
    {
     "data": {
      "text/html": [
       "<strong>png:</strong> 2"
      ],
      "text/latex": [
       "\\textbf{png:} 2"
      ],
      "text/markdown": [
       "**png:** 2"
      ],
      "text/plain": [
       "png \n",
       "  2 "
      ]
     },
     "metadata": {},
     "output_type": "display_data"
    },
    {
     "data": {
      "text/html": [
       "<strong>png:</strong> 2"
      ],
      "text/latex": [
       "\\textbf{png:} 2"
      ],
      "text/markdown": [
       "**png:** 2"
      ],
      "text/plain": [
       "png \n",
       "  2 "
      ]
     },
     "metadata": {},
     "output_type": "display_data"
    },
    {
     "data": {
      "text/html": [
       "<strong>png:</strong> 2"
      ],
      "text/latex": [
       "\\textbf{png:} 2"
      ],
      "text/markdown": [
       "**png:** 2"
      ],
      "text/plain": [
       "png \n",
       "  2 "
      ]
     },
     "metadata": {},
     "output_type": "display_data"
    },
    {
     "data": {
      "text/html": [
       "<strong>png:</strong> 2"
      ],
      "text/latex": [
       "\\textbf{png:} 2"
      ],
      "text/markdown": [
       "**png:** 2"
      ],
      "text/plain": [
       "png \n",
       "  2 "
      ]
     },
     "metadata": {},
     "output_type": "display_data"
    },
    {
     "data": {
      "text/html": [
       "<strong>png:</strong> 2"
      ],
      "text/latex": [
       "\\textbf{png:} 2"
      ],
      "text/markdown": [
       "**png:** 2"
      ],
      "text/plain": [
       "png \n",
       "  2 "
      ]
     },
     "metadata": {},
     "output_type": "display_data"
    },
    {
     "data": {
      "text/html": [
       "<strong>png:</strong> 2"
      ],
      "text/latex": [
       "\\textbf{png:} 2"
      ],
      "text/markdown": [
       "**png:** 2"
      ],
      "text/plain": [
       "png \n",
       "  2 "
      ]
     },
     "metadata": {},
     "output_type": "display_data"
    }
   ],
   "source": [
    "# B cell\n",
    "space = \"B_cell\"\n",
    "hp = plot_bi_clustered_heatmap(B_cell, space = space)\n",
    "## Save to file\n",
    "pdf(paste0(\"results/figures/4_\", space, \"_final_marker_gene_complex_heatmap.pdf\"), width = 10, height = 30)\n",
    "draw(hp$p1)    \n",
    "dev.off()\n",
    "# ##Plot top5 markers\n",
    "pdf(paste0(\"results/figures/4_\", space, \"_final_top5_marker_gene_complex_heatmap.pdf\"), width = 10, height = 8)\n",
    "draw(hp$p2)    \n",
    "dev.off()\n",
    "# ##Plot top10 markers\n",
    "pdf(paste0(\"results/figures/4_\", space, \"_final_top10_marker_gene_complex_heatmap.pdf\"), width = 10, height = 10)\n",
    "draw(hp$p3) \n",
    "dev.off()\n",
    "\n",
    "\n",
    "#non B non T cell\n",
    "space = \"non_B_non_T\"\n",
    "hp = plot_bi_clustered_heatmap(non_B_non_T, space = space)\n",
    "## Save to file\n",
    "pdf(paste0(\"results/figures/4_\", space, \"_final_marker_gene_complex_heatmap.pdf\"), width = 10, height = 30)\n",
    "draw(hp$p1)    \n",
    "dev.off()\n",
    "# ##Plot top5 markers\n",
    "pdf(paste0(\"results/figures/4_\", space, \"_final_top5_marker_gene_complex_heatmap.pdf\"), width = 10, height = 8)\n",
    "draw(hp$p2)    \n",
    "dev.off()\n",
    "# ##Plot top10 markers\n",
    "pdf(paste0(\"results/figures/4_\", space, \"_final_top10_marker_gene_complex_heatmap.pdf\"), width = 10, height = 10)\n",
    "draw(hp$p3) \n",
    "dev.off()"
   ]
  }
 ],
 "metadata": {
  "kernelspec": {
   "display_name": "R",
   "language": "R",
   "name": "ir"
  },
  "language_info": {
   "codemirror_mode": "r",
   "file_extension": ".r",
   "mimetype": "text/x-r-source",
   "name": "R",
   "pygments_lexer": "r",
   "version": "4.1.1"
  }
 },
 "nbformat": 4,
 "nbformat_minor": 5
}
